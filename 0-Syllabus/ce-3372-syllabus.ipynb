{
 "cells": [
  {
   "cell_type": "markdown",
   "metadata": {},
   "source": [
    "# CE 3372 Water Systems Design\n",
    "\n",
    "## Course Catalog Description: \n",
    "\n",
    "Water Systems Design (3:3:0:0). Prerequesite:  CE 3305, 3354.  Hydraulic analysis and design of municipal water distribution, stormwater collection,and wastewater collection systems.  Oral and written presentations.  (Engineering; Communication Literacy)\n",
    "\n",
    "## Prerequisites: \n",
    "Engineering Fluid Mechanics (CE 3305) or equivalent\n",
    "Engineering Hydrology (CE 3354) or equivalent"
   ]
  },
  {
   "cell_type": "markdown",
   "metadata": {},
   "source": [
    "## COVID-19 Important Guidelines:\n",
    "* If Texas Tech University campus operations are required to change because of health concerns related to the COVID-19 pandemic, it is possible that this course will move to a fully online delivery format.  Should that be necessary, students will be advised of technical and/or equipment requirements, including remote proctoring software.  \n",
    "\n",
    "* Policy on absences resulting from illness: We anticipate that some students may have extended absences.  To avoid students feeling compelled to attend in-person class periods when having symptoms or feeling unwell, a standard policy is provided that holds students harmless for illness-related absences (see Section A below).\n",
    "\n",
    "\n",
    "### A. Illness-Based Absence Policy (Face-to-Face Classes)\n",
    "If at any time during the semester you are ill, in the interest of your own health and safety as well as the health and safety of your instructors and classmates, you are encouraged not to attend face-to-face class meetings or events.  Please review the steps outlined below that you should follow to ensure your absence for illness will be excused.  These steps also apply to not participating in synchronous online class meetings if you feel too ill to do so and missing specified assignment due dates in asynchronous online classes because of illness.\n",
    "\n",
    "1. If you are ill and think the symptoms might be COVID-19-related:\n",
    "\n",
    "    1. Call Student Health Services at 806.743.2848 or your health care provider.  During after-hours and on weekends, contact TTU COVID-19 Helpline at TBD.\n",
    "    2. Self-report as soon as possible using the Dean of Students COVID-19 webpage. This website has specific directions about how to upload documentation from a medical provider and what will happen if your illness renders you unable to participate in classes for more than one week.\n",
    "    3. If your illness is determined to be COVID-19-related, all remaining documentation and communication will be handled through the Office of the Dean of Students, including notification of your instructors of the time you may be absent from and may return to classes.\n",
    "    4. If your illness is determined not to be COVID-19-related, please follow steps 2.a-d below.\n",
    "\n",
    "\n",
    "2. If you are ill and can attribute your symptoms to something other than COVID-19:\n",
    "\n",
    "    1. If your illness renders you unable to attend face-to-face classes, participate in synchronous online classes, or miss specified assignment due dates in asynchronous online classes, you are encouraged to contact either Student Health Services at 806.743.2848 or your health care provider.  Note that Student Health Services and your own and other health care providers may arrange virtual visits.\n",
    "    2. During the health provider visit, request a “return to school” note.\n",
    "    3. E-mail the instructor a picture of that note.\n",
    "    4. Return to class by the next class period after the date indicated on your note.\n",
    "\n",
    "Following the steps outlined above helps to keep your instructors informed about your absences and ensures your absence or missing an assignment due date because of illness will be marked excused.  You will still be responsible to complete within a week of returning to class any assignments, quizzes, or exams you miss because of illness.\n",
    "\n",
    "### B. Illness-Based Absence Policy (Telepresence/On-Line Classes)\n",
    "Same as above with respect potential to infect others; go to a health care provider if you are ill.  Telepresence courses are recorded and will be available on TTU MediaSite and/or YouTube (unlisted).  Exercises, Quizzes, and Examinations are all administered by a Learning Management System (Blackboard) and students need to allow enough time to complete and upload their work.  Due date adjustments/late submits on case-by-case basis; documentation required as in subsection **A** above."
   ]
  },
  {
   "cell_type": "markdown",
   "metadata": {},
   "source": [
    "## Course Sections\n",
    "Lesson time, days, and location: \n",
    "\n",
    "1. Section 002; CRN 29532; 1100-1220 T-Th ; Science 00007\n",
    "\n",
    "## Course Instructor:\n",
    "\n",
    "Instructor: Theodore G. Cleveland, Ph.D., P.E., M. ASCE, F. EWRI\n",
    "\n",
    "Email: theodore.cleveland@ttu.edu  (put CE 3354 in subject line for email related to this class)\n",
    "\n",
    "Office location: CECE 203F; but prefer Telepresence (Zoom)\n",
    "\n",
    "Office hours: TBD (meetings will be by Zoom call)\n",
    "\n",
    "## Teaching Assistant:\n",
    "\n",
    "Teaching Assistant: none authorized \n",
    "\n",
    "Email : N/A\n",
    "\n",
    "Office location: N/A\n",
    "\n",
    "Office hours: N/A"
   ]
  },
  {
   "cell_type": "markdown",
   "metadata": {},
   "source": [
    "## Textbook(s): \n",
    "link to readings"
   ]
  },
  {
   "cell_type": "markdown",
   "metadata": {},
   "source": [
    "## Course Objectives: \n",
    "The  purpose  of  this  class  is  to  study  the  theory  and  application  of  hydraulics,  learn  howto use predictive tools such as charts and computer programs, and apply these tools to theanalysis  and  design  of  distribution  and  collection  and  pumping  systems.   Preparation  of reports is an equally emphasized objective of this course"
   ]
  },
  {
   "cell_type": "markdown",
   "metadata": {},
   "source": [
    "## Knowledge, Skills, Abilities (KSA) :\n",
    "During this course the student will\n",
    "\n",
    "1.  Read, synthesize, and communicate ideas presented in current and historical technicalliterature.\n",
    "2. Perform flow and transport computation in realistic topologies using JupyterLab (iPython) or Excel or similar tools.  \n",
    "3. Perform  flow  and  transport  computation  in  realistic  geometries  using  EPA-NET  or similar professional tools for water distribution systems.\n",
    "4.  Perform flow and transport computation in realistic geometries using SWMM 5.0 or similar professional tools for stormwater and wastewater collection systems.\n",
    "5.  Size and select engineering materials (pipes, pumps, valves, etc.) for use in the drinking water environment (water distribution), the stormwater environment, and the wastewater environment.\n",
    "6.  Prepare professional reports for the design of a drinking water distribution system, a stormwater collection system, and a wastewater collection system."
   ]
  },
  {
   "cell_type": "markdown",
   "metadata": {},
   "source": [
    "## ABET Student Outcomes\n",
    "* Engineering:\n",
    "    1. An ability to identify, formulate, and solve complex engineering problems by applying principles of engineering, science, and mathematics.\n",
    "    2. An ability to acquire and apply new knowledge as needed, using appropriate learning strategies. \n",
    " "
   ]
  },
  {
   "cell_type": "markdown",
   "metadata": {},
   "source": [
    "## Resources/Tools\n",
    "\n",
    "Computational tools equivalent to those used in ENGR 1330 are expected.  Professional software is used in the course; these are downloaded from the original sources (USGS and COE)\n",
    "\n",
    "### Hardware Requirements\n",
    "The college of engineering has specific laptop requirements for courses that are listed at https://www.depts.ttu.edu/coe/dean/engineeringitservices/buyingtherightcomputer.php\n",
    "\n",
    "A minimal AWS Lightsail Instance (use Windows Server 2000 template; lowest resource provision tier; AWS RDP client, or download and install own RDP client) is sufficient to run the course software if you are unable to get it installed onto your computers.\n",
    "\n",
    "### Learning Management System\n",
    "Blackboard(BB) is used as the learning management system (LMS) for this class and all exercises are to be uploaded to BB.  Late submissions are accepted, but scores will be reduced 50% \n",
    "\n",
    "### Course Web Book \n",
    "The course notes are located in a webbook at https://3.137.111.182/ce-3354-webbook/"
   ]
  },
  {
   "cell_type": "code",
   "execution_count": 1,
   "metadata": {},
   "outputs": [
    {
     "data": {
      "text/html": [
       "<style> table {margin-left: 0 !important;} </style>\n"
      ],
      "text/plain": [
       "<IPython.core.display.HTML object>"
      ]
     },
     "metadata": {},
     "output_type": "display_data"
    }
   ],
   "source": [
    "%%html\n",
    "<style> table {margin-left: 0 !important;} </style>"
   ]
  },
  {
   "cell_type": "markdown",
   "metadata": {},
   "source": [
    "## Course Schedule ##"
   ]
  },
  {
   "cell_type": "markdown",
   "metadata": {},
   "source": [
    "### Week 1 \n",
    "---\n",
    "(240 cumulative minutes)\n",
    "\n",
    "|date|topic|reading|homework due|\n",
    "|:---|:---|:---|:---|\n",
    "|24Aug21|Introduction <br> - Syllabus  <br> - Water Systems Overview  |ppXX-XX|none|\n",
    "|26Aug21|Required Software <br> - Installing EPANET <br> - Installing SWMM <br>Optional: Running on AWS (Cloud Server) |ppXX-XX|none|"
   ]
  },
  {
   "cell_type": "markdown",
   "metadata": {},
   "source": [
    "### Week 2\n",
    "---\n",
    "(480 cumulative minutes)\n",
    "\n",
    "|date|topic|reading|homework due|\n",
    "|:---|:---|:---|:---|\n",
    "|31Aug21|Design Guidelines <br> - Source Documents <br> - Drinking Water Systems  |ppXX-XX|ES-1 LA Aquaduct|\n",
    "|2Sep21|Demand Estimation <br> - Population Models <br> - Temporal Variation <br>   |ppXX-XX|ES-2 Topographic Mapping|"
   ]
  },
  {
   "cell_type": "markdown",
   "metadata": {},
   "source": [
    "### Week 3 \n",
    "---\n",
    "(720 cumulative minutes)\n",
    "\n",
    "|date|topic|reading|homework due|\n",
    "|:---|:---|:---|:---|\n",
    "|7Sep21|Pipeline Head Loss <br> - Darcy-Weisbach <br> - Chezy-Manning <br> - Hazen-Williams |ppXX-XX|ES-3 Demand Estimation|\n",
    "|9Sep21|Pipeline Hydraulics <br> - Gravity System <br> -  Pumped System <br> - EGL&HGL  |ppXX-XX|none|\n",
    "\n",
    "**Test 1 on BB for 48 hours**"
   ]
  },
  {
   "cell_type": "markdown",
   "metadata": {},
   "source": [
    "### Week 4\n",
    "---\n",
    "(960 cumulative minutes)\n",
    "\n",
    "|date|topic|reading|homework|\n",
    "|:---|:---|:---|:---|\n",
    "|14Sep21|Pumping Systems <br> - Pump Types <br> - Pump Performance Curves <br> - Net Positive Suction Head |ppXX-XX| none|\n",
    "|16Sep21|Drinking Water Storage <br> - Reservoir Types <br> - Flow Equalization <br> - Pressure Zones |ppXX-XX|ES-4 Application of Head Loss Models|"
   ]
  },
  {
   "cell_type": "markdown",
   "metadata": {},
   "source": [
    "### Week 5\n",
    "---\n",
    "(1180 cumulative minutes)\n",
    "\n",
    "|date|topic|reading|homework|\n",
    "|:---|:---|:---|:---|\n",
    "|21Sep21|Pipe Networks <br> - Network Topology (Types) <br> - Network Models <br> - Solution Arithmetic|ppXX-XX|ES-5 Pump Selection|\n",
    "|23Sep21|EPANET Introduction <br> - Interface Tour <br> - Examples |ppXX-XX|none; *Future ES-6 Tank Sizing*|\n",
    "\n",
    "\n",
    "**Test 2 on BB for 48 hours**"
   ]
  },
  {
   "cell_type": "markdown",
   "metadata": {},
   "source": [
    "### Week 6\n",
    "---\n",
    "(1920 cumulative minutes)\n",
    "\n",
    "|date|topic|reading|homework|\n",
    "|:---|:---|:---|:---|\n",
    "|28Sep21|EPANET Pumps <br> - Example |ppXX-XX|none|\n",
    "|30Sep21|EPANET Extended Period Simulation <br> - Eagle Pass Model (hydraulics) <br> - Water Quality Simulation Example |ppXX-XX|ES-7 Network Hydraulics by EPANET|"
   ]
  },
  {
   "cell_type": "markdown",
   "metadata": {},
   "source": [
    "### Week 7\n",
    "---\n",
    "(1920 cumulative minutes)\n",
    "\n",
    "|date|topic|reading|homework|\n",
    "|:---|:---|:---|:---|\n",
    "|5Oct21|Design Guidelines <br> - Source Documents <br> – Storm Water Collection|ppXX-XX|ES-8 Network Hydraulics by EPANET| \n",
    "|7Oct21|Hydrology Review <br> - Design Storms <br> - Rational Runoff Equation <br> - NRCS CN Model <br> - Infiltration Excess (Horton) <br> - Green-Ampt |ppXX-XX|none; *future ES-8NX*|"
   ]
  },
  {
   "cell_type": "markdown",
   "metadata": {},
   "source": [
    "### Week 8\n",
    "---\n",
    "(1920 cumulative minutes)\n",
    "\n",
    "|date|topic|reading|homework|\n",
    "|:---|:---|:---|:---|\n",
    "|12Oct21|SWMM Introduction|ppXX-XX|none|\n",
    "|14Oct21|Open Channel Hydraulics (Steady) <br> - Normal Flow <br> - Gradually Varied Flow <br> - SWMM Example |ppXX-XX|ES-9 Design Storm|\n",
    "\n",
    "**Test 3 on BB for 48 hours**"
   ]
  },
  {
   "cell_type": "markdown",
   "metadata": {},
   "source": [
    "### Week 9\n",
    "---\n",
    "(1920 cumulative minutes)\n",
    "\n",
    "|date|topic|reading|homework|\n",
    "|:---|:---|:---|:---|\n",
    "|19Oct21|Open Channel Hydraulics (Unsteady) <br> - Continunity <br> - Momentum <br> - SWMM Example |ppXX-XX|ES-10 Open Channel Steady Flow|\n",
    "|21Oct21|Stormwater Collection – Sizing Inlets |ppXX-XX|bb quiz1|"
   ]
  },
  {
   "cell_type": "markdown",
   "metadata": {},
   "source": [
    "### Week 10\n",
    "---\n",
    "(1920 cumulative minutes)\n",
    "\n",
    "|date|topic|reading|homework|\n",
    "|:---|:---|:---|:---|\n",
    "|26Oct21|Stormwater Collection <br> – Sizing Conduits (Rational Method) <br> - SWMM Example |ppXX-XX|ES-11 Inlet Sizing|\n",
    "|28Oct21|SWMM Hydrology <br> - Catchment Runoff <br> - Raingages <br> - SWMM Example|ppXX-XX||"
   ]
  },
  {
   "cell_type": "markdown",
   "metadata": {},
   "source": [
    "### Week 11\n",
    "---\n",
    "(1920 cumulative minutes)\n",
    "\n",
    "|date|topic|reading|homework|\n",
    "|:---|:---|:---|:---|\n",
    "|2Nov21|SWMM Dual Drainage <br> - Surface network <br> - Storm Sewer network |ppXX-XX|ES-12 Rational Method Conduit Sizing|\n",
    "|2Nov21|Green-Infrastructure <br> - Devices <br> - Performance|ppXX-XX|ES-13 SWMM Design/Sizing Somewhere USA|\n",
    "\n",
    "**Test 4 on BB for 48 hours**"
   ]
  },
  {
   "cell_type": "markdown",
   "metadata": {},
   "source": [
    "### Week 12\n",
    "---\n",
    "(1920 cumulative minutes)\n",
    "\n",
    "|date|topic|reading|homework|\n",
    "|:---|:---|:---|:---|\n",
    "|9Nov21|Stormwater Detention Ponds <br> - SWMM Example (hydraulics only)  |ppXX-XX|ES-14 SWMM Model Tanglewilde|\n",
    "|11Nov21|Outfall Considerations|ppXX-XX|none|"
   ]
  },
  {
   "cell_type": "markdown",
   "metadata": {},
   "source": [
    "### Week 13\n",
    "---\n",
    "(1920 cumulative minutes)\n",
    "\n",
    "|date|topic|reading|homework|\n",
    "|:---|:---|:---|:---|\n",
    "|16Nov21|Sanitary Sewer Systems |ppXX-XX|ES-15 Outfall Erosion Potential|\n",
    "|18Nov21|Design Guidelines – Waste Water Collection |ppXX-XX|ES-16 SWMM Detention Pond|\n",
    "\n",
    "**Test 5 on BB for 48 hours**"
   ]
  },
  {
   "cell_type": "markdown",
   "metadata": {},
   "source": [
    "### Week 14\n",
    "---\n",
    "(1920 cumulative minutes)\n",
    "\n",
    "|date|topic|reading|homework|\n",
    "|:---|:---|:---|:---|\n",
    "|23Nov21|Project Progress Presentation(s) |ppXX-XX|none|\n",
    "|30Nov21|Project Progress Presentation(s) |ppXX-XX|RP-1 Project Report|"
   ]
  },
  {
   "cell_type": "markdown",
   "metadata": {},
   "source": [
    "---\n",
    "## Course Assessment and Grading Criteria:\n",
    "There will be $\\approx$ 15 homework assignments, five tests, and a final project report and presentation for this course.  \n",
    "<strong>Late</strong> assignments will be scored at 50% reduced value \n",
    "\n",
    "Grades will be based on the following components; weighting is approximate:\n",
    "\n",
    "|Assessment Instrument|Weight(%)|Points|\n",
    "|---|---:|---:|\n",
    "|Test-1|10|100|\n",
    "|Test-2|10|100|\n",
    "|Test-3|10|100|\n",
    "|Test-4|10|100|\n",
    "|Test-5|10|100|\n",
    "|Homework|40|400|\n",
    "|Final Project Report (Team Scored)|5|50|\n",
    "|Project Presentation (Team Scored)|5|50|\n",
    "|Overall total|100|1000|\n",
    "\n",
    "Letter grades will be assigned using the following quantile proportions of all assessment instruments:\n",
    "\n",
    "|Quantile Range|Letter Grade|\n",
    "|:-|---:|\n",
    "|90-100|A| \n",
    "|61-89|B|\n",
    "|41-60|C|\n",
    "|21-40|D|\n",
    "|0 - 20|F|\n",
    "\n",
    "<!-- Scores as Quantiles Ranges\n",
    "|81-100|A| \n",
    "|61-80|B|\n",
    "|41-60|C|\n",
    "|21-40|D|\n",
    "|<= 0-20|F|\n",
    "-->\n"
   ]
  },
  {
   "cell_type": "markdown",
   "metadata": {},
   "source": [
    "## Classroom Policy:\n",
    "The following activities are not allowed in the classroom: Texting or talking on the cellphone or other electronic devices, and reading non-course related materials.\n",
    "### Telepresence (On-line) Courses\n",
    "Obviously electronic devices are vital; disrupting the conference is prohibited, please mute your microphone unless you have a question - consider typing your question into the chat window as well. Be aware of bandwidth issues and remember most lessons and laboratory sessions are recorded and posted on youtube.  Recording, editing, and rendering takes awhile, so expect 24-36 hour delay before video is available. "
   ]
  },
  {
   "cell_type": "markdown",
   "metadata": {},
   "source": [
    "---\n",
    "## ADA Statement: \n",
    "Any student who, because of a disability, may require special arrangements in order to meet the course requirements should contact the instructor as soon as possible to make necessary arrangements.  Students must present appropriate verification from Student Disability Services during the instructor's office hours.  Please note that instructors are not allowed to provide classroom accommodation to a student until appropriate verification from Student Disability Services has been provided.  For additional information, please contact Student Disability Services \n",
    "office in 335 West Hall or call 806.742.2405.\n",
    "\n",
    "## Academic Integrity Statement:\n",
    "Academic integrity is taking responsibility for one’s own class and/or course work, being individually accountable, and demonstrating intellectual honesty and ethical behavior.  Academic integrity is a personal choice to abide by the standards of intellectual honesty and responsibility.  Because education is a shared effort to achieve learning through the exchange of ideas, students, faculty, and staff have the collective responsibility to build mutual trust and respect.  Ethical behavior and independent thought are essential for the highest level of academic achievement, which then must be measured.  Academic achievement includes scholarship, teaching, and learning, all of which are shared endeavors.  Grades are a device used to quantify the successful accumulation of knowledge through learning.  Adhering to the standards of academic integrity ensures grades are earned honestly.  Academic integrity is the foundation upon which students, faculty, and staff build their educational and professional careers.  [Texas Tech University (“University”) Quality Enhancement Plan, Academic Integrity Task Force, 2010].\n",
    "\n",
    "## Religious Holy Day Statement: \n",
    "“Religious holy day” means a holy day observed by a religion whose places of worship are exempt from property taxation under Texas Tax Code §11.20.  A student who intends to observe a religious holy day should make that intention known to the instructor prior to the absence.  A student who is absent from classes for the observance of a religious holy day shall be allowed to take an examination or complete an assignment scheduled for that day within a reasonable time after the absence.  A student who is excused may not be penalized for the absence; however, the instructor may respond appropriately if the student fails to complete the assignment satisfactorily.\n",
    "\n",
    "## Ethical Conduct Policy:\n",
    "Cheating is prohibited, and the representation of the work of another person as your own will be grounds for receiving a failing grade in the course.\n",
    "\n",
    "**DISCRIMINATION, HARASSMENT, AND SEXUAL VIOLENCE STATEMENT:**\n",
    "Texas Tech University is committed to providing and strengthening an educational, working, and living environment where students, faculty, staff, and visitors are free from gender and/or sex discrimination of any kind. Sexual assault, discrimination, harassment, and other Title IX violations are not tolerated by the University. Report any incidents to the Office for Student Rights & Resolution, (806)-742-SAFE (7233) or file a report online at titleix.ttu.edu/students. Faculty and staff members at TTU are committed to connecting you to resources on campus. Some of these available resources are: TTU Student Counseling Center, 806- 742-3674, https://www.depts.ttu.edu/scc/(Provides confidential support on campus.) TTU 24-hour Crisis Helpline, 806-742-5555, (Assists students who are experiencing a mental health or interpersonal violence crisis. If you call the helpline, you will speak with a mental health counselor.) Voice of Hope Lubbock Rape Crisis Center, 806-763-7273, voiceofhopelubbock.org (24-hour hotline that provides support for survivors of sexual violence.) The Risk, Intervention, Safety and Education (RISE) Office, 806-742-2110,  https://www.depts.ttu.edu/rise/ (Provides a range of resources and support options focused on prevention education and student wellness.) Texas Tech Police Department, 806-742- 3931,http://www.depts.ttu.edu/ttpd/ (To report criminal activity that occurs on or near Texas Tech campus.)\n",
    "\n",
    "**CIVILITY IN THE CLASSROOM STATEMENT:**\n",
    "Texas Tech University is a community of faculty, students, and staff that enjoys an expectation of cooperation, professionalism, and civility during the conduct of all forms of university business, including the conduct of student–student and student–faculty interactions in and out of the classroom. Further, the classroom is a setting in which an exchange of ideas and creative thinking should be encouraged and where intellectual growth and development are fostered. Students who disrupt this classroom mission by rude, sarcastic, threatening, abusive or obscene language and/or behavior will be subject to appropriate sanctions according to university policy. Likewise, faculty members are expected to maintain the highest standards of professionalism in all interactions with all constituents of the university.\n",
    "To ensure that you are fully engaged in class discussions and account team meetings during class time, you are expected to do the following:\n",
    "- Maintain the same level of civility and professionalism that would be expected in a face-to-face classroom setting.\n",
    "- Attend all classes regularly.\n",
    "- Log into the video conference on time and remain logged in for the duration of the class period.\n",
    "- Activate your camera so that you are visible to the instructor and other students in the class. If you have concerns about leaving your camera on (such as childcare obligations, privacy issues, or a particular circumstance during a class period), please talk to the instructor.\n",
    "- Refrain from engaging in non-class related activities during class time that create a distraction for other students in the class and/or limit your ability to engage in the course.\n",
    "Failure to meet these expectations may result in the following consequences:\n",
    "1. Being counted as absent for the class meeting.\n",
    "2. Not receiving credit for class participation for that class period.\n",
    "3. Other consequences as stipulated in the syllabus, Texas Tech Code of Student Conduct, or other university policy.\n",
    "Repeated failure to meet expectations (e.g., attendance, participation in class, etc.), in addition to the above consequences, may result in the one or more of the following consequences:\n",
    "1. Referral to the appropriate Associate Dean.\n",
    "2. Academic penalty, ranging from a warning to failure of the course.\n",
    "(www.depts.ttu.edu/ethics/matadorchallenge/ethicalprinciples.php).\n",
    "\n",
    "**LGBTQIA SUPPORT STATEMENT:**\n",
    "I identify as an ally to the lesbian, gay, bisexual, transgender, queer, intersex, and asexual (LGBTQIA) community, and I am available to listen and support you in an affirming manner. I can assist in connecting you with resources on campus to address problems you may face pertaining to sexual orientation and/or gender identity that could interfere with your success at Texas Tech. Please note that additional resources are available through the Office of LGBTQIA within the Center for Campus Life, Student Union Building Room 201, www.lgbtqia.ttu.edu, 806.742.5433.”\n",
    "\n",
    "Office of LGBTQIA, Student Union Building Room 201, www.lgbtqia.ttu.edu, 806.742.5433\n",
    "Within the Center for Campus Life, the Office serves the Texas Tech community through facilitation and leadership of programming and advocacy efforts. This work is aimed at strengthening the lesbian, gay, bisexual, transgender, queer, intersex, and asexual (LGBTQIA) community and sustaining an inclusive campus that welcomes people of all sexual orientations, gender identities, and gender expressions.\n"
   ]
  },
  {
   "cell_type": "code",
   "execution_count": 9,
   "metadata": {},
   "outputs": [
    {
     "data": {
      "text/plain": [
       "25.0"
      ]
     },
     "execution_count": 9,
     "metadata": {},
     "output_type": "execute_result"
    }
   ],
   "source": [
    "400/16"
   ]
  },
  {
   "cell_type": "code",
   "execution_count": null,
   "metadata": {},
   "outputs": [],
   "source": []
  }
 ],
 "metadata": {
  "kernelspec": {
   "display_name": "Python 3",
   "language": "python",
   "name": "python3"
  },
  "language_info": {
   "codemirror_mode": {
    "name": "ipython",
    "version": 3
   },
   "file_extension": ".py",
   "mimetype": "text/x-python",
   "name": "python",
   "nbconvert_exporter": "python",
   "pygments_lexer": "ipython3",
   "version": "3.8.10"
  }
 },
 "nbformat": 4,
 "nbformat_minor": 4
}
