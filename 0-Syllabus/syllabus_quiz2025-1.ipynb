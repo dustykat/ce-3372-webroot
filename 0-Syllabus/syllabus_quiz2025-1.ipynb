{
 "cells": [
  {
   "cell_type": "markdown",
   "id": "99babd18-6e81-46a6-86ad-50377e6d14da",
   "metadata": {},
   "source": [
    "### CE 3372: Water Systems Design Quiz\n",
    "\n",
    "**1. Where and when are the class meetings held?**  \n",
    "- a) CE Room 203F, 10:00-11:00, MWF  \n",
    "- b) CE 205, 14:00-14:50, MWF ✅  \n",
    "- c) CE 203F, 13:00-14:00, Fridays only  \n",
    "- d) CE 205, 10:00-11:00, TTh  \n",
    "\n",
    "**2. Who is the instructor for this course?**  \n",
    "- a) Theodore G. Cleveland ✅  \n",
    "- b) James P. Rossman  \n",
    "- c) R.S. Gupta  \n",
    "- d) L.W. Mays  \n",
    "\n",
    "**3. What is the main textbook for this course?**  \n",
    "- a) Hydrology and Hydraulic Systems, Gupta (2017) ✅  \n",
    "- b) Storm Water Management Model User’s Manual, Rossman (2009)  \n",
    "- c) Water Resources Engineering, Mays (2011)  \n",
    "- d) Fundamentals of Engineering Handbook, NCEES (2008)  \n",
    "\n",
    "**4. Which software tools will students use for hydraulic computations?**  \n",
    "- a) AutoCAD and ArcGIS  \n",
    "- b) EPA-NET and SWMM ✅  \n",
    "- c) HEC-HMS and MODFLOW  \n",
    "- d) Python and R exclusively  \n",
    "\n",
    "**5. What percentage of the final grade is determined by attendance and participation?**  \n",
    "- a) 5%  \n",
    "- b) 10% ✅  \n",
    "- c) 20%  \n",
    "- d) 25%  \n",
    "\n",
    "**6. How are assignments submitted?**  \n",
    "- a) By email to the instructor  \n",
    "- b) Uploaded to the learning management system ✅  \n",
    "- c) Printed and handed in during class  \n",
    "- d) Through postal mail  \n",
    "\n",
    "**7. What are the two main project reports required during the semester?**  \n",
    "- a) Individual written assignments  \n",
    "- b) RP-1 and RP-2 ✅  \n",
    "- c) Mid-term and final reports  \n",
    "- d) Experimental design submissions  \n",
    "\n",
    "**8. What ABET program outcome emphasizes life-long learning?**  \n",
    "- a) 3[a]  \n",
    "- b) 3[i] ✅  \n",
    "- c) 3[b]  \n",
    "- d) 8[d]  \n",
    "\n",
    "**9. What happens if a student observes a religious holy day?**  \n",
    "- a) The student must attend class regardless.  \n",
    "- b) The absence is excused, and they must make arrangements with the instructor beforehand. ✅  \n",
    "- c) They lose points for participation.  \n",
    "- d) They must file a formal complaint.  \n",
    "\n",
    "**10. Which policy requires students to notify the instructor if they need accommodations due to a disability?**  \n",
    "- a) Academic Integrity Policy  \n",
    "- b) ADA Statement ✅  \n",
    "- c) Religious Holy Day Policy  \n",
    "- d) Title IX Compliance\n"
   ]
  },
  {
   "cell_type": "markdown",
   "id": "2a5f38ba-a88a-4dd6-9df8-9a3d7d9a8e90",
   "metadata": {},
   "source": []
  },
  {
   "cell_type": "code",
   "execution_count": null,
   "id": "cb24ff9c-7c62-48a2-99b8-256d847e8c93",
   "metadata": {},
   "outputs": [],
   "source": []
  }
 ],
 "metadata": {
  "kernelspec": {
   "display_name": "Python Common Environment",
   "language": "python",
   "name": "python-my-env"
  },
  "language_info": {
   "codemirror_mode": {
    "name": "ipython",
    "version": 3
   },
   "file_extension": ".py",
   "mimetype": "text/x-python",
   "name": "python",
   "nbconvert_exporter": "python",
   "pygments_lexer": "ipython3",
   "version": "3.10.12"
  }
 },
 "nbformat": 4,
 "nbformat_minor": 5
}
