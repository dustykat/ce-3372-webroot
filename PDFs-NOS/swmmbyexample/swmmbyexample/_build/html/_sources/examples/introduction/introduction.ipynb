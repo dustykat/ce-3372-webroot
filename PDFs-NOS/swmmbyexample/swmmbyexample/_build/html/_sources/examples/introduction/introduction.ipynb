{
 "cells": [
  {
   "cell_type": "markdown",
   "metadata": {},
   "source": [
    "# SWMM by Example\n",
    "\n",
    "[EPA Storm Water Management Model (SWMM)](https://www.epa.gov/water-research/storm-water-management-model-swmm) is a computer program that performs hydraulics computations in open conduit and pressure-pipe systems.  It contains rudimentary but useable hydrology components, and some water quality capabilities (Green Infrastructure components and elementary pollutant fate and transport). \n",
    "\n",
    "This JupyterBook is a collection of worked examples (with links to supporting files) for various situations intended as a self-training tool."
   ]
  },
  {
   "cell_type": "markdown",
   "metadata": {},
   "source": [
    "## Installing SWMM\n",
    "\n",
    "A YouTube Video entitled [InstallingSWMM](https://www.youtube.com/watch?v=JKedXZUc8vA&t=10s) shows how to download\n",
    "and install EPA-SWMM onto your computer. EPA-SWMM will run fine on a laptop computer, and even a Macintosh that has a guest Windows OS ([VMWare](https://www.vmware.com/products/fusion.html), [Parallels](https://www.parallels.com/pd/general/?gclid=CjwKCAjw79iaBhAJEiwAPYwoCFORJ8sEPl3m0sP2EEj6TExbC4rKqt6LUsS22AVAmTK8PkgnfLqbkxoC_dcQAvD_BwE), [CrossOver](https://www.codeweavers.com/) or [BootCamp](https://support.apple.com/en-us/HT201468))\n",
    "\n",
    "## SWMM On-Line Share Version\n",
    "\n",
    "A fully provisioned Windows Implementation of SWMM 5.2.1 is located at:\n",
    "\n",
    "- server_name: **kittyinthewindow.ddns.net**\n",
    "- user_name: **SWMM-OnLine**\n",
    "- passwd: **peakfq73$hare**\n",
    "\n",
    "Users must access using [Remote Desktop Protocol](https://learn.microsoft.com/en-us/windows-server/remote/remote-desktop-services/clients/remote-desktop-mac) (Built into Windows, Apple Store has a free Mac application).\n",
    "\n",
    ":::{note}\n",
    "All the examples in this JupyterBook are created and run in the shared environment.  Input files are stored separately in the JupyterBook root and are accessible independently of the JupyterBook.\n",
    ":::\n",
    "\n",
    ":::{warning}\n",
    "The password is not supposed to be changeable, but if it is changed the author may not get around to resetting it back to original state for quite awhile, so for collective sake, please stay out of the control panel.  Similarily the example input files are stored in a GitHub repository so a pull before exploring the environment is a good practice to reset to original state.  \n",
    ":::"
   ]
  },
  {
   "cell_type": "markdown",
   "metadata": {},
   "source": [
    "## References\n",
    "\n",
    "1. SWMM User Manual\n",
    "2. SWMM Tutorial\n",
    "3. OWA SWMM project\n",
    "4. JupyterBook\n",
    "5. GitHub "
   ]
  },
  {
   "cell_type": "code",
   "execution_count": null,
   "metadata": {},
   "outputs": [],
   "source": []
  }
 ],
 "metadata": {
  "kernelspec": {
   "display_name": "Python 3",
   "language": "python",
   "name": "python3"
  },
  "language_info": {
   "codemirror_mode": {
    "name": "ipython",
    "version": 3
   },
   "file_extension": ".py",
   "mimetype": "text/x-python",
   "name": "python",
   "nbconvert_exporter": "python",
   "pygments_lexer": "ipython3",
   "version": "3.8.10"
  }
 },
 "nbformat": 4,
 "nbformat_minor": 4
}
