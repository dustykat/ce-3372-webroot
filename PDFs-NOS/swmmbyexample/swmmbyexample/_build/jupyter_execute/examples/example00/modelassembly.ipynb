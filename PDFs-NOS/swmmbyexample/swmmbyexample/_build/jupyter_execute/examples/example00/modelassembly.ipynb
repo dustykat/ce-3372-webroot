{
 "cells": [
  {
   "cell_type": "markdown",
   "metadata": {},
   "source": [
    "# Model Assembly\n",
    "\n",
    "Here we will access the environment.\n",
    "\n",
    "## Start RDP\n",
    "\n",
    "In windows use the search menu and search for RDP the first item should be the link on your computer to the installed RDP.  If you are on a Mac (as used here for building the JupyterBook) you have to obtain a copy of the RDP client.\n",
    "\n",
    "![](startRDP.png)\n",
    "\n",
    "Once started add the remote PC\n",
    "\n",
    "![](addPC.png)\n",
    "\n",
    "Next attempt to connect, you will provide a user name **SWMM-OnLine** and passwd **peakfq73\\$hare**\n",
    "\n",
    "![](credentials.png)\n",
    "\n",
    "You will get the following security message (it looks a bit different on Windows, but is essentially the same warning)\n",
    "\n",
    "![](warningmsg.png)\n",
    "\n",
    "Choose **continue** to attempt the connection\n",
    "\n",
    ":::{note}\n",
    "Sometimes you have to re-enter the password, the remote will prompt you in such instances\n",
    ":::\n",
    "\n",
    "And **Success** we are connected to the remote environment.\n",
    "\n",
    "![](success.png)\n"
   ]
  },
  {
   "cell_type": "code",
   "execution_count": null,
   "metadata": {},
   "outputs": [],
   "source": []
  }
 ],
 "metadata": {
  "kernelspec": {
   "display_name": "Python 3",
   "language": "python",
   "name": "python3"
  },
  "language_info": {
   "codemirror_mode": {
    "name": "ipython",
    "version": 3
   },
   "file_extension": ".py",
   "mimetype": "text/x-python",
   "name": "python",
   "nbconvert_exporter": "python",
   "pygments_lexer": "ipython3",
   "version": "3.8.10"
  }
 },
 "nbformat": 4,
 "nbformat_minor": 4
}