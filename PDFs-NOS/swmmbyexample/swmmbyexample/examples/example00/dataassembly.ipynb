{
 "cells": [
  {
   "cell_type": "markdown",
   "metadata": {},
   "source": [
    "# Data Assembly\n",
    "\n",
    "None in this example.  \n",
    "\n",
    "The illustrative problem is\n",
    "\n",
    "> A 5-foot diameter, reinforced concrete pipe (RCP), on a 0.5\\% slope carries 60$^o$F water at a discharge of\n",
    "21 cubic-feet per second (cfs). Plot the water surface elevation in a 10,000 foot length of this pipe."
   ]
  },
  {
   "cell_type": "code",
   "execution_count": null,
   "metadata": {},
   "outputs": [],
   "source": []
  }
 ],
 "metadata": {
  "kernelspec": {
   "display_name": "Python 3",
   "language": "python",
   "name": "python3"
  },
  "language_info": {
   "codemirror_mode": {
    "name": "ipython",
    "version": 3
   },
   "file_extension": ".py",
   "mimetype": "text/x-python",
   "name": "python",
   "nbconvert_exporter": "python",
   "pygments_lexer": "ipython3",
   "version": "3.8.10"
  }
 },
 "nbformat": 4,
 "nbformat_minor": 4
}
