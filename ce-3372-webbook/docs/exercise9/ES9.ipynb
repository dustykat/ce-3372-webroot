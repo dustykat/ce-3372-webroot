{
 "cells": [
  {
   "cell_type": "markdown",
   "metadata": {},
   "source": [
    "# ES-9\n",
    "\n",
    "## Purpose:\n",
    "Hydrology review: apply rational method by-hand; construct a design storm hyetograph"
   ]
  },
  {
   "cell_type": "markdown",
   "metadata": {},
   "source": [
    "## Background\n",
    "\n",
    "A  square  shaped  250  acre,  single  family  residential  area  in  Harris  County  ranges  inelevation  of  150-feet  at  the  North  corner  to  139-feet  at  the  South  corner  outlet  asdepicted on Figure 1.\n",
    "\n",
    "||![](WaterShed.png)||\n",
    "|---|---|---|\n",
    "\n",
    "||Figure 1. 250 acre square watershed with land surface elevation points indicated||\n",
    "|---|---|---|\n",
    "\n"
   ]
  },
  {
   "cell_type": "markdown",
   "metadata": {},
   "source": [
    "---\n",
    "## Exercise 1\n",
    "\n",
    "Watershed Characterization\n",
    "\n",
    "Use the image file for Figure 1 @[https://3.137.111.182/ce-3372-webbook/exercise9/WaterShed.png](https://3.137.111.182/ce-3372-webbook/exercise9/WaterShed.png) to:\n",
    "\n",
    "a)  Create an elevation contour map for the study area – the shaded area is square, 250acres total area.\n",
    "\n",
    "b)  Draw representative overland flow paths on the map (or diagram)\n",
    "\n",
    "c)  Draw on the diagram the longest flow path from the highest elevation to the outletthat lies within the 250 acre study area.\n",
    "\n",
    "d)  Draw on the diagram the shortest flow path from the highest elevation to the outletthat lies within the 250 acre study area.\n",
    "\n",
    "e)  Determine the length, in feet, of both flow paths.\n",
    "\n",
    "f)  Determine the average dimensionless slope along each flow pat\n",
    "\n",
    "---\n",
    "## Exercise 2\n",
    "\n",
    "Using your results from Exercise 1:\n",
    "\n",
    "a)  Estimate the time of concentration using an appropriate method.\n",
    "\n",
    "b)  Using the NOAA Atlas 14, Volume 10 for Texas estimate the rainfall intensity for a 10-year ARI, 3-hour duration storm.\n",
    "\n",
    "c)  Using  (and  citing)  a  runoff  coefficient  table,  specify  the  runoff  coefficient  for  the sub-catchment.\n",
    "\n",
    "d)  Estimate  the  peak  discharge  for  the  sub-catchment  for  a  10-year  ARI  using  the Rational Method.\n",
    "\n",
    "---\n",
    "## Exercise 3\n",
    "\n",
    "Using the SCS Tabulation or TXHYETO, construct from the 10-year, 6-hour storm a design hyetograph at 15 minute intervals.\n",
    "\n",
    "## Deliverables:\n",
    "\n",
    "Submit the above items in a technical memorandum that includes a description of how the results were obtained and a discussion and interpretation of the results.  Show representative calculations where appropriate.\n",
    "\n",
    "## References\n"
   ]
  },
  {
   "cell_type": "code",
   "execution_count": null,
   "metadata": {},
   "outputs": [],
   "source": []
  }
 ],
 "metadata": {
  "kernelspec": {
   "display_name": "Python 3",
   "language": "python",
   "name": "python3"
  },
  "language_info": {
   "codemirror_mode": {
    "name": "ipython",
    "version": 3
   },
   "file_extension": ".py",
   "mimetype": "text/x-python",
   "name": "python",
   "nbconvert_exporter": "python",
   "pygments_lexer": "ipython3",
   "version": "3.8.10"
  }
 },
 "nbformat": 4,
 "nbformat_minor": 4
}
