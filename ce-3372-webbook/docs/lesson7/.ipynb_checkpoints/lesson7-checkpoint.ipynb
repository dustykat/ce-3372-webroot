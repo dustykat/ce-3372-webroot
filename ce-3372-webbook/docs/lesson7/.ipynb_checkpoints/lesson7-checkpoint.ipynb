{
 "cells": [
  {
   "cell_type": "markdown",
   "metadata": {},
   "source": [
    "## CE 3372 Water Systems Design\n",
    "### Lesson 7. Pumping Systems\n",
    "\n",
    "Water moves from higher to lower energy\n",
    "- Path of least resistance\n",
    "- Head is energy per unit weight of a fluid \n",
    "- Pumps are used to add energy to move water to a higher elevation, or over a barrier, or to increase system pressure. \n",
    "\n",
    "\n",
    "\n"
   ]
  },
  {
   "cell_type": "code",
   "execution_count": null,
   "metadata": {},
   "outputs": [],
   "source": []
  }
 ],
 "metadata": {
  "kernelspec": {
   "display_name": "Python 3",
   "language": "python",
   "name": "python3"
  },
  "language_info": {
   "codemirror_mode": {
    "name": "ipython",
    "version": 3
   },
   "file_extension": ".py",
   "mimetype": "text/x-python",
   "name": "python",
   "nbconvert_exporter": "python",
   "pygments_lexer": "ipython3",
   "version": "3.8.10"
  }
 },
 "nbformat": 4,
 "nbformat_minor": 4
}
