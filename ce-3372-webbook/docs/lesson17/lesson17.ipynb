{
 "cells": [
  {
   "cell_type": "markdown",
   "metadata": {},
   "source": [
    "## CE 3372 Water Systems Design\n",
    "### Lesson 17. Open Channel Hydraulics (Unsteady)\n",
    "\n",
    "### Concepts\n",
    "- Continunity \n",
    "- Momentum \n",
    "- SWMM Example\n",
    "\n",
    "### Workshop\n",
    "\n",
    "#### Flow in Conduits \n",
    "\n",
    "- Unsteady (Dynamic) model \n",
    "\n",
    "\n",
    "\n",
    "\n",
    "\n",
    "\n",
    "\n"
   ]
  },
  {
   "cell_type": "code",
   "execution_count": null,
   "metadata": {},
   "outputs": [],
   "source": []
  }
 ],
 "metadata": {
  "kernelspec": {
   "display_name": "Python 3",
   "language": "python",
   "name": "python3"
  },
  "language_info": {
   "codemirror_mode": {
    "name": "ipython",
    "version": 3
   },
   "file_extension": ".py",
   "mimetype": "text/x-python",
   "name": "python",
   "nbconvert_exporter": "python",
   "pygments_lexer": "ipython3",
   "version": "3.8.10"
  }
 },
 "nbformat": 4,
 "nbformat_minor": 4
}
