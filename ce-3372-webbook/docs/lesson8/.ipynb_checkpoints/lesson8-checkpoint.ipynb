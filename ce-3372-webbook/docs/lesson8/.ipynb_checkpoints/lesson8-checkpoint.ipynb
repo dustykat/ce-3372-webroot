{
 "cells": [
  {
   "cell_type": "markdown",
   "metadata": {},
   "source": [
    "## CE 3372 Water Systems Design\n",
    "### Lesson 8. Storage Systems\n",
    "\n",
    "Storage is used in water supply, storm water management, and wastewater systems for several reasons. \n",
    "\n",
    "**SERVICE STORAGE**  \n",
    "1. Flow equalization — generally things are designed for a particular steady flow rate and storage can be used to accommodate variable flow rates in a system. \n",
    "2. Pressure zone maintenance \n",
    "\n",
    "**EMERGENCY STORAGE**  \n",
    "1. used to provide supply during repairs and other system interrupts (except fire suppression)\n",
    "\n",
    "**FIRE STORAGE**  \n",
    "1. used to provide supply during fire fighting activities – considered seperately from emergency storage\n",
    "\n",
    "\n"
   ]
  },
  {
   "cell_type": "code",
   "execution_count": null,
   "metadata": {},
   "outputs": [],
   "source": []
  }
 ],
 "metadata": {
  "kernelspec": {
   "display_name": "Python 3",
   "language": "python",
   "name": "python3"
  },
  "language_info": {
   "codemirror_mode": {
    "name": "ipython",
    "version": 3
   },
   "file_extension": ".py",
   "mimetype": "text/x-python",
   "name": "python",
   "nbconvert_exporter": "python",
   "pygments_lexer": "ipython3",
   "version": "3.8.10"
  }
 },
 "nbformat": 4,
 "nbformat_minor": 4
}
