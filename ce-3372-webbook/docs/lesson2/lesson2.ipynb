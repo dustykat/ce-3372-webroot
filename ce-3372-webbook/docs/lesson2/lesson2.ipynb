{
 "cells": [
  {
   "cell_type": "markdown",
   "metadata": {},
   "source": [
    "## CE 3372 Water Systems Design\n",
    "\n",
    "### Lesson 2. Course Specific Software\n",
    "\n",
    "In this course we will use **EPANET** pipe network simulator software with the EPA supplied GUI, and **SWMM 5+** drainage network simulator software with the EPA supplied GUI.\n",
    "\n",
    "This lesson demonstrates the installation on: \n"
   ]
  },
  {
   "cell_type": "markdown",
   "metadata": {},
   "source": [
    "### Installing EPANET\n",
    "\n",
    "#### Check your system\n",
    "\n",
    "EPANET with the GUI runs in the Windows environment and expects the underlying machine to be an x86-64 chipset.  Generally this means an Intel- or AMD-based machine.  \n",
    "\n",
    "If you have a Chromebook or Raspberry Pi, or Macintosh EPANET as deployed from the EPA won't install directly.  You can try WINE or other emulators but **YOU ARE ON YOUR OWN!**. An alternative for these cases is an Amazon Web Services (AWS) Lightsail instance.  The \\$12/month service will run both softwares, and works like ordinary Windows. "
   ]
  },
  {
   "cell_type": "markdown",
   "metadata": {},
   "source": [
    "#### Download the installer\n",
    "\n",
    "URL to installer \n",
    "\n",
    "Screen capture download\n"
   ]
  },
  {
   "cell_type": "markdown",
   "metadata": {},
   "source": [
    "#### Run the installer\n",
    "\n",
    "Screen capture running the installer"
   ]
  },
  {
   "cell_type": "markdown",
   "metadata": {},
   "source": [
    "#### Check the install\n",
    "\n",
    "To check the install, simply launch the program. If the GUI opens and renders the program is working.  You can try a simple example if you wish.\n",
    "\n",
    "Screen capture check\n",
    "\n",
    "URL to EPANET by Example,  load example 1"
   ]
  },
  {
   "cell_type": "code",
   "execution_count": null,
   "metadata": {},
   "outputs": [],
   "source": []
  },
  {
   "cell_type": "markdown",
   "metadata": {},
   "source": [
    "### Installing SWMM\n",
    "\n",
    "#### Check your system\n",
    "\n",
    "SWMM with the GUI runs in the Windows environment and expects the underlying machine to be an x86-64 chipset.  Generally this means an Intel- or AMD-based machine.  \n",
    "\n",
    "If you have a Chromebook or Raspberry Pi, or Macintosh SWMM as deployed from the EPA won't install directly.  You can try WINE or other emulators but **YOU ARE ON YOUR OWN!**. An alternative for these cases is an Amazon Web Services (AWS) Lightsail instance.  The \\$12/month service will run both softwares, and works like ordinary Windows. "
   ]
  },
  {
   "cell_type": "markdown",
   "metadata": {},
   "source": [
    "#### Download the installer\n",
    "\n",
    "URL to installer \n",
    "\n",
    "Screen capture download\n"
   ]
  },
  {
   "cell_type": "markdown",
   "metadata": {},
   "source": [
    "#### Run the installer\n",
    "\n",
    "Screen capture running the installer"
   ]
  },
  {
   "cell_type": "markdown",
   "metadata": {},
   "source": [
    "#### Check the install\n",
    "\n",
    "To check the install, simply launch the program. If the GUI opens and renders the program is working.  You can try a simple example if you wish.\n",
    "\n",
    "Screen capture check\n",
    "\n",
    "URL to SWMM by Example,  load example 1"
   ]
  }
 ],
 "metadata": {
  "kernelspec": {
   "display_name": "Python 3",
   "language": "python",
   "name": "python3"
  },
  "language_info": {
   "codemirror_mode": {
    "name": "ipython",
    "version": 3
   },
   "file_extension": ".py",
   "mimetype": "text/x-python",
   "name": "python",
   "nbconvert_exporter": "python",
   "pygments_lexer": "ipython3",
   "version": "3.8.10"
  }
 },
 "nbformat": 4,
 "nbformat_minor": 4
}
