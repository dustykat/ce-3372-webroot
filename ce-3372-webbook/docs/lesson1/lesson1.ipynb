{
 "cells": [
  {
   "cell_type": "markdown",
   "metadata": {},
   "source": [
    "## CE 3372 Water Systems Design\n",
    "\n",
    "### Lesson 1. Introduction\n",
    "\n",
    "The title of the course is water systems design.  The catalog description is: \n",
    "> CE 3372.  Water Systems Design (3:3:0).Prerequesite: CE 33051, 33542.Hydraulic analysis and design of municipal water distribution, stormwater collection, and wastewater collection systems.  Oral and written presentations.  (Writing Intensive)\n",
    "\n",
    "The general scope of the course is:\n",
    "\n",
    "- Examination of design guidance documents for drinking water distribution systems, a review of pipeline hydraulics, demand estimation, then a design project related to a drinking water distribution system. </li>\n",
    "- The computer program EPANET is presented to provide a tool for the hydraulic modeling component of drinking water system design.</li>\n",
    "- Examination of design guidance for stormwater collection systems, presents a review of open channel hydraulics (as related to storm sewers),  capacity (hydrology)  estimation,  then  a  design  project  related  to  a  stormwater  collection system.</li>\n",
    "- The computer program SWMM 5 is presented to provide a tool for the hydrologic/hydraulic modeling component of the stormwater collection system design.</li>\n",
    "- Examination of design guidance for wastewater collection systems, then  a  design  project  related  to  a  stormwater  collection system.</li>\n",
    "\n",
    "The graded components of the course are:\n",
    "\n",
    "- Quizzes (administered on a learning management system); individual activity\n",
    "- Exercises (collected on a learning management system); group activity\n",
    "- Exams (administered on a learning management system); individual activity\n",
    "- A design  report  (Three parts; collected  on  a  learning  management  system);  group activity\n",
    "- A design  presentation  (administered  on  a  learning  management  system);  group activity"
   ]
  },
  {
   "cell_type": "markdown",
   "metadata": {},
   "source": [
    "### Water Systems Definition(s)\n",
    "The course title is Water Systems Design, so a natural question is what is meant by a water system?  In this course it refers to a water distribution system that conveys raw or treated water to customers, a storm water collection system that conveys storm water away from infrastructure to reduce flooding damages and activities of daily life inconvenience,and wastewater collection systems that convey wastewater to treatment facilities for eventual release of the water back into the environment (or intentional reuse).\n",
    "\n",
    "Water systems can be classified into three main categories (Chin, 2006; Mays, 2011):\n",
    "\n",
    "1.  Water-control  systems  –  to  control  the  spatial  and  temporal  distribution  ofsurface runoff from rainfall events (drainage engineering).  They can also servea use role if the captured rainwater is used later on for water supply (rainwaterharvesting).\n",
    "2.  Water-use system – to support human habitation and include water-treatmentsystems, water-distribution systems, wastewater-collection systems, and wastewater-treatment systems.\n",
    "3.  Environmental restoration system – to manage spatial and temporal distributionof water (quality and quantity) in support of non-human habitation."
   ]
  },
  {
   "cell_type": "markdown",
   "metadata": {},
   "source": [
    "#### Water Control Systems\n",
    "Spatial and temporal distribution of surface runoff from rainfall events (drainage engineering)\n",
    "\n",
    "- Flood control \n",
    "- Storm water harvesting \n",
    "- Capacity is based on AREA served \n",
    "- Hydrologicaly dominated designs \n",
    "\n",
    "#### Water Use Systems\n",
    "Spatial and temporal distribution in support of human habitation \n",
    "\n",
    "- Water supply/treatment/distribution \n",
    "- Waste water collection/treatment/discharge \n",
    "- Capacity is based on POPULATION served \n",
    "- Hydraulically dominated designs \n",
    "\n",
    "#### Environmental Restoration Systems\n",
    "Systems to manage spatial and temporal distribution in support of non-human habitation \n",
    "\n",
    "- Create “desirable” conditions \n",
    "- “Desirable” <= Policy <= Value Judgment\n"
   ]
  },
  {
   "cell_type": "markdown",
   "metadata": {},
   "source": [
    "### Water System Photos \n",
    "This brief photo essay is adapted from  \n",
    "> “Historical Urban Water Systems” by Dr. Robert Pitt, Department of Civil and Environmental Engineering, University of Alabama, Tuscaloosa, AL  35487  \n",
    "\n",
    "As we proceed through the tour, using the general definitions above, decide whether the picture represents a water control, water use, or environmental restoration system.  "
   ]
  },
  {
   "cell_type": "markdown",
   "metadata": {},
   "source": [
    "## Readings\n",
    "Introduction to Water Resources Engineering Pages 1-33 from Wurbs,R.A., and James, W.P. (2002) Water Resources Engineering, Prentice Hall. [https://3.137.111.182/ce-3372-webbook/readings/Wurbs1-33.pdf](https://3.137.111.182/ce-3372-webbook/readings/Wurbs1-33.pdf)\n",
    "\n",
    "Introduction to Water Resources Engineeirng Pages 1-11 from Mays, L.W. (2011) Water Resources Engineering, J. Wiley and Sons.[https://3.137.111.182/ce-3372-webbook/readings/Mays1-11.pdf](https://3.137.111.182/ce-3372-webbook/readings/Mays1-11.pdf)\n",
    "\n",
    "Introduction to Water Resources Engineering Pages 1-8 from Chin, D. A. (2006) Water-Resources Engineering, Pearson-Prentice Hall. [https://3.137.111.182/ce-3372-webbook/readings/Chin1-8.pdf](https://3.137.111.182/ce-3372-webbook/readings/Chin1-8.pdf)"
   ]
  },
  {
   "cell_type": "code",
   "execution_count": null,
   "metadata": {},
   "outputs": [],
   "source": []
  }
 ],
 "metadata": {
  "kernelspec": {
   "display_name": "Python 3",
   "language": "python",
   "name": "python3"
  },
  "language_info": {
   "codemirror_mode": {
    "name": "ipython",
    "version": 3
   },
   "file_extension": ".py",
   "mimetype": "text/x-python",
   "name": "python",
   "nbconvert_exporter": "python",
   "pygments_lexer": "ipython3",
   "version": "3.8.10"
  }
 },
 "nbformat": 4,
 "nbformat_minor": 4
}
