{
 "cells": [
  {
   "cell_type": "markdown",
   "metadata": {},
   "source": [
    "## CE 3372 Water Systems Design\n",
    "### Lesson 16. Open Channel Hydraulics (Steady)\n",
    "\n",
    "### Concepts\n",
    "- Normal Flow \n",
    "- Gradually Varied Flow \n",
    "- SWMM Example\n",
    "\n",
    "### Workshop\n",
    "\n",
    "#### Flow in Conduits \n",
    "\n",
    "- Normal model\n",
    "- Kinematic wave model\n",
    "- Unsteady at equilibrium (GVF) model \n",
    "\n",
    "\n",
    "\n",
    "\n"
   ]
  },
  {
   "cell_type": "code",
   "execution_count": null,
   "metadata": {},
   "outputs": [],
   "source": []
  }
 ],
 "metadata": {
  "kernelspec": {
   "display_name": "Python 3",
   "language": "python",
   "name": "python3"
  },
  "language_info": {
   "codemirror_mode": {
    "name": "ipython",
    "version": 3
   },
   "file_extension": ".py",
   "mimetype": "text/x-python",
   "name": "python",
   "nbconvert_exporter": "python",
   "pygments_lexer": "ipython3",
   "version": "3.8.10"
  }
 },
 "nbformat": 4,
 "nbformat_minor": 4
}
