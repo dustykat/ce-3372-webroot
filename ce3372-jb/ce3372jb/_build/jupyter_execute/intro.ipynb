{
 "cells": [
  {
   "cell_type": "markdown",
   "metadata": {},
   "source": [
    "# Welcome to CE 3372 Water Systems Design\n",
    "\n",
    "This is the electronic textbook for Dr. Cleveland's section(s) of CE 3372 at Texas Tech University.\n",
    "\n",
    ":::{note}\n",
    "This electronic textbook is intended to **eventually** replace the regular textbook: [https://www.amazon.com/Hydrology-Hydraulic-Systems-Ram-Gupta/dp/1577664558](https://www.amazon.com/Hydrology-Hydraulic-Systems-Ram-Gupta/dp/1577664558)\n",
    ":::\n",
    "\n",
    "The course content is entirely deployed on a web server hosted at Amazon Web Services at [http://54.243.252.9/ce-3372-webroot/](http://54.243.252.9/ce-3372-webroot/)  This book is located on the same server at [http://54.243.252.9/ce-3372-webroot/ce3372-jb/ce3372jb/\\_build/html](http://54.243.252.9/ce-3372-webroot/ce3372-jb/ce3372jb/_build/html)\n",
    "\n",
    ":::{note}\n",
    "The syllabus, links to exercises, and other materials as well as this book appear at the top of the webpage on the course server.  The syllabus is changed relatively frequently, so you will need to check it often to be sure you are up-to-date with respect to scheduled activities related to the course.\n",
    ":::\n",
    "\n",
    "And here is a code block:"
   ]
  },
  {
   "cell_type": "code",
   "execution_count": 1,
   "metadata": {},
   "outputs": [
    {
     "data": {
      "text/plain": [
       "array([[ 6.79633778, 29.42352305, 15.2548446 , 72.97155416, 13.05272343,\n",
       "        40.35172933, 73.7891513 , 90.68815945, 69.00754497, 45.57000063],\n",
       "       [42.26258539, 25.76401578,  9.825969  , 59.59969344, 49.78443162,\n",
       "        80.08298106, 17.21437187, 52.54466092, 54.84273165, 12.83146267],\n",
       "       [25.06710383, 17.02590755, 31.05061295, 93.00690232, 12.55561614,\n",
       "         2.43675331,  8.19027655, 94.63366437,  5.6663518 , 19.83326351]])"
      ]
     },
     "execution_count": 1,
     "metadata": {},
     "output_type": "execute_result"
    }
   ],
   "source": [
    "import matplotlib.pyplot as plt\n",
    "import numpy as np\n",
    "data = np.random.rand(3, 100) * 100\n",
    "data[:, :10]"
   ]
  },
  {
   "cell_type": "markdown",
   "metadata": {},
   "source": [
    "```\n",
    "m=1\n",
    "c=186\n",
    "e = mc^2\n",
    "print(e)\n",
    "```\n",
    "\n",
    "Check out the content pages bundled with this sample book to see more."
   ]
  }
 ],
 "metadata": {
  "jupytext": {
   "text_representation": {
    "extension": ".md",
    "format_name": "myst",
    "format_version": "0.8",
    "jupytext_version": "1.4.1"
   }
  },
  "kernelspec": {
   "display_name": "Python 3",
   "language": "python",
   "name": "python3"
  },
  "language_info": {
   "codemirror_mode": {
    "name": "ipython",
    "version": 3
   },
   "file_extension": ".py",
   "mimetype": "text/x-python",
   "name": "python",
   "nbconvert_exporter": "python",
   "pygments_lexer": "ipython3",
   "version": "3.8.10"
  },
  "source_map": [
   13,
   32,
   37
  ]
 },
 "nbformat": 4,
 "nbformat_minor": 4
}