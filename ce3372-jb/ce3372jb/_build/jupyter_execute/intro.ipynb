{
 "cells": [
  {
   "cell_type": "markdown",
   "metadata": {},
   "source": [
    "# Welcome to CE 3372 Water Systems Design\n",
    "\n",
    "This is the electronic textbook for Dr. Cleveland's section(s) of CE 3372 at Texas Tech University.\n",
    "\n",
    ":::{note}\n",
    "This electronic textbook is intended to **eventually** replace the regular textbook: [https://www.amazon.com/Hydrology-Hydraulic-Systems-Ram-Gupta/dp/1577664558](https://www.amazon.com/Hydrology-Hydraulic-Systems-Ram-Gupta/dp/1577664558)\n",
    ":::\n",
    "\n",
    "The course content is entirely deployed on a web server hosted at Amazon Web Services at [http://54.243.252.9/ce-3372-webroot/](http://54.243.252.9/ce-3372-webroot/)  This book is located on the same server at [http://54.243.252.9/ce-3372-webroot/ce3372-jb/ce3372jb/\\_build/html](http://54.243.252.9/ce-3372-webroot/ce3372-jb/ce3372jb/_build/html)\n",
    "\n",
    ":::{note}\n",
    "The syllabus, links to exercises, and other materials as well as this book appear at the top of the webpage on the course server.  The syllabus is changed relatively frequently, so you will need to check it often to be sure you are up-to-date with respect to scheduled activities related to the course.\n",
    ":::\n",
    "\n",
    "And here is a code block:"
   ]
  },
  {
   "cell_type": "code",
   "execution_count": 1,
   "metadata": {},
   "outputs": [
    {
     "data": {
      "text/plain": [
       "array([[23.1323012 , 15.11798268, 10.15953777, 65.23372175, 34.07746929,\n",
       "         7.64660816, 88.87850307, 47.81583389, 16.76603699, 92.16005156],\n",
       "       [59.85044592, 50.3231247 , 68.38956057, 87.26685968, 85.75791143,\n",
       "        49.57643281, 35.10933697,  7.11340871, 18.44509188, 39.75084346],\n",
       "       [67.47372429, 46.03935451, 14.70666001, 30.24255462, 76.542272  ,\n",
       "        13.42738272, 15.31558181, 89.34543776, 71.7483045 , 85.56799837]])"
      ]
     },
     "execution_count": 1,
     "metadata": {},
     "output_type": "execute_result"
    }
   ],
   "source": [
    "import matplotlib.pyplot as plt\n",
    "import numpy as np\n",
    "data = np.random.rand(3, 100) * 100\n",
    "data[:, :10]"
   ]
  },
  {
   "cell_type": "markdown",
   "metadata": {},
   "source": [
    "```\n",
    "m=1\n",
    "c=186\n",
    "e = mc^2\n",
    "print(e)\n",
    "```\n",
    "\n",
    "Check out the content pages bundled with this sample book to see more."
   ]
  }
 ],
 "metadata": {
  "jupytext": {
   "text_representation": {
    "extension": ".md",
    "format_name": "myst",
    "format_version": "0.8",
    "jupytext_version": "1.4.1"
   }
  },
  "kernelspec": {
   "display_name": "Python 3",
   "language": "python",
   "name": "python3"
  },
  "language_info": {
   "codemirror_mode": {
    "name": "ipython",
    "version": 3
   },
   "file_extension": ".py",
   "mimetype": "text/x-python",
   "name": "python",
   "nbconvert_exporter": "python",
   "pygments_lexer": "ipython3",
   "version": "3.8.10"
  },
  "source_map": [
   13,
   32,
   37
  ]
 },
 "nbformat": 4,
 "nbformat_minor": 4
}