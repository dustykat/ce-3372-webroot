{
 "cells": [
  {
   "cell_type": "markdown",
   "metadata": {},
   "source": [
    "# Welcome to CE 3372 Water Systems Design\n",
    "\n",
    "This is the electronic textbook for Dr. Cleveland's section(s) of CE 3372 at Texas Tech University.\n",
    "\n",
    ":::{note}\n",
    "This electronic textbook is intended to **eventually** replace the regular textbook: [https://www.amazon.com/Hydrology-Hydraulic-Systems-Ram-Gupta/dp/1577664558](https://www.amazon.com/Hydrology-Hydraulic-Systems-Ram-Gupta/dp/1577664558)\n",
    ":::\n",
    "\n",
    "The course content is entirely deployed on a web server hosted at Amazon Web Services at [http://54.243.252.9/ce-3372-webroot/](http://54.243.252.9/ce-3372-webroot/)  This book is located on the same server at [http://54.243.252.9/ce-3372-webroot/ce3372-jb/ce3372jb/\\_build/html](http://54.243.252.9/ce-3372-webroot/ce3372-jb/ce3372jb/_build/html)\n",
    "\n",
    ":::{note}\n",
    "The syllabus, links to exercises, and other materials as well as this book appear at the top of the webpage on the course server.  The syllabus is changed relatively frequently, so you will need to check it often to be sure you are up-to-date with respect to scheduled activities related to the course.\n",
    ":::\n",
    "\n",
    "And here is a code block:"
   ]
  },
  {
   "cell_type": "code",
   "execution_count": 1,
   "metadata": {},
   "outputs": [
    {
     "data": {
      "text/plain": [
       "array([[53.79802778, 81.09249308, 63.53794842, 67.1896021 , 35.59908349,\n",
       "        22.40709238, 52.41922314, 77.15608105, 13.39726348, 62.15793962],\n",
       "       [66.54173427, 39.02494813, 47.2551505 ,  1.86190699, 97.86496101,\n",
       "        92.10242217, 92.27098086, 15.85582218, 43.40134476,  4.46962228],\n",
       "       [82.33330482, 67.46964589, 46.14015012, 56.86542572, 90.87304186,\n",
       "        77.44310069,  5.86323602, 80.48441744, 10.96560346, 56.2109861 ]])"
      ]
     },
     "execution_count": 1,
     "metadata": {},
     "output_type": "execute_result"
    }
   ],
   "source": [
    "import matplotlib.pyplot as plt\n",
    "import numpy as np\n",
    "data = np.random.rand(3, 100) * 100\n",
    "data[:, :10]"
   ]
  },
  {
   "cell_type": "markdown",
   "metadata": {},
   "source": [
    "```\n",
    "m=1\n",
    "c=186\n",
    "e = mc^2\n",
    "print(e)\n",
    "```\n",
    "\n",
    "Check out the content pages bundled with this sample book to see more."
   ]
  }
 ],
 "metadata": {
  "jupytext": {
   "text_representation": {
    "extension": ".md",
    "format_name": "myst",
    "format_version": "0.8",
    "jupytext_version": "1.4.1"
   }
  },
  "kernelspec": {
   "display_name": "Python 3",
   "language": "python",
   "name": "python3"
  },
  "language_info": {
   "codemirror_mode": {
    "name": "ipython",
    "version": 3
   },
   "file_extension": ".py",
   "mimetype": "text/x-python",
   "name": "python",
   "nbconvert_exporter": "python",
   "pygments_lexer": "ipython3",
   "version": "3.8.10"
  },
  "source_map": [
   13,
   32,
   37
  ]
 },
 "nbformat": 4,
 "nbformat_minor": 4
}