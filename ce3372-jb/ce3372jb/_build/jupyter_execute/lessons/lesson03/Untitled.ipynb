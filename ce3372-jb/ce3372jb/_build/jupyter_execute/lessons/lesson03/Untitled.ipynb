{
 "cells": [
  {
   "cell_type": "code",
   "execution_count": 1,
   "metadata": {},
   "outputs": [],
   "source": [
    "# Define the prototype function\n",
    "from math import log,sqrt\n",
    "def jainQ(pipe_diameter,pipe_length,roughness,viscosity,grabity,head_loss):\n",
    "    egl_slope = head_loss/pipe_length\n",
    "    t1 = sqrt(grabity*pipe_diameter*egl_slope)\n",
    "    t2 = roughness/(3.7*pipe_diameter)\n",
    "    t3 = 1.78*viscosity\n",
    "    jainQ = (-0.965*pipe_diameter**2)*t1*log(t2 + t3/(pipe_diameter*t1))\n",
    "    return jainQ"
   ]
  },
  {
   "cell_type": "code",
   "execution_count": 2,
   "metadata": {},
   "outputs": [],
   "source": [
    "def getInputs():\n",
    "    global pipe_diameter,pipe_length,roughness,viscosity,grabity,head_loss\n",
    "# Get pipe diameter, use a simple error trap\n",
    "    yes=0\n",
    "    while yes == 0:\n",
    "        xnow = input(\"Enter Pipe Diameter \\n\")\n",
    "        try:\n",
    "            pipe_diameter = float(xnow)\n",
    "            yes =1\n",
    "        except:\n",
    "            print (\"Value should be numeric, try again \\n\")\n",
    "# Get pipe length, use a simple error trap\n",
    "    yes=0\n",
    "    while yes == 0:\n",
    "        xnow = input(\"Enter Pipe Length \\n\")\n",
    "        try:\n",
    "            pipe_length = float(xnow)\n",
    "            yes =1\n",
    "        except:\n",
    "            print (\"Value should be numeric, try again \\n\")\n",
    "# Get roughness, use a simple error trap\n",
    "    yes=0\n",
    "    while yes == 0:\n",
    "        xnow = input(\"Enter Pipe Roughness Height \\n\")\n",
    "        try:\n",
    "            roughness = float(xnow)\n",
    "            yes =1\n",
    "        except:\n",
    "            print (\"Value should be numeric, try again \\n\")\n",
    "# Get viscosity, use a simple error trap\n",
    "    yes=0\n",
    "    while yes == 0:\n",
    "        xnow = input(\"Enter liquid viscosity \\n\")\n",
    "        try:\n",
    "            viscosity = float(xnow)\n",
    "            yes =1\n",
    "        except:\n",
    "            print (\"Value should be numeric, try again \\n\")\n",
    "# Get grabity, use a simple error trap\n",
    "    yes=0\n",
    "    while yes == 0:\n",
    "        xnow = input(\"Enter gravitational acceleration constant (unit system appropriate) \\n\")\n",
    "        try:\n",
    "            grabity = float(xnow)\n",
    "            yes =1\n",
    "        except:\n",
    "            print (\"Value should be numeric, try again \\n\")\n",
    "# Get head loss, use a simple error trap\n",
    "    yes=0\n",
    "    while yes == 0:\n",
    "        xnow = input(\"Enter head loss \\n\")\n",
    "        try:\n",
    "            head_loss = float(xnow)\n",
    "            yes =1\n",
    "        except:\n",
    "            print (\"Value should be numeric, try again \\n\")\n",
    "    return()"
   ]
  },
  {
   "cell_type": "code",
   "execution_count": 3,
   "metadata": {},
   "outputs": [
    {
     "ename": "StdinNotImplementedError",
     "evalue": "raw_input was called, but this frontend does not support input requests.",
     "output_type": "error",
     "traceback": [
      "\u001b[0;31m---------------------------------------------------------------------------\u001b[0m",
      "\u001b[0;31mStdinNotImplementedError\u001b[0m                  Traceback (most recent call last)",
      "\u001b[0;32m<ipython-input-3-bf6d1486d951>\u001b[0m in \u001b[0;36m<module>\u001b[0;34m\u001b[0m\n\u001b[1;32m      2\u001b[0m \u001b[0;31m# Set Initial Values (non-null) to Allocate variable Names\u001b[0m\u001b[0;34m\u001b[0m\u001b[0;34m\u001b[0m\u001b[0;34m\u001b[0m\u001b[0m\n\u001b[1;32m      3\u001b[0m \u001b[0;31m# call the interface\u001b[0m\u001b[0;34m\u001b[0m\u001b[0;34m\u001b[0m\u001b[0;34m\u001b[0m\u001b[0m\n\u001b[0;32m----> 4\u001b[0;31m \u001b[0mgetInputs\u001b[0m\u001b[0;34m(\u001b[0m\u001b[0;34m)\u001b[0m\u001b[0;34m\u001b[0m\u001b[0;34m\u001b[0m\u001b[0m\n\u001b[0m\u001b[1;32m      5\u001b[0m \u001b[0;31m# call the computation engine\u001b[0m\u001b[0;34m\u001b[0m\u001b[0;34m\u001b[0m\u001b[0;34m\u001b[0m\u001b[0m\n\u001b[1;32m      6\u001b[0m \u001b[0mdischarge\u001b[0m \u001b[0;34m=\u001b[0m \u001b[0mjainQ\u001b[0m\u001b[0;34m(\u001b[0m\u001b[0mpipe_diameter\u001b[0m\u001b[0;34m,\u001b[0m\u001b[0mpipe_length\u001b[0m\u001b[0;34m,\u001b[0m\u001b[0mroughness\u001b[0m\u001b[0;34m,\u001b[0m\u001b[0mviscosity\u001b[0m\u001b[0;34m,\u001b[0m\u001b[0mgrabity\u001b[0m\u001b[0;34m,\u001b[0m\u001b[0mhead_loss\u001b[0m\u001b[0;34m)\u001b[0m\u001b[0;34m\u001b[0m\u001b[0;34m\u001b[0m\u001b[0m\n",
      "\u001b[0;32m<ipython-input-2-1fb1dc61374d>\u001b[0m in \u001b[0;36mgetInputs\u001b[0;34m()\u001b[0m\n\u001b[1;32m      4\u001b[0m     \u001b[0myes\u001b[0m\u001b[0;34m=\u001b[0m\u001b[0;36m0\u001b[0m\u001b[0;34m\u001b[0m\u001b[0;34m\u001b[0m\u001b[0m\n\u001b[1;32m      5\u001b[0m     \u001b[0;32mwhile\u001b[0m \u001b[0myes\u001b[0m \u001b[0;34m==\u001b[0m \u001b[0;36m0\u001b[0m\u001b[0;34m:\u001b[0m\u001b[0;34m\u001b[0m\u001b[0;34m\u001b[0m\u001b[0m\n\u001b[0;32m----> 6\u001b[0;31m         \u001b[0mxnow\u001b[0m \u001b[0;34m=\u001b[0m \u001b[0minput\u001b[0m\u001b[0;34m(\u001b[0m\u001b[0;34m\"Enter Pipe Diameter \\n\"\u001b[0m\u001b[0;34m)\u001b[0m\u001b[0;34m\u001b[0m\u001b[0;34m\u001b[0m\u001b[0m\n\u001b[0m\u001b[1;32m      7\u001b[0m         \u001b[0;32mtry\u001b[0m\u001b[0;34m:\u001b[0m\u001b[0;34m\u001b[0m\u001b[0;34m\u001b[0m\u001b[0m\n\u001b[1;32m      8\u001b[0m             \u001b[0mpipe_diameter\u001b[0m \u001b[0;34m=\u001b[0m \u001b[0mfloat\u001b[0m\u001b[0;34m(\u001b[0m\u001b[0mxnow\u001b[0m\u001b[0;34m)\u001b[0m\u001b[0;34m\u001b[0m\u001b[0;34m\u001b[0m\u001b[0m\n",
      "\u001b[0;32m/opt/jupyterhub/lib/python3.8/site-packages/ipykernel/kernelbase.py\u001b[0m in \u001b[0;36mraw_input\u001b[0;34m(self, prompt)\u001b[0m\n\u001b[1;32m    855\u001b[0m         \"\"\"\n\u001b[1;32m    856\u001b[0m         \u001b[0;32mif\u001b[0m \u001b[0;32mnot\u001b[0m \u001b[0mself\u001b[0m\u001b[0;34m.\u001b[0m\u001b[0m_allow_stdin\u001b[0m\u001b[0;34m:\u001b[0m\u001b[0;34m\u001b[0m\u001b[0;34m\u001b[0m\u001b[0m\n\u001b[0;32m--> 857\u001b[0;31m             raise StdinNotImplementedError(\n\u001b[0m\u001b[1;32m    858\u001b[0m                 \u001b[0;34m\"raw_input was called, but this frontend does not support input requests.\"\u001b[0m\u001b[0;34m\u001b[0m\u001b[0;34m\u001b[0m\u001b[0m\n\u001b[1;32m    859\u001b[0m             )\n",
      "\u001b[0;31mStdinNotImplementedError\u001b[0m: raw_input was called, but this frontend does not support input requests."
     ]
    }
   ],
   "source": [
    "# ############### Supervisory Control and Output Engine #######################\n",
    "# Set Initial Values (non-null) to Allocate variable Names\n",
    "# call the interface\n",
    "getInputs()\n",
    "# call the computation engine\n",
    "discharge = jainQ(pipe_diameter,pipe_length,roughness,viscosity,grabity,head_loss)\n",
    "# Echo inputs, and outputs\n",
    "print (\"Pipe Diameter : \", pipe_diameter)\n",
    "print (\"Pipe Length : \", pipe_length)\n",
    "print (\"Pipe Roughness Height : \", roughness)\n",
    "print (\"Liquid Viscosity : \", viscosity)\n",
    "print (\"Gravitational acceleration constant : \",grabity) \n",
    "print (\"Head loss : \",head_loss)\n",
    "print (\"Discharge : \",discharge)"
   ]
  },
  {
   "cell_type": "code",
   "execution_count": null,
   "metadata": {},
   "outputs": [],
   "source": []
  }
 ],
 "metadata": {
  "kernelspec": {
   "display_name": "Python 3",
   "language": "python",
   "name": "python3"
  },
  "language_info": {
   "codemirror_mode": {
    "name": "ipython",
    "version": 3
   },
   "file_extension": ".py",
   "mimetype": "text/x-python",
   "name": "python",
   "nbconvert_exporter": "python",
   "pygments_lexer": "ipython3",
   "version": "3.8.10"
  }
 },
 "nbformat": 4,
 "nbformat_minor": 4
}