{
 "cells": [
  {
   "cell_type": "markdown",
   "metadata": {},
   "source": [
    "# Storage Systems\n",
    "\n",
    "Storage is used in water supply, storm water management, and wastewater systems for several reasons. \n",
    "\n",
    "## Scale\n",
    "\n",
    "There are several scales of storage: \n",
    "- large (water supply reservoirs, like Lake Allen Henry)\n",
    "<figure>\n",
    "<img src=\"http://54.243.252.9/ce-3372-webroot/ce3372-jb/ce3372jb/lessons/lesson07/LakeAlanHenry.png\" width=\"600\">\n",
    "<!--<img src=\"LakeAlanHenry.png\" width=\"600\">-->\n",
    "</figure>\n",
    "- moderate (Southwest Lubbock Water Treatment)\n",
    "<figure>\n",
    "<img src=\"http://54.243.252.9/ce-3372-webroot/ce3372-jb/ce3372jb/lessons/lesson07/LBB-SDWPlant.png\" width=\"500\"><!--<img src=\"LBB-SDWPlant.png\" width=\"500\">-->\n",
    "</figure>\n",
    "- localized (storage tanks)\n",
    "<figure>\n",
    "<img src=\"http://54.243.252.9/ce-3372-webroot/ce3372-jb/ce3372jb/lessons/lesson07/WaterTower.png\" width=\"400\">\n",
    "    <!--<img src=\"WaterTower.png\" width=\"400\">-->\n",
    "</figure>\n",
    "\n",
    "The large scale systems are sized using water resources management principles, which are discussed to some extent in Gupta pp. 545-548.  The usual tool is called a ripple-chart or double mass curve (same thing, different names).  In local scale an identical tool is used, but at a much different (hourly) time-scale.\n",
    "    "
   ]
  },
  {
   "cell_type": "markdown",
   "metadata": {},
   "source": [
    "---\n",
    "\n",
    "## Local Scale\n",
    "\n",
    "The remainder of this chapter will focus on the local scale systems.  At the local scale (Gupta pp. 548-553) we are concerned with three categories of storage:\n",
    "    \n",
    "**SERVICE STORAGE**  \n",
    "1. Flow equalization — generally things are designed for a particular steady flow rate and storage can be used to accommodate variable flow rates in a system. \n",
    "2. Pressure zone maintenance \n",
    "\n",
    "**EMERGENCY STORAGE**  \n",
    "1. used to provide supply during repairs and other system interrupts (except fire suppression)\n",
    "\n",
    "**FIRE STORAGE**  \n",
    "1. used to provide supply during fire fighting activities – considered seperately from emergency storage"
   ]
  },
  {
   "cell_type": "markdown",
   "metadata": {},
   "source": [
    "## Storage Systems (Types)\n",
    "\n",
    "- Surface Reservoirs\n",
    "<figure>\n",
    "<img src=\"http://54.243.252.9/ce-3372-webroot/ce3372-jb/ce3372jb/lessons/lesson07/surf-res.png\" width=\"400\">\n",
    "</figure>\n",
    "\n",
    "- Standpipes\n",
    "<figure>\n",
    "<img src=\"http://54.243.252.9/ce-3372-webroot/ce3372-jb/ce3372jb/lessons/lesson07/standpipe.png\" width=\"400\">\n",
    "</figure>\n",
    "\n",
    "- Elevated Tanks\n",
    "<figure>\n",
    "<img src=\"http://54.243.252.9/ce-3372-webroot/ce3372-jb/ce3372jb/lessons/lesson07/elev-tank.png\" width=\"400\">\n",
    "</figure>\n",
    "\n",
    "- Hydropillar (1/2)\n",
    "<figure>\n",
    "<img src=\"http://54.243.252.9/ce-3372-webroot/ce3372-jb/ce3372jb/lessons/lesson07/hydro-pillar.png\" width=\"400\">\n",
    "</figure>\n",
    "\n",
    "- Hydropillar (2/2)\n",
    "<figure>\n",
    "<img src=\"http://54.243.252.9/ce-3372-webroot/ce3372-jb/ce3372jb/lessons/lesson07/hydropillar-2.png\" width=\"400\">\n",
    "</figure>\n",
    "\n",
    "- Spheroid Tanks\n",
    "<figure>\n",
    "<img src=\"http://54.243.252.9/ce-3372-webroot/ce3372-jb/ce3372jb/lessons/lesson07/spheroid.png\" width=\"400\">\n",
    "</figure>\n",
    "\n",
    "- Standpipes (Ground Level)\n",
    "<figure>\n",
    "<img src=\"http://54.243.252.9/ce-3372-webroot/ce3372-jb/ce3372jb/lessons/lesson07/standpipe-ground.png\" width=\"400\">\n",
    "</figure>\n",
    "\n",
    "- Standpipes/Reservoirs\n",
    "<figure>\n",
    "<img src=\"http://54.243.252.9/ce-3372-webroot/ce3372-jb/ce3372jb/lessons/lesson07/standpipes-and-reservoirs.png\" width=\"400\">\n",
    "</figure>\n",
    "\n",
    "- Freshmix\n",
    "<figure>\n",
    "<img src=\"http://54.243.252.9/ce-3372-webroot/ce3372-jb/ce3372jb/lessons/lesson07/freshmix.png\" width=\"400\">\n",
    "</figure>\n",
    "\n",
    "- Composite Elevated\n",
    "<figure>\n",
    "<img src=\"http://54.243.252.9/ce-3372-webroot/ce3372-jb/ce3372jb/lessons/lesson07/composite-elevated.png\" width=\"400\">\n",
    "</figure>"
   ]
  },
  {
   "cell_type": "markdown",
   "metadata": {},
   "source": [
    "## Typical RFP and Installation\n",
    "\n",
    "<figure>\n",
    "<img src=\"http://54.243.252.9/ce-3372-webroot/ce3372-jb/ce3372jb/lessons/lesson07/typical-install.png\" width=\"400\">\n",
    "</figure>"
   ]
  },
  {
   "cell_type": "markdown",
   "metadata": {},
   "source": [
    "### Underground Installations\n",
    "<figure>\n",
    "<img src=\"http://54.243.252.9/ce-3372-webroot/ce3372-jb/ce3372jb/lessons/lesson07/underground.png\" width=\"400\">\n",
    "</figure>"
   ]
  },
  {
   "cell_type": "markdown",
   "metadata": {},
   "source": [
    "## Purposes\n",
    "\n",
    "### Equalizing or Operating Storage\n",
    "- Equalize pumping rate into reservoirs\n",
    "- Provide storage for peak demand times\n",
    "- Provide system pressure without booster pumping\n",
    "\n",
    "### Fire and Emergency\n",
    "- Pressure maintenance\n",
    "- Supply during shutdowns for repairs"
   ]
  },
  {
   "cell_type": "markdown",
   "metadata": {},
   "source": [
    "<figure>\n",
    "<img src=\"http://54.243.252.9/ce-3372-webroot/ce3372-jb/ce3372jb/lessons/lesson07/stor-compartments.png\" height=\"600\">\n",
    "</figure>\n",
    "\n",
    "### Flow-Equalization\n",
    "Flow-equalization storage is sufficient storage to account for peak\n",
    "demands in the system without having to exceed supply capacity. A desirable volume is 1-2 days of average daily demand. (cite)\n",
    "\n",
    "### Emergency \n",
    "\n",
    "Emergency storage to allow the system to operate without external supply\n",
    "sources for a period of time to allow for repairs or other unusual\n",
    "circumstances. Without emergency storage, every upset will lead to a ”boil-water” order or\n",
    "substantial interruption of service — these kinds of interruptions should be rare if the\n",
    "system is well engineered. A desirable volume is 1-2 days of average daily demand. (cite)\n",
    "\n",
    "### Fire Storage\n",
    "Fire storage is sufficient storage to allow the system to meet routine\n",
    "uses plus substantial fire flow. The desirable volume is based on expected fire flow rates multiplied by the required fire flow duration.  In most cases it is implicitly stipulated in design guidance documents (e.g. San Marcos manual) by vurtue of required hydrant flow rates.\n",
    "\n",
    "### How Much?\n",
    "Engineering would tend to choose for the larger volumes; Economics will argue for the smaller volumes. The engineer will have to balance these competing choices in a\n",
    "design.   Additionally, residence times in any storage reservoir for **TREATED** water should not exceed a reasonable amount disinfection residual contact time.\n",
    "\n",
    "- For chlorine/chloramine disinfection time is on the order of 6-10 days\n",
    "- Hydraulic retention time of any such reservoir should be no longer than 8 days (as a reasonable rule of thumb).\n",
    "\n",
    "**Hydraulic retention time (HRT)** is the ratio of storage volume to\n",
    "average discharge through the reservoir;\n",
    "\n",
    "$$ HRT = \\frac{V_{tank}}{Q_{avg. daily}} $$"
   ]
  },
  {
   "cell_type": "markdown",
   "metadata": {},
   "source": [
    "## OPERATING STORAGE\n",
    "\n",
    "- Determine hourly demand for design day\n",
    "- Calculate cumulative draft\n",
    "- Plot cumulative draft vs. time (24 hr)\n",
    "- Draw diagonal line representing constant pumping\n",
    "- Read required storage as sum of two maximum ordinates"
   ]
  },
  {
   "cell_type": "markdown",
   "metadata": {},
   "source": [
    "<figure>\n",
    "<img src=\"http://54.243.252.9/ce-3372-webroot/ce3372-jb/ce3372jb/lessons/lesson07/mass-flow-diagram-one.png\" height=\"400\">\n",
    "</figure>"
   ]
  },
  {
   "cell_type": "markdown",
   "metadata": {},
   "source": [
    "<figure>\n",
    "<img src=\"http://54.243.252.9/ce-3372-webroot/ce3372-jb/ce3372jb/lessons/lesson07/mass-flow-12hour.png\" height=\"400\">\n",
    "</figure>"
   ]
  },
  {
   "cell_type": "markdown",
   "metadata": {},
   "source": [
    "<figure>\n",
    "<img src=\"http://54.243.252.9/ce-3372-webroot/ce3372-jb/ce3372jb/lessons/lesson07/MF-spreadsheet-1.png\" height=\"500\">\n",
    "</figure>\n",
    "\n",
    "<figure>\n",
    "<img src=\"http://54.243.252.9/ce-3372-webroot/ce3372-jb/ce3372jb/lessons/lesson07/MF-spreadsheet-2.png\" height=\"500\">\n",
    "</figure>\n",
    "\n",
    "<figure>\n",
    "<img src=\"http://54.243.252.9/ce-3372-webroot/ce3372-jb/ce3372jb/lessons/lesson07/MF-spreadsheet-3.png\" height=\"500\">\n",
    "</figure>"
   ]
  },
  {
   "cell_type": "markdown",
   "metadata": {},
   "source": [
    "## References\n",
    "1. Gupta, R. S. 2017. Hydrology and Hydraulic Systems. Waveland Press, Inc. pp. 545-553\n",
    "\n",
    "2. Roberson, J.A., Cassidy, J.J., and Chaudry, M.H. (1988) Closed Conduits in \"Hydraulic Engineering.\" \n",
    "Houghton Mifflin Co. pp. 240-310 [http://54.243.252.9/ce-3372-webroot/3-Readings/Chapter5/](http://54.243.252.9/ce-3372-webroot/3-Readings/Chapter5/)\n",
    "\n",
    "\n",
    "3. Chin, D. (2006). pp. 10-26 in \"Water Resources Engineering, 2 ed.\" Prentice Hall, Inc. [http://54.243.252.9/ce-3372-webroot/3-Readings/Chin_10-26/](http://54.243.252.9/ce-3372-webroot/3-Readings/Chin_10-26/)\n",
    "\n",
    "\n",
    "4. Notes on Hydraulics  Work in progress -- largely replicates content in \"Closed Conduit Flow\" with some extensions\n",
    "[http://54.243.252.9/ce-3372-webroot/3-Readings/HydraulicsNotes/](http://54.243.252.9/ce-3372-webroot/3-Readings/HydraulicsNotes/)\n",
    "\n",
    "5. \"Water Distribution Systems\" in Land Development Handbook, Ed. S.O. Dewberry, Dewberry Inc., McGraw-Hill\n",
    "[http://54.243.252.9/ce-3372-webroot/3-Readings/WaterDistributionSystems/](http://54.243.252.9/ce-3372-webroot/3-Readings/WaterDistributionSystems/)"
   ]
  },
  {
   "cell_type": "code",
   "execution_count": null,
   "metadata": {},
   "outputs": [],
   "source": []
  }
 ],
 "metadata": {
  "kernelspec": {
   "display_name": "Python 3",
   "language": "python",
   "name": "python3"
  },
  "language_info": {
   "codemirror_mode": {
    "name": "ipython",
    "version": 3
   },
   "file_extension": ".py",
   "mimetype": "text/x-python",
   "name": "python",
   "nbconvert_exporter": "python",
   "pygments_lexer": "ipython3",
   "version": "3.8.10"
  }
 },
 "nbformat": 4,
 "nbformat_minor": 4
}