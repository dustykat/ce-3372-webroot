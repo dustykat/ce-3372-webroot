{
 "cells": [
  {
   "cell_type": "markdown",
   "metadata": {},
   "source": [
    "# Drinking Water Design Guidelines\n",
    "\n",
    "Placeholder"
   ]
  },
  {
   "cell_type": "markdown",
   "metadata": {},
   "source": [
    "## Design Concepts\n",
    ":::{Note}\n",
    "Design generalities are paraphrased from [] and [].\n",
    ":::\n",
    "\n",
    "- Design is the management of constraints.  \n",
    "> - **Non-negotiable** constraints are dictated by laws of physics, chemistry (and to some extent \n",
    "mankind); examples of these are: water flows downhill unless power (lift station) and \n",
    "money (capital cost to build, operation cost to pay for electricity to run pumps) are \n",
    "applied; Chemical disinfection residual will decay over time unless replenished; this \n",
    "constraint encourages using treated water relatively quickly. \n",
    "> - **Negotiable constraints** are the design variables that can be adjusted to satisfy the non-\n",
    "negotiable constraints and the desired system performance; the main components of this \n",
    "category are money to pay for things, time to build (and operate), aesthetics (pipe \n",
    "alignment/channel geometry); system performance under various anticipated conditions. "
   ]
  },
  {
   "cell_type": "markdown",
   "metadata": {},
   "source": [
    "---\n",
    "\n",
    "The water system designer's goal is to satisfy a need (some level of \n",
    "performance) by manipulating the negotiable constraints. \n",
    "> - Analytical tools (models) are used to test the design before committing to an actual build (presumably so that full-scale experiment fails are avoided). \n",
    "\n",
    "Design guidelines are encapsulated in \n",
    "> - regulatory documents,\n",
    "> - design manuals, \n",
    "> - professional literature, \n",
    "> - and manufacturer's literature \n",
    "\n",
    "These guidelines collectively represent centuries of observation and experimentation (and a lot of failures); the value is that they generally work, and reduce commercial risk for routine water \n",
    "system components."
   ]
  },
  {
   "cell_type": "markdown",
   "metadata": {},
   "source": [
    "---\n",
    "\n",
    "Four basic questions in water distribution design are: \n",
    "> 1. How much water will be used? \n",
    "> 2. Where are the water supply locations? \n",
    "> 3. Where are the water consumption locations? \n",
    "> 4. What is the water use as a function of time? "
   ]
  },
  {
   "cell_type": "markdown",
   "metadata": {},
   "source": [
    "---\n",
    "### How Much Water?\n",
    "This question is related to the demand for water.\n",
    "\n",
    "> When designing new systems, calculating demands is not a straightforward process. \n",
    "The designer needs to know the expected demands, possible fire demands, and future expansions.  \n",
    "\n",
    "There are some publications that provide average demands for residential,commercial facilities, and production/industrial facilities. \n",
    "\n",
    ":::{note}\n",
    "Finding/building a modern database of such information would be a good data science \n",
    "project (ENGR 1330) \n",
    ":::\n",
    "\n",
    "Different demands that need to be accounted for: \n",
    "1. Customer demand: Average use needed to meet non-emergency needs. \n",
    "2. Fire flow demand:  The computed system capacity required for ensuring minimum fire protection while maintaining a minimum working pressure in the system. This demand is often stipulated in municipal design guidelines either explicitly or by virtue of fire hydrant location and spacing and flowrate/hydrant\n",
    "3. Ultimate expansion of the system (forecast the future)"
   ]
  },
  {
   "cell_type": "markdown",
   "metadata": {},
   "source": [
    "---\n",
    "\n",
    "Water distribution systems convey water from a **source** to a customer. \n",
    "\n",
    "\n",
    "> Ground water: Series of municipal wells usually requiring chemical treatment, at least to the extent of chlorinating (disinfecting). <br>\n",
    "Surface water: Drawn from lakes or rivers just below the surface. Ocean-desalination plants on or near coastal regions. <br>\n",
    "Precipitation: Large municipal reservoirs collecting rain runoff and snowmelt (rainwater harvesting). "
   ]
  },
  {
   "cell_type": "markdown",
   "metadata": {},
   "source": [
    "---\n",
    "\n",
    "### Transmission and Distribution Mains \n",
    "\n",
    "**Transmission lines** are conduits that carry large volumes of water, great distances, such as between a treatment plant and local storage facilities.  \n",
    "**Distribution lines** are smaller pipes including valves, hydrants, fittings, and appurtenances, that deliver treated potable water to the customers. \n",
    "\n",
    "### Distribution System Types\n",
    "\n",
    "![](system-type.png)"
   ]
  },
  {
   "cell_type": "markdown",
   "metadata": {},
   "source": [
    "---\n",
    "\n",
    "#### LOOPED SYSTEM FEATURES \n",
    "Advantages: \n",
    "\n",
    "- Fluid velocities are lower, reducing head losses, resulting in greater capacity. \n",
    "- Main breaks can be isolated to minimize loss of service to customers. \n",
    "- Fire protection is greater due to greater capacity and ability to isolate breaks.   \n",
    "- Looped systems usually provide better residual chlorine content due to inline mixing and fewer dead ends. \n",
    "\n",
    "Disadvantages: \n",
    "- Looped systems generally cost more because there are pipes that become inadvertently redundant in order to create the loops. "
   ]
  },
  {
   "cell_type": "markdown",
   "metadata": {},
   "source": [
    "---\n",
    "\n",
    "#### BRANCHED SYSTEM FEATURES \n",
    "Advantages: \n",
    "\n",
    "- Lower costs: Avoiding construction of pipes and appurtenances just to create a looped system reduces the cost. \n",
    "- In smaller rural communities, branched systems may be the only type that is feasible, logistically and monetarily. \n",
    "\n",
    "Disadvantages: \n",
    "\n",
    "- Main breaks take all downstream customers out of service. \n",
    "- Branched systems cause poor chlorine residuals in low demand areas and may require periodic flushing of hydrants in order to pull chlorinated water into the system. \n",
    "- Velocities are faster, head losses greater and capacity reduced especially during high demand. \n",
    "- Fire protection is at risk due to inability to isolate a break."
   ]
  },
  {
   "cell_type": "markdown",
   "metadata": {},
   "source": [
    "#### REGULATORY GUIDANCE DOCUMENTS \n",
    "Regulatory guidance documents are a principal tool in system design, along \n",
    "with the designers creativity, and the owners access to right-of-way. \n",
    "> - The U.S. EPA (Environmental Protection Agency) writes federal regulations for \n",
    "construction, maintenance, treatment and operation of potable water facilities.  \n",
    "> - State’s EPAs(or equivalents) are charged with regulating the standards and \n",
    "permitting. States may write more stringent regulations if they do not violate \n",
    "the intent of the federal code. The various documents are precise, but teduous. "
   ]
  },
  {
   "cell_type": "markdown",
   "metadata": {},
   "source": [
    "#### RG-195 Texas Drinking Water Systems Guidelines\n",
    "\n",
    "![](rg195-cover.png)\n",
    "\n",
    "A collection of relevant guidelines for use in Texas are contained in the document [http://54.243.252.9/ce-3372-webroot/3-Readings/Texas-RG-195/rg-195.pdf](http://54.243.252.9/ce-3372-webroot/3-Readings/Texas-RG-195/rg-195.pdf)\n",
    "\n"
   ]
  },
  {
   "cell_type": "markdown",
   "metadata": {},
   "source": [
    "---\n",
    "\n",
    "#### Representative Regulations\n",
    "\n",
    "> *Visit each jurisdiction's website for current design guidance!*  The contents change from time to time - some the copies referenced here are over a decade old; they are fine for use in this class but not for actual engineering design.  As examples consider: <br>\n",
    ">> [Washington State Water System Manual 2009](http://54.243.252.9/ce-3372-webroot/3-Readings/WashingtonWaterSystemDesignManual2009/WashingtonWaterSystemDesignManual2009.pdf)<br>\n",
    "> [Washington State Water System Manual 2018](http://54.243.252.9/ce-3372-webroot/3-Readings/WashingtonWaterSystemDesignManual2018/WashingtonWaterSystemDesignManual2018.pdf)\n",
    "\n",
    "Here are a few Texas cities as examples \n",
    "\n",
    "[City of Houston](http://54.243.252.9/ce-3372-webroot/3-Readings/HoustonDesignManual/Houston.idm.pdf) manual \n",
    "\n",
    "[City of Lubbock](http://54.243.252.9/ce-3372-webroot/3-Readings/LubbockTexasDesignManual/LubbockTexasDesignManual.pdf) manual\n",
    "\n",
    "[City of San Marcos](http://54.243.252.9/ce-3372-webroot/3-Readings/SanMarcosTexasDesignManual/SanMarcosTexasDesignManual.pdf) manual.  *I specify this one for your homework assignments, because it is not too long, so things are easy for you to find*  \n",
    "\n",
    "Use the manual for the locality of your project!"
   ]
  },
  {
   "cell_type": "markdown",
   "metadata": {},
   "source": [
    "---\n",
    "\n",
    "#### Professional Literature\n",
    "\n",
    "![](professional-literature.png)\n",
    "\n",
    "For unusual situations the designer will likely have to visit the professional literature for guidance  \n",
    "> Order of preference for a designer will be:\n",
    "> - a manual of practice, \n",
    "> - vendor literature, \n",
    "> - and finally the academic literature.  \n",
    "\n",
    "A manual of practice or even vendor literature is preferred over the academic literature simply because of a perception that the technologies are proven in these documents (proven in the litigation sense). "
   ]
  },
  {
   "cell_type": "markdown",
   "metadata": {},
   "source": [
    "---\n",
    "\n",
    "### Project Layout \n",
    "Notice that most of the manuals spend considerable space explaining how \n",
    "drawings are to be submitted for approval.  The actual layout is flexible (within right-of-way) and up to the hydraulic \n",
    "engineer to some extent. \n",
    "\n",
    "A designer would typically use some version of the following protocol to design a new \n",
    "water distribution system: \n",
    "\n",
    "1. Set up the distribution system grid on the area plan. Aerial photo plots to scale are excellent tools \n",
    "2. Allocate average daily demands at nodes; \n",
    "3. Determine the peak factors; \n",
    "4. Estimate fire demands; \n",
    "5. Project demands for future expansion of the service areas. \n",
    "\n",
    "A node is considered a junction point in a system where a \n",
    "demand can be attributed/assigned.  \n",
    "> Models use the nodes to calculate the system demands, \n",
    "pressures, water quality, and velocity.  These items are usually prescribed in guidance documents \n",
    "with minimum/maximum acceptable values.\n",
    "\n",
    "Models are used to test the design before commiting to a real-world build.\n",
    "\n",
    ">The practical design of a water system without the use of water distribution modeling software is possible, but requires a logical, economical approach of laying out the \n",
    "system (and some roll your own calculations). \n",
    "\n",
    "Professional quality software is inexpensive (free) so there is really no good reason to design a system without using a hydraulic model - hence the guidance documents almost expect a model.\n",
    "\n",
    "Commercial value-added software is usually far easier for a designer to use and integrated into other design tools, but is computationally about the same as free software \n",
    "> A designer should use commercial software when it is available to them, the time savings can more than justify the license costs. "
   ]
  },
  {
   "cell_type": "markdown",
   "metadata": {},
   "source": [
    "### Existing Data\n",
    "\n",
    "The designer will need reliable sources to determine **demands**.  \n",
    "- Obviously a discussion with the owners is critical but the actual quantities will have to be calculated for a design situation.  \n",
    "- A land use plan or zoning map will help to determine the future demands. \n",
    "\n",
    "The demands need to be compiled and situated on an area map. \n",
    "- Once complete this map can help determine node locations and pipe diameter for the system schematic \n",
    "\n",
    "**PIPE DIAMETER**\n",
    "- The selected pipe diameters affect system hydraulics. \n",
    "- The trench is the biggest cost, and the hydraulics should be used to set adequate pipe sizes.  \n",
    "- Designers need to determine the proper pipe size in order to meet peak demands and fire protection while maintaining an adequate dynamic pressure in the system. \n",
    "\n",
    "**PRESSURE ZONES** \n",
    "- Pressure zones are set up to regulate pressure in locations where large grade changes will create too much pressure at the lower end of the system and not enough pressure in the higher ends. \n",
    "- More than an 80 feet differential will require a pressure zone. \n",
    "- In areas of even larger grade differentials, such as hill country or mountain communities, several consecutive pressure zones may be needed. \n",
    "\n",
    "The following equations can assist in determining the HGLs \n",
    "for the pressure zones. \n",
    "\n",
    "$HGL_{min}$ = Highest Elevation + (2.31x Minimum Working Pressure)  \n",
    "$HGL_{max}$ = Lowest Elevation + (2.31x Maximum Working Pressure) \n"
   ]
  },
  {
   "cell_type": "code",
   "execution_count": 1,
   "metadata": {},
   "outputs": [
    {
     "name": "stdout",
     "output_type": "stream",
     "text": [
      "164.3\n",
      "212.9\n"
     ]
    }
   ],
   "source": [
    "\n",
    "def hglmin(pressure,elevation):\n",
    "    hglmin = elevation+2.31*pressure\n",
    "    return(hglmin)\n",
    "    \n",
    "def hglmax(pressure,elevation):\n",
    "    hglmax = elevation+2.31*pressure\n",
    "    return(hglmax)\n",
    "    \n",
    "pmin = 30 # pressure in psi (about 2 atm)\n",
    "pmax = 90 # pressure in psi (about 6 atm)\n",
    "emin = 5 # low elevation in feet\n",
    "emax = 95 # high elevation in feet\n",
    "\n",
    "print(hglmin(pmin,emax))\n",
    "print(hglmax(pmax,emin))\n"
   ]
  },
  {
   "cell_type": "markdown",
   "metadata": {},
   "source": [
    "**JUNCTION LOCATION AND ELEVATION**\n",
    "\n",
    "- Location of junctions will depend more upon the planned layout of the project site than the affect they will have upon the hydraulic model.  \n",
    "- In general grid distribution node locations have little affect upon the overall model since there are customer demands along the real system between nodes. Node locations and their elevations are more relative in large transmission mains.  \n",
    "- Nodes generally should be placed at the lowest elevation of a looped system where the grades uctuate signicantly. \n",
    "\n",
    "**MATERIALS**\n",
    "\n",
    "- The pipe materials will effect system performance.  \n",
    "- Water distribution systems are built from ductile iron pipe, ABS, PVC, and HDPE.  \n",
    "- All are good materials for specific applications and various fittings to join different materials are available. \n",
    "- Different jurisdictions may specify specific materials; the designer needs to read the guidance document for the specific locale. \n"
   ]
  },
  {
   "cell_type": "markdown",
   "metadata": {},
   "source": [
    "\n",
    "\n"
   ]
  },
  {
   "cell_type": "markdown",
   "metadata": {},
   "source": [
    "---\n",
    "\n",
    "## Readings\n",
    "1. TCEQ (2012) Rules and Regulations for Public Water Systems, Publication RG-195 [http://54.243.252.9/ce-3372-webroot/3-Readings/Texas-RG-195/rg-195.pdf](http://54.243.252.9/ce-3372-webroot/3-Readings/Texas-RG-195/rg-195.pdf)\n",
    "\n",
    "2. Krueger D. W., and Smitha C. W. (2012) Infrastructure Design Manual, City of Houston, Department of Public Works and Engineering [http://54.243.252.9/ce-3372-webroot/3-Readings/HoustonDesignManual/Houston.idm.pdf](http://54.243.252.9/ce-3372-webroot/3-Readings/HoustonDesignManual/Houston.idm.pdf)\n",
    "\n",
    "3. City of Lubbock (2018) Minimum Design Standards and Specifications, City of Lubbock Engineering. [http://54.243.252.9/ce-3372-webroot/3-Readings/LubbockTexasDesignManual/LubbockTexasDesignManual.pdf](http://54.243.252.9/ce-3372-webroot/3-Readings/LubbockTexasDesignManual/LubbockTexasDesignManual.pdf)\n",
    "\n",
    "4. City of San Marcos, Texas (2019) WATER DISTRIBUTION SYSTEM DESIGN CRITERIA TECHNICAL MANUAL[http://54.243.252.9/ce-3372-webroot/3-Readings/SanMarcosTexasDesignManual/SanMarcosTexasDesignManual.pdf](http://54.243.252.9/ce-3372-webroot/3-Readings/SanMarcosTexasDesignManual/SanMarcosTexasDesignManual.pdf)\n",
    "\n",
    "<!-- Introduction to Water Resources Engineering Pages 1-33 from Wurbs,R.A., and James, W.P. (2002) Water Resources Engineering, Prentice Hall. [http://54.243.252.9/ce-3372-webroot/3-Readings/Wurbs1-33/](http://54.243.252.9/ce-3372-webroot/3-Readings/Wurbs1-33/Wurbs1-33.pdf)\n",
    "\n",
    "Introduction to Water Resources Engineeirng Pages 1-11 from Mays, L.W. (2011) Water Resources Engineering, J. Wiley and Sons.[http://54.243.252.9/ce-3372-webroot/3-Readings/Mays1-11/](http://54.243.252.9/ce-3372-webroot/3-Readings/Mays1-11/Mays1-11.pdf)\n",
    "\n",
    "Introduction to Water Resources Engineering Pages 1-8 from Chin, D. A. (2006) Water-Resources Engineering, Pearson-Prentice Hall. [http://54.243.252.9/ce-3372-webroot/3-Readings/Chin1-8/](http://54.243.252.9/ce-3372-webroot/3-Readings/Chin1-8/Chin1-8.pdf) -->"
   ]
  },
  {
   "cell_type": "code",
   "execution_count": null,
   "metadata": {},
   "outputs": [],
   "source": []
  }
 ],
 "metadata": {
  "kernelspec": {
   "display_name": "Python 3",
   "language": "python",
   "name": "python3"
  },
  "language_info": {
   "codemirror_mode": {
    "name": "ipython",
    "version": 3
   },
   "file_extension": ".py",
   "mimetype": "text/x-python",
   "name": "python",
   "nbconvert_exporter": "python",
   "pygments_lexer": "ipython3",
   "version": "3.8.10"
  }
 },
 "nbformat": 4,
 "nbformat_minor": 4
}