{
 "cells": [
  {
   "cell_type": "markdown",
   "metadata": {},
   "source": [
    "# Lesson 3. Demand Estimation\n",
    "\n",
    "The need to estimate demand is required to size water systems to meet some purpose, or establish that the particular system is infeasible.\n",
    "\n",
    "The purposes can include:\n",
    "\n",
    "- Municipal uses (drinking water, fire suppression, commercial use, ...)\n",
    "- Industrial use (separate from municipal)\n",
    "- Agriculture use\n",
    "- Waste Assimilation use\n",
    "- Navigation uses (outside scope this course)\n",
    "\n",
    "A simple relationship establishes municipal requirements:\n",
    "\n",
    "$$ Vl_{required} = P_{t+\\Delta t} \\times U_{per person}$$\n",
    "\n",
    "where $V$ is the volume required, $P$ is the population, $U$ is the per person usage.\n",
    "\n",
    "Thus the two components required to estimate demand is how any people have to be supplied, and how much each person uses.\n"
   ]
  },
  {
   "cell_type": "markdown",
   "metadata": {},
   "source": [
    "## Population Models\n"
   ]
  },
  {
   "cell_type": "code",
   "execution_count": null,
   "metadata": {},
   "outputs": [],
   "source": []
  },
  {
   "cell_type": "markdown",
   "metadata": {},
   "source": [
    "## Temporal Variation"
   ]
  },
  {
   "cell_type": "code",
   "execution_count": null,
   "metadata": {},
   "outputs": [],
   "source": []
  },
  {
   "cell_type": "markdown",
   "metadata": {},
   "source": [
    "## Readings\n",
    "\n",
    "1. Gupta, R. S. 2017. Hydrology and Hydraulic Systems. Waveland Press, Inc. pp 1-19 [http://54.243.252.9/ce-3372-webroot/3-Readings/WaterDemand-Gupta.pdf](http://54.243.252.9/ce-3372-webroot/3-Readings/WaterDemand-Gupta.pdf)\n",
    "\n",
    "2. Nickerson G. 2008. \"Water Distribution Systems\" in Land Development Handbook, Ed. S.O. Dewberry, Dewberry Inc., McGraw-Hill [http://54.243.252.9/ce-3372-webroot/3-Readings/water-distribution.pdf](http://54.243.252.9/ce-3372-webroot/3-Readings/water-distribution.pdf)\n"
   ]
  },
  {
   "cell_type": "code",
   "execution_count": null,
   "metadata": {},
   "outputs": [],
   "source": []
  }
 ],
 "metadata": {
  "kernelspec": {
   "display_name": "Python 3",
   "language": "python",
   "name": "python3"
  },
  "language_info": {
   "codemirror_mode": {
    "name": "ipython",
    "version": 3
   },
   "file_extension": ".py",
   "mimetype": "text/x-python",
   "name": "python",
   "nbconvert_exporter": "python",
   "pygments_lexer": "ipython3",
   "version": "3.8.10"
  }
 },
 "nbformat": 4,
 "nbformat_minor": 4
}