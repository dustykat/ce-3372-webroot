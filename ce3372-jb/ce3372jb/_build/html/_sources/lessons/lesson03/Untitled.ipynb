{
 "cells": [
  {
   "cell_type": "code",
   "execution_count": 15,
   "metadata": {},
   "outputs": [],
   "source": [
    "# Define the prototype function\n",
    "from math import log,sqrt\n",
    "def jainQ(pipe_diameter,pipe_length,roughness,viscosity,grabity,head_loss):\n",
    "    egl_slope = head_loss/pipe_length\n",
    "    t1 = sqrt(grabity*pipe_diameter*egl_slope)\n",
    "    t2 = roughness/(3.7*pipe_diameter)\n",
    "    t3 = 1.78*viscosity\n",
    "    jainQ = (-0.965*pipe_diameter**2)*t1*log(t2 + t3/(pipe_diameter*t1))\n",
    "    return jainQ"
   ]
  },
  {
   "cell_type": "code",
   "execution_count": 12,
   "metadata": {},
   "outputs": [],
   "source": [
    "def getInputs():\n",
    "    global pipe_diameter,pipe_length,roughness,viscosity,grabity,head_loss\n",
    "# Get pipe diameter, use a simple error trap\n",
    "    yes=0\n",
    "    while yes == 0:\n",
    "        xnow = input(\"Enter Pipe Diameter \\n\")\n",
    "        try:\n",
    "            pipe_diameter = float(xnow)\n",
    "            yes =1\n",
    "        except:\n",
    "            print (\"Value should be numeric, try again \\n\")\n",
    "# Get pipe length, use a simple error trap\n",
    "    yes=0\n",
    "    while yes == 0:\n",
    "        xnow = input(\"Enter Pipe Length \\n\")\n",
    "        try:\n",
    "            pipe_length = float(xnow)\n",
    "            yes =1\n",
    "        except:\n",
    "            print (\"Value should be numeric, try again \\n\")\n",
    "# Get roughness, use a simple error trap\n",
    "    yes=0\n",
    "    while yes == 0:\n",
    "        xnow = input(\"Enter Pipe Roughness Height \\n\")\n",
    "        try:\n",
    "            roughness = float(xnow)\n",
    "            yes =1\n",
    "        except:\n",
    "            print (\"Value should be numeric, try again \\n\")\n",
    "# Get viscosity, use a simple error trap\n",
    "    yes=0\n",
    "    while yes == 0:\n",
    "        xnow = input(\"Enter liquid viscosity \\n\")\n",
    "        try:\n",
    "            viscosity = float(xnow)\n",
    "            yes =1\n",
    "        except:\n",
    "            print (\"Value should be numeric, try again \\n\")\n",
    "# Get grabity, use a simple error trap\n",
    "    yes=0\n",
    "    while yes == 0:\n",
    "        xnow = input(\"Enter gravitational acceleration constant (unit system appropriate) \\n\")\n",
    "        try:\n",
    "            grabity = float(xnow)\n",
    "            yes =1\n",
    "        except:\n",
    "            print (\"Value should be numeric, try again \\n\")\n",
    "# Get head loss, use a simple error trap\n",
    "    yes=0\n",
    "    while yes == 0:\n",
    "        xnow = input(\"Enter head loss \\n\")\n",
    "        try:\n",
    "            head_loss = float(xnow)\n",
    "            yes =1\n",
    "        except:\n",
    "            print (\"Value should be numeric, try again \\n\")\n",
    "    return()"
   ]
  },
  {
   "cell_type": "code",
   "execution_count": 18,
   "metadata": {},
   "outputs": [
    {
     "name": "stdin",
     "output_type": "stream",
     "text": [
      "Enter Pipe Diameter \n",
      " 0.042\n",
      "Enter Pipe Length \n",
      " 80\n",
      "Enter Pipe Roughness Height \n",
      " 0.00015\n",
      "Enter liquid viscosity \n",
      " 3e-5\n",
      "Enter gravitational acceleration constant (unit system appropriate) \n",
      " 32.2\n",
      "Enter head loss \n",
      " 40\n"
     ]
    },
    {
     "name": "stdout",
     "output_type": "stream",
     "text": [
      "Pipe Diameter :  0.042\n",
      "Pipe Length :  80.0\n",
      "Pipe Roughness Height :  0.00015\n",
      "Liquid Viscosity :  3e-05\n",
      "Gravitational acceleration constant :  32.2\n",
      "Head loss :  40.0\n",
      "Discharge :  0.008380429012373408\n"
     ]
    }
   ],
   "source": [
    "# ############### Supervisory Control and Output Engine #######################\n",
    "# Set Initial Values (non-null) to Allocate variable Names\n",
    "# call the interface\n",
    "getInputs()\n",
    "# call the computation engine\n",
    "discharge = jainQ(pipe_diameter,pipe_length,roughness,viscosity,grabity,head_loss)\n",
    "# Echo inputs, and outputs\n",
    "print (\"Pipe Diameter : \", pipe_diameter)\n",
    "print (\"Pipe Length : \", pipe_length)\n",
    "print (\"Pipe Roughness Height : \", roughness)\n",
    "print (\"Liquid Viscosity : \", viscosity)\n",
    "print (\"Gravitational acceleration constant : \",grabity) \n",
    "print (\"Head loss : \",head_loss)\n",
    "print (\"Discharge : \",discharge)"
   ]
  },
  {
   "cell_type": "code",
   "execution_count": null,
   "metadata": {},
   "outputs": [],
   "source": []
  }
 ],
 "metadata": {
  "kernelspec": {
   "display_name": "Python 3",
   "language": "python",
   "name": "python3"
  },
  "language_info": {
   "codemirror_mode": {
    "name": "ipython",
    "version": 3
   },
   "file_extension": ".py",
   "mimetype": "text/x-python",
   "name": "python",
   "nbconvert_exporter": "python",
   "pygments_lexer": "ipython3",
   "version": "3.8.10"
  }
 },
 "nbformat": 4,
 "nbformat_minor": 4
}
