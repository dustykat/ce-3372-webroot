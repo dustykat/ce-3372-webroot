{
 "cells": [
  {
   "cell_type": "markdown",
   "metadata": {},
   "source": [
    "# Lesson 7. Storage Systems\n",
    "\n",
    "Storage is used in water supply, storm water management, and wastewater systems for several reasons. \n",
    "\n",
    "## Scale\n",
    "\n",
    "There are several scales of storage: \n",
    "- large (water supply reservoirs, like Lake Allen Henry)\n",
    "<figure>\n",
    "<img src=\"http://54.243.252.9/ce-3372-webroot/ce3372-jb/ce3372jb/lessons/lesson07/LakeAlanHenry.png\" width=\"600\">\n",
    "<!--<img src=\"LakeAlanHenry.png\" width=\"600\">-->\n",
    "</figure>\n",
    "- moderate (Southwest Lubbock Water Treatment)\n",
    "<figure>\n",
    "<img src=\"http://54.243.252.9/ce-3372-webroot/ce3372-jb/ce3372jb/lessons/lesson07/LBB-SDWPlant.png\" width=\"500\"><!--<img src=\"LBB-SDWPlant.png\" width=\"500\">-->\n",
    "</figure>\n",
    "- localized (storage tanks)\n",
    "<figure>\n",
    "<img src=\"http://54.243.252.9/ce-3372-webroot/ce3372-jb/ce3372jb/lessons/lesson07/WaterTower.png\" width=\"400\">\n",
    "    <!--<img src=\"WaterTower.png\" width=\"400\">-->\n",
    "</figure>\n",
    "\n",
    "The large scale systems are sized using water resources management principles, which are discussed to some extent in Gupta pp. 545-548.  The usual tool is called a ripple-chart or double mass curve (same thing, different names).  In local scale an identical tool is used, but at a much different (hourly) time-scale.\n",
    "    "
   ]
  },
  {
   "cell_type": "markdown",
   "metadata": {},
   "source": [
    "---\n",
    "\n",
    "## Local Scale\n",
    "\n",
    "The remainder of this chapter will focus on the local scale systems.  At the local scale (Gupta pp. 548-553) we are concerned with three categories of storage:\n",
    "    \n",
    "**SERVICE STORAGE**  \n",
    "1. Flow equalization — generally things are designed for a particular steady flow rate and storage can be used to accommodate variable flow rates in a system. \n",
    "2. Pressure zone maintenance \n",
    "\n",
    "**EMERGENCY STORAGE**  \n",
    "1. used to provide supply during repairs and other system interrupts (except fire suppression)\n",
    "\n",
    "**FIRE STORAGE**  \n",
    "1. used to provide supply during fire fighting activities – considered seperately from emergency storage"
   ]
  },
  {
   "cell_type": "markdown",
   "metadata": {},
   "source": []
  },
  {
   "cell_type": "markdown",
   "metadata": {},
   "source": [
    "## References\n",
    "1. Gupta, R. S. 2017. Hydrology and Hydraulic Systems. Waveland Press, Inc. pp. 545-553\n",
    "\n",
    "2. Roberson, J.A., Cassidy, J.J., and Chaudry, M.H. (1988) Closed Conduits in \"Hydraulic Engineering.\" \n",
    "Houghton Mifflin Co. pp. 240-310 [http://54.243.252.9/ce-3372-webroot/3-Readings/Chapter5/](http://54.243.252.9/ce-3372-webroot/3-Readings/Chapter5/)\n",
    "\n",
    "\n",
    "3. Chin, D. (2006). pp. 10-26 in \"Water Resources Engineering, 2 ed.\" Prentice Hall, Inc. [http://54.243.252.9/ce-3372-webroot/3-Readings/Chin_10-26/](http://54.243.252.9/ce-3372-webroot/3-Readings/Chin_10-26/)\n",
    "\n",
    "\n",
    "4. Notes on Hydraulics  Work in progress -- largely replicates content in \"Closed Conduit Flow\" with some extensions\n",
    "[http://54.243.252.9/ce-3372-webroot/3-Readings/HydraulicsNotes/](http://54.243.252.9/ce-3372-webroot/3-Readings/HydraulicsNotes/)\n",
    "\n",
    "5. \"Water Distribution Systems\" in Land Development Handbook, Ed. S.O. Dewberry, Dewberry Inc., McGraw-Hill\n",
    "[http://54.243.252.9/ce-3372-webroot/3-Readings/WaterDistributionSystems/](http://54.243.252.9/ce-3372-webroot/3-Readings/WaterDistributionSystems/)"
   ]
  },
  {
   "cell_type": "code",
   "execution_count": null,
   "metadata": {},
   "outputs": [],
   "source": []
  }
 ],
 "metadata": {
  "kernelspec": {
   "display_name": "Python 3",
   "language": "python",
   "name": "python3"
  },
  "language_info": {
   "codemirror_mode": {
    "name": "ipython",
    "version": 3
   },
   "file_extension": ".py",
   "mimetype": "text/x-python",
   "name": "python",
   "nbconvert_exporter": "python",
   "pygments_lexer": "ipython3",
   "version": "3.8.10"
  }
 },
 "nbformat": 4,
 "nbformat_minor": 4
}
