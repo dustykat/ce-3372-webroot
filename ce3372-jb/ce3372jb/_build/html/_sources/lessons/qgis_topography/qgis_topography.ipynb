{
 "cells": [
  {
   "cell_type": "markdown",
   "metadata": {},
   "source": [
    "# QGIS \n"
   ]
  },
  {
   "cell_type": "markdown",
   "metadata": {},
   "source": [
    ":::{admonition} Course Website\n",
    "[link to webster](http://54.243.252.9/ce-3372-webroot/)\n",
    ":::\n",
    "\n",
    "Introduction to QGIS for water systems related mapping and analysis."
   ]
  },
  {
   "cell_type": "markdown",
   "metadata": {},
   "source": [
    "<hr>\n",
    "\n",
    "## Readings\n",
    "\n",
    "1. [Baraka, M. 2024, Watershed Delineation in QGIS: A Summary Guide](http://54.243.252.9/ce-5361-webroot/3-Readings/Hydrology_GIS_part1.pdf)\n",
    "1. [Brutsaert, W., 2005, Hydrology: An Introduction. Cambridge University Press](https://www.amazon.com/Hydrology-Introduction-Wilfried-Brutsaert/dp/0521824796/ref=sr_1_1?crid=26239UVBUDNRC&keywords=hydrology+an+introduction+brusehart&qid=1697843874&sprefix=hydrology+an+introduction+brusehart%2Caps%2C84&sr=8-1)\n",
    "2. [Chow, V.T., Maidment, D.R., Mays, L.W., 1988, Applied Hydrology.  New York, McGraw-Hill. ](http://54.243.252.9/ce-5361-webroot/3-Readings/01CMM1988/Applied%20Hydrology%20VT%20Chow%201988.pdf) \n",
    "1. [Watersheds - McCuen](http://54.243.252.9/ce-3354-webroot/3-Readings/McCuen-Watersheds/McCuen-Watersheds.pdf)\n",
    "2. [How to Delineate a Watershed](http://54.243.252.9/ce-3354-webroot/3-Readings/NewHampshire-Watersheds/Topowatershed.pdf)\n",
    "3. [How To Measure Path](http://54.243.252.9/ce-3354-webroot/3-Readings/HowToMeasurePath/HowToMeasurePath.pdf)\n",
    "6. [Numerical Planimetry](http://54.243.252.9/ce-3354-webroot/3-Readings/NumericalPlanimetry/)\n",
    "4. [How to Interpret Topographic Maps](http://54.243.252.9/ce-3354-webroot/3-Readings/UsingTopographicMaps/Pages%20from%20USAF-Survival-Manual-644.pdf)\n",
    "5. [Cleveland, T. G. (2020) *Surface Water Hydrology Notes (Watersheds) to accompany CE-5361*, Department of Civil, Environmental, and Construction Engineering, Whitacre College of Engineering.](http://54.243.252.9/ce-3354-webroot/1-Lectures-2020/lesson04/Lesson04.pdf)\n",
    "6. [Cleveland, T. G. (2017) *Engineering Hydrology Notes (Hydrologic Data; Watershed Delineation) to accompany CE-3354*, Department of Civil, Environmental, and Construction Engineering, Whitacre College of Engineering.](http://54.243.252.9/ce-3354-webroot/1-Lectures-2017/Lecture03.pdf)\n",
    "7. [Cleveland, T. G. (2017) *Engineering Hydrology Notes (Watershed Metrics) to accompany CE-3354*, Department of Civil, Environmental, and Construction Engineering, Whitacre College of Engineering.](http://54.243.252.9/ce-3354-webroot/1-Lectures-2017/Lecture04.pdf)\n",
    "8. [Florida Delineation Training Watershed (png)](http://54.243.252.9/ce-3354-webroot/1-Lectures-2017/Florida-Training-Watershed.png) Right-Click \"Save As...\"\n",
    "9. [Texas Delineation Training Watershed (png)](http://54.243.252.9/ce-3354-webroot/1-Lectures-2017/Texas-Training-Watershed.png) Right-Click \"Save As...\"\n",
    "\n",
    "<hr>"
   ]
  },
  {
   "cell_type": "markdown",
   "metadata": {},
   "source": [
    "## Videos\n",
    "\n",
    "1. [What is a Watershed? (YouTube)](https://www.youtube.com/watch?v=QOrVotzBNto)\n",
    "2. [What is a Watershed?-Illustrated (YouTube)](https://www.youtube.com/watch?v=w58XwzVcBFM)\n",
    "3. [Why Watersheds Matter (YouTube)](https://www.youtube.com/watch?v=Om-eJBt9WvQ)\n",
    "4. [Watershed Delineation Example (YouTube)](https://www.youtube.com/watch?v=ajF0DsuuY4k)\n",
    "5. [Manual Watershed Delineation (USGS)](https://www.youtube.com/watch?v=RxO2814piio)\n",
    "6. [Watershed Delineation using ArcGIS (YouTube)](https://www.youtube.com/watch?v=v3Ajg6W8Rj8)\n",
    "7. [Watershed Delineation using qGIS (YouTube)](https://www.youtube.com/watch?v=2fvy9xtAHc4)\n",
    "8. [How to Delineate a Watershed in qGIS (YouTube)](https://www.youtube.com/watch?v=CE7zZCkFbg4)\n",
    "9. [Watershed Delineation and Metrics](https://www.youtube.com/watch?v=qzKS8n8RrdE)\n",
    "10. [Measuring Area](https://www.youtube.com/watch?v=pDFystIDxn0)\n",
    "11. [Manual Delineation](https://www.youtube.com/watch?v=cZBKrc6_B-E)"
   ]
  },
  {
   "cell_type": "markdown",
   "metadata": {},
   "source": [
    "## Outline\n",
    "\n",
    "- What is QGIS?\n",
    "- Why use QGIS instead of ESRI products?\n",
    "- Installing QGIS on your 'puter\n",
    "- Making a Topographic Map \n",
    "- Watershed Analysis \n",
    "- Watershed Metrics"
   ]
  },
  {
   "cell_type": "markdown",
   "metadata": {},
   "source": [
    "## What is QGIS?\n",
    "\n",
    "QGIS, or Quantum GIS, is an open-source geographic information system (GIS) software that allows users to view, edit, and analyze geospatial data. Here's an overview of its history, recent state, and common uses:\n",
    "\n",
    ">QGIS was first released in 2002 by Gary Sherman as an open-source alternative to proprietary GIS software.\n",
    "Over the years, it has evolved through contributions from a global community of developers, becoming a powerful and user-friendly GIS tool.\n",
    ">\n",
    "> As of January 2022, QGIS was still being actively developed, with regular updates and releases.  The software has a large user community that contributes to its improvement and the development of plugins to extend its functionality.  Features are continually added and enhanced, making it a competitive option in the GIS software landscape.\n",
    "\n",
    "### Typical Uses:\n",
    "\n",
    "- Data Visualization: QGIS allows users to create maps and visualize geospatial data in various formats, such as shapefiles, GeoJSON, and more.\n",
    "\n",
    "- Data Editing: Users can edit and digitize spatial data directly within the software, making it useful for tasks like updating maps or correcting geographical information.\n",
    "\n",
    "- Spatial Analysis: QGIS provides a wide range of tools for spatial analysis, including proximity analysis, overlay analysis, and statistical analysis, aiding in decision-making processes.\n",
    "\n",
    "- Map Design: The software includes tools for designing aesthetically pleasing maps with customizable symbology, labels, and layouts.\n",
    "\n",
    "- Integration: QGIS supports the integration of various data sources, including GPS data, remote sensing data, and data from online services.\n",
    "\n",
    "- Plugins and Extensions: The availability of plugins and extensions allows users to customize and extend the functionality of QGIS based on their specific needs.\n",
    "\n",
    "- Open Source: Being open source, QGIS is free to use, and its source code is accessible to developers, encouraging collaboration and continuous improvement.\n",
    "\n",
    "Learn more at the [official QGIS website](https://qgis.org/en/site/).\n",
    "\n",
    ":::{note} \n",
    "Here are useful QGIC GitHub links:\n",
    "- [The website itself](https://github.com/qgis/QGIS-Website)\n",
    "- [Documentation](https://github.com/qgis/QGIS-Documentation)\n",
    "- [Download(s)](https://github.com/qgis/QGIS)\n",
    "Your best bet is probably to work through the [official QGIS website](https://qgis.org/en/site/).\n",
    ":::"
   ]
  },
  {
   "cell_type": "markdown",
   "metadata": {},
   "source": [
    "## Why QGIS instead of ESRI products? \n",
    "\n",
    "\n",
    "You may have already used the University-ble\\$\\$ed ESRI GIS products in GIST 3300/5300 Geographic Information Systems, or other [GIS-based courses at TTU](https://www.depts.ttu.edu/geosciences/geog/research/gist.php), and wonder why I choose QGIS.  The two main reasons are:\n",
    "1. QGIS is Open Source (I am a cheap).\n",
    "2. It will run in some form without much fuss on a PC, MAC (both intel, and Apple silicon), and in Linux (on intel/amd and arm silicon). \n",
    "\n",
    "If you already have ESRI-based GIS tools use them, no good reason to install a second GIS.\n",
    "\n",
    "\n",
    ":::{note} Several other factors may influence someone to choose QGIS over other similar GIS (Geographic Information System) tools. Here are some reasons why individuals and organizations might prefer QGIS:\n",
    "\n",
    "- Open Source and Free: QGIS is open-source software, meaning it is free to use and distribute. This can be a significant advantage for users or organizations with budget constraints, as it provides powerful GIS capabilities without the need for a substantial financial investment.\n",
    "\n",
    "- Active Community Support: QGIS has a vibrant and active user community. This community contributes to the development of the software, creates plugins, and provides support through forums and documentation. The availability of community support can be valuable for users seeking assistance or looking to extend QGIS's functionality.\n",
    "\n",
    "- Cross-Platform Compatibility: QGIS is designed to run on multiple operating systems, including Windows, macOS, and Linux. This cross-platform compatibility makes it accessible to users with different operating system preferences.\n",
    "\n",
    "- User-Friendly Interface: QGIS is known for its user-friendly interface, making it accessible to both beginners and experienced GIS professionals. The software employs an intuitive layout and design, facilitating ease of use for those new to GIS.\n",
    "\n",
    "- Extensive Functionality: QGIS offers a broad range of tools and features for data visualization, editing, and analysis. Its functionality is comparable to many proprietary GIS tools, and it continues to evolve with regular updates and new releases.\n",
    "\n",
    "- Plugin System: QGIS has a robust plugin system that allows users to enhance and extend the software's capabilities. Users can install plugins to add specific functionalities tailored to their needs, making QGIS adaptable to a wide range of applications.\n",
    "\n",
    "- Interoperability: QGIS supports various data formats and standards, ensuring compatibility with data from different sources. This interoperability makes it easier to integrate QGIS into existing workflows and work with diverse geospatial datasets.\n",
    "\n",
    "- Customization: Users can customize QGIS to suit their specific requirements. This includes customizing symbology, creating tailored layouts, and utilizing plugins to add specialized tools, making QGIS adaptable to a variety of use cases.\n",
    "\n",
    "Ultimately, the choice between GIS tools depends on the specific needs, preferences, and constraints of the user or organization. QGIS's open-source nature, community support, and extensive functionality make it a compelling choice for many GIS users.\n",
    "\n",
    ":::"
   ]
  },
  {
   "cell_type": "markdown",
   "metadata": {},
   "source": [
    "## Installating on your computer\n",
    "\n",
    "Windows and Mac, choose the appropriate installer and do what the picture menus show you.\n",
    "\n",
    "### Windows\n",
    "\n",
    "![](windows-install.png)\n",
    "\n",
    "### Macintosh\n",
    "\n",
    "![](mac-install.png)\n",
    "\n",
    "For this course we will assume either a Windows or Mac install, some Linux notes are below but beyond scope.  Naturally we cannot use on-campus machines to demonstrate, hence my laptop!\n",
    "\n",
    "### Linux\n",
    "\n",
    "Identify your distribution.  Select correct package source.  Use your package manager (RPM, YUM, APT, ...) to install from a suitable repository."
   ]
  },
  {
   "cell_type": "markdown",
   "metadata": {},
   "source": [
    ":::{note} **Linux** is more complicated, especially if trying to install on a non-amd chipset.  \n",
    "Here is how I installed onto a Raspberry Pi. First get the correct instructions:![](linux-flavors.png)\n",
    "Then modify the gis.sources file as needed: ![](linux-install.png)\n",
    "\n",
    "**Verify the Install**\n",
    "This is a tricky part; just opening the software is a good start.\n",
    "Here is the process on my computer:\n",
    "- Find the software (my install defaulted it to \"Education\" which is not a bad choice.) ![](find-qgis.png)\n",
    "- Launch and wait for initial interface screen ![](start-qgis.png)\n",
    "\n",
    "**Work through tutorials**\n",
    "Now to see if the install is complete enough work through the [On-Line training manual](https://docs.qgis.org/3.28/en/docs/training_manual/).  If you can get to Module 6 without much fuss; you probably have a working installation. On my machine, a representative map from the example data (served by qgis website) is: ![](qgis-map.png)\n",
    ":::"
   ]
  },
  {
   "cell_type": "markdown",
   "metadata": {},
   "source": [
    "### Getting Data\n",
    "\n",
    "This is a bit tricky if this is first time (like me); there are lots of data available.\n",
    "\n",
    "We mostly will want:\n",
    "\n",
    "1. Base maps (Open Street Maps is a good starting point)\n",
    "2. Elevation models (DEMs) (Several sources. NASA, USGS, TNRIS, similar sources - it takes some online reading to figure out how to access)\n",
    "  - USGS Earth explorer …. https://earthexplorer.usgs.gov/\n",
    "  - Open Topography….https://portal.opentopography.org/raster?opentopoID=OTSRTM.082015.4326.1\n",
    "  - Google earth engine ……. https://earthengine.google.com/platform\n",
    "  - From Drone imagery — AgiSoft Processing.\n",
    "  - You can also generate yours with kml /kmz data collected from Google Earth Pro.\n",
    "3. Level Sets (Contours) - you can make from elevation maps, in some locales they are already done - but are vector features so other than picture making not super useful\n",
    "4. Point Clouds - These come from LIDAR scans and similar sources.  Main trick is to figure out units (usually in MetaData) and figure out coordinates.\n",
    "\n",
    "There are a lot of other things available, but baby steps for now."
   ]
  },
  {
   "cell_type": "markdown",
   "metadata": {},
   "source": [
    "## Making a Topographic Map\n",
    "\n",
    "Here we will do step-by-step example of a CE 3354 training watershed; in that class we were interested in the watershed boundary, here we just want a topographic map generated from the GIS (yes I am aware the map used below is already a topographic map - but bear with the example).\n",
    "\n",
    "The steps to do a complete watershed delineation are outlined in  [Baraka, M. 2024, Watershed Delineation in QGIS: A Summary Guide](http://54.243.252.9/ce-5361-webroot/3-Readings/Hydrology_GIS_part1.pdf)\n",
    "\n",
    "The SAGANG package was manually installed using guidance from [How to manual install SAGA 9.1 (YouTube) ](https://www.youtube.com/watch?v=VKdaripCups). Other plug-ins are installed using the Plug-in manager menu.\n",
    "\n",
    "First start with the Florida Topographic Map\n",
    "\n",
    "![](pourpoint.png)\n",
    "\n",
    "Then we need to locate the area - it turns out that the Moore Pond feature is near Tallahassee Fl.  (Used Google to find that out!)\n",
    "\n",
    "![](moorepond1.png)\n",
    "\n",
    "Then zoom out\n",
    "\n",
    "![](moorepond2.png)\n",
    "\n",
    "The bridge we are interested is on the Miller's Landing feature - with that in mind, we can start QGIS, load OSM tiles, and look for the study area.\n",
    "\n",
    "![](qgisMoorePond.png)\n",
    "\n",
    "We will shift the window to the right a bit and scale about the same as the original Topographic map clip.  Once we have desired area, then save a bookmark to easily return to the view area."
   ]
  },
  {
   "cell_type": "markdown",
   "metadata": {},
   "source": [
    "### Get DEM\n",
    "\n",
    "Now we will get a DEM coverage - we will use the SRTM from NASA (30 meter poixels) but one might need better resolution as project proceedes.\n",
    "\n",
    "Using the Canvass area, download SRTM tile:\n",
    "\n",
    "![](FloridaSRTM.png)\n",
    "\n",
    "Next we can play with transparency so can background the street maps.\n",
    "\n",
    "![](FloridaSRTM+overlay.png)"
   ]
  },
  {
   "cell_type": "markdown",
   "metadata": {},
   "source": [
    "### Contours \n",
    "\n",
    "We can make a elevation contour of the study area.  This is sometomes optional, but it is the whole point in Water Systems.  Topography dictates hydraulics in most cases.\n",
    "\n",
    "`Menu/Raster/Extraction/Contour`\n",
    "\n",
    "The result (using 3.048 meter intervals $\\approx$ 10 feet) is :\n",
    "\n",
    "![](FloridaContours.png)\n",
    "\n",
    "It is probably more useful for fewer lines, so could repeat at 10 meter (32.8 foot) intervals, or play with the symbology to render fewer lines.\n",
    "\n",
    ":::{note}\n",
    "The process to make a topographic map from just XYZ coordinates is covered in another lesson and uses the tools you learned in ENGR 1330.  The remainder of this document continue the analysis to obtain a watershed boundary for the study area above - it will be instructive later on when we get to drainage systems\n",
    ":::"
   ]
  },
  {
   "cell_type": "markdown",
   "metadata": {},
   "source": [
    "### Extract (Clip) DEM - Warp to a UTM Coordinate System\n",
    "\n",
    "Here we will clip the viewing area, and then just process the clipped area - this will speed up our work a lot.\n",
    "\n",
    "`Menu/Raster/Extraction/Clip Raster by Extent`\n",
    "\n",
    "Here is the clipped area (zoomed out to verify)\n",
    "\n",
    "![](FloridaClippedArea.png)"
   ]
  },
  {
   "cell_type": "markdown",
   "metadata": {},
   "source": [
    "### Warp (reproject) the Clipped Area to UTM Zone\n",
    "UTM gives a  nearly cartesian system, which is useful for other analyses, so lets do that now.\n",
    "\n",
    "First need to know the UTM panel.  Use Google\n",
    "\n",
    "![](UTMFL.png)\n",
    "\n",
    "Now we know the zone, so use \n",
    "\n",
    "`Menu/Raster/Projections/Warp (Reproject)`\n",
    "\n",
    "Mostly used defaults, except chose Zone 16N (it was only CRS available in the software), and used cubic interpolation to smooth out the elevations a bit - we are after a watershed boundary, so the smoothing should help with goofy curvature.\n",
    "\n",
    "![](FloridaClippedUTM.png)"
   ]
  },
  {
   "cell_type": "markdown",
   "metadata": {},
   "source": [
    "### Sink Fill\n",
    "\n",
    "This step is to fill in low spots, so there is always a path to lowest point (I sort of disagree with this step, but it is accepted GIS analysis step).  Here some trial-and-error is needed using the [System for Automated Geoscientific Analyses (SAGA)](http://www.saga-gis.org) tools.  The current SAGA version is 9.X while the only version I can access is 7.3 and there is no guidance on how to upgrade.  Based on internet search, most QGIS non-genius users are coimplaining that the SAGA project is failing to support the upgrades, and other techniques are offered.  If you are in Linux, you build from source anyway, so its not a problem.\n",
    "\n",
    "I found that `SAGA NextGen/Terrain Analysis/Hydrology/Sink Fill (Wang & Liu)` indeed ran and produced non-empty output.\n",
    "\n",
    "![](SinkFill.png)"
   ]
  },
  {
   "cell_type": "markdown",
   "metadata": {},
   "source": [
    "### Channel Identification\n",
    "\n",
    "If needed (sometimes can skip to next step):\n",
    "\n",
    "- SAGA terrain analysis package (to extract straler order)\n",
    "- Visualize Straler Order\n",
    "- Filter small streams using raster calculator\n",
    "- Adjust Strahler order"
   ]
  },
  {
   "cell_type": "markdown",
   "metadata": {},
   "source": [
    "### Channels and Drainage Basins\n",
    "\n",
    "- `SAGA/TerrainAnalysis-Channels/Channel Network and Drainage Basins`\n",
    "- Input Filled DEM and choose threshold based on Straler order (I did trial and error without saving files until I had a workable looking catchment then proceede to next step/\n",
    "- Adjust symbology as necessary to interpret the results (repeat as needed unless it fails then no point)\n"
   ]
  },
  {
   "cell_type": "markdown",
   "metadata": {},
   "source": [
    "### Determine Catchment\n",
    "\n",
    "- Use coordinate capture plug-in to find coordinates of pour point.\n",
    "- Use Upslope Area in SAGA with the coordinates."
   ]
  },
  {
   "cell_type": "markdown",
   "metadata": {},
   "source": [
    "### Polygonize the Watershed\n",
    "\n",
    "`Raster/Polygonize(Raster to Vector)`\n",
    "\n",
    "Choose delineated raster as the input.\n",
    "Specify the output vector as shapefile (SHP)\n"
   ]
  },
  {
   "cell_type": "markdown",
   "metadata": {},
   "source": [
    "### Completed Delineation\n",
    "\n",
    "Here we render the delineation - the vector polygon, which has use later on (and is the whole point of synthetic hydrograph generation).  \n",
    "\n",
    "![](FloridaGISDelineation.png)\n",
    "\n",
    "**Compare to Manual Delineation**\n",
    "\n",
    "![](completed-delineation.png)"
   ]
  },
  {
   "cell_type": "markdown",
   "metadata": {},
   "source": [
    "### Export the DEM (Masked by Polygon)\n",
    "\n",
    "Later in the class we will explore []() and will need the DEM of the watershed only!\n",
    "\n",
    "The export is done using `Raster/Extraction/Clip by Mask Layer` and results in a final product for later use.\n",
    "\n",
    "Here is the clip command (note the file type is .xyz to produce an ASCII grid)\n",
    "\n",
    "![](FloridaXYZ.png)\n",
    "\n",
    "Here is the result after prettification.\n",
    "\n",
    "![](FLxyzrender.png)"
   ]
  },
  {
   "cell_type": "markdown",
   "metadata": {},
   "source": [
    "### Determine Watershed Area\n",
    "\n",
    "If we have the vector outline then use the attribute table and compute the polygon area of the only polygon.\n",
    "\n",
    "![](areabuild.png)"
   ]
  },
  {
   "cell_type": "code",
   "execution_count": 3,
   "metadata": {},
   "outputs": [
    {
     "data": {
      "text/plain": [
       "1862.2570702407345"
      ]
     },
     "execution_count": 3,
     "metadata": {},
     "output_type": "execute_result"
    }
   ],
   "source": [
    "# compute area in acres\n",
    "7540147.046*(3.28)*(3.28)*(1/43560)"
   ]
  },
  {
   "cell_type": "markdown",
   "metadata": {},
   "source": [
    "### Compare to by-hand\n",
    "\n",
    "![](byhand.png)"
   ]
  },
  {
   "cell_type": "code",
   "execution_count": 7,
   "metadata": {},
   "outputs": [
    {
     "name": "stdout",
     "output_type": "stream",
     "text": [
      "1708.4194214876034\n"
     ]
    }
   ],
   "source": [
    "# count squares\n",
    "howmany = 270\n",
    "# size\n",
    "howbig = howmany*525*525/43560\n",
    "print(howbig)"
   ]
  },
  {
   "cell_type": "markdown",
   "metadata": {},
   "source": [
    "### Measuring Length(s) \n",
    "\n",
    "Similar to area, you can count cells along a path and multiply the count by the length of a cell side, or the cell diagonal (depends on how many diagonal moves you need to make) to obtain a length.  Or use software (Acrobat Pro, AutoCAD, Engauge, ArcGIS, QGIS, .... ) to make the measurements.\n",
    "\n",
    "This can be done directly in GIS using the measuring tool; depending on accuracy needs may do in pieces."
   ]
  },
  {
   "cell_type": "markdown",
   "metadata": {},
   "source": [
    "### Estimating Slope(s)\n",
    "\n",
    "Slope estimates require two components\n",
    "1. A path with a length ($S$)\n",
    "2. The change in elevation along the path ($\\Delta z$)\n",
    "\n",
    "The dimensionless slope is simply the ratio of the two $\\frac{\\Delta z}{S}$.  Percent slope is the dimensionless slope multiplied by 100.\n",
    "Sometimes slope is expressed in units of $\\frac{ft}{mi}$ or $\\frac{m}{km}$, while meaningful these will have to be converted into dimensionless or \\%-slope for most hydrologic computations."
   ]
  },
  {
   "cell_type": "markdown",
   "metadata": {},
   "source": [
    "### Estimating Soil Properties\n",
    "\n",
    "Subjective when using paper maps, but reasonable values can be inferred from soil maps - either paper-based or electronic [Web Soil Survey](https://websoilsurvey.sc.egov.usda.gov/App/HomePage.htm)\n"
   ]
  },
  {
   "cell_type": "markdown",
   "metadata": {},
   "source": [
    "### Estimating \\%-Impervious\n",
    "\n",
    "This is subjective, but one reasonable approach is using Google Earth\n",
    "1. Find the area of interest\n",
    "2. Select a viewing height (needs to be same for all areas if you are going to have to scroll)\n",
    "3. Put a grid on the screen (physical grid on see‐thru plastic, or use a china marker and draw on the screen)\n",
    "4. Count concrete vs not concrete – relative ratio is a useable estimate of the \\% impervious\n",
    "\n",
    ":::{note}\n",
    "This would be a good task to hand off to a machine learner model.  Take the area of interest, capture an image, have the ML model count pixels that are NOT CONCRETE (brown, green, .....)\n",
    ":::"
   ]
  },
  {
   "cell_type": "raw",
   "metadata": {},
   "source": [
    "## USGS StreamStats\n",
    "\n",
    "In many states one could also use an on-line tool called [StreamStats](https://streamstats.usgs.gov/ss/)\n",
    "\n",
    "For example a culvert on Snake Creek in Oklahoma can be examined and will produce the delineation below\n",
    "\n",
    "\n",
    "\n",
    "In class we will explore this tool a little bit, however it does not have Texas loaded into its database yet,"
   ]
  },
  {
   "cell_type": "markdown",
   "metadata": {},
   "source": [
    "## Self-Study Tasks:\n",
    "\n",
    "- Explain the significance of a delineated watershed in the context of a study area.\n",
    "- Discuss how watershed boundaries could impact water systems design, processes, and management."
   ]
  },
  {
   "cell_type": "code",
   "execution_count": null,
   "metadata": {},
   "outputs": [],
   "source": []
  }
 ],
 "metadata": {
  "kernelspec": {
   "display_name": "Python 3",
   "language": "python",
   "name": "python3"
  },
  "language_info": {
   "codemirror_mode": {
    "name": "ipython",
    "version": 3
   },
   "file_extension": ".py",
   "mimetype": "text/x-python",
   "name": "python",
   "nbconvert_exporter": "python",
   "pygments_lexer": "ipython3",
   "version": "3.8.10"
  }
 },
 "nbformat": 4,
 "nbformat_minor": 4
}
