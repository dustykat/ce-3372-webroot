{
 "cells": [
  {
   "cell_type": "markdown",
   "metadata": {},
   "source": [
    "# Welcome to CE 3372 Water Systems Design\n",
    "\n",
    "This is the electronic textbook for Dr. Cleveland's section(s) of CE 3372 at Texas Tech University.\n",
    "\n",
    ":::{note}\n",
    "This electronic textbook is intended to **eventually** replace the regular textbook: [https://www.amazon.com/Hydrology-Hydraulic-Systems-Ram-Gupta/dp/1577664558](https://www.amazon.com/Hydrology-Hydraulic-Systems-Ram-Gupta/dp/1577664558)\n",
    ":::\n",
    "\n",
    "The course content is entirely deployed on a web server hosted at Amazon Web Services at [http://54.243.252.9/ce-3372-webroot/](http://54.243.252.9/ce-3372-webroot/)  This book is located on the same server at [http://54.243.252.9/ce-3372-webroot/ce3372-jb/ce3372jb/\\_build/html](http://54.243.252.9/ce-3372-webroot/ce3372-jb/ce3372jb/_build/html)\n",
    "\n",
    ":::{note}\n",
    "The syllabus, links to exercises, and other materials as well as this book appear at the top of the webpage on the course server.  The syllabus is changed relatively frequently, so you will need to check it often to be sure you are up-to-date with respect to scheduled activities related to the course.\n",
    ":::\n",
    "\n",
    "And here is a code block:"
   ]
  },
  {
   "cell_type": "code",
   "execution_count": 1,
   "metadata": {},
   "outputs": [
    {
     "data": {
      "text/plain": [
       "array([[47.49703796, 39.92799879,  1.76506379, 17.06762783, 70.87940692,\n",
       "         1.27597378, 31.24275831, 58.029739  ,  8.09536733, 73.262065  ],\n",
       "       [37.61233901,  7.08614303, 48.63350971, 52.94285014, 24.22632895,\n",
       "        71.25132777, 45.50668678,  3.1794156 , 95.24750911, 66.89015988],\n",
       "       [81.25734191, 62.86281565, 43.74538915, 33.57717574,  7.70229615,\n",
       "        89.73742951, 60.11862537, 29.74336498, 96.36914699, 60.97350112]])"
      ]
     },
     "execution_count": 1,
     "metadata": {},
     "output_type": "execute_result"
    }
   ],
   "source": [
    "import matplotlib.pyplot as plt\n",
    "import numpy as np\n",
    "data = np.random.rand(3, 100) * 100\n",
    "data[:, :10]"
   ]
  },
  {
   "cell_type": "markdown",
   "metadata": {},
   "source": [
    "```\n",
    "m=1\n",
    "c=186\n",
    "e = mc^2\n",
    "print(e)\n",
    "```\n",
    "\n",
    "Check out the content pages bundled with this sample book to see more."
   ]
  }
 ],
 "metadata": {
  "jupytext": {
   "text_representation": {
    "extension": ".md",
    "format_name": "myst",
    "format_version": "0.8",
    "jupytext_version": "1.4.1"
   }
  },
  "kernelspec": {
   "display_name": "Python 3",
   "language": "python",
   "name": "python3"
  },
  "language_info": {
   "codemirror_mode": {
    "name": "ipython",
    "version": 3
   },
   "file_extension": ".py",
   "mimetype": "text/x-python",
   "name": "python",
   "nbconvert_exporter": "python",
   "pygments_lexer": "ipython3",
   "version": "3.8.10"
  },
  "source_map": [
   13,
   32,
   37
  ]
 },
 "nbformat": 4,
 "nbformat_minor": 4
}