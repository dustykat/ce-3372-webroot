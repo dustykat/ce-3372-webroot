{
 "cells": [
  {
   "cell_type": "markdown",
   "metadata": {},
   "source": [
    "# Welcome to CE 3372 Water Systems Design\n",
    "\n",
    "This is the electronic textbook for Dr. Cleveland's section(s) of CE 3372 at Texas Tech University.\n",
    "\n",
    ":::{note}\n",
    "This electronic textbook is intended to **eventually** replace the regular textbook: [https://www.amazon.com/Hydrology-Hydraulic-Systems-Ram-Gupta/dp/1577664558](https://www.amazon.com/Hydrology-Hydraulic-Systems-Ram-Gupta/dp/1577664558)\n",
    ":::\n",
    "\n",
    "The course content is entirely deployed on a web server hosted at Amazon Web Services at [http://54.243.252.9/ce-3372-webroot/](http://54.243.252.9/ce-3372-webroot/)  This book is located on the same server at [http://54.243.252.9/ce-3372-webroot/ce3372-jb/ce3372jb/\\_build/html](http://54.243.252.9/ce-3372-webroot/ce3372-jb/ce3372jb/_build/html)\n",
    "\n",
    ":::{note}\n",
    "The syllabus, links to exercises, and other materials as well as this book appear at the top of the webpage on the course server.  The syllabus is changed relatively frequently, so you will need to check it often to be sure you are up-to-date with respect to scheduled activities related to the course.\n",
    ":::\n",
    "\n",
    "And here is a code block:"
   ]
  },
  {
   "cell_type": "code",
   "execution_count": 1,
   "metadata": {},
   "outputs": [
    {
     "data": {
      "text/plain": [
       "array([[14.03295726, 62.40486054, 41.85938399, 98.41884712, 22.55132758,\n",
       "        68.67489518, 75.03653125, 25.78149674, 80.54319513, 47.0234101 ],\n",
       "       [86.89826134, 54.86225275, 47.8392449 , 66.34965446, 59.08120316,\n",
       "        94.04526375, 23.93914297,  6.80342128, 38.65878288, 75.88678413],\n",
       "       [91.54321342, 50.62080293, 63.36311253, 38.87344815, 44.99757201,\n",
       "        61.50099264, 42.55120359, 59.03473849, 38.77239357, 22.52662811]])"
      ]
     },
     "execution_count": 1,
     "metadata": {},
     "output_type": "execute_result"
    }
   ],
   "source": [
    "import matplotlib.pyplot as plt\n",
    "import numpy as np\n",
    "data = np.random.rand(3, 100) * 100\n",
    "data[:, :10]"
   ]
  },
  {
   "cell_type": "markdown",
   "metadata": {},
   "source": [
    "```\n",
    "m=1\n",
    "c=186\n",
    "e = mc^2\n",
    "print(e)\n",
    "```\n",
    "\n",
    "Check out the content pages bundled with this sample book to see more."
   ]
  }
 ],
 "metadata": {
  "jupytext": {
   "text_representation": {
    "extension": ".md",
    "format_name": "myst",
    "format_version": "0.8",
    "jupytext_version": "1.4.1"
   }
  },
  "kernelspec": {
   "display_name": "Python 3",
   "language": "python",
   "name": "python3"
  },
  "language_info": {
   "codemirror_mode": {
    "name": "ipython",
    "version": 3
   },
   "file_extension": ".py",
   "mimetype": "text/x-python",
   "name": "python",
   "nbconvert_exporter": "python",
   "pygments_lexer": "ipython3",
   "version": "3.8.10"
  },
  "source_map": [
   13,
   32,
   37
  ]
 },
 "nbformat": 4,
 "nbformat_minor": 4
}