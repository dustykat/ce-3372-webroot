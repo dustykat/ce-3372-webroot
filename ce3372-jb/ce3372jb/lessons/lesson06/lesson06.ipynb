{
 "cells": [
  {
   "cell_type": "markdown",
   "metadata": {},
   "source": [
    "# Pumping Systems\n",
    "\n",
    "Water moves from higher to lower energy\n",
    "- Path of least resistance\n",
    "- Head is energy per unit weight of a fluid \n",
    "- Pumps are used to add energy to move water to a higher elevation, or over a barrier, or to increase system pressure. \n"
   ]
  },
  {
   "cell_type": "markdown",
   "metadata": {},
   "source": [
    "## Background\n",
    " \n",
    "A pump is a mechanical device that transfers energy into a liquid; used to \n",
    "\n",
    "- Lift from lower to higher elevation (Lift stations)\n",
    "- Increase pressure (Booster stations)\n",
    "\n",
    "![](pumpone.png)\n",
    "\n",
    "The gas phase equivalent is a Compressor "
   ]
  },
  {
   "cell_type": "markdown",
   "metadata": {},
   "source": [
    "Pumps range substantially in size depending on application\n",
    "\n",
    "- Small <br>\n",
    "![](pumplittle.png)\n",
    "- Big <br>\n",
    "![](pumpbig.png)"
   ]
  },
  {
   "cell_type": "markdown",
   "metadata": {},
   "source": [
    "## Types\n",
    "\n",
    "Positive (Fixed) Displacement Pumps \n",
    "- Fixed volume of fluid is displaced each cycle regardless of \n",
    "system static head/pressure \n",
    "- Lower flow rates and higher head than non-positive pumps \n",
    "\n",
    "Variable Displacement Pumps  \n",
    "- Varying volume of fluid is displaced dependent on system static \n",
    "head/pressure (back pressure) \n",
    "\n",
    "Fixed Displacement Pumps \n",
    "- Screw Pumps ![](screwpump.png) \n",
    "- Progressive Cavity Pumps ![](cavitypump.png)\n",
    "- Reciprocating Pumps ![](pistonpump.png)\n",
    "\n",
    "\n",
    "\n",
    "Variable Displacement Pumps \n",
    "- Centrifugal (Radial-Flow) Pumps \n",
    "- Propeller Pumps (Axial-Flow) \n",
    "- Jet Pumps (Mixed-Flow) "
   ]
  },
  {
   "cell_type": "markdown",
   "metadata": {},
   "source": [
    "## Readings\n",
    "\n",
    "1. Gupta, R. S. 2017. Hydrology and Hydraulic Systems. Waveland Press, Inc. pp 672-689"
   ]
  },
  {
   "cell_type": "code",
   "execution_count": null,
   "metadata": {},
   "outputs": [],
   "source": []
  }
 ],
 "metadata": {
  "kernelspec": {
   "display_name": "Python 3",
   "language": "python",
   "name": "python3"
  },
  "language_info": {
   "codemirror_mode": {
    "name": "ipython",
    "version": 3
   },
   "file_extension": ".py",
   "mimetype": "text/x-python",
   "name": "python",
   "nbconvert_exporter": "python",
   "pygments_lexer": "ipython3",
   "version": "3.8.10"
  }
 },
 "nbformat": 4,
 "nbformat_minor": 4
}
