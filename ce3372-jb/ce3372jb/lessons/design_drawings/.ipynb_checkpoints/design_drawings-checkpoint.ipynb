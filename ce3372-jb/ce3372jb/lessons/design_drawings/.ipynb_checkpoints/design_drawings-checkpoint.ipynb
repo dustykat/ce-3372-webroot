{
 "cells": [
  {
   "cell_type": "markdown",
   "metadata": {},
   "source": [
    "# Design Drawings\n",
    "\n",
    ":::{admonition} Course Website\n",
    "[http://54.243.252.9/ce-3372-webroot/](http://54.243.252.9/ce-3372-webroot/)\n",
    ":::"
   ]
  },
  {
   "cell_type": "markdown",
   "metadata": {},
   "source": [
    "## Readings \n",
    "\n",
    "1. Hibbeler, R.C, Fluid Mechanics, 2ed. Prentice Hall, 2018. ISBN: 9780134655413 pp. 13-31\n",
    "\n",
    "2. DF Elger, BC Williams, Crowe, CT and JA Roberson, *Engineering Fluid Mechanics 10th edition*, John Wiley & Sons, Inc., 2013. [Engineering Fluid Mechanics 10-th Ed. Chapter 2](http://54.243.252.9/ce-3305-webroot/3-Readings/EFM-2.pdf)\n",
    "\n",
    "3. Cleveland, T. G. (2014) *Fluid Mechanics Notes to Accompany CE 3305 at [Jade-Holshule](https://www.jade-hs.de/en/the-university/departments/engineering/) (TTU Study Abroad 2015-2019)*, Department of Civil, Environmental, and Construction Engineering, Whitacre College of Engineering. [http://54.243.252.9/ce-3305-webroot/3-Readings/ce3305-lecture-002.1.pdf](http://54.243.252.9/ce-3305-webroot/3-Readings/ce3305-lecture-002.1.pdf)"
   ]
  },
  {
   "cell_type": "markdown",
   "metadata": {},
   "source": [
    "## Videos\n",
    "\n",
    "1. [Viscosity Theory (YouTube)](https://www.youtube.com/watch?v=9NYs3Y-IjGw)"
   ]
  },
  {
   "cell_type": "markdown",
   "metadata": {},
   "source": [
    "## Lesson Outline\n",
    "1. Design Drawings \n"
   ]
  },
  {
   "cell_type": "markdown",
   "metadata": {},
   "source": [
    "## Design Drawings - Purpose\n",
    "Design drawings (as used in this course) usually refer to plan and profile sheets. Plan and Profile sheets are intended to convey a general overview of a project by showing how the project interacts with existing features. They contain information concerning alignments, profiles, structures, and ditching. The general appearance of the plan and profile sheets should follow the guidelines set in Section 21E-4. The following information is normally found in the plan and profile\n",
    "sheet portions of a plan.\n",
    "\n",
    "### Plan View Requirements\n",
    "\n",
    "Requirements are jurisdiction specific, but some generic items can be inferred for most applications.\n",
    "\n",
    "**Items to be displayed in Plan View include:**\n",
    "\n",
    "- Alignments and Stationing: All alignments and tic marks, along with mainline stationing should be present on each sheet. The alignment will typically be a water system feature (pipeline, sewer line, storm drain); the alignment may be relative to the feature or (commonly) to a main transportation route (aka a street)\n",
    "- Scale: A scale block should be located near the midpoint of the bottom of the plan portion of each sheet.\n",
    "- North Arrow: A conspicuous north arrow should be located in the top portion of the plan sheet between the midpoint and upper right corner of each sheet.\n",
    "- Title Block: A title block should be used for each sheet. The title block should be located in the lower right corner of the plan portion of each sheet. It should reference the project route and, if applicable, the direction of flow.\n",
    "- Township/Section/Range: Township, section, and range information should be provided on each plan sheet.\n",
    "- Existing Features: Existing topographical features should be provided on each plan sheet.\n",
    "- Aerial Imagery: Aerial imagery may be included in the plan to serve as a design aid. Final plans may include aerial imagery for all plan sheets only if the image provides critical information which is otherwise absent in the photogrammetric topography.\n",
    "- Shading: Shading of the grading surface, the proposed granular surface, the proposed grade/backfill surface should be shown.\n",
    "- Ground Line Intercept: The ground line intercept should be shown for all work types.\n",
    "- Structures: Proposed and existing structures should be present on each sheet.\n",
    "- Entrances: Proposed and existing entrances should be present on each sheet (applies to water systems that interact with transportation infrastructure).\n",
    "- Right-of-Way: Proposed right-of-way lines, proposed right-of-way symbols, and section lines should be present on each sheet and identified on the legend sheet. Property lines and their symbols should not be displayed. Right-of-way lines should only be included if the limits are known; do not assume the right-of-way is consistent with the fence line.\n",
    "- Utilities: Utilities (electricity, telecommunications, gas, oil, and other underground and surface utilities) should be shown on the plan portion of each sheet and identified on the legend sheet.\n",
    "- Railroad Crossings: Show all railroad crossings within or immediately adjacent to the project limits, including the railroad property lines and the name of the railroad company. Include this information anytime the contractor will be required to gain access or perform work on the railroad right-of-way or within 25 feet of the centerline of the outermost railroad track.\n",
    "- Restricted Areas: If any environmentally or culturally sensitive areas are located outside the ROW, the contractor must be made aware of the location while maintaining confidentiality to the nature of the restricted area. To do this, the area should be hatched in red and a special note should be highlighted in yellow on the plan sheet. \n",
    "- Other Project Specific Information: Project specific information should be shown on the plan portion of the appropriate sheet and identified on the legend sheet or labeled.\n",
    "\n",
    "**Items to be labeled in Plan View include:**\n",
    "\n",
    "- Begin/End Project: Begin/End Project designates the outermost limits of the project. If the Begin/End Project does not coincide exactly with the work done (for example, the areas tying into existing ground during grading), conservatively round up to the nearest 10 feet to determine the project limits.\n",
    "- Begin/End Construction: Begin/End Construction designates the outermost limits of construction for routes intersecting the mainline of the project.\n",
    "- Begin/Stop/Resume/End Pavement Types:Begin/Stop/Resume/End Pavement Types should be labeled (this is generally applicable if the water system is a component of a transportation system, otherwise this item can be ommitted). The following work types are examples that should be designated within the plan: Paving, Resurfacing, Milling and Resurfacing, and Widening and Resurfacing.\n",
    "- Roadways: Roadways should be labeled (if relevant to the water system project).\n",
    "- Horizontal Curve Information: Horizontal curve information should be labeled (if relevant to the water system project).\n",
    "- Station Equations: Station equations should be labeled.\n",
    "- Description of Structures: Structures that interact with the water system project should be labeled. Pipe text should be located in the top and bottom portions of the plan view. (Left side pipes should be labeled at the top and right side pipes should be labeled at the bottom.) If pipes have been installed in a previous stage, the pipe text should look similar to survey data. The text will print green and the word “install” should be deleted. For complex projects additional information, such as ‘Installed with (paren),’ may be beneficial. All existing structures shall be labeled as to their disposition. Where applicable, design numbers should be included for structures.\n",
    "- Location of Dikes and Types: Dikes should be labeled. If dikes have been installed in a previous stage, the dike text should look similar to survey data. The text will print green and the word “proposed” should be deleted.\n",
    "- Entrance Location and Type: Entrances should be labeled. Entrances are to be labeled to the nearest foot. If an entrance pipe is present, it should be labeled immediately below the entrance type labeling. If entrances/entrance pipes have been installed in a previous stage, the entrance text should look similar to survey data. The text will print green and the word “proposed” should be deleted.\n",
    "- Borrows: A label designating the general location of borrows should be shown.\n",
    "- Roadway Intersection Points (if relevant to the water system project): Roadway intersection points should be labeled at any location where an alignment relates to the project.\n",
    "- Special Instructions: Project specific special instructions may be put specific sheets, but must also be thoroughly explained in the Reference Notes (usually on the cover sheets)."
   ]
  },
  {
   "cell_type": "code",
   "execution_count": null,
   "metadata": {},
   "outputs": [],
   "source": []
  }
 ],
 "metadata": {
  "kernelspec": {
   "display_name": "Python 3",
   "language": "python",
   "name": "python3"
  },
  "language_info": {
   "codemirror_mode": {
    "name": "ipython",
    "version": 3
   },
   "file_extension": ".py",
   "mimetype": "text/x-python",
   "name": "python",
   "nbconvert_exporter": "python",
   "pygments_lexer": "ipython3",
   "version": "3.8.10"
  }
 },
 "nbformat": 4,
 "nbformat_minor": 4
}
