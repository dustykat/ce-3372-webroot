{
 "cells": [
  {
   "cell_type": "code",
   "execution_count": null,
   "metadata": {},
   "outputs": [],
   "source": []
  },
  {
   "cell_type": "markdown",
   "metadata": {},
   "source": [
    "**Download** this file as a Jupyter Notebook@ [http://54.243.252.9/ce-3372-webroot/10-Tests-BB-Format/EX1/EX1-2022-1.ipynb](http://54.243.252.9/ce-3372-webroot/10-Tests-BB-Format/EX1/EX1-2022-1.ipynb)\n",
    "\n",
    "___\n",
    "\n",
    "# EX-1 (Solution Sketch)\n",
    "\n",
    "Copyright © 2022 Theodore G. Cleveland \n",
    "\n",
    "---\n",
    "\n",
    "## Purpose:\n",
    "Demonstrate ability acquired knowledge and skills in CE 3372 relative to water distribution systems and hydraulics of closed conduits.\n",
    "\n",
    "## Instructions\n",
    "\n",
    "\n"
   ]
  },
  {
   "cell_type": "markdown",
   "metadata": {},
   "source": [
    "---\n",
    "\n",
    "## Problem 1\n",
    "\n",
    "1. What is a water use system?\n",
    "2. What is a water control system?\n",
    "3. What kind of system is depicted in the Figure below?\n",
    "\n",
    "![](http://54.243.252.9/ce-3372-webroot/10-Tests-BB-Format/EX1/water-control.png)"
   ]
  },
  {
   "cell_type": "markdown",
   "metadata": {},
   "source": [
    "# What is a water use system?\n",
    "Water-use system – to support human habitation and include water-treatment systems, water-distribution systems, wastewater-collection systems, and wastewater-treatment systems."
   ]
  },
  {
   "cell_type": "markdown",
   "metadata": {},
   "source": [
    "# What is a water control system?\n",
    "Water-control systems – to control the spatial and temporal distribution ofsurface runoff from rainfall events (drainage engineering). They can also servea use role if the captured rainwater is used later on for water supply (rainwaterharvesting)."
   ]
  },
  {
   "cell_type": "markdown",
   "metadata": {},
   "source": [
    "# What kind of system is depicted in the Figure below?\n",
    "\n",
    "It is a water control system, conveying runoff underneath a traffic lane to allow commerce during rainfall."
   ]
  },
  {
   "cell_type": "markdown",
   "metadata": {},
   "source": [
    "---\n",
    "\n",
    "## Problem 2\n",
    "\n",
    "Use [Title 30, Part 1, Chapter 290, Subchapter D, Rule 290.44 of the Texas Administrative Code](http://54.243.252.9/ce-3372-webroot/3-Readings/TAC-290D/290d.pdf) (or use [RG-195](http://54.243.252.9/ce-3372-webroot/3-Readings/Texas-RG-195/rg-195.pdf)) to answer the following questions:\n",
    "1. What is the minimum pressure requirement for a public water system during normal (non-fire suppression) operation for parts of the system that deliver 1.5 gallons per minute or more?\n",
    "2. What is the minimum pressure requirement for a public water system during emergency (fire suppression) operation for parts of the system that deliver 1.5 gallons per minute or more?\n",
    "3. What is the minimum distance for new potable water distribution lines in feet to wastewater collection facilities?\n",
    "4. What is the minimum free chlorine residual in mg/L required in Texas water distribution systems (if using free chlorine)?"
   ]
  },
  {
   "cell_type": "code",
   "execution_count": 44,
   "metadata": {},
   "outputs": [],
   "source": [
    "# answer 1 here"
   ]
  },
  {
   "cell_type": "code",
   "execution_count": 45,
   "metadata": {},
   "outputs": [],
   "source": [
    "# answer 2 here"
   ]
  },
  {
   "cell_type": "code",
   "execution_count": 46,
   "metadata": {},
   "outputs": [],
   "source": [
    "# answer 3 here"
   ]
  },
  {
   "cell_type": "code",
   "execution_count": 47,
   "metadata": {},
   "outputs": [],
   "source": [
    "# answer 4 here"
   ]
  },
  {
   "cell_type": "markdown",
   "metadata": {},
   "source": [
    "---\n",
    "\n",
    "## Problem 3\n",
    "\n",
    "The figure below is a collection of annotated images of the Edmonston Pumping Plant and\n",
    "pipeline/tunnel system at the southern end of the California Aqueduct. The 10+ mile\n",
    "system lifts water from the Edmonston forebay at elevation 1239 feet to the Tehachapi\n",
    "afterbay at elevation 3131 feet for subsequent distribution to various parts of southern\n",
    "California.\n",
    "\n",
    "![](http://54.243.252.9/ce-3372-webroot/10-Tests-BB-Format/EX1/techapi-1.png)"
   ]
  },
  {
   "cell_type": "markdown",
   "metadata": {},
   "source": [
    "The figure below is a pump performance curve for one of the 14 pumps arranged in two 7-pump\n",
    "bays, each supplying one of the parallel 16-foot diameter steel pressure pipes.\n",
    "\n",
    "![](http://54.243.252.9/ce-3372-webroot/10-Tests-BB-Format/EX1/pump-curve.png)\n",
    "\n",
    "Using these images answer the following questions\n",
    "\n",
    "1. What are the pipe lengths between the indicated locations in Table 1 below (i.e. complete the table)?\n",
    "\n",
    "**Table 1: Selected Pipeline Locations and Distances**\n",
    "\n",
    "|ID |Location| Distance from Pumps (feet)|Connection Sequence|Pipe Length|\n",
    "|:---|:---|:---|:---|:---|\n",
    "|1| Edmonston Pump House| 0 |N/A |0|\n",
    "|2| Surge Tank| 7,671 |1 to 2 ||\n",
    "|3| Pipes to Surface| 19,535| 2 to 3 ||\n",
    "|4| Pipes to Ground| 21,738| 3 to 4 ||\n",
    "|5| High Tunnel| 33,579| 4 to 5 ||\n",
    "|6| Tehachapi Afterbay| 55,256| 5 to 6||\n",
    "\n",
    "2. What is the total length of pipe/tunnel required (in miles)?\n",
    "3. What is the total head at the Edmonston Pump Forebay (the pumphouse)?\n",
    "4. What hydraulic element is used to represent the forebay?\n",
    "5. What is the total head at the Tehachapi Afterbay?\n",
    "6. What hydraulic element is used to represent the afterbay?\n",
    "7. What is the total discharge in the system in cubic-feet-per-second when all 14 pumps are running?\n",
    "8. What is the pressure at the locations in Table 2 (i.e. complete the table)?\n",
    "\n",
    "**Table 2: Selected Pipeline Locations and Pressures**\n",
    "\n",
    "|ID| Location| Distance from Pumps (feet)| Elevation (feet)|Pressure (psi)|\n",
    "|:---|:---|:---|:---|:---|\n",
    "|1| Edmonston Pump House| 0 |1,239\n",
    "|2| Surge Tank| 7,671 |3,121||\n",
    "|3| Pipes to Surface| 19,535 |3,119||\n",
    "|4| Pipes to Ground| 21,738 |3,131||\n",
    "|5| High Tunnel| 33,579 |3,566||\n",
    "|6| Tehachapi Afterbay| 55,256 |3,131||\n",
    "\n",
    "9. What is the velocity of water the each of the pipes?\n",
    "10. What is the mechanical energy required to move the water in kW-h"
   ]
  },
  {
   "cell_type": "code",
   "execution_count": 48,
   "metadata": {},
   "outputs": [],
   "source": [
    "# answer 1 here"
   ]
  },
  {
   "cell_type": "code",
   "execution_count": 49,
   "metadata": {},
   "outputs": [],
   "source": [
    "# answer 2 here"
   ]
  },
  {
   "cell_type": "code",
   "execution_count": 50,
   "metadata": {},
   "outputs": [],
   "source": [
    "# answer 3 here"
   ]
  },
  {
   "cell_type": "code",
   "execution_count": 51,
   "metadata": {},
   "outputs": [],
   "source": [
    "# answer 4 here"
   ]
  },
  {
   "cell_type": "code",
   "execution_count": 52,
   "metadata": {},
   "outputs": [],
   "source": [
    "# answer 5 here"
   ]
  },
  {
   "cell_type": "code",
   "execution_count": 53,
   "metadata": {},
   "outputs": [],
   "source": [
    "# answer 6 here"
   ]
  },
  {
   "cell_type": "code",
   "execution_count": 54,
   "metadata": {},
   "outputs": [],
   "source": [
    "# answer 7 here"
   ]
  },
  {
   "cell_type": "code",
   "execution_count": 55,
   "metadata": {},
   "outputs": [],
   "source": [
    "# answer 8 here"
   ]
  },
  {
   "cell_type": "code",
   "execution_count": 56,
   "metadata": {},
   "outputs": [],
   "source": [
    "# answer 9 here"
   ]
  },
  {
   "cell_type": "code",
   "execution_count": 57,
   "metadata": {},
   "outputs": [],
   "source": [
    "# answer 10 here"
   ]
  },
  {
   "cell_type": "markdown",
   "metadata": {},
   "source": [
    "---\n",
    "\n",
    "## Problem 4\n",
    "\n",
    "The figure below depicts a water supply pump drawing from a reservior. Water is withdrawn\n",
    "from the reservoir with water surface elevation of 200-feet (Point #1 in the figure),\n",
    "by a pump whose inlet eye (Point #2 in the figure) is located 6-feet above the water\n",
    "surface elevation. The reservoir water temperature is 80$^o$ F, and the pump delivers 2\n",
    "cubic feet per second of water from a steel inlet pipe 8 inches in diameter. What is the Net Positive\n",
    "Suction Head available for the condition just described.\n",
    "\n",
    "![](http://54.243.252.9/ce-3372-webroot/10-Tests-BB-Format/EX1/pump-system-1.png)"
   ]
  },
  {
   "cell_type": "code",
   "execution_count": 11,
   "metadata": {},
   "outputs": [
    {
     "name": "stdout",
     "output_type": "stream",
     "text": [
      "Use these values in on-line tool\n",
      "Habs = 32.776271186440674\n",
      "Hvap = 1.1423593220338981\n",
      "Hstat = 6\n",
      "Hfric = 0.12464947706542683\n"
     ]
    }
   ],
   "source": [
    "# answer here\n",
    "Habs = (14.75 - 200*(0.5/1000))*33/14.75\n",
    "Hvap =  0.506*33.3/14.75 # report in feet of water\n",
    "Hstat = 6 # report in feet\n",
    "# assume suction pipe is 6-feet submerged, so total length is 12 feet\n",
    "\n",
    "# hydraulic functions\n",
    "import math   # This will import math module\n",
    "def friction_factor(roughness,diameter,reynolds):\n",
    "    temp1 = roughness/(3.7*diameter)\n",
    "    temp2 = 5.74/(reynolds**(0.9))\n",
    "    temp3 = math.log10(temp1+temp2)\n",
    "    temp3 = temp3**2\n",
    "    friction_factor = 0.25/temp3\n",
    "    return(friction_factor)\n",
    "# Velocity Function\n",
    "def velocity(diameter,discharge):\n",
    "    velocity=discharge/(0.25*math.pi*diameter**2)\n",
    "    return(velocity)\n",
    "# Reynolds Number Function  \n",
    "def reynolds_number(velocity,diameter,mu):\n",
    "    reynolds_number = abs(velocity)*diameter/mu\n",
    "    return(reynolds_number)\n",
    "def headloss(length,diameter,roughness,mu,gravity,discharge):\n",
    "    vel = velocity(diameter,discharge)\n",
    "    red = reynolds_number(vel,diameter,mu)\n",
    "    ff  = friction_factor(roughness,diameter,red)\n",
    "    headloss = ff*(length/diameter)*(vel**2)/(2*gravity)\n",
    "    return(headloss)\n",
    "\n",
    "Hfric = headloss(12,8/12,0.000001,9.3e-06,32.2,2)\n",
    "\n",
    "print('Use these values in on-line tool')\n",
    "print(\"Habs =\",Habs)\n",
    "print(\"Hvap =\",Hvap)\n",
    "print(\"Hstat =\",Hstat)\n",
    "print(\"Hfric =\",Hfric)\n",
    "\n"
   ]
  },
  {
   "cell_type": "markdown",
   "metadata": {},
   "source": [
    "![](http://54.243.252.9/ce-3372-webroot/10-Tests-BB-Format/EX1/npsh-solve.png)"
   ]
  },
  {
   "cell_type": "markdown",
   "metadata": {},
   "source": [
    "---\n",
    "\n",
    "## Problem 5\n",
    "\n",
    "The figure below is a square (plan view) of a large at-grade storaage reservoir. \n",
    "The initial depth in the 1 acre (plan view) (L = 208.71 foot) is Z = 10 feet. \n",
    "What is the average outflow rate in cubic-feet-per-second, if the reservoir drains through the hole in the side in 24 hours?\n",
    "\n",
    "![](http://54.243.252.9/ce-3372-webroot/10-Tests-BB-Format/EX1/big-tank.png)"
   ]
  },
  {
   "cell_type": "code",
   "execution_count": 2,
   "metadata": {},
   "outputs": [
    {
     "name": "stdout",
     "output_type": "stream",
     "text": [
      "Initial Volume = 435600  cubic feet\n",
      "Outflow Rate = 5.042  cfs to drain in 24 hours\n"
     ]
    }
   ],
   "source": [
    "# answer here\n",
    "Area = 43560 # 1 acre == 43560 ft^2\n",
    "Depth = 10 # feet\n",
    "VolumeBegin = Depth*Area\n",
    "TimeToDrain = 24*60*60 # seconds in a day\n",
    "AverageRate = VolumeBegin/TimeToDrain\n",
    "print(\"Initial Volume =\",VolumeBegin,\" cubic feet\")\n",
    "print(\"Outflow Rate =\",round(AverageRate,3),\" cfs to drain in 24 hours\")"
   ]
  },
  {
   "cell_type": "markdown",
   "metadata": {},
   "source": [
    "---\n",
    "\n",
    "## Bonus Problem (Optional)\n",
    "\n",
    "The pressure drop across a valve, through which $0.04 \\frac{m^3}{sec}$ of water flows, is measured\n",
    "to be 100 kPa. Estimate the loss coefficient if the nominal diameter of the valve is 8 cm."
   ]
  },
  {
   "cell_type": "code",
   "execution_count": 60,
   "metadata": {},
   "outputs": [],
   "source": [
    "# answer here"
   ]
  }
 ],
 "metadata": {
  "kernelspec": {
   "display_name": "Python 3",
   "language": "python",
   "name": "python3"
  },
  "language_info": {
   "codemirror_mode": {
    "name": "ipython",
    "version": 3
   },
   "file_extension": ".py",
   "mimetype": "text/x-python",
   "name": "python",
   "nbconvert_exporter": "python",
   "pygments_lexer": "ipython3",
   "version": "3.8.10"
  }
 },
 "nbformat": 4,
 "nbformat_minor": 4
}
