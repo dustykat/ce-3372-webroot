{
 "cells": [
  {
   "cell_type": "code",
   "execution_count": null,
   "metadata": {},
   "outputs": [],
   "source": []
  },
  {
   "cell_type": "markdown",
   "metadata": {},
   "source": [
    "**Download** this file as a Jupyter Notebook@ [http://54.243.252.9/ce-3372-webroot/10-Tests-BB-Format/EX1-2022-1.ipynb](http://54.243.252.9/ce-3372-webroot/10-Tests-BB-Format/EX1-2022-1.ipynb)\n",
    "\n",
    "___\n",
    "\n",
    "# EX-1\n",
    "\n",
    "Copyright © 2022 Theodore G. Cleveland \n",
    "\n",
    "---\n",
    "\n",
    "## Purpose:\n",
    "Demonstrate ability acquired knowledge and skills in CE 3372 relative to water distribution systems and hydraulics of closed conduits.\n",
    "\n",
    "## Instructions\n",
    "\n",
    "\n"
   ]
  },
  {
   "cell_type": "markdown",
   "metadata": {},
   "source": [
    "---\n",
    "\n",
    "## Problem 1\n",
    "\n",
    "1. What is a water use system?\n",
    "2. What is a water control system?\n",
    "3. What kind of system is depicted in the Figure below?\n",
    "\n",
    "![](water-control.png)"
   ]
  },
  {
   "cell_type": "markdown",
   "metadata": {},
   "source": [
    "---\n",
    "\n",
    "## Problem 2\n",
    "\n",
    "Use [Title 30, Part 1, Chapter 290, Subchapter D, Rule 290.44 of the Texas Administrative Code](http://54.243.252.9/ce-3372-webroot/3-Readings/TAC-290D/290d.pdf) (or use [RG-195](http://54.243.252.9/ce-3372-webroot/3-Readings/Texas-RG-195/rg-195.pdf)) to answer the following questions:\n",
    "1. What is the minimum pressure requirement for a public water system during nor-\n",
    "mal (non-\f",
    "re suppression) operation for parts of the system that deliver 1.5 gallons\n",
    "per minute or more?\n",
    "2. What is the minimum pressure requirement for a public water system during emer-\n",
    "gency (\f",
    "re suppression) operation for parts of the system that deliver 1.5 gallons\n",
    "per minute or more?\n",
    "3. What is the minimum distance for new potable water distribution lines in feet to\n",
    "wastewater collection facilities?\n",
    "4. What is the minimum free chlorine residual in mg/L required in Texas water dis-\n",
    "tribution systems (if using free chlorine)?"
   ]
  },
  {
   "cell_type": "code",
   "execution_count": null,
   "metadata": {},
   "outputs": [],
   "source": [
    "# answer 1 here"
   ]
  },
  {
   "cell_type": "code",
   "execution_count": null,
   "metadata": {},
   "outputs": [],
   "source": [
    "# answer 2 here"
   ]
  },
  {
   "cell_type": "code",
   "execution_count": null,
   "metadata": {},
   "outputs": [],
   "source": [
    "# answer 3 here"
   ]
  },
  {
   "cell_type": "code",
   "execution_count": null,
   "metadata": {},
   "outputs": [],
   "source": [
    "# answer 4 here"
   ]
  },
  {
   "cell_type": "markdown",
   "metadata": {},
   "source": [
    "## Problem 3"
   ]
  },
  {
   "cell_type": "markdown",
   "metadata": {},
   "source": [
    "## Problem 4"
   ]
  }
 ],
 "metadata": {
  "kernelspec": {
   "display_name": "Python 3",
   "language": "python",
   "name": "python3"
  },
  "language_info": {
   "codemirror_mode": {
    "name": "ipython",
    "version": 3
   },
   "file_extension": ".py",
   "mimetype": "text/x-python",
   "name": "python",
   "nbconvert_exporter": "python",
   "pygments_lexer": "ipython3",
   "version": "3.8.10"
  }
 },
 "nbformat": 4,
 "nbformat_minor": 4
}
