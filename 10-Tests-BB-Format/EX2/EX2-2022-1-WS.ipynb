{
 "cells": [
  {
   "cell_type": "code",
   "execution_count": null,
   "metadata": {},
   "outputs": [],
   "source": []
  },
  {
   "cell_type": "markdown",
   "metadata": {},
   "source": [
    "**Download** this file as a Jupyter Notebook@ [http://54.243.252.9/ce-3372-webroot/10-Tests-BB-Format/EX2/EX2-2022-1.ipynb](http://54.243.252.9/ce-3372-webroot/10-Tests-BB-Format/EX2/EX2-2022-1.ipynb)\n",
    "\n",
    "___\n",
    "\n",
    "# EX-2 Solution Sketch\n",
    "\n",
    "Copyright © 2022 Theodore G. Cleveland \n",
    "\n",
    "---\n",
    "\n",
    "## Purpose:\n",
    "Demonstrate ability acquired knowledge and skills in CE 3372 relative to use of EPANET\n",
    "\n",
    "## Instructions\n",
    "\n",
    "\n"
   ]
  },
  {
   "cell_type": "markdown",
   "metadata": {},
   "source": [
    "---\n",
    "\n",
    "## Problem 1\n",
    "\n",
    "Consider the two networks depicted in the Figure below. Both network designs serve the same junction nodes, have same nodal demands, and draw supply from the same reservoir.\n",
    "\n",
    "![](http://54.243.252.9/ce-3372-webroot/10-Tests-BB-Format/EX2/NetworkLayouts.png)\n",
    "\n",
    "1. Which network design would be superior in terms of reliability? Why?\n",
    "2. Which network design would cost less to build? Why?\n",
    "3. Which network would be superior in terms of disinfection residual? Why?"
   ]
  },
  {
   "cell_type": "code",
   "execution_count": 3,
   "metadata": {},
   "outputs": [
    {
     "name": "stdout",
     "output_type": "stream",
     "text": [
      "Network B \n",
      " Because except for the single supply line, the remaining system has NO single point of failure\n",
      " and would be expected to function even with one or two lines failed until repaired, albeit at reduced performance\n"
     ]
    }
   ],
   "source": [
    "# answer 1 here\n",
    "print(\"Network B \\n Because except for the single supply line, the remaining system has NO single point of failure\\n and would be expected to function even with one or two lines failed until repaired, albeit at reduced performance\")"
   ]
  },
  {
   "cell_type": "code",
   "execution_count": 4,
   "metadata": {},
   "outputs": [
    {
     "name": "stdout",
     "output_type": "stream",
     "text": [
      "Network A \n",
      " Because fewer pipes means shorter total pipe order, so $/linear foot * linear feet is smaller value. \n"
     ]
    }
   ],
   "source": [
    "# answer 2 here\n",
    "print(\"Network A \\n Because fewer pipes means shorter total pipe order, so $/linear foot * linear feet is smaller value. \")"
   ]
  },
  {
   "cell_type": "code",
   "execution_count": 5,
   "metadata": {},
   "outputs": [
    {
     "name": "stdout",
     "output_type": "stream",
     "text": [
      "Probably B because water can cycle in the system as long as there is a small flow somewhere, not so for Network A\n"
     ]
    }
   ],
   "source": [
    "# answer 3 here\n",
    "print(\"Probably B because water can cycle in the system as long as there is a small flow somewhere, not so for Network A\")"
   ]
  },
  {
   "cell_type": "markdown",
   "metadata": {},
   "source": [
    "---\n",
    "\n",
    "## Problem 2\n",
    "\n",
    "The figure below is a screen capture of the EPANET graphical user interface. Identify the following items in the workspace, and write the item names in the empty boxes on the figure.\n",
    "\n",
    "- Browser\n",
    "- Menu Bar\n",
    "- Network Map \n",
    "- Property Editor \n",
    "- Status Bar\n",
    "- Toolbars\n",
    "\n",
    "![](http://54.243.252.9/ce-3372-webroot/10-Tests-BB-Format/EX2/EPANETinterface.png)\n",
    "\n",
    "Here is the annotated image.\n",
    "\n",
    "![](http://54.243.252.9/ce-3372-webroot/10-Tests-BB-Format/EX2/EPANETinterface-Copy1.png)\n",
    "<!--![](EPANETinterface-Copy1.png)-->"
   ]
  },
  {
   "cell_type": "markdown",
   "metadata": {},
   "source": [
    "---\n",
    "\n",
    "## Problem 3\n",
    "\n",
    "Consider the pipe network portion shown in the Figure below.\n",
    "\n",
    "![](http://54.243.252.9/ce-3372-webroot/10-Tests-BB-Format/EX2/EPANETmodel.png)\n",
    "\n",
    "Node 6 has a total head of 290.5 meters.  All the pipes are PVC (roughness height = 0.007 millimeters)."
   ]
  },
  {
   "cell_type": "markdown",
   "metadata": {},
   "source": [
    "1. What is the discharge, in cubic meters per second in Pipe P1?\n",
    "2. What is the discharge, in cubic meters per second in Pipe P5?\n",
    "3. What is the discharge, in cubic meters per second in Pipe P2?\n",
    "4. What is the discharge, in cubic meters per second in Pipe P3?\n",
    "5. Compute the head loss using the Darcy-Weisbach loss model. What is the head loss in pipe P2 in meters?\n",
    "6. What is the head loss in pipe P3 in meters?\n",
    "7. What is the discharge, in cubic meters per second in Pipe P4? \n",
    "8. What is the head loss in pipe P5 in meters?\n",
    "9. What is the discharge, in cubic meters per second in Pipe P7?\n",
    "10. What is the discharge, in cubic meters per second in Pipe P8?\n",
    "11. What is the head loss in pipe P7 in meters?\n",
    "12. What is the head loss in pipe P8 in meters?\n",
    "13. What is the discharge, in cubic meters per second in Pipe P6?\n",
    "14. What is the head in meters at each node (including the reservoir pool elevation)?"
   ]
  },
  {
   "cell_type": "markdown",
   "metadata": {},
   "source": [
    "It is easy enough to build an EPANET model of the network above as shown below\n",
    "\n",
    "![](http://54.243.252.9/ce-3372-webroot/10-Tests-BB-Format/EX2/EX2-PR3-SOLN.png)\n",
    "<!--![](EX2-PR3-SOLN.png)-->"
   ]
  },
  {
   "cell_type": "markdown",
   "metadata": {},
   "source": [
    "Now we answer the questions directly from the screen capture.\n",
    "\n",
    "1. What is the discharge, in cubic meters per second in Pipe P1?  <font color=\"blue\">8 $m^3/sec$</font>"
   ]
  },
  {
   "cell_type": "markdown",
   "metadata": {},
   "source": [
    "2. What is the discharge, in cubic meters per second in Pipe P5? <font color=\"blue\">3 $m^3/sec$</font>"
   ]
  },
  {
   "cell_type": "markdown",
   "metadata": {},
   "source": [
    "3. What is the discharge, in cubic meters per second in Pipe P2? <font color=\"blue\">4 $m^3/sec$</font>"
   ]
  },
  {
   "cell_type": "markdown",
   "metadata": {},
   "source": [
    "4. What is the discharge, in cubic meters per second in Pipe P3? <font color=\"blue\">4 $m^3/sec$</font>"
   ]
  },
  {
   "cell_type": "markdown",
   "metadata": {},
   "source": [
    "5. Compute the head loss using the Darcy-Weisbach loss model. What is the head loss in pipe P2 in meters? <font color=\"blue\">394.59 $m$</font>"
   ]
  },
  {
   "cell_type": "markdown",
   "metadata": {},
   "source": [
    "6. What is the head loss in pipe P3 in meters? <font color=\"blue\">394.59 $m$</font>"
   ]
  },
  {
   "cell_type": "markdown",
   "metadata": {},
   "source": [
    "7. What is the discharge, in cubic meters per second in Pipe P4?  <font color=\"blue\">0 $m^3/sec$</font>"
   ]
  },
  {
   "cell_type": "markdown",
   "metadata": {},
   "source": [
    "8. What is the head loss in pipe P5 in meters? <font color=\"blue\">226.51 $m$</font>"
   ]
  },
  {
   "cell_type": "markdown",
   "metadata": {},
   "source": [
    "9. What is the discharge, in cubic meters per second in Pipe P7? <font color=\"blue\">1 $m^3/sec$</font>"
   ]
  },
  {
   "cell_type": "markdown",
   "metadata": {},
   "source": [
    "10. What is the discharge, in cubic meters per second in Pipe P8? <font color=\"blue\">1 $m^3/sec$</font>"
   ]
  },
  {
   "cell_type": "markdown",
   "metadata": {},
   "source": [
    "11. What is the head loss in pipe P7 in meters? <font color=\"blue\">27.98 $m$/font>"
   ]
  },
  {
   "cell_type": "markdown",
   "metadata": {},
   "source": [
    "12. What is the head loss in pipe P8 in meters? <font color=\"blue\">27.98 $m$</font>"
   ]
  },
  {
   "cell_type": "markdown",
   "metadata": {},
   "source": [
    "13. What is the discharge, in cubic meters per second in Pipe P6? <font color=\"blue\">0 $m^3/sec$</font>"
   ]
  },
  {
   "cell_type": "markdown",
   "metadata": {},
   "source": [
    "14. What is the head in meters at each node (including the reservoir pool elevation)?\n",
    "\n",
    "|Node ID|Total Head(m)|\n",
    "|:---|:---|\n",
    "|Supply|983.08|\n",
    "|1|939.59|\n",
    "|2|544.99|\n",
    "|3|544.99|\n",
    "|4|290.50|\n",
    "|5|318.49|\n",
    "|6|290.50|"
   ]
  },
  {
   "cell_type": "markdown",
   "metadata": {},
   "source": [
    "---\n",
    "\n",
    "## Problem 4\n",
    "\n",
    "An EPANET file is located at <br> [http://54.243.252.9/ce-3372-webroot/10-Tests-BB-Format/EX2/EaglePass-Base-FGN-Peak.net](http://54.243.252.9/ce-3372-webroot/10-Tests-BB-Format/EX2/EaglePass-Base-FGN-Peak.net)\n",
    "\n",
    "The basemap file is located at <br> [http://54.243.252.9/ce-3372-webroot/10-Tests-BB-Format/EX2/EaglePassPipeNet.bmp](http://54.243.252.9/ce-3372-webroot/10-Tests-BB-Format/EX2/EaglePassPipeNet.bmp)\n",
    "\n",
    "Load the files into EPANET.  Perform a simulation using the demand pattern \"Variable\" that is already included in the file. Run a 24 hour simulation.  Identify the simulation hour when the pressures drop below 0 psi anywhere. Screen capture a network map with this hour showing the nodal pressures.\n",
    "\n",
    "\n",
    "Deliverables:\n",
    "\n",
    "- Screen Captures of Simulations with the identified information."
   ]
  },
  {
   "cell_type": "markdown",
   "metadata": {},
   "source": [
    "### Step 1 Get the files\n",
    "\n",
    "### Step 2 set the simulation time for multiple periods\n",
    "![](http://54.243.252.9/ce-3372-webroot/10-Tests-BB-Format/EX2/EPANET-settime.png)\n",
    "\n",
    "<!--![](EPANET-settime.png)-->\n",
    "\n",
    "### Step 3 set the demand pattern to Variable\n",
    "![](http://54.243.252.9/ce-3372-webroot/10-Tests-BB-Format/EX2/EPANET-setpattern.png)\n",
    "\n",
    "<!--![](EPANET-setpattern.png)-->\n",
    "\n",
    "### Step 4 run the simulation, interpret the output\n",
    "\n",
    "Negative pressures occur at simulation hour 5 in the south central part of the network. as shown in the three screen captures below\n",
    "![](http://54.243.252.9/ce-3372-webroot/10-Tests-BB-Format/EX2/EPANET-negpress.png)\n",
    "\n",
    "<!--![](EPANET-negpress.png)-->"
   ]
  },
  {
   "cell_type": "code",
   "execution_count": null,
   "metadata": {},
   "outputs": [],
   "source": []
  },
  {
   "cell_type": "code",
   "execution_count": null,
   "metadata": {},
   "outputs": [],
   "source": []
  }
 ],
 "metadata": {
  "kernelspec": {
   "display_name": "Python 3 (ipykernel)",
   "language": "python",
   "name": "python3"
  },
  "language_info": {
   "codemirror_mode": {
    "name": "ipython",
    "version": 3
   },
   "file_extension": ".py",
   "mimetype": "text/x-python",
   "name": "python",
   "nbconvert_exporter": "python",
   "pygments_lexer": "ipython3",
   "version": "3.10.12"
  }
 },
 "nbformat": 4,
 "nbformat_minor": 4
}
