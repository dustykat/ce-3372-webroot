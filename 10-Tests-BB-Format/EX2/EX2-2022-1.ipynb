{
 "cells": [
  {
   "cell_type": "code",
   "execution_count": null,
   "metadata": {},
   "outputs": [],
   "source": []
  },
  {
   "cell_type": "markdown",
   "metadata": {},
   "source": [
    "**Download** this file as a Jupyter Notebook@ [http://54.243.252.9/ce-3372-webroot/10-Tests-BB-Format/EX2/EX2-2022-1.ipynb](http://54.243.252.9/ce-3372-webroot/10-Tests-BB-Format/EX2/EX2-2022-1.ipynb)\n",
    "\n",
    "___\n",
    "\n",
    "# EX-2\n",
    "\n",
    "Copyright © 2022 Theodore G. Cleveland \n",
    "\n",
    "---\n",
    "\n",
    "## Purpose:\n",
    "Demonstrate ability acquired knowledge and skills in CE 3372 relative to use of EPANET\n",
    "\n",
    "## Instructions\n",
    "\n",
    "\n"
   ]
  },
  {
   "cell_type": "markdown",
   "metadata": {},
   "source": [
    "---\n",
    "\n",
    "## Problem 1\n",
    "\n",
    "Consider the two networks depicted in the Figure below. Both network designs serve the same junction nodes, have same nodal demands, and draw supply from the same reservoir.\n",
    "\n",
    "![](http://54.243.252.9/ce-3372-webroot/10-Tests-BB-Format/EX2/NetworkLayouts.png)\n",
    "\n",
    "1. Which network design would be superior in terms of reliability? Why?\n",
    "2. Which network design would cost less to build? Why?\n",
    "3. Which network would be superior in terms of disinfection residual? Why?"
   ]
  },
  {
   "cell_type": "code",
   "execution_count": 44,
   "metadata": {},
   "outputs": [],
   "source": [
    "# answer 1 here"
   ]
  },
  {
   "cell_type": "code",
   "execution_count": 45,
   "metadata": {},
   "outputs": [],
   "source": [
    "# answer 2 here"
   ]
  },
  {
   "cell_type": "code",
   "execution_count": 46,
   "metadata": {},
   "outputs": [],
   "source": [
    "# answer 3 here"
   ]
  },
  {
   "cell_type": "markdown",
   "metadata": {},
   "source": [
    "---\n",
    "\n",
    "## Problem 2\n",
    "\n",
    "The figure below is a screen capture of the EPANET graphical user interface. Identify the following items in the workspace, and write the item names in the empty boxes on the figure.\n",
    "\n",
    "- Browser\n",
    "- Menu Bar\n",
    "- Network Map \n",
    "- Property Editor \n",
    "- Status Bar\n",
    "- Toolbars\n",
    "\n",
    "![](http://54.243.252.9/ce-3372-webroot/10-Tests-BB-Format/EX2/EPANETinterface.png)"
   ]
  },
  {
   "cell_type": "markdown",
   "metadata": {},
   "source": [
    "---\n",
    "\n",
    "## Problem 3\n",
    "\n",
    "Consider the pipe network portion shown in the Figure below.\n",
    "\n",
    "![](http://54.243.252.9/ce-3372-webroot/10-Tests-BB-Format/EX2/EPANETmodel.png)\n",
    "\n",
    "Node 6 has a total head of 290.5 meters.  All the pipes are PVC (roughness height = 0.007 millimeters)."
   ]
  },
  {
   "cell_type": "markdown",
   "metadata": {},
   "source": [
    "1. What is the discharge, in cubic meters per second in Pipe P1?\n",
    "2. What is the discharge, in cubic meters per second in Pipe P5?\n",
    "3. What is the discharge, in cubic meters per second in Pipe P2?\n",
    "4. What is the discharge, in cubic meters per second in Pipe P3?\n",
    "5. Compute the head loss using the Darcy-Weisbach loss model. What is the head loss in pipe P2 in meters?\n",
    "6. What is the head loss in pipe P3 in meters?\n",
    "7. What is the discharge, in cubic meters per second in Pipe P4? \n",
    "8. What is the head loss in pipe P5 in meters?\n",
    "9. What is the discharge, in cubic meters per second in Pipe P7?\n",
    "10. What is the discharge, in cubic meters per second in Pipe P8?\n",
    "11. What is the head loss in pipe P7 in meters?\n",
    "12. What is the head loss in pipe P8 in meters?\n",
    "13. What is the discharge, in cubic meters per second in Pipe P6?\n",
    "14. What is the head in meters at each node (including the reservoir pool elevation)?"
   ]
  },
  {
   "cell_type": "code",
   "execution_count": 48,
   "metadata": {},
   "outputs": [],
   "source": [
    "# answer 1 here"
   ]
  },
  {
   "cell_type": "code",
   "execution_count": 49,
   "metadata": {},
   "outputs": [],
   "source": [
    "# answer 2 here"
   ]
  },
  {
   "cell_type": "code",
   "execution_count": 50,
   "metadata": {},
   "outputs": [],
   "source": [
    "# answer 3 here"
   ]
  },
  {
   "cell_type": "code",
   "execution_count": 51,
   "metadata": {},
   "outputs": [],
   "source": [
    "# answer 4 here"
   ]
  },
  {
   "cell_type": "code",
   "execution_count": 52,
   "metadata": {},
   "outputs": [],
   "source": [
    "# answer 5 here"
   ]
  },
  {
   "cell_type": "code",
   "execution_count": 53,
   "metadata": {},
   "outputs": [],
   "source": [
    "# answer 6 here"
   ]
  },
  {
   "cell_type": "code",
   "execution_count": 54,
   "metadata": {},
   "outputs": [],
   "source": [
    "# answer 7 here"
   ]
  },
  {
   "cell_type": "code",
   "execution_count": 55,
   "metadata": {},
   "outputs": [],
   "source": [
    "# answer 8 here"
   ]
  },
  {
   "cell_type": "code",
   "execution_count": 56,
   "metadata": {},
   "outputs": [],
   "source": [
    "# answer 9 here"
   ]
  },
  {
   "cell_type": "code",
   "execution_count": 57,
   "metadata": {},
   "outputs": [],
   "source": [
    "# answer 10 here"
   ]
  },
  {
   "cell_type": "code",
   "execution_count": null,
   "metadata": {},
   "outputs": [],
   "source": [
    "# answer 11 here"
   ]
  },
  {
   "cell_type": "code",
   "execution_count": null,
   "metadata": {},
   "outputs": [],
   "source": [
    "# answer 12 here"
   ]
  },
  {
   "cell_type": "code",
   "execution_count": null,
   "metadata": {},
   "outputs": [],
   "source": [
    "# answer 13 here"
   ]
  },
  {
   "cell_type": "code",
   "execution_count": null,
   "metadata": {},
   "outputs": [],
   "source": [
    "# answer 14 here (put a table for the heads at each node)"
   ]
  },
  {
   "cell_type": "markdown",
   "metadata": {},
   "source": [
    "---\n",
    "\n",
    "## Problem 4\n",
    "\n",
    "An EPANET file is located at <br> [http://54.243.252.9/ce-3372-webroot/10-Tests-BB-Format/EX2/EaglePass-Base-FGN-Peak.net](http://54.243.252.9/ce-3372-webroot/10-Tests-BB-Format/EX2/EaglePass-Base-FGN-Peak.net)\n",
    "\n",
    "The basemap file is located at <br> [http://54.243.252.9/ce-3372-webroot/10-Tests-BB-Format/EX2/EaglePassPipeNet.bmp](http://54.243.252.9/ce-3372-webroot/10-Tests-BB-Format/EX2/EaglePassPipeNet.bmp)\n",
    "\n",
    "Load the files into EPANET.  Perform a simulation using the demand pattern \"Variable\" that is already included in the file. Run a 24 hour simulation.  Identify the simulation hour when the pressures drop below 0 psi anywhere. Screen capture a network map with this hour showing the nodal pressures.\n",
    "\n",
    "\n",
    "Deliverables:\n",
    "\n",
    "- Screen Captures of Simulations with the identified information."
   ]
  },
  {
   "cell_type": "code",
   "execution_count": 58,
   "metadata": {},
   "outputs": [],
   "source": [
    "# answer here"
   ]
  }
 ],
 "metadata": {
  "kernelspec": {
   "display_name": "Python 3 (ipykernel)",
   "language": "python",
   "name": "python3"
  },
  "language_info": {
   "codemirror_mode": {
    "name": "ipython",
    "version": 3
   },
   "file_extension": ".py",
   "mimetype": "text/x-python",
   "name": "python",
   "nbconvert_exporter": "python",
   "pygments_lexer": "ipython3",
   "version": "3.10.12"
  }
 },
 "nbformat": 4,
 "nbformat_minor": 4
}
