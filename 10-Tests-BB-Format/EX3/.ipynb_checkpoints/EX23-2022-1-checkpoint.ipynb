{
 "cells": [
  {
   "cell_type": "code",
   "execution_count": null,
   "metadata": {},
   "outputs": [],
   "source": []
  },
  {
   "cell_type": "markdown",
   "metadata": {},
   "source": [
    "**Download** this file as a Jupyter Notebook@ [http://54.243.252.9/ce-3372-webroot/10-Tests-BB-Format/EX2/EX2-2022-1.ipynb](http://54.243.252.9/ce-3372-webroot/10-Tests-BB-Format/EX2/EX2-2022-1.ipynb)\n",
    "\n",
    "___\n",
    "\n",
    "# EX-3\n",
    "\n",
    "Copyright © 2022 Theodore G. Cleveland \n",
    "\n",
    "---\n",
    "\n",
    "## Purpose:\n",
    "Demonstrate ability acquired knowledge and skills in CE 3372 relative to use of SWMM and Drainage Design\n",
    "\n",
    "## Instructions\n",
    "\n",
    "\n"
   ]
  },
  {
   "cell_type": "markdown",
   "metadata": {},
   "source": [
    "---\n",
    "\n",
    "## Problem 1\n",
    "\n",
    "1. Define the inlet time for an urbanized drainage area.\n",
    "2. List three equations that deal with head loss due to pipe friction. Which of the three equations is intended for use with only water?\n",
    "3. Explain why population forecasting is important for both water distri- bution and wastewater collection system designs.\n",
    "4. Explain why combined sewer systems are no longer constructed in the USA (and elsewhere).\n",
    "5. Describe how to use the system head curve in a pressure pipe system. What does it help a designer select?\n",
    "6. What is a lift station, and when is it needed?"
   ]
  },
  {
   "cell_type": "code",
   "execution_count": 48,
   "metadata": {},
   "outputs": [],
   "source": [
    "# answer 1 here"
   ]
  },
  {
   "cell_type": "code",
   "execution_count": 49,
   "metadata": {},
   "outputs": [],
   "source": [
    "# answer 2 here"
   ]
  },
  {
   "cell_type": "code",
   "execution_count": 50,
   "metadata": {},
   "outputs": [],
   "source": [
    "# answer 3 here"
   ]
  },
  {
   "cell_type": "code",
   "execution_count": 51,
   "metadata": {},
   "outputs": [],
   "source": [
    "# answer 4 here"
   ]
  },
  {
   "cell_type": "code",
   "execution_count": 52,
   "metadata": {},
   "outputs": [],
   "source": [
    "# answer 5 here"
   ]
  },
  {
   "cell_type": "code",
   "execution_count": 53,
   "metadata": {},
   "outputs": [],
   "source": [
    "# answer 6 here"
   ]
  },
  {
   "cell_type": "markdown",
   "metadata": {},
   "source": [
    "---\n",
    "\n",
    "## Problem 1\n",
    "\n",
    "Consider the four drainage areas that drain to the inlets connected to the pipes as shown in Figure 1. A stormwater drainage system is being designed to carry the flow from the four areas.  \n",
    "\n",
    "![](EX3-S22-SWMM-Layout.png)\n",
    "<!--![](http://54.243.252.9/ce-3372-webroot/10-Tests-BB-Format/EX3/EX3-S22-SWMM-Layout.png)-->\n",
    "\n",
    "The areas are depicted with the drainage area for each area and the percent impervious value (approximately the rational runoff coefficient, C) as in Table 1. \n",
    "\n",
    "<center> Table 1 Drainage Area Characteristics </center>\n",
    "\n",
    "|Area ID|Acres|%-Imp|$t_c$ (minutes)|\n",
    "|:---|:---|:---|---:|\n",
    "|1|6.0|65|5:00|\n",
    "|2|5.1|55|14:00|\n",
    "|3|3.5|70|9:00|\n",
    "|4|11.0|60|35:00|\n",
    "\n",
    "The listed $t_c$ are the inlet time of concentration.\n",
    "\n",
    "The numbers in the nodes are the invert elevations of the indicated nodes; Table 2 shows these elevations for the nodes as well as the nearby surface elevation.  \n",
    "\n",
    "<center> Table 2 Node/Inlet Characteristics </center>\n",
    "\n",
    "|Node ID|Invert Elevation(ft)|Grade Elevation(ft)|\n",
    "|:---|:---|:---|\n",
    "|1|25.0|65|\n",
    "|2|24.0|55|\n",
    "|3|23.0|70|\n",
    "|4|21.0|*outfall*|\n",
    "\n",
    "The pipe lengths are indicated by \"L= length\".  The inlet drainage directions are shown by dashed lines.  The contour lines are the land surface elevation.  Table 3 lists relevant pipe information.\n",
    "\n",
    "<center> Table 3 Conduit Properties </center>\n",
    "\n",
    "|Pipe ID|Length(ft)|Diameter (ft)|\n",
    "|:---|:---|:---|\n",
    "|1|6000|??|\n",
    "|2|600|??|\n",
    "|3|1800|??|\n",
    "|4|80060|??|\n",
    "\n",
    "The allowable velocity at design flow is between 2 and 10 feet-per-second. The pipes are to be sized so they flow 4/5 full at the design discharge.  The design storm to test your system is 4.4 inches per hour for 3 hours.\n",
    "\n",
    "An initial SWMM model of the system is available at [EX3-S22-SWMM-P3.inp](http://54.243.252.9/ce-3372-webroot/10-Tests-BB-Format/EX3/EX3-S22-SWMM-P3.inp)\n",
    "\n",
    "Using the initial SWMM model, or your own build (of a model) answer the following design questions:\n",
    "\n",
    "1. What is the depth of the 1800 foot long sewer line (distance from land surface to invert elevation)?\n",
    "2. What special considerations would be required if this line is upsized (increased D)?\n",
    "3. Does the system surcharge anywhere?\n",
    "  - If yes where?\n",
    "  - When?\n",
    "4. Are any of the sewer lines offset relative to a node connection?\n",
    "5. Produce a profile plot of the system at simulation hour 3 running from the leftmost node to the outfall and a second profile running from the node receiving water from the 11 acre drainage area. \n",
    "6. Would moving the connection for the 3.5 acre drainage area produce less surcharge without changing pipe diameters?\n",
    "7. Modify your system so you can accomodate the design storm without surcharge.  \n",
    "  - Consider other conduit geometries (box culverts).\n",
    "  - Consider multiple-barrel systems (two or more pipes in parallel).\n",
    "  - Maintain a cover depth of at least 1 foot over the 1800 foot long sewer line.\n",
    "\n",
    "**Deliverables**\n",
    "1. Answers to above questions with supporting screen captures.\n",
    "2. Details of storm sewer system after pipe resizing\n",
    " - pipe diameters\n",
    " - offsets (if any)\n",
    " - invert elevations\n",
    " - a sketch of the system showing node elevations and pipes\n",
    " 3. Evidence that your redesigned system can accomodate the design storm without surcharge (like profile plots!)\n"
   ]
  },
  {
   "cell_type": "markdown",
   "metadata": {},
   "source": [
    "---\n",
    "\n",
    "## Problem 2\n",
    "\n",
    "Using the base model for Problem 1 add a detention pond to each drainage area that has a surface area of 1/10 of each particular drainage area. (4 detention ponds)  Insert the ponds between the existing areas and the inlet nodes.  Model each pond as a storage node that can store 6-inches of water before overflow.  What effect do these ponds have on the system performance?\n",
    "\n",
    "**Deliverables**\n",
    "\n",
    "1. Details on each pond\n",
    "  - invert elevations\n",
    "  - overflow elevations\n",
    "  - conveyence to the receiving node\n",
    "  - depth-area storage table (for each pond)\n",
    "2. A description of modeling changes required to simulate the ponds (routing model, infiltration model, etc.)\n",
    "3. Screen capture of system hydraulic profiles at simulation hour 3"
   ]
  },
  {
   "cell_type": "markdown",
   "metadata": {},
   "source": [
    "---\n",
    "\n",
    "## Problem 3\n",
    "\n",
    "1. Define inflow and infiltration in the context of a sanitary sewer system.\n",
    "\n",
    "2. The figure below shows ten (10) sources of non-permitted drainage into a sanitary sewer system. For each listed source classify the source type as infiltration or inflow and complete Table 4 <br> ![](http://54.243.252.9/ce-3372-webroot/10-Tests-BB-Format/EX3/IandI.png)\n"
   ]
  },
  {
   "cell_type": "markdown",
   "metadata": {},
   "source": [
    "<center> Table 4 Inflow and Infiltration Source Classification </center>\n",
    "\n",
    "|Source ID|Source Name|Source Type (Inflow or Infiltration?)| \n",
    "|:---|:---|:---|\n",
    "|1|Cracked/Broken Pipe||\n",
    "|2|Foundation Drain||\n",
    "|3|Driveway or Area Drain||\n",
    "|4|Downspout||\n",
    "|5|Leaking/Bad Joints||\n",
    "|6|Leaking/Bad Connection||\n",
    "|7|Sump Pump||\n",
    "|8|Footer Drain||\n",
    "|9|Entrance Way Drain||\n",
    "|10|Wall/Floor Seepage||\n",
    "    \n"
   ]
  },
  {
   "cell_type": "code",
   "execution_count": 48,
   "metadata": {},
   "outputs": [],
   "source": [
    "# answer 1 here"
   ]
  },
  {
   "cell_type": "code",
   "execution_count": 49,
   "metadata": {},
   "outputs": [],
   "source": [
    "# answer 2 here"
   ]
  },
  {
   "cell_type": "code",
   "execution_count": 50,
   "metadata": {},
   "outputs": [],
   "source": [
    "# answer 3 here"
   ]
  },
  {
   "cell_type": "code",
   "execution_count": 51,
   "metadata": {},
   "outputs": [],
   "source": [
    "# answer 4 here"
   ]
  },
  {
   "cell_type": "code",
   "execution_count": 52,
   "metadata": {},
   "outputs": [],
   "source": [
    "# answer 5 here"
   ]
  },
  {
   "cell_type": "code",
   "execution_count": 53,
   "metadata": {
    "jupyter": {
     "source_hidden": true
    }
   },
   "outputs": [],
   "source": [
    "# answer 6 here"
   ]
  },
  {
   "cell_type": "code",
   "execution_count": 54,
   "metadata": {},
   "outputs": [],
   "source": [
    "# answer 7 here"
   ]
  },
  {
   "cell_type": "code",
   "execution_count": 55,
   "metadata": {},
   "outputs": [],
   "source": [
    "# answer 8 here"
   ]
  },
  {
   "cell_type": "code",
   "execution_count": 56,
   "metadata": {},
   "outputs": [],
   "source": [
    "# answer 9 here"
   ]
  },
  {
   "cell_type": "code",
   "execution_count": 57,
   "metadata": {},
   "outputs": [],
   "source": [
    "# answer 10 here"
   ]
  },
  {
   "cell_type": "code",
   "execution_count": null,
   "metadata": {},
   "outputs": [],
   "source": [
    "# answer 11 here"
   ]
  },
  {
   "cell_type": "code",
   "execution_count": null,
   "metadata": {},
   "outputs": [],
   "source": [
    "# answer 12 here"
   ]
  },
  {
   "cell_type": "code",
   "execution_count": null,
   "metadata": {},
   "outputs": [],
   "source": [
    "# answer 13 here"
   ]
  },
  {
   "cell_type": "code",
   "execution_count": null,
   "metadata": {},
   "outputs": [],
   "source": [
    "# answer 14 here (put a table for the heads at each node)"
   ]
  },
  {
   "cell_type": "markdown",
   "metadata": {},
   "source": [
    "---\n",
    "\n",
    "## Problem 4\n",
    "\n",
    "An EPANET file is located at <br> [http://54.243.252.9/ce-3372-webroot/10-Tests-BB-Format/EX2/EaglePass-Base-FGN-Peak.net](http://54.243.252.9/ce-3372-webroot/10-Tests-BB-Format/EX2/EaglePass-Base-FGN-Peak.net)\n",
    "\n",
    "The basemap file is located at <br> [http://54.243.252.9/ce-3372-webroot/10-Tests-BB-Format/EX2/EaglePassPipeNet.bmp](http://54.243.252.9/ce-3372-webroot/10-Tests-BB-Format/EX2/EaglePassPipeNet.bmp)\n",
    "\n",
    "Load the files into EPANET.  Perform a simulation using the demand pattern \"Variable\" that is already included in the file. Run a 24 hour simulation.  Identify the simulation hour when the pressures drop below 0 psi anywhere. Screen capture a network map with this hour showing the nodal pressures.\n",
    "\n",
    "\n",
    "Deliverables:\n",
    "\n",
    "- Screen Captures of Simulations with the identified information."
   ]
  },
  {
   "cell_type": "code",
   "execution_count": 58,
   "metadata": {},
   "outputs": [],
   "source": [
    "# answer here"
   ]
  }
 ],
 "metadata": {
  "kernelspec": {
   "display_name": "Python 3",
   "language": "python",
   "name": "python3"
  },
  "language_info": {
   "codemirror_mode": {
    "name": "ipython",
    "version": 3
   },
   "file_extension": ".py",
   "mimetype": "text/x-python",
   "name": "python",
   "nbconvert_exporter": "python",
   "pygments_lexer": "ipython3",
   "version": "3.8.10"
  }
 },
 "nbformat": 4,
 "nbformat_minor": 4
}
