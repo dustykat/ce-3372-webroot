{
 "cells": [
  {
   "cell_type": "markdown",
   "metadata": {},
   "source": [
    "# 32. Inflow and Infiltration\n",
    "\n",
    ":::{admonition} Course Website\n",
    "[http://54.243.252.9/ce-3372-webroot/](http://54.243.252.9/ce-3372-webroot/)\n",
    ":::"
   ]
  },
  {
   "cell_type": "markdown",
   "metadata": {
    "jp-MarkdownHeadingCollapsed": true
   },
   "source": [
    "## Readings \n",
    ":::{admonition} Textbook \n",
    "[Gupta, R.S., 2017. Hydrology and Hydraulic Systems, pp 1-39](https://www.waveland.com/browse.php?t=384)\n",
    ":::\n",
    "\n",
    ":::{admonition} Additional Readings\n",
    "\n",
    "1. [Cleveland, T. G. (2020) *Water Systems Design Notes (Sanitary Sewer Systems) to accompany CE-3372*, Department of Civil, Environmental, and Construction Engineering, Whitacre College of Engineering. Slides: 28-30)](http://54.243.252.9/ce-3372-webroot/1-Lessons/Lesson22/PowerPointInLecture/CE3372-Lesson-22.pdf)\n",
    "\n",
    "5. [placeholder](http://54.243.252.9/ce-3372-webroot/1-Lessons/Lesson01/PowerPointInLecture/CE3372-L1P2.pdf)\n",
    "\n",
    "6. [placeholder](http://54.243.252.9/ce-3372-webroot/1-Lessons/Lesson01/PowerPointInLecture/CE3372-L1P3.pdf)\n",
    ":::"
   ]
  },
  {
   "cell_type": "markdown",
   "metadata": {},
   "source": [
    "## Videos\n",
    "\n",
    "1. [placeholder](https://www.youtube.com/watch?v=9NYs3Y-IjGw)"
   ]
  },
  {
   "cell_type": "markdown",
   "metadata": {},
   "source": [
    "## Introduction\n",
    "Inflow and infiltration (I&I) are critical concepts in the design and operation of sanitary sewer systems. These phenomena increase the volume of wastewater needing treatment, leading to higher operational costs and potential system overflows.\n",
    "\n",
    "### Definitions\n",
    "1. **Inflow**: Direct connections to sanitary sewers that allow water to enter the system, including:\n",
    "   - Roof gutters\n",
    "   - French drains\n",
    "   - Unauthorized stormwater connections\n",
    "\n",
    "2. **Infiltration**: Leakage into sanitary sewers through:\n",
    "   - Cracks in pipes\n",
    "   - High water tables\n",
    "   - Defective joints and junction boxes\n",
    "\n",
    "## Characteristics of Inflow and Infiltration\n",
    "\n",
    "### Visualizing I&I\n",
    "- **Inflow** is often represented in red.\n",
    "- **Infiltration** is represented in blue.\n",
    "\n",
    "### Image Placeholder\n",
    "![Placeholder for Inflow and Infiltration visualization](path/to/image)\n",
    "\n",
    "## Impacts of I&I\n",
    "\n",
    "### Operational Challenges\n",
    "- Increases in treatment plant loads during wet weather.\n",
    "- Overflows in sanitary systems.\n",
    "- Additional wear and tear on infrastructure.\n",
    "\n",
    "### Mitigation Measures\n",
    "1. Regular inspection and maintenance of sewer systems.\n",
    "2. Prohibition and removal of unauthorized stormwater connections.\n",
    "3. Lining or replacing deteriorated pipes to reduce infiltration.\n",
    "\n",
    "#### Example Code for I&I Volume Estimation (Placeholder):"
   ]
  },
  {
   "cell_type": "markdown",
   "metadata": {},
   "source": [
    "```python\n",
    "# Placeholder for I&I volume calculation\n",
    "import numpy as np\n",
    "inflow_rate = 1000  # gallons per minute\n",
    "infiltration_rate = 500  # gallons per minute\n",
    "total_I_and_I = inflow_rate + infiltration_rate\n",
    "print(\"Total I&I (gpm):\", total_I_and_I)\n",
    "```"
   ]
  },
  {
   "cell_type": "markdown",
   "metadata": {},
   "source": [
    "## Regulatory Context\n",
    "- Regulations often require calculations of I&I as part of system design and operational reporting.\n",
    "- Design flow must account for I&I during peak conditions.\n",
    "\n",
    "## Example Analysis\n",
    "\n",
    "### Equation for Peak Flow Design\n",
    "\\[ Q_{total} = Q_{dry} + Q_{I&I} \\]\n",
    "Where:\n",
    "- \\( Q_{total} \\): Total peak flow\n",
    "- \\( Q_{dry} \\): Peak dry weather flow\n",
    "- \\( Q_{I&I} \\): Combined inflow and infiltration\n",
    "\n",
    "#### Example Calculation:"
   ]
  },
  {
   "cell_type": "code",
   "execution_count": 2,
   "metadata": {},
   "outputs": [
    {
     "name": "stdout",
     "output_type": "stream",
     "text": [
      "Total Peak Flow (gpm): 3500\n"
     ]
    }
   ],
   "source": [
    "#```python\n",
    "# Example calculation of total flow\n",
    "peak_dry_flow = 2000  # gallons per minute\n",
    "I_and_I = 1500  # gallons per minute\n",
    "total_peak_flow = peak_dry_flow + I_and_I\n",
    "print(\"Total Peak Flow (gpm):\", total_peak_flow)\n",
    "#```"
   ]
  },
  {
   "cell_type": "markdown",
   "metadata": {},
   "source": [
    "## Monitoring and Management\n",
    "\n",
    "### Techniques\n",
    "- **Flow monitoring**: Using weirs, magmeters, or acoustic Doppler profiling.\n",
    "- **CCTV inspections**: Locating and identifying sources of infiltration.\n",
    "- **Smoke testing**: Detecting unauthorized connections.\n",
    "\n",
    "### Image Placeholder\n",
    "![Placeholder for flow monitoring techniques](path/to/image)\n",
    "\n",
    "---\n",
    "\n",
    "This section provides an overview of inflow and infiltration, their impacts, and common methods for analysis and mitigation in sanitary sewer systems. It highlights the importance of proper design and maintenance to minimize these challenges."
   ]
  },
  {
   "cell_type": "markdown",
   "metadata": {},
   "source": [
    "## End of Section"
   ]
  }
 ],
 "metadata": {
  "kernelspec": {
   "display_name": "Python 3 (ipykernel)",
   "language": "python",
   "name": "python3"
  },
  "language_info": {
   "codemirror_mode": {
    "name": "ipython",
    "version": 3
   },
   "file_extension": ".py",
   "mimetype": "text/x-python",
   "name": "python",
   "nbconvert_exporter": "python",
   "pygments_lexer": "ipython3",
   "version": "3.10.12"
  }
 },
 "nbformat": 4,
 "nbformat_minor": 4
}