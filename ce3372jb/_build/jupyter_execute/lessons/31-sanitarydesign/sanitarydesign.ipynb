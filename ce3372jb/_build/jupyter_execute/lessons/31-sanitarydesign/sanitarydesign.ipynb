{
 "cells": [
  {
   "cell_type": "markdown",
   "metadata": {},
   "source": [
    "# 31. Sanitary Sewer Guidelines \n",
    "\n",
    ":::{admonition} Course Website\n",
    "[http://54.243.252.9/ce-3372-webroot/](http://54.243.252.9/ce-3372-webroot/)\n",
    ":::"
   ]
  },
  {
   "cell_type": "markdown",
   "metadata": {
    "jp-MarkdownHeadingCollapsed": true
   },
   "source": [
    "## Readings \n",
    ":::{admonition} Textbook \n",
    "[Gupta, R.S., 2017. Hydrology and Hydraulic Systems, pp 1-39](https://www.waveland.com/browse.php?t=384)\n",
    ":::\n",
    "\n",
    ":::{admonition} Additional Readings\n",
    "\n",
    "1. [Cleveland, T. G. (2020) *Water Systems Design Notes (Sanitary Sewer Systems) to accompany CE-3372*, Department of Civil, Environmental, and Construction Engineering, Whitacre College of Engineering. Slides: 1-27](http://54.243.252.9/ce-3372-webroot/1-Lessons/Lesson22/PowerPointInLecture/CE3372-Lesson-22.pdf)\n",
    "\n",
    "5. [placeholder](http://54.243.252.9/ce-3372-webroot/1-Lessons/Lesson01/PowerPointInLecture/CE3372-L1P2.pdf)\n",
    "\n",
    "6. [placeholder](http://54.243.252.9/ce-3372-webroot/1-Lessons/Lesson01/PowerPointInLecture/CE3372-L1P3.pdf)\n",
    ":::"
   ]
  },
  {
   "cell_type": "markdown",
   "metadata": {},
   "source": [
    "## Videos\n",
    "\n",
    "1. [placeholder](https://www.youtube.com/watch?v=9NYs3Y-IjGw)"
   ]
  },
  {
   "cell_type": "markdown",
   "metadata": {},
   "source": [
    "# Sanitary Collection Systems\n",
    "\n",
    "## Introduction\n",
    "\n",
    "Collection systems, or sewers, are essential for gathering wastewater and delivering it to a common destination. This can be a treatment facility for sanitary wastewater (sewage) or a direct outfall into a receiving stream for stormwater. \n",
    "\n",
    "### Importance of Collection Systems\n",
    "- Collection systems play a vital role in controlling water quality by managing potential non-point source discharges and converting them into manageable point discharges.\n",
    "\n",
    "## Sewer Types\n",
    "\n",
    "### Categories of Sewer Systems\n",
    "1. **Sanitary Sewer Systems**: Collect and transport wastewater to a treatment plant for further processing.\n",
    "2. **Storm Sewer Systems**: Collect and direct stormwater to a receiving water body, addressing nuisance flooding and improving infrastructure serviceability.\n",
    "3. **Combined Sewer Systems (CSS)**: Designed to handle both sanitary and stormwater. These are no longer built in the USA, but older cities maintain legacy systems.\n",
    "\n",
    "### Common Features Across Sewer Types\n",
    "- Hydraulics: Open channel flow.\n",
    "- Components: Pipes, boxes, junctions, and lift stations.\n",
    "- Purpose: Sanitary systems protect public health by isolating waste, while storm systems manage nuisance flooding and may also confer water quality benefits.\n",
    "\n",
    "## Sanitary Sewer Design\n",
    "\n",
    "### Characteristics\n",
    "- Underground pipelines collect and transmit sewage from distributed sources to a central location.\n",
    "- Operate as open channels driven by gravity.\n",
    "- Require lift stations to maintain flow in certain areas, with the pumped flow conveyed through force mains before returning to open flow.\n",
    "\n",
    "### Governing Regulations\n",
    "- Federal, state, and municipal laws dictate materials, joints, labeling, and more.\n",
    "- Designs often require the involvement of a licensed professional engineer (PE).\n",
    "\n",
    "### Hydraulic Behavior\n",
    "- Sewage behaves like water but may contain up to 5% solids by mass.\n",
    "- Design concerns include corrosion and safety for maintenance personnel.\n",
    "\n",
    "#### Example Code for Hydraulic Analysis (Placeholder):"
   ]
  },
  {
   "cell_type": "code",
   "execution_count": null,
   "metadata": {},
   "outputs": [],
   "source": [
    "# Placeholder for hydraulic calculations\n",
    "import numpy as np\n",
    "# Define pipe parameters, flow rates, and more here"
   ]
  },
  {
   "cell_type": "markdown",
   "metadata": {},
   "source": [
    "## Sewage Quantity\n",
    "\n",
    "### Estimation Methods\n",
    "- Small residential areas: Based on population or equivalent residential units (ERU).\n",
    "- Larger areas: Derived from land use, anticipated population, and measured flows in similar nearby systems.\n",
    "\n",
    "### Flow Calculation Requirements\n",
    "1. Include average dry weather flow, peaking factors, and inflow/infiltration.\n",
    "2. Account for immediate post-construction and end-of-life (50 years) conditions.\n",
    "\n",
    "#### Design Flow Equation\n",
    "\n",
    "[cite source] A representative design equation for a residential unit is:\n",
    "\n",
    "$ Q = X \\times (1 + B) $\n",
    "\n",
    "Where:\n",
    "- $ Q $: Flow in gallons per day\n",
    "- $ X $: Per capita wastewater production\n",
    "- $ B $: Number of bedrooms\n",
    "\n",
    "#### Example Code for Flow Estimation (Placeholder):"
   ]
  },
  {
   "cell_type": "code",
   "execution_count": 1,
   "metadata": {},
   "outputs": [
    {
     "name": "stdout",
     "output_type": "stream",
     "text": [
      "Estimated flow (gpd): 280\n"
     ]
    }
   ],
   "source": [
    "#```python\n",
    "# Placeholder for flow estimation\n",
    "population = 500\n",
    "per_capita_waste = 70 # gallons per day\n",
    "number_of_bedrooms = 3\n",
    "flow = per_capita_waste * (1 + number_of_bedrooms)\n",
    "print(\"Estimated flow (gpd):\", flow)\n",
    "#```"
   ]
  },
  {
   "cell_type": "markdown",
   "metadata": {},
   "source": [
    "### Additional Requirements\n",
    "- Ensure sufficient capacity for future populations, including institutional and industrial flows.\n",
    "- Design to prevent pipe surcharges at peak flows.\n",
    "\n",
    "## Modeling Sewers in SWMM\n",
    "- Collection systems in SWMM are modeled similarly to stormwater systems.\n",
    "- Components like reactors, sumps, and pumps can be modeled for hydraulic analysis within a treatment plant.\n",
    "\n",
    "### Image Placeholder\n",
    "![Placeholder for SWMM diagram](path/to/image)"
   ]
  },
  {
   "cell_type": "markdown",
   "metadata": {},
   "source": [
    "## End of Section"
   ]
  }
 ],
 "metadata": {
  "kernelspec": {
   "display_name": "Python 3 (ipykernel)",
   "language": "python",
   "name": "python3"
  },
  "language_info": {
   "codemirror_mode": {
    "name": "ipython",
    "version": 3
   },
   "file_extension": ".py",
   "mimetype": "text/x-python",
   "name": "python",
   "nbconvert_exporter": "python",
   "pygments_lexer": "ipython3",
   "version": "3.10.12"
  }
 },
 "nbformat": 4,
 "nbformat_minor": 4
}