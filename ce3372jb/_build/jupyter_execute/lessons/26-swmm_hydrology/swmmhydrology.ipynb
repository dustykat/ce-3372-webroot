{
 "cells": [
  {
   "cell_type": "markdown",
   "metadata": {},
   "source": [
    "# 25. SWMM Hydrology\n",
    "\n",
    ":::{admonition} Course Website\n",
    "[http://54.243.252.9/ce-3372-webroot/](http://54.243.252.9/ce-3372-webroot/)\n",
    ":::"
   ]
  },
  {
   "cell_type": "markdown",
   "metadata": {},
   "source": [
    "This section focuses on hydrological modeling using the Storm Water Management Model (SWMM), a widely used software tool for simulating rainfall-runoff processes in urban environments. Understanding the key hydrological concepts within SWMM is essential for adequately modeling stormwater systems, managing surface runoff, and designing urban drainage solutions.\n",
    "\n",
    "It reviews important hydrological principles such as rainfall-runoff generation and by examples demonstrates how each concept is modeled within SWMM.\n",
    "\n",
    "Upon completion you should have rudimentary understanding of:\n",
    "\n",
    "- How hydrological concepts are represented in SWMM; in particular how SWMM simplifies and structures complex hydrological processes, such as surface runoff generation, infiltration losses, and flow routing.\n",
    "\n",
    "- How to input data into SWMM: Using basic data inputs like rainfall, land use, and surface characteristics, the section demonstrates how to set up a model, showing what types of data are required and how they are incorporated into the software.\n",
    "\n",
    "- How to generate and interpret results: After running a SWMM simulation, the section demonstrates how to analyze the results, which typically include hydrographs, flow rates, and water quality data. It also covers how to interpret these outputs to make informed decisions regarding stormwater management.\n"
   ]
  },
  {
   "cell_type": "markdown",
   "metadata": {},
   "source": [
    "## SWMM/Hydrology Review\n",
    "- Design Storms\n",
    "- Runoff Generation\n",
    "- Raingages \n",
    "- SWMM Conceptualization(s)\n",
    "- Catchment-to-Catchment Routing\n",
    "- SWMM Example"
   ]
  },
  {
   "cell_type": "markdown",
   "metadata": {},
   "source": [
    "## Design Storms\n",
    "- SCS Type-Curves\n",
    "- Other Dimensionlass Hyetographs\n",
    "- NOAA Atlas 14"
   ]
  },
  {
   "cell_type": "markdown",
   "metadata": {},
   "source": [
    "### Runoff Generation\n",
    "\n",
    "- Proportional Model (Rational approximation)\n",
    "- NRCS CN Model\n",
    "- Horton Infiltration Excess Model\n",
    "- Green-Ampt Infiltration Excess Model"
   ]
  },
  {
   "cell_type": "markdown",
   "metadata": {},
   "source": [
    "## Raingages\n",
    "\n",
    "- Using HEC-HMS to generate input\n",
    "- Manual entry\n",
    "- Elapsed Time versus Calendar/Clock Time\n"
   ]
  },
  {
   "cell_type": "markdown",
   "metadata": {},
   "source": [
    "## SWMM Conceptualization(s)"
   ]
  },
  {
   "cell_type": "markdown",
   "metadata": {},
   "source": [
    "## Catchment-to-Catchment Routing"
   ]
  },
  {
   "cell_type": "markdown",
   "metadata": {},
   "source": [
    "## SWMM Example"
   ]
  },
  {
   "cell_type": "code",
   "execution_count": null,
   "metadata": {},
   "outputs": [],
   "source": []
  }
 ],
 "metadata": {
  "kernelspec": {
   "display_name": "Python 3",
   "language": "python",
   "name": "python3"
  },
  "language_info": {
   "codemirror_mode": {
    "name": "ipython",
    "version": 3
   },
   "file_extension": ".py",
   "mimetype": "text/x-python",
   "name": "python",
   "nbconvert_exporter": "python",
   "pygments_lexer": "ipython3",
   "version": "3.8.10"
  }
 },
 "nbformat": 4,
 "nbformat_minor": 4
}