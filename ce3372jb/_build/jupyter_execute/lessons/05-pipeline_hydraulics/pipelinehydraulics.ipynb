{
 "cells": [
  {
   "cell_type": "markdown",
   "metadata": {},
   "source": [
    "# 5.1 Pipeline Hydraulics\n",
    "\n",
    ":::{admonition} Course Website \n",
    "http://54.243.252.9/ce-3372-webroot/ \n",
    ":::"
   ]
  },
  {
   "cell_type": "markdown",
   "metadata": {},
   "source": [
    "## Readings \n",
    ":::{admonition} Textbook \n",
    "[Gupta, R.S., 2017. Hydrology and Hydraulic Systems, pp 633-661](https://www.waveland.com/browse.php?t=384)\n",
    ":::\n",
    "\n",
    ":::{admonition} Additional Readings\n",
    "\n",
    "2. [Nickerson G. 2008. \"Water Distribution Systems\" in Land Development Handbook, Ed. S.O. Dewberry, Dewberry Inc., McGraw-Hill](http://54.243.252.9/ce-3372-webroot/3-Readings/WaterDistributionSystems/)\n",
    "\n",
    "3. [Roberson, J.A., Cassidy, J.J., and Chaudry, M.H. (1988) Closed Conduits in \"Hydraulic Engineering.\" Houghton Mifflin Co. pp. 240-310](http://54.243.252.9/ce-3372-webroot/3-Readings/Chapter5/)\n",
    "\n",
    "4. [Chin, D. (2006). pp. 10-26 in \"Water Resources Engineering, 2 ed.\" Prentice Hall, Inc. ](http://54.243.252.9/ce-3372-webroot/3-Readings/Chin_10-26/)\n",
    "\n",
    "5. [Wurbs, R.A., and James, W. P. (2002) \"Hydraulics of Pipelines and Pipe Networks\" in *Water Resources Engineering, Prentice Hall; pp.130-156; and 156-198*.](http://54.243.252.9/ce-3372-webroot/3-Readings/Wurbs130-198/)\n",
    "\n",
    "4. [Cleveland, T. G. (2020) *Water Systems Design Notes (Pipe Hydraulics Part 1) to accompany CE-3372*, Department of Civil, Environmental, and Construction Engineering, Whitacre College of Engineering.](ce-3372-webroot/1-Lessons/Lesson04/PowerPointInLecture/CE3372-L4P1.pdf)\n",
    "\n",
    "5. [Cleveland, T. G. (2020) *Water Systems Design Notes (Pipe Hydraulics Part 2) to accompany CE-3372*, Department of Civil, Environmental, and Construction Engineering, Whitacre College of Engineering.](ce-3372-webroot/1-Lessons/Lesson04/PowerPointInLecture/CE3372-L4P2.pdf)\n",
    "\n",
    "6. [Cleveland, T. G. (2020) *Water Systems Design Notes (Pipe Hydraulics Part 3) to accompany CE-3372*, Department of Civil, Environmental, and Construction Engineering, Whitacre College of Engineering.](ce-3372-webroot/1-Lessons/Lesson04/PowerPointInLecture/CE3372-L4P3.pdf)\n",
    ":::"
   ]
  },
  {
   "cell_type": "markdown",
   "metadata": {},
   "source": [
    "## Videos\n",
    "\n",
    "1. [none](https://www.youtube.com/watch?v=9NYs3Y-IjGw)"
   ]
  },
  {
   "cell_type": "markdown",
   "metadata": {},
   "source": [
    "## Lesson Outline\n",
    "1. topic1\n",
    "2. topic2\n",
    "3. topic3"
   ]
  },
  {
   "cell_type": "markdown",
   "metadata": {},
   "source": [
    "## Example: Steady Discharge between Reservoirs\n",
    "\n",
    "Here we examine relatively simple hydraulics problems (to refresh our fluids mechanics knowledge) - what is the discharge in the pipe for the situation depicted\n",
    "\n",
    "## Problem Statement \n",
    "\n",
    "![image.png](ex1-1.png)\n",
    "\n",
    "### Known Values\n",
    "\n",
    "Use tables and references to find known values\n",
    "\n",
    "- Roughness height:\n",
    "\n",
    "![image.png](ex1-2.png)\n",
    "\n",
    "[Link to tool](http://54.243.252.9/toolbox/Databases/RoughnessHeight/RoughnessHeight.html)\n",
    "\n",
    "- Millimeters to Feet\n",
    "\n",
    "![image.png](ex1-3.png)\n",
    "\n",
    "[Link to tool](http://54.243.252.9/toolbox/ordinarytools/UnitsConverterTool/UnitsConverterTool.html)\n",
    "\n",
    "- Water Properties\n",
    "\n",
    "![image.png](ex1-4.png)\n",
    "\n",
    "[Link to tool](http://54.243.252.9/toolbox/fluidmechanics/WaterPropertiesUS/WaterPropertiesUS.html)\n",
    "\n",
    "- Minor Loss Coefficients\n",
    "\n",
    "![image.png](ex1-5.png)\n",
    "\n",
    "### Consolidate Values for Data Input\n",
    "\n",
    "![image.png](ex1-6.png)\n",
    "\n",
    "### Apply Tool\n",
    "\n",
    "![image.png](ex1-7.png)\n",
    "\n",
    "[Link to tool](http://54.243.252.9/toolbox/pipehydraulics/Q2Reservoir/Q2Reservoir.html)\n",
    "\n",
    "\n",
    "### Or using our Jupyter Script\n",
    "\n",
    "Our script below applied to the same inputs"
   ]
  },
  {
   "cell_type": "code",
   "execution_count": 1,
   "metadata": {},
   "outputs": [
    {
     "name": "stdout",
     "output_type": "stream",
     "text": [
      "Pipe Diameter :  2.0\n",
      "Pipe Length :  10680.0\n",
      "Pipe Roughness Height :  0.00328\n",
      "Liquid Viscosity :  1.41e-05\n",
      "Gravitational acceleration constant :  32.2\n",
      "Head loss :  20.0\n",
      "Discharge :  10.24529705017876\n"
     ]
    }
   ],
   "source": [
    "# modified from getQfromH.py\n",
    "# ipython module for pipeline hydraulics\n",
    "# computation engine #########################\n",
    "# import built in functions for log, sqrt\n",
    "from math import log,sqrt\n",
    "# Define the prototype function\n",
    "def jainQ(pipe_diameter,pipe_length,roughness,viscosity,grabity,head_loss):\n",
    "    egl_slope = head_loss/pipe_length\n",
    "    t1 = sqrt(grabity*pipe_diameter*egl_slope)\n",
    "    t2 = roughness/(3.7*pipe_diameter)\n",
    "    t3 = 1.78*viscosity\n",
    "    jainQ = (-0.965*pipe_diameter**2)*t1*log(t2 + t3/(pipe_diameter*t1))\n",
    "    return jainQ\n",
    "# values from Example\n",
    "pipe_diameter = 2.0\n",
    "pipe_length = 10680.0\n",
    "roughness = 0.00328\n",
    "viscosity = 1.41e-05\n",
    "grabity = 32.2\n",
    "head_loss = 20.0\n",
    "# disable above and insert interface engine here\n",
    "#\n",
    "# now perform computation and construct output\n",
    "discharge = jainQ(pipe_diameter,pipe_length,roughness,viscosity,grabity,head_loss)\n",
    "# Echo inputs, and outputs\n",
    "print (\"Pipe Diameter : \", pipe_diameter)\n",
    "print (\"Pipe Length : \", pipe_length)\n",
    "print (\"Pipe Roughness Height : \", roughness)\n",
    "print (\"Liquid Viscosity : \", viscosity)\n",
    "print (\"Gravitational acceleration constant : \",grabity) \n",
    "print (\"Head loss : \",head_loss)\n",
    "print (\"Discharge : \",discharge)"
   ]
  },
  {
   "cell_type": "markdown",
   "metadata": {},
   "source": [
    "> Results are close, but not identical. Why? *The JupyterLab script did not include the minor loss terms*"
   ]
  },
  {
   "cell_type": "markdown",
   "metadata": {},
   "source": [
    "## Linking Systems \n",
    "\n",
    "A hydraulic system can be analysed as a set of linked components to make an otherwise complicated system easier to analyze.\n",
    "\n",
    "- Idea is to decompose into smaller (hydraulically) independent parts, analyze the parts then reassemble (integrate) the parts to answer questions about the whole system\n",
    "\n",
    "### Example: Rural Water Supply to a Village School\n",
    "\n",
    "![image.png](africa-system.png)\n",
    "\n",
    "The figure is an aerial image of a pipeline system with preliminary engineering sketches of the system (lower left panel) and a detail sketch of the terminal small storage tank (upper right panel). The 3,200 meter long pipeline lifts 25C water ( $\\rho= 997 kg/m^3$,$\\nu= 8.94 E-7 m^2/s$) from a treatment plant on the downstream face of Gulameta Dam through a 127 millimeter high-density polyethylene (HDPE) pipe (ks =0.0015 mm) to a large diameter at-grade cylindrical storage tank. A secondary, 800 meter long pipeline carries water from the large diameter storage tank to a small, cylindrical (D = 1 meter), elevated storage tank at the village school. Both storage tanks have float valves to prevent overflow and maintain the indicated water pool elevations.\n",
    "\n",
    "Analyze proposed system to determine anticipated behavior under various situations:\n",
    "\n",
    "- Float valve fails at school\n",
    "- Outlet valve accidently left open\n",
    "- Pump operation under worst failure mode\n",
    "- Pump fails, time until system fails/drains\n",
    "- Float valve limited\n",
    "- Oultet valve limited"
   ]
  },
  {
   "cell_type": "markdown",
   "metadata": {},
   "source": [
    "**Float Valve at School Fails**\n",
    "\n",
    "> Get dimensions\n",
    "\n",
    "![](africa-1.png)\n",
    "\n",
    "> Get material properties, and loss coefficients\n",
    "\n",
    "![](africa-2.png)\n",
    "\n",
    "> Apply On-Line Tool or JupyterLab script\n",
    "\n",
    "![](africa-3.png)\n",
    "\n",
    "The JupyterLab script is shown below, but needs modification for the minor losses. Hence the two values are sort of close, but without all losses the JupyterLab script as shown overestimates the discharge. "
   ]
  },
  {
   "cell_type": "code",
   "execution_count": 2,
   "metadata": {},
   "outputs": [
    {
     "name": "stdout",
     "output_type": "stream",
     "text": [
      "Pipe Diameter :  0.127\n",
      "Pipe Length :  800.0\n",
      "Pipe Roughness Height :  7e-06\n",
      "Liquid Viscosity :  1e-06\n",
      "Gravitational acceleration constant :  9.8\n",
      "Head loss :  14.3\n",
      "Discharge :  21.185  liters/sec\n"
     ]
    }
   ],
   "source": [
    "# modified from getQfromH.py\n",
    "# ipython module for pipeline hydraulics\n",
    "# computation engine #########################\n",
    "# import built in functions for log, sqrt\n",
    "from math import log,sqrt\n",
    "# Define the prototype function\n",
    "def jainQ(pipe_diameter,pipe_length,roughness,viscosity,grabity,head_loss):\n",
    "    egl_slope = head_loss/pipe_length\n",
    "    t1 = sqrt(grabity*pipe_diameter*egl_slope)\n",
    "    t2 = roughness/(3.7*pipe_diameter)\n",
    "    t3 = 1.78*viscosity\n",
    "    jainQ = (-0.965*pipe_diameter**2)*t1*log(t2 + t3/(pipe_diameter*t1))\n",
    "    return jainQ\n",
    "# values from Example\n",
    "pipe_diameter = 0.127\n",
    "pipe_length = 800.0\n",
    "roughness = 0.000007\n",
    "viscosity = 1.0e-06\n",
    "grabity = 9.8\n",
    "head_loss = 14.3\n",
    "# disable above and insert interface engine here\n",
    "#\n",
    "# now perform computation and construct output\n",
    "discharge = jainQ(pipe_diameter,pipe_length,roughness,viscosity,grabity,head_loss)\n",
    "# Echo inputs, and outputs\n",
    "print (\"Pipe Diameter : \", pipe_diameter)\n",
    "print (\"Pipe Length : \", pipe_length)\n",
    "print (\"Pipe Roughness Height : \", roughness)\n",
    "print (\"Liquid Viscosity : \", viscosity)\n",
    "print (\"Gravitational acceleration constant : \",grabity) \n",
    "print (\"Head loss : \",head_loss)\n",
    "print (\"Discharge : \",round(discharge*1000,3),\" liters/sec\")"
   ]
  },
  {
   "cell_type": "markdown",
   "metadata": {},
   "source": [
    "**School Outlet Valve Left Open**\n",
    "\n",
    "Treat as a hole in the tank, assume supply side is unchanged and maintains downstream water level\n",
    "\n",
    "![](africa-44.png)\n",
    "\n",
    "> JupyterLab script for hole in tank (future version this book)"
   ]
  },
  {
   "cell_type": "markdown",
   "metadata": {},
   "source": [
    "## End of Section"
   ]
  }
 ],
 "metadata": {
  "kernelspec": {
   "display_name": "Python 3 (ipykernel)",
   "language": "python",
   "name": "python3"
  },
  "language_info": {
   "codemirror_mode": {
    "name": "ipython",
    "version": 3
   },
   "file_extension": ".py",
   "mimetype": "text/x-python",
   "name": "python",
   "nbconvert_exporter": "python",
   "pygments_lexer": "ipython3",
   "version": "3.10.12"
  }
 },
 "nbformat": 4,
 "nbformat_minor": 4
}