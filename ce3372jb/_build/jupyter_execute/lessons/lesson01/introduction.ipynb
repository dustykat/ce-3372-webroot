{
 "cells": [
  {
   "cell_type": "markdown",
   "metadata": {},
   "source": [
    "# 1. Introduction\n",
    "\n",
    ":::{admonition} Course Website\n",
    "[http://54.243.252.9/ce-3372-webroot/](http://54.243.252.9/ce-3372-webroot/)\n",
    ":::"
   ]
  },
  {
   "cell_type": "markdown",
   "metadata": {},
   "source": [
    "## Readings \n",
    "\n",
    "1. [Introduction to Water Resources Engineering Pages 1-33 from Wurbs,R.A., and James, W.P. (2002) Water Resources Engineering, Prentice Hall.](http://54.243.252.9/ce-3372-webroot/3-Readings/Wurbs1-33/Wurbs1-33.pdf)\n",
    "\n",
    "2. [Introduction to Water Resources Engineeirng Pages 1-11 from Mays, L.W. (2011) Water Resources Engineering, J. Wiley and Sons.](http://54.243.252.9/ce-3372-webroot/3-Readings/Mays1-11/Mays1-11.pdf)\n",
    "\n",
    "3. [Introduction to Water Resources Engineering Pages 1-8 from Chin, D. A. (2006) Water-Resources Engineering, Pearson-Prentice Hall.](http://54.243.252.9/ce-3372-webroot/3-Readings/Chin1-8/Chin1-8.pdf)"
   ]
  },
  {
   "cell_type": "markdown",
   "metadata": {},
   "source": [
    "## Videos\n",
    "\n",
    "1. [none](https://www.youtube.com/watch?v=9NYs3Y-IjGw)"
   ]
  },
  {
   "cell_type": "markdown",
   "metadata": {},
   "source": [
    "## Lesson Outline\n",
    "1. Course Overview\n",
    "2. Types of Water Systems\n",
    "3. Photo Essay\n",
    "4. Software"
   ]
  },
  {
   "cell_type": "markdown",
   "metadata": {},
   "source": [
    "\n",
    "## Overview\n",
    "The title of the course is water systems design.  The catalog description is: \n",
    "> CE 3372.  Water Systems Design (3:3:0).Prerequesite: CE 33051, 33542.Hydraulic analysis and design of municipal water distribution, stormwater collection, and wastewater collection systems.  Oral and written presentations.  (Writing Intensive)\n",
    "\n",
    "The general scope of the course is:\n",
    "\n",
    "- Examination of design guidance documents for drinking water distribution systems, a review of pipeline hydraulics, demand estimation, then a design project related to a drinking water distribution system. \n",
    "- The computer program EPANET is presented to provide a tool for the hydraulic modeling component of drinking water system design.\n",
    "- Examination of design guidance for stormwater collection systems, presents a review of open channel hydraulics (as related to storm sewers),  capacity (hydrology)  estimation,  then  a  design  project  related  to  a  stormwater  collection system.\n",
    "- The computer program SWMM 5 is presented to provide a tool for the hydrologic/hydraulic modeling component of the stormwater collection system design.\n",
    "- Examination of design guidance for wastewater collection systems, then  a  design  project  related  to  a  stormwater  collection system.\n",
    "\n",
    "The graded components of the course are:\n",
    "\n",
    "- Quizzes (administered on a learning management system); individual activity\n",
    "- Exercises (collected on a learning management system); group activity\n",
    "- Exams (administered on a learning management system); individual activity\n",
    "- A design  report  (Three parts; collected  on  a  learning  management  system);  group activity\n",
    "- A design  presentation  (administered  on  a  learning  management  system);  group activity"
   ]
  },
  {
   "cell_type": "markdown",
   "metadata": {},
   "source": [
    "---\n",
    "\n",
    "## Water Systems Definition(s)\n",
    "The course title is Water Systems Design, so a natural question is what is meant by a water system?  In this course it refers to a water distribution system that conveys raw or treated water to customers, a storm water collection system that conveys storm water away from infrastructure to reduce flooding damages and activities of daily life inconvenience,and wastewater collection systems that convey wastewater to treatment facilities for eventual release of the water back into the environment (or intentional reuse).\n",
    "\n",
    "Water systems can be classified into three main categories (Chin, 2006; Mays, 2011):\n",
    "\n",
    "1.  Water-control  systems  –  to  control  the  spatial  and  temporal  distribution  ofsurface runoff from rainfall events (drainage engineering).  They can also servea use role if the captured rainwater is used later on for water supply (rainwaterharvesting).\n",
    "2.  Water-use system – to support human habitation and include water-treatmentsystems, water-distribution systems, wastewater-collection systems, and wastewater-treatment systems.\n",
    "3.  Environmental restoration system – to manage spatial and temporal distributionof water (quality and quantity) in support of non-human habitation."
   ]
  },
  {
   "cell_type": "markdown",
   "metadata": {},
   "source": [
    "---\n",
    "\n",
    "### Water Control Systems\n",
    "Spatial and temporal distribution of surface runoff from rainfall events (drainage engineering)\n",
    "\n",
    "- Flood control \n",
    "- Storm water harvesting \n",
    "- Capacity is based on AREA served \n",
    "- Hydrologicaly dominated designs \n",
    "\n",
    "---\n",
    "\n",
    "### Water Use Systems\n",
    "Spatial and temporal distribution in support of human habitation \n",
    "\n",
    "- Water supply/treatment/distribution \n",
    "- Waste water collection/treatment/discharge \n",
    "- Capacity is based on POPULATION served \n",
    "- Hydraulically dominated designs \n",
    "\n",
    "---\n",
    "\n",
    "### Environmental Restoration Systems\n",
    "Systems to manage spatial and temporal distribution in support of non-human habitation \n",
    "\n",
    "- Create “desirable” conditions \n",
    "- “Desirable” <= Policy <= Value Judgment\n"
   ]
  },
  {
   "cell_type": "markdown",
   "metadata": {},
   "source": [
    "--- \n",
    "\n",
    "### Water System Photo Essay\n",
    "This brief photo essay is adapted from  \n",
    "> “Historical Urban Water Systems” by Dr. Robert Pitt, Department of Civil and Environmental Engineering, University of Alabama, Tuscaloosa, AL  35487  [http://54.243.252.9/ce-3372-webroot/3-Readings/water-system-photo-tour/water-system-photo-tour.pdf](http://54.243.252.9/ce-3372-webroot/3-Readings/water-system-photo-tour/water-system-photo-tour.pdf)\n",
    "\n",
    "As we proceed through the tour, using the general definitions above, decide whether the picture represents a water control, water use, or environmental restoration system.  "
   ]
  },
  {
   "cell_type": "markdown",
   "metadata": {},
   "source": [
    "--- \n",
    "## Course Specific Software\n",
    "\n",
    "In this course we will use **EPANET** pipe network simulator software with the EPA supplied GUI, and **SWMM 5+** drainage network simulator software with the EPA supplied GUI.\n",
    "\n",
    "The remainder of the lesson demonstrates the installation of these tools: "
   ]
  },
  {
   "cell_type": "markdown",
   "metadata": {},
   "source": [
    "---\n",
    "### Installing EPANET\n",
    "\n",
    "EPANET as supplied by [https://www.epa.gov/water-research/epanet](https://www.epa.gov/water-research/epanet) also includes a graphical user interface (GUI) that will allow one to quickly build network simulation models, run them, and present results.  The GUI runs on Windows machines using Intel/AMD hardware.  It can be made to run on other operating systems and architectures, but not easily.\n",
    "\n",
    "Follow the guidelines on the [https://www.epa.gov/water-research/epanet](https://www.epa.gov/water-research/epanet) or watch [https://www.youtube.com/watch?v=HoZC4FPBQzI](https://www.youtube.com/watch?v=HoZC4FPBQzI)\n",
    "\n",
    "You can also examine [https://epanet22.readthedocs.io/en/latest/2_quickstart.html](https://epanet22.readthedocs.io/en/latest/2_quickstart.html)\n",
    "\n",
    "EPANET with the GUI runs in the Windows environment and expects the underlying machine to be an x86-64 chipset.  Generally this means an Intel or AMD-based machine.  \n",
    "\n",
    "If you have a Chromebook or Raspberry Pi, or Macintosh EPANET as deployed from the EPA won't install directly.  You can try WINE or other emulators but **YOU ARE ON YOUR OWN!**. \n",
    "\n",
    "An alternative is an Amazon Web Services (AWS) Lightsail instance.  The \\$12/month service will run both softwares, and works like ordinary Windows. "
   ]
  },
  {
   "cell_type": "markdown",
   "metadata": {},
   "source": [
    "--- \n",
    "### Installing SWMM\n",
    "\n",
    "#### Check your system\n",
    "\n",
    "SWMM with the GUI runs in the Windows environment and expects the underlying machine to be an x86-64 chipset.  Generally this means an Intel- or AMD-based machine.  \n",
    "\n",
    "If you have a Chromebook or Raspberry Pi, or Macintosh SWMM as deployed from the EPA won't install directly.  You can try WINE or other emulators but **YOU ARE ON YOUR OWN!**. \n",
    "\n",
    "An alternative for these cases is an Amazon Web Services (AWS) Lightsail instance.  The \\$12/month service will run both softwares, and works like ordinary Windows. "
   ]
  },
  {
   "cell_type": "markdown",
   "metadata": {},
   "source": [
    "---\n",
    "\n",
    "#### Download the installer\n",
    "\n",
    "URL to installer \n",
    "\n",
    "Screen capture download\n"
   ]
  },
  {
   "cell_type": "markdown",
   "metadata": {},
   "source": [
    "---\n",
    "\n",
    "#### Run the installer\n",
    "\n",
    "Screen capture running the installer"
   ]
  },
  {
   "cell_type": "markdown",
   "metadata": {},
   "source": [
    "---\n",
    "\n",
    "#### Check the install\n",
    "\n",
    "To check the install, simply launch the program. If the GUI opens and renders the program is working.  You can try a simple example if you wish.\n",
    "\n",
    "Screen capture check\n",
    "\n",
    "URL to SWMM by Example,  load example 1"
   ]
  },
  {
   "cell_type": "markdown",
   "metadata": {},
   "source": [
    "---\n",
    "\n",
    "## Readings\n"
   ]
  },
  {
   "cell_type": "code",
   "execution_count": null,
   "metadata": {},
   "outputs": [],
   "source": []
  }
 ],
 "metadata": {
  "kernelspec": {
   "display_name": "Python 3",
   "language": "python",
   "name": "python3"
  },
  "language_info": {
   "codemirror_mode": {
    "name": "ipython",
    "version": 3
   },
   "file_extension": ".py",
   "mimetype": "text/x-python",
   "name": "python",
   "nbconvert_exporter": "python",
   "pygments_lexer": "ipython3",
   "version": "3.8.10"
  }
 },
 "nbformat": 4,
 "nbformat_minor": 4
}