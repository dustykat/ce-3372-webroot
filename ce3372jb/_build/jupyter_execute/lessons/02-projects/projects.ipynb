{
 "cells": [
  {
   "cell_type": "markdown",
   "metadata": {},
   "source": [
    "# 2. Semester Design Project(s)\n",
    "\n",
    ":::{admonition} Course Website\n",
    "[http://54.243.252.9/ce-3372-webroot/](http://54.243.252.9/ce-3372-webroot/)\n",
    ":::"
   ]
  },
  {
   "cell_type": "markdown",
   "metadata": {},
   "source": [
    "## Readings\n",
    "\n",
    ":::{admonition} Textbook \n",
    "[Gupta, R.S., 2017. Hydrology and Hydraulic Systems, pp XX-XX](https://www.waveland.com/browse.php?t=384)\n",
    ":::\n",
    "\n",
    ":::{admonition} Additional Readings\n",
    "1. TCEQ (2012) Rules and Regulations for Public Water Systems, Publication RG-195 [http://54.243.252.9/ce-3372-webroot/3-Readings/Texas-RG-195/rg-195.pdf](http://54.243.252.9/ce-3372-webroot/3-Readings/Texas-RG-195/rg-195.pdf)\n",
    "\n",
    "2. Krueger D. W., and Smitha C. W. (2012) Infrastructure Design Manual, City of Houston, Department of Public Works and Engineering [http://54.243.252.9/ce-3372-webroot/3-Readings/HoustonDesignManual/Houston.idm.pdf](http://54.243.252.9/ce-3372-webroot/3-Readings/HoustonDesignManual/Houston.idm.pdf)\n",
    "\n",
    "3. City of Lubbock (2018) Minimum Design Standards and Specifications, City of Lubbock Engineering. [http://54.243.252.9/ce-3372-webroot/3-Readings/LubbockTexasDesignManual/LubbockTexasDesignManual.pdf](http://54.243.252.9/ce-3372-webroot/3-Readings/LubbockTexasDesignManual/LubbockTexasDesignManual.pdf)\n",
    "\n",
    "4. City of San Marcos, Texas (2019) WATER DISTRIBUTION SYSTEM DESIGN CRITERIA TECHNICAL MANUAL[http://54.243.252.9/ce-3372-webroot/3-Readings/SanMarcosTexasDesignManual/SanMarcosTexasDesignManual.pdf](http://54.243.252.9/ce-3372-webroot/3-Readings/SanMarcosTexasDesignManual/SanMarcosTexasDesignManual.pdf)\n",
    "\n",
    "5. [Ministry of Water (date) Title (where)](https://design.maji.go.tz/index.php/Chapter_Five:_Pipelines_Design#Looped_System)\n",
    "\n",
    "<!-- Introduction to Water Resources Engineering Pages 1-33 from Wurbs,R.A., and James, W.P. (2002) Water Resources Engineering, Prentice Hall. [http://54.243.252.9/ce-3372-webroot/3-Readings/Wurbs1-33/](http://54.243.252.9/ce-3372-webroot/3-Readings/Wurbs1-33/Wurbs1-33.pdf)\n",
    "\n",
    "Introduction to Water Resources Engineeirng Pages 1-11 from Mays, L.W. (2011) Water Resources Engineering, J. Wiley and Sons.[http://54.243.252.9/ce-3372-webroot/3-Readings/Mays1-11/](http://54.243.252.9/ce-3372-webroot/3-Readings/Mays1-11/Mays1-11.pdf)\n",
    "\n",
    "Introduction to Water Resources Engineering Pages 1-8 from Chin, D. A. (2006) Water-Resources Engineering, Pearson-Prentice Hall. [http://54.243.252.9/ce-3372-webroot/3-Readings/Chin1-8/](http://54.243.252.9/ce-3372-webroot/3-Readings/Chin1-8/Chin1-8.pdf) -->\n",
    ":::"
   ]
  },
  {
   "cell_type": "markdown",
   "metadata": {},
   "source": [
    "## Videos\n",
    "\n",
    "1. [none](https://www.youtube.com/watch?v=9NYs3Y-IjGw)"
   ]
  },
  {
   "cell_type": "markdown",
   "metadata": {},
   "source": [
    "## Outline\n",
    "\n",
    "1. What is an Engineering Project?\n",
    "2. Design Teams: Demonstrating Collaboration (as per ABET)\n",
    "3. Project Presentations: Demonstrating Communication Proficiency (as per TTU)\n",
    "4. Project Reports: Communicating Technical Work Effectively\n",
    "5. Problem Statement: Pecos Water Supply\n",
    "6. Problem Statement: LIA Industrial Park \n",
    "---"
   ]
  },
  {
   "cell_type": "markdown",
   "metadata": {},
   "source": [
    "## What is an Engineering \"Project\"?\n",
    "\n",
    "In engineering, a **project** is defined as a **temporary endeavor** undertaken to produce a **unique product or service**. Projects have specific goals, timelines, and constraints, which must be managed efficiently to meet the defined objectives. For this class, we will be working on two major projects, each involving design, analysis, and optimization of engineering systems.\n",
    "\n",
    "Key characteristics of an engineering project:\n",
    "- **Temporary**: A project has a defined start and end date, with clear milestones and deliverables.\n",
    "- **Unique**: Each project aims to create something distinct, whether it's a product, service, or solution to a problem.\n",
    "- **Goal-oriented**: Projects are undertaken to achieve specific goals, such as solving a problem or fulfilling a need.\n",
    "\n",
    "Both of the projects you will work on this semester will involve applying these principles, requiring you to design systems with unique specifications, optimize solutions, and meet the project deadlines.\n",
    "\n",
    "---"
   ]
  },
  {
   "cell_type": "markdown",
   "metadata": {},
   "source": [
    "\n",
    "\n",
    "## Introduction to Design Teams and ABET Outcomes\n",
    "\n",
    "In this course, you will be working in **small design teams** to solve two distinct engineering problems. The class structure is divided into small teams for several reasons, most importantly to address **ABET (Accreditation Board for Engineering and Technology) outcomes** that emphasize the development of teamwork, communication, and problem-solving skills. By collaborating in teams, you will engage with real-world engineering challenges that require interdisciplinary knowledge, decision-making, and design thinking. This mirrors the collaborative nature of modern engineering projects where professionals from various backgrounds must work together to find effective solutions.\n",
    "\n",
    "Working in design teams also provides a unique opportunity for you to enhance the following key skills that are central to your education and future career:\n",
    "\n",
    "- **Teamwork and collaboration**: Working effectively in groups to solve problems and complete projects.\n",
    "- **Communication**: Learning how to clearly articulate technical ideas and solutions, both verbally and in writing.\n",
    "- **Leadership**: Developing skills in project management and leadership roles within a team setting.\n",
    "- **Critical thinking**: Analyzing complex engineering problems and applying practical solutions.\n",
    "\n",
    "By completing these design projects, you will demonstrate your ability to address these ABET outcomes through practical application in engineering design tasks."
   ]
  },
  {
   "cell_type": "markdown",
   "metadata": {},
   "source": [
    "## Project Presentations: Demonstrating Communication Proficiency\n",
    "\n",
    "### Introduction to Project Presentations\n",
    "\n",
    "In addition to the technical components of your design projects, **project presentations** are an integral part of this course. Presenting your project not only allows you to share your solutions but also serves as an opportunity to demonstrate your **communication literacy** — a key requirement of the university’s general education program. These presentations will be your platform to communicate complex engineering concepts to a non-expert audience, making them a valuable tool for developing both technical and soft skills.\n",
    "\n",
    "### Purpose of Project Presentations\n",
    "\n",
    "Project presentations serve several purposes:\n",
    "- **Demonstrating Your Work**: Presenting your design solution to the class, instructors, and possibly external reviewers will showcase the outcome of your analysis, decisions, and teamwork. It is a chance to highlight your technical proficiency and project management skills.\n",
    "- **Communication Literacy**: As part of the university’s curriculum, communication literacy involves the ability to clearly and effectively present ideas, research, and technical information. By delivering a well-structured presentation, you demonstrate your ability to distill complex ideas and present them in a manner that is accessible and engaging.\n",
    "- **Professional Development**: In the real world, engineers frequently present their work to clients, stakeholders, and colleagues. These presentations simulate that environment, helping you to build confidence in speaking, answering questions, and justifying your design decisions.\n",
    "- **Team Collaboration**: Presenting as a team allows each member to practice leadership, collaboration, and coordination skills. It is important to deliver a cohesive presentation where all team members contribute, showing both individual and collective proficiency.\n",
    "\n",
    "### Structure of the Project Presentation\n",
    "\n",
    "Your project presentation should follow a clear structure to ensure it communicates your project effectively. The general framework should include:\n",
    "\n",
    "1. **Introduction**: \n",
    "   - Introduce yourself and your team.\n",
    "   - Provide a brief overview of the project (what the project is, the problem being solved, and its significance).\n",
    "   \n",
    "2. **Problem Statement**: \n",
    "   - Clearly define the engineering problem you are solving.\n",
    "   - Discuss the requirements, constraints, and any external factors influencing the design.\n",
    "   \n",
    "3. **Design Process and Analysis**: \n",
    "   - Walk through your design process, explaining the key decisions you made, the assumptions you considered, and the tools or methods used to analyze the system (e.g., calculations, simulations, etc.).\n",
    "   - For the water supply pipeline, describe the operational analysis, valve placement, and water hammer analysis.\n",
    "   - For the drainage system, discuss the considerations for pipe sizing, stormwater management, and drainage layout.\n",
    "\n",
    "4. **Results and Solutions**: \n",
    "   - Present the outcomes of your design work. This could include system designs, calculations, simulations, and other relevant results.\n",
    "   - Use visuals such as diagrams, graphs, and charts to help illustrate your design and findings clearly.\n",
    "\n",
    "5. **Challenges and Lessons Learned**: \n",
    "   - Discuss any challenges you faced during the project and how you overcame them.\n",
    "   - Reflect on any lessons learned and areas for future improvement in both your design and communication skills.\n",
    "\n",
    "6. **Conclusion and Recommendations**: \n",
    "   - Summarize the main points of your presentation.\n",
    "   - Provide any recommendations for future work or further analysis that could improve the design or address unresolved issues.\n",
    "   \n",
    "7. **Q&A**: \n",
    "   - End the presentation by inviting questions from the audience. Be prepared to defend your design choices, explain calculations, and discuss your assumptions. This is an important part of demonstrating your ability to communicate effectively and confidently.\n",
    "\n",
    "### Guidelines for Effective Presentations\n",
    "\n",
    "To ensure your presentation is clear and engaging, consider the following guidelines:\n",
    "- **Clarity**: Keep your slides simple and free of clutter. Focus on key points and use visuals to support your message. Avoid overwhelming your audience with excessive text or technical jargon.\n",
    "- **Structure**: Maintain a logical flow throughout your presentation. Ensure each section transitions smoothly to the next.\n",
    "- **Practice**: Rehearse your presentation multiple times to ensure you are comfortable with the content and timing. Make sure all team members have an opportunity to present and participate.\n",
    "- **Engagement**: Engage your audience with eye contact, clear speech, and enthusiasm about your project. A well-delivered presentation can make a lasting impression.\n",
    "- **Time Management**: Ensure your presentation stays within the allotted time. Aim for clarity and brevity in your explanations, while being thorough enough to cover all important points.\n",
    "- **Visual Aids**: Use visuals (charts, graphs, diagrams, etc.) effectively to help explain complex ideas. Ensure your visuals are readable and relevant to the content you are presenting.\n",
    "\n",
    "### Assessment Criteria\n",
    "\n",
    "Your project presentation will be assessed based on several factors, including:\n",
    "- **Content**: Is the presentation well-structured? Does it address all relevant aspects of the project?\n",
    "- **Clarity and Communication**: Are the ideas communicated clearly and concisely? Did you use appropriate language for the intended audience?\n",
    "- **Visuals**: Are the visuals effective in supporting your points? Are they clear, accurate, and easy to understand?\n",
    "- **Engagement**: Did you engage with the audience, both during the presentation and during the Q&A session?\n",
    "- **Team Coordination**: Did all team members contribute, and was the presentation cohesive and well-coordinated?\n",
    "\n",
    "### Conclusion\n",
    "\n",
    "The project presentations are an essential part of this course, providing you with the opportunity to develop and demonstrate your communication literacy. By presenting your work effectively, you will not only showcase your technical abilities but also your capacity to explain complex engineering concepts to others. These presentations are a valuable learning experience and an important step toward becoming a well-rounded, professional engineer.\n",
    "\n",
    "Good luck with your presentations, and remember that this is your chance to shine and demonstrate the hard work you’ve put into your design projects!"
   ]
  },
  {
   "cell_type": "markdown",
   "metadata": {},
   "source": [
    "## Design Reports: Communicating Technical Work Effectively\n",
    "\n",
    "### Introduction to Design Reports\n",
    "\n",
    "In addition to your project presentations, **design reports** play a crucial role in documenting and communicating your work throughout the semester. A design report is a comprehensive document that outlines the engineering problem, the design process, the analysis conducted, and the final solution. This report serves as a formal record of your team's work and is an essential skill for engineers to master.\n",
    "\n",
    "As with your presentations, design reports are also a critical component of the university’s **communication literacy** requirement. By preparing a thorough, well-organized report, you demonstrate your ability to communicate complex engineering concepts in writing, ensuring that your technical findings and design decisions are clearly understood by a professional audience. These reports provide a tangible way for you to reflect on the design process and showcase your communication proficiency.\n",
    "\n",
    "### Purpose of Design Reports\n",
    "\n",
    "Design reports serve several key purposes:\n",
    "- **Documentation**: The report acts as a formal record of your project, providing all relevant technical information, calculations, assumptions, and decisions in a single, coherent document.\n",
    "- **Clear Communication**: A well-written report communicates your design solution in a way that is clear, structured, and professional. This helps ensure that your work can be easily understood by others, including faculty, industry professionals, and future collaborators.\n",
    "- **Reflection**: The report provides you with an opportunity to reflect on your design process, identify challenges you encountered, and articulate how you solved them. This is an important step in learning how to approach engineering problems systematically and document your findings.\n",
    "- **Professional Development**: Design reports are a standard form of communication in the engineering profession. Writing clear, concise, and well-organized reports is a critical skill for your future career, where you will be expected to present design work and project results to stakeholders, clients, and colleagues.\n",
    "\n",
    "### Structure of the Design Report\n",
    "\n",
    "Your design report should follow a clear, structured format to ensure all important aspects of your project are covered. The **typical** sections of a design report include:\n",
    "\n",
    "1. **Title Page**: \n",
    "   - The title of the project, the names of team members, course details, and the submission date.\n",
    "   \n",
    "   \n",
    "2. **Abstract**: \n",
    "   - A brief summary of the entire project, including the problem, design process, key results, and conclusion. The abstract should be concise but informative, providing an overview of the report.\n",
    "\n",
    "\n",
    "3. **Introduction**: \n",
    "   - Provide an overview of the engineering problem being solved.\n",
    "   - Describe the purpose of the project, the scope of work, and the objectives. Mention any background information that helps to set the context of the design.\n",
    "\n",
    "\n",
    "4. **Problem Definition**: \n",
    "   - Clearly state the engineering problem you are addressing.\n",
    "   - Discuss any constraints, requirements, and assumptions that guide your design.\n",
    "\n",
    "\n",
    "5. **Design Process and Methodology**: \n",
    "   - Outline the design process you followed, including research, data collection, analysis, and any tools or methods you used (such as simulations, software, calculations, etc.).\n",
    "   - For the water supply pipeline, explain the decisions made about tank operations, pressure and air-relief valve locations, and the water hammer analysis.\n",
    "   - For the drainage system, explain your considerations for stormwater management, sizing, and the layout of the drainage system.\n",
    "\n",
    "\n",
    "6. **Results and Discussion**: \n",
    "   - Present the results of your design work, including any calculations, data analysis, and visual aids (e.g., charts, graphs, tables).\n",
    "   - Discuss how your design meets the requirements, handles constraints, and addresses the problem defined in the earlier sections.\n",
    "\n",
    "\n",
    "7. **Challenges and Lessons Learned**: \n",
    "   - Reflect on any challenges encountered during the project and how your team overcame them. Discuss any lessons learned and how this will inform future work.\n",
    "\n",
    "\n",
    "8. **Conclusion**: \n",
    "   - Summarize the findings and the final design solution. \n",
    "   - Provide recommendations for future work, improvements, or further analysis.\n",
    "\n",
    "\n",
    "9. **References**: \n",
    "   - List all the references used in your research and design work. This includes textbooks, journal articles, websites, and any other sources that informed your design decisions.\n",
    "\n",
    "\n",
    "10. **Appendices** (if applicable): \n",
    "   - Include any additional materials that support the report but are too detailed for the main body (e.g., detailed calculations, full datasets, software code).\n",
    "\n",
    "### Guidelines for Writing an Effective Design Report\n",
    "\n",
    "To ensure your design report is clear, professional, and well-organized, consider the following writing tips:\n",
    "- **Clarity**: Use simple, clear, and concise language. Avoid overly technical jargon unless it is necessary and well-explained.\n",
    "- **Organization**: Follow the structured format outlined above. Ensure that each section logically flows into the next.\n",
    "- **Figures and Tables**: Use visuals (graphs, tables, and diagrams) to support and clarify your text. Ensure that all visuals are well-labeled, referenced in the text, and easy to understand.\n",
    "- **Consistency**: Be consistent in your use of terminology, units, and formatting throughout the report. This helps avoid confusion and ensures a professional presentation.\n",
    "- **Proofreading**: Carefully proofread your report for spelling, grammar, and formatting errors. A report with mistakes can undermine its professionalism.\n",
    "- **Be Concise**: While your report should be thorough, avoid unnecessary verbosity. Focus on providing relevant information in a clear and straightforward manner.\n",
    "\n",
    "### Report Formatting\n",
    "\n",
    "A well-formatted report makes it easier for your audience to follow your arguments and understand your design. In the accompanying document, you will find a template outlining the specific formatting requirements for your design report. You can access the full **[Design Report Template and Guidelines](#)** document here.\n",
    "\n",
    "### Assessment Criteria\n",
    "\n",
    "Your design report will be evaluated based on several factors, including:\n",
    "- **Content**: Does the report address all key components of the project? Is the design process clearly explained? Are results and conclusions well-supported?\n",
    "- **Clarity**: Is the report easy to read and understand? Is the language clear and concise?\n",
    "- **Organization**: Is the report well-organized, following the suggested structure and logically presenting information?\n",
    "- **Visuals**: Are the visuals effective in supporting the text? Are they well-organized and clearly labeled?\n",
    "- **Professionalism**: Is the report written and formatted professionally? Are references appropriately cited?\n",
    "\n",
    "### Conclusion\n",
    "\n",
    "Design reports are a fundamental aspect of engineering communication. By preparing a detailed, clear, and well-organized report, you will document your design process, present your findings, and demonstrate your ability to communicate complex technical work in writing. These skills are vital for your development as an engineer and will be valuable in your future career.\n",
    "\n",
    "Remember, the design report is not just an academic exercise—it is a key piece of your professional engineering portfolio. Take pride in the work you do, and use the report as an opportunity to showcase your technical and communication skills.\n"
   ]
  },
  {
   "cell_type": "markdown",
   "metadata": {},
   "source": [
    "---"
   ]
  },
  {
   "cell_type": "markdown",
   "metadata": {},
   "source": []
  },
  {
   "cell_type": "markdown",
   "metadata": {},
   "source": [
    "## Project 1: Pecos TX Water Supply Update\n",
    "\n",
    "### Project Overview:\n",
    "The City of Pecos, Texas, has identified a critical need to develop an alternate water supply in anticipation of the current wellfield reaching the end of its service life within the next 5-10 years. To ensure the city’s long-term water security, an alternate wellfield has been identified, and property rights for its development have been secured. This wellfield is located approximately 30 miles south of the city center.\n",
    "\n",
    "Your goal is to design the components necessary to transport water from this alternate wellfield to Pecos and ensure adequate storage for future demand. This design includes:\n",
    "\n",
    "1. Wellfield Collector Network: Design the network of wells and collection lines that will efficiently gather water from the wellfield and deliver it to a central collection point.\n",
    "2. Transmission Pipeline: Design the transmission pipeline system that will carry water from the wellfield to the city’s water treatment and distribution facilities. Consider hydraulic design principles to size the pipeline appropriately based on flow rates and friction losses over the 30-mile distance.\n",
    "3. Storage Facilities: Design intermediate storage facilities as necessary, as well as terminal storage to ensure there is sufficient water available for city consumption during peak demand periods or in case of pipeline interruptions. Storage should accommodate both daily use and emergency reserves.\n",
    "\n",
    "### Assumptions and Constraints:\n",
    "\n",
    "The city's average daily water consumption is approximately 2.7 million gallons per day (MGD), with a peak of 3.9 million gallons per day.  The city's water plant has a capacity of 9.5 million gallons per day. The alternate wellfield is estimated to be able to produce a maximum of 3.02 MGD, with fluctuations due to seasonal variations. Transmission pipeline materials and layout should be designed considering local terrain and minimizing environmental impacts. Intermediate storage facilities may be required based on pipeline hydraulic design and system pressures.\n",
    "\n",
    "You will need to apply concepts from fluid mechanics, hydraulics, and system optimization to design a pipeline that operates safely and efficiently. Your solution should address all of the technical requirements while considering cost-effectiveness and operational feasibility.\n",
    "\n",
    "### Design Tasks\n",
    "\n",
    "1. Design the wellfield pipe network to the collector point. The well locations are already established from a preliminary study conducted during the water rights acquistion process.\n",
    "2. Size the transmission pipeline and provide justification for your selection (e.g., diameter, material).\n",
    "3. Determine the volume of intermediate and terminal storage facilities required and provide recommendations on their placement.\n",
    "4. Demonstrate using a hydraulic model that the system can deliver the required raw water to replace the existing supply, under variable demand conditions. Identify using the model locations of low pressure, and high pressure. Produce plots of the energy grade line under various demsnd conditions. Identify locations where pressure relief valves, air relief valves, and flow-control valves are required.\n",
    "5. Determine using water-hammer analysis the anticipated pressure changes during sudden shutdown of the transmission pipeline.\n",
    "\n",
    "### Deliverables:\n",
    "- A detailed **pipeline layout** and **operational strategy** for maintaining storage tank levels, supported by hydraulic modeling.\n",
    "- The **locations** for pressure and air-relief valves.\n",
    "- A presentation for pipe sizing and system capacity.\n",
    "- A **modeling report**, including the selected pipeline material and justification.\n",
    "\n",
    "Deliverables\n",
    "\n",
    "Each team must submit the following as part of their final project package:\n",
    "\n",
    "\n",
    "- **Project Presentation:** documenting pipeline sizing, operations, and system capacity\n",
    "  - A concise, visually engaging presentation summarizing your decisions on pipeline sizing and overall system capacity.\n",
    "  - Highlight the key considerations, such as anticipated flow rates, material selection, and cost-effectiveness.\n",
    "- **Project Report** documenting the hydraulic model setup, assumptions, results, and interpretation.:\n",
    "  - Include details on the selected pipeline materials, diameter, and justification for your choices based on hydraulic performance, durability, and cost.\n",
    "  - A detailed layout of the transmission pipeline, including all key components such as wellfield collector lines, intermediate storage facilities, and terminal storage.\n",
    "  - A comprehensive operational strategy outlining how storage tank levels will be maintained under varying demand scenarios, supported by hydraulic modeling results.\n",
    "  - A map or schematic identifying the precise locations for pressure relief valves, air relief valves, and flow-control valves.\n",
    "  - A justification for each valve's placement, based on hydraulic modeling and system pressure analysis.\n",
    "  - Provide plots of the energy grade line and pressure profiles under varying demand conditions, identifying critical points of low and high pressure.\n",
    "  - Document findings from the water hammer analysis, including anticipated pressure surges and recommendations for mitigating risks.\n",
    "\n",
    "Additional Resources\n",
    "\n",
    "\n",
    "---"
   ]
  },
  {
   "cell_type": "markdown",
   "metadata": {},
   "source": [
    "## Project 2: LIA Industrial Park \n",
    "\n",
    "### Project Overview:\n",
    "In the second project, you will design a **small drainage system** for a **100-acre light industrial site**. The drainage system must effectively handle runoff, ensuring proper water flow while avoiding flooding or damage to the site.\n",
    "\n",
    "Your tasks in this project include:\n",
    "- **Drainage Design**: Calculate the required drainage capacity based on the site's characteristics, such as land slope, soil type, and expected rainfall.\n",
    "- **Pipe Sizing**: Determine the appropriate pipe sizes for the drainage system, ensuring that water is efficiently conveyed away from the site.\n",
    "- **Stormwater Management**: Consider best practices for managing stormwater and preventing environmental damage, including the integration of **green infrastructure** solutions where possible.\n",
    "\n",
    "You will need to apply knowledge from hydrology, fluid dynamics, and environmental engineering to design a drainage system that meets all performance criteria and complies with relevant regulations.\n",
    "\n",
    "### Deliverables:\n",
    "- A detailed **drainage layout** showing pipe locations, inlets, and outlets.\n",
    "- A **calculation report** for pipe sizing and system capacity.\n",
    "- A presentation for pipe sizing and system capacity.\n",
    "- Recommendations for **stormwater management**, including any green infrastructure solutions."
   ]
  },
  {
   "cell_type": "markdown",
   "metadata": {},
   "source": [
    "---\n",
    "\n",
    "## Conclusion\n",
    "\n",
    "These two projects will give you hands-on experience in solving real-world engineering problems. By working in teams, you will practice critical skills such as design, analysis, problem-solving, and communication. The projects are designed to challenge you, while also ensuring that you gain practical experience that aligns with ABET's expectations for engineering education.\n",
    "\n",
    "Good luck, and remember that this is an opportunity to apply the knowledge you've gained in class to solve meaningful engineering problems. If you have any questions, feel free to reach out to your instructors for guidance."
   ]
  },
  {
   "cell_type": "markdown",
   "metadata": {},
   "source": []
  },
  {
   "cell_type": "code",
   "execution_count": 1,
   "metadata": {},
   "outputs": [
    {
     "data": {
      "text/plain": [
       "240000.0"
      ]
     },
     "execution_count": 1,
     "metadata": {},
     "output_type": "execute_result"
    }
   ],
   "source": [
    "1.2e6 *0.20"
   ]
  },
  {
   "cell_type": "code",
   "execution_count": 4,
   "metadata": {},
   "outputs": [
    {
     "data": {
      "text/plain": [
       "107121797.26027398"
      ]
     },
     "execution_count": 4,
     "metadata": {},
     "output_type": "execute_result"
    }
   ],
   "source": [
    "120000*43560*7.48/365"
   ]
  },
  {
   "cell_type": "code",
   "execution_count": 5,
   "metadata": {},
   "outputs": [
    {
     "data": {
      "text/plain": [
       "3024000"
      ]
     },
     "execution_count": 5,
     "metadata": {},
     "output_type": "execute_result"
    }
   ],
   "source": [
    "2100*1440"
   ]
  },
  {
   "cell_type": "code",
   "execution_count": null,
   "metadata": {},
   "outputs": [],
   "source": [
    "3.02"
   ]
  }
 ],
 "metadata": {
  "kernelspec": {
   "display_name": "Python 3 (ipykernel)",
   "language": "python",
   "name": "python3"
  },
  "language_info": {
   "codemirror_mode": {
    "name": "ipython",
    "version": 3
   },
   "file_extension": ".py",
   "mimetype": "text/x-python",
   "name": "python",
   "nbconvert_exporter": "python",
   "pygments_lexer": "ipython3",
   "version": "3.10.12"
  }
 },
 "nbformat": 4,
 "nbformat_minor": 4
}