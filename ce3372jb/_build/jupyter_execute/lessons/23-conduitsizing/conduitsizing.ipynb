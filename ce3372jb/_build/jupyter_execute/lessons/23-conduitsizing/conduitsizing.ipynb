{
 "cells": [
  {
   "cell_type": "markdown",
   "metadata": {},
   "source": [
    "# Lesson 23. Stormwater Conduit Sizing\n",
    "\n",
    "## Concepts\n",
    "\n",
    "- Rational Equation (by-hand)\n",
    "\n",
    "## Example Calculations\n",
    "\n",
    "\n",
    "\n",
    "\n",
    "\n"
   ]
  },
  {
   "cell_type": "markdown",
   "metadata": {},
   "source": [
    "## Scripts/Spreadsheets\n",
    "\n",
    "1. [NRCS Upland Method (Deprecated method from NEH 630](http://54.243.252.9/ce-3372-webroot/8-Spreadsheets/NRCS-UplandMethodForTime/NRCS-Upland.xlsx)\n",
    "2. [NRCS Velocity Method (as presented in TxDOT hydraulic manual)](http://54.243.252.9/ce-3372-webroot/8-Spreadsheets/NRCS-Velocity-Method-Calculator/TXDOT-TIME-OF-CONCENTRATION-NRCS.xlsx)\n",
    "3. [Kerby-Kirpich (as presented in TxDOT hydraulic manual) ](http://54.243.252.9/ce-3372-webroot/8-Spreadsheets/KerbyKirpich-US-Tc-Calculator/KerbyKirpich-US.xlsx)\n",
    "4. [Goodwin Street Storm Sewer Spreadsheet (complete)](http://54.243.252.9/ce-3372-webroot/8-Spreadsheets/GoodwinStreetSewer/GoodwinStormSewer.xlsx)"
   ]
  },
  {
   "cell_type": "markdown",
   "metadata": {},
   "source": [
    "Conduits convey Flow from one location to another\n",
    "• Pipes\n",
    "• Culverts\n",
    "• Open channels\n",
    "\n",
    "• Select size, material, and slope\n",
    "• Storm sewer – usually desire to operate with free surface (as an open\n",
    "channel)\n",
    "• Sanitary sewer – similar usually want a free surface\n",
    "• Size (diameter) is dictated by\n",
    "• Flow required\n",
    "• Burial depth relative to drop available\n",
    "A good preliminary design can be obtained using a combination of the rational\n",
    "equation and manning’s equation\n",
    "• Done without regard to downstream boundary conditions\n",
    "• Needs to be checked using a hydraulic model (like SWMM)\n",
    "\n",
    "• Determine discharge in each\n",
    "pipe.\n",
    "• Size using manning’s equation\n",
    "(… in us customary)\n",
    "• Assumes full, but pipes will\n",
    "have free surface\n",
    "\n",
    "• Layout of system\n",
    "• Drainage area and Inlets\n",
    "• Pipes\n",
    "• Outfall\n",
    "• elevations"
   ]
  },
  {
   "cell_type": "markdown",
   "metadata": {},
   "source": [
    "---\n",
    "\n",
    "### Drainage Area 1.1\n",
    "\n",
    "- Identify the individual drainage area(s) for analysis\n",
    "\n",
    "![](area1-1.png)\n",
    "\n",
    "- Measure area(s) using appropriate tools; to determine the area of each contributing area, in acres. (G3DATA; PLANIMETER, etc).\n",
    "- Area = 1.50*3.67/2.43 = 2.26 acres (using Acrobat Pro and a conversion ratio 2.43 in^2 => 3.67 acres)\n",
    "- Estimate a runoff coefficient (table look-up)\n",
    "- C = 0.65\n",
    "- Estimate $T_c$ surface flow to inlet/junction.\n",
    "   - Measure actual best-guess flow path(s) <br><br> ![](DA1-inlet.png)\n",
    "   - Find Slope (737.5 – 732.3)/(0.92*400/1.51) = 5.2ft/243.7 ft = 0.021 (2.1%) from elevation mapping.\n",
    "   - Determine some kind of cover.\n",
    "   - Apply NRCS Velocity, NRCS Upland, or Kerby-Kirpich. <br><br> ![](uplandtime.png)\n",
    "   - Use method that makes most sense consistent with locale.\n",
    "   - Repeat for each area.\n",
    "- Estimate $T_c$ all connecting routes to junction. (Need to measure pipe lengths before this calculation - shown after all the areas in this document)"
   ]
  },
  {
   "cell_type": "markdown",
   "metadata": {},
   "source": [
    "---\n",
    "\n",
    "### Drainage Area 1.2\n",
    "\n",
    "![](area1-2.png)\n",
    "\n",
    "- Measure area(s) using appropriate tools; to determine the area of each contributing area, in acres. (G3DATA; PLANIMETER, etc).\n",
    "- Area = 0.84*3.67/2.43 = 1.26 acres (using Acrobat Pro and a conversion ratio 2.43 in^2 => 3.67 acres)\n",
    "- Estimate a runoff coefficient (table look-up)\n",
    "- C = 0.80\n",
    "- Estimate $T_c$ surface flow to inlet.\n",
    "- Estimate $T_c$ all connecting routes to junction."
   ]
  },
  {
   "cell_type": "markdown",
   "metadata": {},
   "source": [
    "### Drainage Area 2.1\n",
    "\n",
    "![](area2-1.png)\n",
    "\n",
    "- Measure area(s) using appropriate tools; to determine the area of each contributing area, in acres. (G3DATA; PLANIMETER, etc).\n",
    "- Area = 2.58*3.67/2.43 = 3.89 acres (using Acrobat Pro and a conversion ratio 2.43 in^2 => 3.67 acres)\n",
    "- Estimate a runoff coefficient (table look-up)\n",
    "- C = 0.70\n",
    "- Estimate $T_c$ surface flow to inlet.\n",
    "- Estimate $T_c$ all connecting routes to junction."
   ]
  },
  {
   "cell_type": "markdown",
   "metadata": {},
   "source": [
    "---\n",
    "\n",
    "### Drainage Area 2.2\n",
    "\n",
    "![](area2-2.png)\n",
    "\n",
    "- Measure area(s) using appropriate tools; to determine the area of each contributing area, in acres. (G3DATA; PLANIMETER, etc).\n",
    "- Area = 0.35*3.67/2.43 = 0.53 acres (using Acrobat Pro and a conversion ratio 2.43 in^2 => 3.67 acres)\n",
    "- Estimate a runoff coefficient (table look-up)\n",
    "- C = 0.80\n",
    "- Estimate $T_c$ surface flow to inlet.\n",
    "- Estimate $T_c$ all connecting routes to junction."
   ]
  },
  {
   "cell_type": "markdown",
   "metadata": {},
   "source": [
    "### Drainage Area 3.1\n",
    "\n",
    "![](area3-1.png)\n",
    "\n",
    "- Measure area(s) using appropriate tools; to determine the area of each contributing area, in acres. (G3DATA; PLANIMETER, etc).\n",
    "- Area = 0.45*3.67/2.43 = 0.68 acres (using Acrobat Pro and a conversion ratio 2.43 in^2 => 3.67 acres)\n",
    "- Estimate a runoff coefficient (table look-up)\n",
    "- C = 0.70\n",
    "- Estimate $T_c$ surface flow to inlet.\n",
    "- Estimate $T_c$ all connecting routes to junction."
   ]
  },
  {
   "cell_type": "markdown",
   "metadata": {},
   "source": [
    "---\n",
    "\n",
    "### Drainage Area 3.2\n",
    "\n",
    "![](area3-2.png)\n",
    "\n",
    "- Measure area(s) using appropriate tools; to determine the area of each contributing area, in acres. (G3DATA; PLANIMETER, etc).\n",
    "- Area = 0.30*3.67/2.43 = 0.45 acres (using Acrobat Pro and a conversion ratio 2.43 in^2 => 3.67 acres)\n",
    "- Estimate a runoff coefficient (table look-up)\n",
    "- C = 0.85\n",
    "- Estimate $T_c$ surface flow to inlet.\n",
    "- Estimate $T_c$ all connecting routes to junction."
   ]
  },
  {
   "cell_type": "markdown",
   "metadata": {},
   "source": [
    "---\n",
    "\n",
    "### Drainage Area 3.3\n",
    "\n",
    "![](area3-3.png)\n",
    "\n",
    "- Measure area(s) using appropriate tools; to determine the area of each contributing area, in acres. (G3DATA; PLANIMETER, etc).\n",
    "- Area = 1.05*3.67/2.43 = 1.58 acres (using Acrobat Pro and a conversion ratio 2.43 in^2 => 3.67 acres)\n",
    "- Estimate a runoff coefficient (table look-up)\n",
    "- C = 0.65\n",
    "- Estimate $T_c$ surface flow to inlet.\n",
    "- Estimate $T_c$ all connecting routes to junction."
   ]
  },
  {
   "cell_type": "markdown",
   "metadata": {},
   "source": [
    "### Drainage Area 4.1\n",
    "\n",
    "![](area4-1.png)\n",
    "\n",
    "- Measure area(s) using appropriate tools; to determine the area of each contributing area, in acres. (G3DATA; PLANIMETER, etc).\n",
    "- Area = 1.33*3.67/2.43 = 2.01 acres (using Acrobat Pro and a conversion ratio 2.43 in^2 => 3.67 acres)\n",
    "- Estimate a runoff coefficient (table look-up)\n",
    "- C = 0.75\n",
    "- Estimate $T_c$ surface flow to inlet.\n",
    "- Estimate $T_c$ all connecting routes to junction."
   ]
  },
  {
   "cell_type": "markdown",
   "metadata": {},
   "source": [
    "---\n",
    "\n",
    "### Drainage Area 4.2\n",
    "\n",
    "![](area4-2.png)\n",
    "\n",
    "- Measure area(s) using appropriate tools; to determine the area of each contributing area, in acres. (G3DATA; PLANIMETER, etc).\n",
    "- Area = 0.44*3.67/2.43 = 0.66 acres (using Acrobat Pro and a conversion ratio 2.43 in^2 => 3.67 acres)\n",
    "- Estimate a runoff coefficient (table look-up)\n",
    "- C = 0.85\n",
    "- Estimate $T_c$ surface flow to inlet.\n",
    "- Estimate $T_c$ all connecting routes to junction."
   ]
  },
  {
   "cell_type": "markdown",
   "metadata": {},
   "source": [
    "---\n",
    "\n",
    "### Drainage Area 5.1\n",
    "\n",
    "![](area5-1.png)\n",
    "\n",
    "- Measure area(s) using appropriate tools; to determine the area of each contributing area, in acres. (G3DATA; PLANIMETER, etc).\n",
    "- Area = 0.78*3.67/2.43 = 1.17 acres (using Acrobat Pro and a conversion ratio 2.43 in^2 => 3.67 acres)\n",
    "- Estimate a runoff coefficient (table look-up)\n",
    "- C = 0.70\n",
    "- Estimate $T_c$ surface flow to inlet.\n",
    "- Estimate $T_c$ all connecting routes to junction."
   ]
  },
  {
   "cell_type": "markdown",
   "metadata": {},
   "source": [
    "---\n",
    "\n",
    "### Drainage Area 5.2\n",
    "\n",
    "![](area5-2.png)\n",
    "\n",
    "- Measure area(s) using appropriate tools; to determine the area of each contributing area, in acres. (G3DATA; PLANIMETER, etc).\n",
    "- Area = 0.44*3.67/2.43 = 0.66 acres (using Acrobat Pro and a conversion ratio 2.43 in^2 => 3.67 acres)\n",
    "- Estimate a runoff coefficient (table look-up)\n",
    "- C = 0.65\n",
    "- Estimate $T_c$ surface flow to inlet.\n",
    "- Estimate $T_c$ all connecting routes to junction."
   ]
  },
  {
   "cell_type": "markdown",
   "metadata": {},
   "source": [
    "---\n",
    "\n",
    "### Drainage Area 5.3\n",
    "\n",
    "![](area5-3.png)\n",
    "\n",
    "- Measure area(s) using appropriate tools; to determine the area of each contributing area, in acres. (G3DATA; PLANIMETER, etc).\n",
    "- Area = 1.16*3.67/2.43 = 1.75 acres (using Acrobat Pro and a conversion ratio 2.43 in^2 => 3.67 acres)\n",
    "- Estimate a runoff coefficient (table look-up)\n",
    "- C = 0.55\n",
    "- Estimate $T_c$ surface flow to inlet.\n",
    "- Estimate $T_c$ all connecting routes to junction."
   ]
  },
  {
   "cell_type": "markdown",
   "metadata": {},
   "source": [
    "---\n",
    "\n",
    "### Drainage Area 6.1\n",
    "\n",
    "![](area6-1.png)\n",
    "\n",
    "- Measure area(s) using appropriate tools; to determine the area of each contributing area, in acres. (G3DATA; PLANIMETER, etc).\n",
    "- Area = 0.36*3.67/2.43 = 0.54 acres (using Acrobat Pro and a conversion ratio 2.43 in^2 => 3.67 acres)\n",
    "- Estimate a runoff coefficient (table look-up)\n",
    "- C = 0.75\n",
    "- Estimate $T_c$ surface flow to inlet.\n",
    "- Estimate $T_c$ all connecting routes to junction."
   ]
  },
  {
   "cell_type": "markdown",
   "metadata": {},
   "source": [
    "---\n",
    "\n",
    "### Drainage Area 7.1\n",
    "\n",
    "![](area7-1.png)\n",
    "\n",
    "- Measure area(s) using appropriate tools; to determine the area of each contributing area, in acres. (G3DATA; PLANIMETER, etc).\n",
    "- Area = 1.44*3.67/2.43 = 2.17 acres (using Acrobat Pro and a conversion ratio 2.43 in^2 => 3.67 acres)\n",
    "- Estimate a runoff coefficient (table look-up)\n",
    "- C = 0.70\n",
    "- Estimate $T_c$ surface flow to inlet.\n",
    "- Estimate $T_c$ all connecting routes to junction.\n",
    "\n",
    "---"
   ]
  },
  {
   "cell_type": "markdown",
   "metadata": {},
   "source": [
    "## Identify and measure conduit lengths\n",
    "\n",
    "Use appropriate tool to measure distances between Node ID (Acrobat Pro in the figure)\n",
    "- Select distance tool\n",
    "- Measure the 400 foot scale\n",
    "- Save scale factor: 1.51 in == 400 feet <br><br> ![](conduitlengths.png)\n",
    "- Then measure length each pipe, convert to appropriate units.\n",
    "\n",
    "Pipe P 1.1:\n",
    "-   ![](measurepipe.png)\n",
    "-   Connects 1.1 to 2.1 (need this linkage later on)\n",
    "-   Length = 1.57*400/1.51 = 415 ft\n",
    "-   Repeat for all the other pipes, store results somewhere convienient.\n",
    "\n",
    "---"
   ]
  },
  {
   "cell_type": "markdown",
   "metadata": {},
   "source": [
    "Build a spreadsheet with the information <br><br>\n",
    "![](goodwindata.png)\n",
    "- Note the naming convention (a bit awkward above, but faithful to the original example)\n",
    "\n",
    "## Compute Pipe Slopes\n",
    "\n",
    ":::{note}\n",
    "Either during the length measurements or now, record junction elevations, and use these to estimate initial pipe slopes -- the pipe slopes and diameters are ultimately the only design controls we can actually engineer -- so need a starting point.\n",
    "\n",
    "Here the 3D nature of the design begins to manifest!\n",
    ":::\n",
    "\n",
    "Again employ a suitable tool such as Acrobat Pro, and use the node elevations and topographic map to estimate pipe slopes.\n",
    "\n",
    "![](pipeslope.png)\n",
    "\n",
    "The pipes are usually buried, so we will be able to change slopes somewhat in the plan and profile drawings to maintain suitable hydraulic behavior.  Add these slopes to the spreadsheed for each pipe."
   ]
  },
  {
   "cell_type": "markdown",
   "metadata": {},
   "source": [
    "## Intensity (as an) Equation\n",
    "Next we will need to precipitation\n",
    "information for the design.\n",
    "- Easiest for this example is to build an IDF curve for the location.\n",
    "- The basin in the example is in Urbana, Illinois – Use NOAA Atlas 14 <br><br> ![](noaa.png)\n",
    "- For the example use a 2-yr ARI\n",
    "  - Download the table <br><br> ![](idfdata.png)\n",
    "  - Use the 2-nd column\n",
    "  - Use solver to fit<br><br> $I = \\frac{B}{(T_c + D)^E}$<br><br>\n",
    "  - These E,B,D are unknowns, we are fitting the equation to the NOAA values and $T_c$ (as a variable) to recover a model (which we call an IDF curve) <br><br> ![](idfequation.png) <br><br>\n",
    "  - Use this equation for estimating intensity and runoff\n",
    "\n",
    "Intensity function for the example is:\n",
    "\n",
    "$I = \\frac{54.82}{(T_c + 9.21)^{0.884}}$\n",
    "\n",
    "This equation can be coded into an analysis spreadsheet directly, then used to size the pipes."
   ]
  },
  {
   "cell_type": "markdown",
   "metadata": {},
   "source": [
    "## End of Section"
   ]
  }
 ],
 "metadata": {
  "kernelspec": {
   "display_name": "Python 3 (ipykernel)",
   "language": "python",
   "name": "python3"
  },
  "language_info": {
   "codemirror_mode": {
    "name": "ipython",
    "version": 3
   },
   "file_extension": ".py",
   "mimetype": "text/x-python",
   "name": "python",
   "nbconvert_exporter": "python",
   "pygments_lexer": "ipython3",
   "version": "3.10.12"
  }
 },
 "nbformat": 4,
 "nbformat_minor": 4
}