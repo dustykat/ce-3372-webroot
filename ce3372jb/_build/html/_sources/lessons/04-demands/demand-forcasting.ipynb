{
 "cells": [
  {
   "cell_type": "markdown",
   "metadata": {},
   "source": [
    "# 4. Demand Estimation\n",
    "\n",
    ":::{admonition} Course Website \n",
    "http://54.243.252.9/ce-3372-webroot/ \n",
    ":::"
   ]
  },
  {
   "cell_type": "markdown",
   "metadata": {},
   "source": [
    "Demand estimates are required to size water systems to meet some purpose, or establish that the particular system is infeasible.\n",
    "\n",
    ":::{Warning}\n",
    "This section is incomplete  \n",
    ":::"
   ]
  },
  {
   "cell_type": "markdown",
   "metadata": {
    "jp-MarkdownHeadingCollapsed": true
   },
   "source": [
    "## Readings \n",
    ":::{admonition} Textbook \n",
    "[Gupta, R.S., 2017. Hydrology and Hydraulic Systems, pp 1-39](https://www.waveland.com/browse.php?t=384)\n",
    ":::\n",
    "\n",
    ":::{admonition} Additional Readings\n",
    "\n",
    "1. [Cleveland, T. G. (2020) *Water Systems Design Notes (Demand Estimation) to accompany CE-3372*, Department of Civil, Environmental, and Construction Engineering, Whitacre College of Engineering.](http://54.243.252.9/ce-3372-webroot/1-Lessons/Lesson03/PowerPointInLecture/OldContent/CE3372-Lesson-3.pdf)\n",
    "\n",
    "2. [Gupta, R. S. 2017. Hydrology and Hydraulic Systems. Waveland Press, Inc. pp 1-19](http://54.243.252.9/ce-3372-webroot/3-Readings/WaterDemand-Gupta.pdf)\n",
    "\n",
    "3. [Nickerson G. 2008. \"Water Distribution Systems\" in Land Development Handbook, Ed. S.O. Dewberry, Dewberry Inc., McGraw-Hill](http://54.243.252.9/ce-3372-webroot/3-Readings/water-distribution.pdf)\n",
    "\n",
    "4. [Land Development Handbook 4ed. 2019.](https://www.bnibooks.com/products/land-development-handbook-4th-edition?variant=37677778108576&country=US&currency=USD&utm_medium=product_sync&utm_source=google&utm_content=sag_organic&utm_campaign=sag_organic&utm_source=google&utm_medium=pmax&utm_campaign=450A&gad_source=1&gclid=EAIaIQobChMIiZqYx5y0igMVky5ECB1uUxmGEAQYASABEgLtlfD_BwE) The most useful $200 you will spend in Civil Engineering - this is an upgrade to the copy I used for the excerpt above.  If you buy one get a physcial book - they don't break, work anytime the lights are on, and you can use it for squashing bugs.\n",
    "\n",
    "5. Frauenthal, J.C. 1980. *Introduction to Population Modeling*. Birkhäuser, Boston. (Internet Archive has a copy one can borrow, but no free PDFs on the mighty internet)\n",
    "\n",
    ":::"
   ]
  },
  {
   "cell_type": "markdown",
   "metadata": {},
   "source": [
    "## Videos\n",
    "\n",
    "1. [none](https://www.youtube.com/watch?v=9NYs3Y-IjGw)"
   ]
  },
  {
   "cell_type": "markdown",
   "metadata": {},
   "source": [
    "## Lesson Outline\n",
    "1. topic1\n",
    "2. topic2\n",
    "3. topic3"
   ]
  },
  {
   "cell_type": "markdown",
   "metadata": {},
   "source": [
    "## Water Supply Demands\n",
    "\n",
    "Estimates of demand are used to size water systems to meet some purpose, or establish that the particular system is infeasible.\n",
    "\n",
    "The purposes can include:\n",
    "\n",
    "- Municipal uses (drinking water, fire suppression, commercial use, ...)\n",
    "- Industrial use (separate from municipal)\n",
    "- Agriculture use\n",
    "- Waste Assimilation use\n",
    "- Navigation uses (outside scope this course)\n",
    "\n",
    "### Types of Demand\n",
    "1. **Withdrawal**: Water removed from a stream, lake, or aquifer to supply users. This water is moved to satisfy the use.\n",
    "2. **Non-Withdrawal**: On-site uses such as navigation or recreation where water remains in its original location.\n",
    "3. **Consumptive**: The portion of withdrawal that is no longer available for further use, as it is incorporated into crops, animals, or industrial processes."
   ]
  },
  {
   "cell_type": "markdown",
   "metadata": {},
   "source": [
    "## Water Needs for a City\n",
    "\n",
    "Consider some generic urban area (figure from Gupta)\n",
    "\n",
    "![](demand-diagram.png)\n",
    "\n",
    "### Categories of Requirements\n",
    "1. Municipal Requirements (Drinking Water Supply)\n",
    "2. Large Industrial Requirements (Potable and Non-Potable)\n",
    "3. Waste Assimilation Requirements\n",
    "\n",
    "### Municipal Requirements\n",
    "\n",
    "A relatively simple relationship establishes municipal requirements:\n",
    "\n",
    "$$ V_{req} = P_{t} \\times U_{per person}$$\n",
    "\n",
    "Where:\n",
    "- $V_{req}$ is the volume required,\n",
    "- $P_{t}$ is the population at some moment,\n",
    "- $U_{per person}$ is the per person usage.\n",
    "\n",
    "Thus the two components required to estimate demand is **how many people** have to be supplied, and **how much each** person uses.\n",
    "\n",
    "Notice time is in the relationship.  Conservation practices can influence $U$, and growth or decline in $P$ can also influence the volume required.\n",
    "\n",
    "An alternative form is:\n",
    "\n",
    "\n",
    "$$ V = P \\times \\frac{V}{P} $$\n",
    "\n",
    "  Where:\n",
    "  - $ V $: Volume\n",
    "  - $ P $: Population\n",
    "  - $ \\frac{V}{P} $: Volume per person"
   ]
  },
  {
   "cell_type": "markdown",
   "metadata": {},
   "source": [
    "## Population Forecasting\n",
    "\n",
    ":::{note} \n",
    "Population forecasting is usually outside realm of engineers; they can surely handle the arithmetic, but converting census estimates, and economic development incentives is beyond most engineer's experiences.  We can make provisional estimates for feasibility, then bring in profe\\$\\$ionals for the complete analysis.\n",
    ":::\n",
    "\n",
    "### Graphical Methods\n",
    "\n",
    "Graphical representations can be used for near future population estimates.\n",
    "\n",
    "![](populationgrowth.png)\n",
    "\n",
    "Recent history is used to determine where the target population is on the growth curve\n",
    "\n",
    "- Short-term forecasting includes:\n",
    "  - Declining growth\n",
    "  - Arithmetic growth\n",
    "  - Geometric growth\n",
    "\n",
    ":::{note}\n",
    "The curve above is identical in structure to resource capacity limited growth that you learned in Environmental Engineering (CE 3309).  Examples that will follow such a curve are yeast cells in a sugar rich environment. Dextrose (glucose) is a simple sugar and is the primary energy source for yeast. It is readily taken up by yeast cells and metabolized through glycolysis, followed by either fermentation (anaerobic conditions) or respiration (aerobic conditions).  In aerobic conditions the yeast cells will multiply until nearly all the dextrose is used, then the growth rate declines dramatically.  The asymptote is determined to some extent by the amount of sugar originally present.\n",
    ":::\n",
    "\n",
    "An alternative to actually drawing curves (although quite useful) is to determine the portion of interest on the curve and perform the arithmetic.\n",
    "\n",
    "### Mathematical Methods\n",
    "1. **Geometric Growth**: \n",
    "   $ P_2 = P_1 \\cdot e^{K_P (t_2 - t_1)} $\n",
    "   - $ K_P $: Exponential growth constant (units of recipricol time)\n",
    "\n",
    "2. **Arithmetic Growth**:\n",
    "   $ P_2 = P_1 + K_A (t_2 - t_1) $\n",
    "   - $ K_A $: Slope of the growth curve (units of recipricol time)\n",
    "\n",
    "3. **Declining Growth**:\n",
    "   $ P_2 = P_1 + (P_{sat} - P_1) \\cdot (1 - e^{-K_D (t_2 - t_1)}) $\n",
    "   - $ K_D $: Declining rate constant (units of recipricol time)"
   ]
  },
  {
   "cell_type": "markdown",
   "metadata": {},
   "source": [
    "## Longer-Term Forecasting\n",
    "Longer-term population forecasting is a critical aspect of urban and regional planning. It helps in predicting future water demand and ensuring sustainable resource management. This approach uses historical census data and more complex techniques to estimate population growth over decades.\n",
    "\n",
    "### Comparison Forecasting: \n",
    "Projects growth by comparing with geographically similar areas.\n",
    "\n",
    "1. **Ratio Method (Transposition)**:\n",
    "   - Ratio: $ P_t = P_0 \\cdot \\frac{P'_t}{P'_0} $\n",
    "   - Where:\n",
    "     - $ P_t $: Future population of the target area\n",
    "     - $ P_0 $: Current population of the target area\n",
    "     - $ P'_t $: Future population of the reference area\n",
    "     - $ P'_0 $: Current population of the reference area\n",
    "   - Example: If a nearby city with similar characteristics has shown consistent growth, its population ratios can help estimate the target area's growth.\n",
    "\n",
    "2. **Correlation Method**:\n",
    "   - Uses statistical techniques, such as ordinary least squares (OLS), to fit a predictive equation.\n",
    "   - Formula:\n",
    "   - Correlation: $ P_t = a \\cdot P'_t + b $\n",
    "     Where:\n",
    "     - $ P_t $: Target area's population\n",
    "     - $ P'_t $: Reference area's population\n",
    "     - $ a, b $: Coefficients derived from historical data\n",
    "   - Example: This method is particularly useful when multiple reference areas are available for comparison.\n",
    "\n",
    "### Component Techniques\n",
    "Component-based forecasting divides population dynamics into smaller measurable parts to understand the influences of births, deaths, and migration.\n",
    "\n",
    "1. **Births and Deaths**:\n",
    "   - Birth rate (B) and death rate (D) determine the natural increase or decrease in population.\n",
    "   - Formula:\n",
    "     $ P_t = P_0 + (B - D) \\cdot \\Delta t $\n",
    "\n",
    "2. **Net Migration (M)**:\n",
    "   - Accounts for people moving in or out of the area.\n",
    "   - Formula:\n",
    "     $ P_t = P_0 + (B - D \\pm M) \\cdot \\Delta t $\n",
    "     Where:\n",
    "     - $ M $: Net migration rate\n",
    "     - $ \\Delta t $: Time interval in years\n",
    "\n",
    "3. **Composite Models**:\n",
    "   - Combine multiple demographic factors (e.g., age distribution, economic conditions).\n",
    "   - These models require significant data and computational resources but provide more accurate predictions.\n",
    "\n",
    "### Advantages of Longer-Term Forecasting\n",
    "- Provides a detailed understanding of population trends.\n",
    "- Helps design infrastructure that meets future needs.\n",
    "- Incorporates economic and social factors for robust predictions.\n",
    "\n",
    ":::{note}\n",
    "Long-term forcasting using population dynamics models is a specalist sport.  In the 1980's the solutions to the dynamic systems were by means of Routh Arrays.\n",
    "\n",
    "The Routh Array is a mathematical tool used in control theory and differential equations to determine the stability of a system by analyzing the characteristic equation of a linear system. In the context of population dynamics models, it can be adapted to assess the stability of equilibrium points in systems governed by differential equations.\n",
    "\n",
    "Application in Population Dynamics\n",
    "\n",
    "Population dynamics models often involve differential equations describing the growth or decline of a population. Stability analysis determines whether the population will converge to an equilibrium (e.g., carrying capacity) or diverge (e.g., unbounded growth or extinction).\n",
    "\n",
    "The Routh Array helps in this analysis by examining the characteristic equation derived from the linearized system of differential equations around an equilibrium point. The characteristic equation typically takes the form:\n",
    "\n",
    "$$P(s)=a_ns^n+a_{n−1}s^{n−1}+\\dots+a_0=0 $$\n",
    "\n",
    "where $s$ represents the eigenvalues, and $a_i$ are coefficients related to the model's parameters.  (You did similar work with Lagrangian polynomials in Engineering Mathematics)\n",
    "\n",
    "Steps in Using the Routh Array:\n",
    "\n",
    "1. Construct the Characteristic Polynomial: Derive it from the population model's linearized system.\n",
    "2. Build the Routh Array:\n",
    "        Organize the coefficients of the polynomial into a tabular form.\n",
    "        Populate the rows of the array using a recursive formula derived from the coefficients.\n",
    "3. Determine Stability:\n",
    "   - Check the signs of the first column of the array.\n",
    "   - If all entries in the first column are positive, the system is stable (all roots have negative real parts).\n",
    "   - Any sign change indicates potential instability (roots with positive real parts).\n",
    "\n",
    "Advantages:\n",
    "\n",
    "- Efficient Stability Check: The Routh Array provides stability information without explicitly solving for eigenvalues.\n",
    "- Insightful for Complex Models: Useful for models with higher-order dynamics where solving characteristic equations is challenging.\n",
    "\n",
    "Example in Population Dynamics\n",
    "\n",
    "Consider a population model with logistic growth and additional dynamics, leading to a characteristic equation like:\n",
    "\n",
    "$$s^3+3s^2+3s+1=0$$\n",
    "\n",
    "Using the Routh Array, we can determine whether small perturbations around the equilibrium will return to stability or diverge.\n",
    "Limitations\n",
    "\n",
    "- Applicable only to linearized models (near equilibrium points).\n",
    "- Requires the system's differential equations to be representable in polynomial form.\n",
    "\n",
    "This method provides a systematic way to analyze stability, making it a valuable tool in theoretical studies of population dynamics and their control mechanisms.\n",
    "\n",
    "Today (2023) we would simply build a numerical model of the dynamic system, and perturb the model and see how it responds.  In the 1980's computers were not readily available, so mathematicians invented these clever techniques.\n",
    ":::"
   ]
  },
  {
   "cell_type": "markdown",
   "metadata": {},
   "source": [
    "## Water Usage\n",
    "\n",
    "### Components\n",
    "1. **Average Daily Demand**\n",
    "2. **Hourly Variation**\n",
    "3. **Fire Demand**\n",
    "\n",
    "### Per Capita Usage\n",
    "- Design life varies by system component.\n",
    "- Maintenance and replacement must account for component failures within the overall design life."
   ]
  },
  {
   "cell_type": "markdown",
   "metadata": {},
   "source": [
    "## Average Daily Usage\n",
    "\n",
    "### Categories\n",
    "1. **Residential**: Includes drinking, landscaping, and street cleaning. Typically, two demand peaks (morning and evening).\n",
    "2. **Commercial**: Hotels, offices, and shopping centers. Demand is less variable.\n",
    "3. **Industrial**: Fabrication, cooling, and refining. Varies by industry.\n",
    "\n",
    "### Estimation Tools\n",
    "1. **[USGS Circular 1200](http://54.243.252.9/ce-3372-webroot/3-Readings/USGSCircular1200/circular1200.pdf)**: Maps and tables for gross estimates.\n",
    "2. **Approximations**: Preliminary designs.\n",
    "4. **Per-Connection Calculations**: Based on flow rates and plumbing capacity.\n",
    "    - [Water System Planning: Estimating Water Needs](https://extension.psu.edu/water-system-planning-estimating-water-needs)\n",
    "    - [Flow Rate; Thunderbird Products](https://thunderbirdproducts.com/blogs/resource/flow-rate)\n",
    "    - [2015 Uniform Plumbing Code](https://forms.iapmo.org/email_marketing/codespotlight/2018/Jan25.htm)\n",
    "    - [Regulatory Decree](https://www.tceq.texas.gov/permitting/water_rights/wr_technical-resources/plumbing-fixtures)\n",
    "\n",
    "\n"
   ]
  },
  {
   "cell_type": "markdown",
   "metadata": {},
   "source": [
    "## Usage Variation\n",
    "\n",
    "- Seasonal, daily, and special events (e.g., Super Bowl halftime).\n",
    "- Rule-of-thumb estimate for usage variation:\n",
    "  \n",
    "  $$ \\%U = \\frac{180\\%}{T^{0.1}} $$\n",
    "\n",
    "   - $ T $: Duration in days\n",
    "\n",
    "[Water Demand Variation Tool](http://54.243.252.9/toolbox/pipehydraulics/WaterDemandVariation/WaterDemandVariation.html) (Online Calculator that implements the above expression, with some input guidance)\n",
    "\n",
    "![](UsageMultiplier.png)"
   ]
  },
  {
   "cell_type": "code",
   "execution_count": 23,
   "metadata": {},
   "outputs": [
    {
     "name": "stdout",
     "output_type": "stream",
     "text": [
      "Usage multiplier U for 7 days: 1.48 gallons per capita per day\n"
     ]
    }
   ],
   "source": [
    "#### Python Template for Estimation\n",
    "import math\n",
    "\n",
    "def usage_multiplier(duration_days):\n",
    "    \"\"\"Calculate usage multiplier U based on duration.\"\"\"\n",
    "    if duration_days <= 0:\n",
    "        raise ValueError(\"Duration must be greater than 0.\")\n",
    "    U = 1.80 / (duration_days ** 0.1)\n",
    "    return U\n",
    "\n",
    "# Example usage\n",
    "duration = 7  # duration in days\n",
    "U = usage_multiplier(duration)\n",
    "print(f\"Usage multiplier U for {duration} days: {U:.2f} gallons per capita per day\")"
   ]
  },
  {
   "cell_type": "markdown",
   "metadata": {},
   "source": [
    "## Fire Demand\n",
    "\n",
    "- High withdrawal rates required during emergencies.\n",
    "- Fire flow calculation (cite source):\n",
    "- \n",
    "  $$ Q_{fire,GPM} = 1020 \\cdot P \\cdot (1 - 0.01P) $$\n",
    "  \n",
    "   - $ P $: Population in thousands"
   ]
  },
  {
   "cell_type": "code",
   "execution_count": 24,
   "metadata": {},
   "outputs": [
    {
     "name": "stdout",
     "output_type": "stream",
     "text": [
      "Fire flow demand for a population of 25k: 19125.00 GPM\n"
     ]
    }
   ],
   "source": [
    "import math\n",
    "\n",
    "def fire_demand(population_thousands):\n",
    "    \"\"\"Calculate fire flow demand based on population.\"\"\"\n",
    "    if population_thousands <= 0:\n",
    "        raise ValueError(\"Population must be greater than 0.\")\n",
    "    Q_fire = 1020 * population_thousands * (1 - 0.01 * population_thousands)\n",
    "    return Q_fire\n",
    "\n",
    "# Example usage\n",
    "population = 25  # Population in thousands\n",
    "Q_fire = fire_demand(population)\n",
    "print(f\"Fire flow demand for a population of {population}k: {Q_fire:.2f} GPM\")"
   ]
  },
  {
   "cell_type": "markdown",
   "metadata": {},
   "source": [
    "## Industrial Demand\n",
    "\n",
    "- Self-supply for large industries or community-supplied estimates based on usage rates:\n",
    "  - Thermal Power: 80 gal/kWh\n",
    "  - Steel Production: 35,000 gal/ton\n",
    "  - Petroleum Refining: 770 gal/barrel"
   ]
  },
  {
   "cell_type": "markdown",
   "metadata": {},
   "source": [
    "## Waste Assimilation Demand\n",
    "\n",
    "- Estimated using methods like TMDL or DO Sag.\n",
    "- Preliminary values (Gupta pp. 19-22):\n",
    "- \n",
    "  $$ Q_W = \\frac{Q_S}{40 - 0.38 \\cdot \\%T} $$"
   ]
  },
  {
   "cell_type": "code",
   "execution_count": 25,
   "metadata": {},
   "outputs": [
    {
     "name": "stdout",
     "output_type": "stream",
     "text": [
      "Receiving Stream Flow before Discharge 40.00 MGD\n",
      "Treated Sewage Assimilative Capacity 60%: 2.33 MGD\n",
      "Total Stream Flow after Discharge 42.33 MGD\n"
     ]
    }
   ],
   "source": [
    "import math\n",
    "\n",
    "def wasteflow(Q_stream,treatment):\n",
    "    \"\"\"Calculate waste flow demand based on source flow and treatment fraction.\"\"\"\n",
    "    if treatment <= 0:\n",
    "        raise ValueError(\"treatment percent be greater than 0.\")\n",
    "    Q_waste = Q_stream / (40 - 0.38 * treatment)\n",
    "    return Q_waste\n",
    "\n",
    "# Example usage\n",
    "Q_stream = 40  # stream flow in MGD\n",
    "treatment = 60 # treatment percentage\n",
    "Q_waste = wasteflow(Q_stream,treatment)\n",
    "print(f\"Receiving Stream Flow before Discharge {Q_stream:.2f} MGD\")\n",
    "print(f\"Treated Sewage Assimilative Capacity {treatment}%: {Q_waste:.2f} MGD\")\n",
    "print(f\"Total Stream Flow after Discharge {Q_waste+Q_stream:.2f} MGD\")"
   ]
  },
  {
   "cell_type": "markdown",
   "metadata": {},
   "source": [
    "## Irrigation and Other Demands\n",
    "\n",
    "### Categories\n",
    "1. **Irrigation**: Biomass, evapotranspiration, and losses.\n",
    "2. **Other Uses**:\n",
    "   - Hydropower: Run-of-river or storage release.\n",
    "   - Navigation: River regulation or artificial canals."
   ]
  },
  {
   "cell_type": "markdown",
   "metadata": {},
   "source": [
    "## End of Section"
   ]
  }
 ],
 "metadata": {
  "kernelspec": {
   "display_name": "Python 3 (ipykernel)",
   "language": "python",
   "name": "python3"
  },
  "language_info": {
   "codemirror_mode": {
    "name": "ipython",
    "version": 3
   },
   "file_extension": ".py",
   "mimetype": "text/x-python",
   "name": "python",
   "nbconvert_exporter": "python",
   "pygments_lexer": "ipython3",
   "version": "3.10.12"
  }
 },
 "nbformat": 4,
 "nbformat_minor": 4
}
