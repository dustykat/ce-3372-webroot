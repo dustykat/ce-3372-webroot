{
 "cells": [
  {
   "cell_type": "markdown",
   "metadata": {},
   "source": [
    "# 21. Green Infrastructure\n",
    "\n",
    "Green infrastructure in stormwater management focuses on sustainable practices that mimic natural processes to manage water and create healthier urban environments. It integrates engineered and natural systems to reduce runoff, improve water quality, and enhance community resilience."
   ]
  },
  {
   "cell_type": "markdown",
   "metadata": {},
   "source": [
    "## Readings\n",
    "\n",
    "1. [Konrad, C .P. 2003. Effects of Urban Development on Floods. U.S. Geological Survey Fact Sheet FS-076-03.](https://pubs.usgs.gov/fs/fs07603/pdf/fs07603.pdf)\n",
    "\n",
    "2. [National Research Council. 2008. Urban Stormwater Management in the United States. The National Academies Press, Washington, DC.](https://nap.nationalacademies.org/catalog/12465/urban-stormwater-management-in-the-united-states)\n",
    "\n",
    "3. [Rose, S. 2007. The effects of urbanization on the hydrochemistry of base flow within the Chattahoochee River Basin (Georgia, USA). Journal of Hydrology 341:42–54.](https://www.sciencedirect.com/science/article/pii/S0022169407002661?via%3Dihub)\n",
    "\n",
    "4. [U.S. EPA. (2010). Causal Analysis / Diagnosis Decision Information System Volume 2: Source Module for Urbanization. U. S.\n",
    "Environmental Protection Agency, Washington, DC.](https://www.epa.gov/caddis)\n",
    "\n",
    "5. [Walsh, C. J., A. Roy, J. W. Feminella, P. D. Cottingham, P. M. Groffman, and R. P. Morgan. 2005. The Urban Stream Syndrome:\n",
    "Current knowledge and the search for a cure. Journal of the North American Benthological\n",
    "Society 24(3):706–723.](http://water-pire.uci.edu/wp-content/uploads/2013/08/9_Schiff_Walsh_Urban_Stream_Syndrome.pdf)\n",
    "\n",
    "## On-Line Calculators\n",
    "6. [Green Values® Stormwater Management Calculator](https://greenvalues.cnt.org/index.php#calculate) The calculator is for planners, landscape architects, municipal staff and homeowners to explore value of green infrastructure.\n",
    "\n",
    "7. [U.S. EPA National Stormwater Calculator](https://www.epa.gov/water-research/national-stormwater-calculator) Estimates the annual amount of rainwater and frequency of runoff from a specific site using green infrastructure as low impact development controls. \n",
    "\n",
    "## Databases\n",
    "8. [The International Stormwater Best Management Practices Database (BMPDB) ](https://bmpdatabase.org/)\n",
    "\n",
    "9. [National Pollutant Removal Performance Database v. 2](http://www.stormwaterok.net/CWP%20Documents/CWP-07%20Natl%20Pollutant%20Removal%20Perform%20Database.pdf)"
   ]
  },
  {
   "cell_type": "markdown",
   "metadata": {},
   "source": [
    "## Videos"
   ]
  },
  {
   "cell_type": "markdown",
   "metadata": {},
   "source": []
  },
  {
   "cell_type": "markdown",
   "metadata": {},
   "source": [
    "## Concepts\n",
    "\n",
    "**Definition:** Section 502 of the Clean Water Act defines green infrastructure as \"...the\n",
    "range of measures that use plant or soil systems, permeable pavement or other\n",
    "permeable surfaces or substrates, stormwater harvest and reuse, or landscaping to store,\n",
    "infiltrate, or evapotranspirate stormwater and reduce flows to sewer systems or to surface\n",
    "waters.”\n",
    "\n",
    ":::{admonition} Simple GI Definition\n",
    "Green infrastructure involves practices that utilize vegetation, soils, and natural processes to manage stormwater and create livable urban spaces.\n",
    ":::\n",
    "\n",
    "**Purpose:** Conventional stormwater infrastructure, piped drainage and water treatment systems, are designed to move urban stormwater away from the built environment in contrast to green infrastructure (GI) that reduces and treats stormwater at its source while delivering environmental, social, and economic benefits.\n",
    "\n",
    "Goals include:\n",
    "- Mitigate urban flooding.\n",
    "- Reduce pollutant loads in runoff.\n",
    "- Enhance groundwater recharge.\n",
    "- Provide ecological and social co-benefits.\n",
    "\n",
    "Comparison with Gray Infrastructure:\n",
    "- Gray infrastructure relies on engineered systems like pipes and detention basins.\n",
    "- Green infrastructure emphasizes decentralized systems and natural hydrology.\n",
    "\n",
    "Key Benefits:\n",
    "- Environmental: Water quality improvement, habitat creation.\n",
    "- Economic: Reduced infrastructure costs, increased property values.\n",
    "- Social: Enhanced urban aesthetics, public health improvement.\n",
    "\n",
    "Policy and Regulatory Framework:\n",
    "- Clean Water Act Section 319 (Nonpoint Source Pollution).\n",
    "- Clean Water Act Section 502 (GI Specific).\n",
    "- Municipal Separate Storm Sewer System (MS4) permits.\n",
    "\n"
   ]
  },
  {
   "cell_type": "markdown",
   "metadata": {},
   "source": [
    "## Devices\n",
    "\n",
    "[images this section]\n",
    "\n",
    "- Rain Gardens\n",
    "  - Shallow depressions planted with vegetation to capture and infiltrate runoff.\n",
    "  - Applications: Residential yards, commercial properties.\n",
    "\n",
    "- Green Roofs\n",
    "  - Vegetated roof systems that absorb rainfall and reduce heat island effects.\n",
    "  - Applications: Urban buildings, educational institutions.\n",
    "\n",
    "- Permeable Pavements\n",
    "  - Materials allowing stormwater to infiltrate through the surface.\n",
    "  - Applications: Parking lots, walkways.\n",
    "\n",
    "- Bioswales\n",
    "  - Vegetated channels designed to convey and treat runoff.\n",
    "  - Applications: Road medians, parking lot perimeters.\n",
    "\n",
    "- Constructed Wetlands\n",
    "  - Engineered ecosystems mimicking natural wetlands for stormwater treatment.\n",
    "  - Applications: Industrial parks, large developments.\n",
    "\n",
    "- Rainwater Harvesting Systems\n",
    "  - Systems capturing and storing rainwater for non-potable uses.\n",
    "  - Applications: Residential and commercial buildings."
   ]
  },
  {
   "cell_type": "markdown",
   "metadata": {},
   "source": [
    "## Performance Estimation\n",
    "    \n",
    "Quantitative Metrics:\n",
    "- Runoff Volume Reduction: Estimate infiltration using hydrologic models like SWMM or TR-55.\n",
    "- Pollutant Removal Efficiency: Use site-specific data or reference literature values for sediment and nutrient removal.\n",
    "\n",
    "Modeling Tools:\n",
    "- EPA SWMM: Simulates stormwater flows and treatment performance.\n",
    "- Hydrologic Engineering Center (HEC-HMS): Models watershed hydrology and green infrastructure impacts.\n",
    "\n",
    "Field Monitoring: \n",
    "- Flow meters\n",
    "- Water quality sensors, and soil moisture probes to validate design assumptions.\n",
    "\n",
    "Design Considerations:\n",
    "- Local climate, soil permeability, and urban context.\n",
    "- Maintenance requirements to ensure long-term performance.\n",
    "\n",
    "Case Studies:\n",
    "- Review successful implementations to understand real-world performance."
   ]
  },
  {
   "cell_type": "markdown",
   "metadata": {},
   "source": []
  },
  {
   "cell_type": "markdown",
   "metadata": {},
   "source": []
  },
  {
   "cell_type": "markdown",
   "metadata": {},
   "source": []
  }
 ],
 "metadata": {
  "kernelspec": {
   "display_name": "Python 3",
   "language": "python",
   "name": "python3"
  },
  "language_info": {
   "codemirror_mode": {
    "name": "ipython",
    "version": 3
   },
   "file_extension": ".py",
   "mimetype": "text/x-python",
   "name": "python",
   "nbconvert_exporter": "python",
   "pygments_lexer": "ipython3",
   "version": "3.8.10"
  }
 },
 "nbformat": 4,
 "nbformat_minor": 4
}
