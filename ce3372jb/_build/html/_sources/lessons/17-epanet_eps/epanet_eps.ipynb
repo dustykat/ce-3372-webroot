{
 "cells": [
  {
   "cell_type": "markdown",
   "metadata": {},
   "source": [
    "# 16. EPANET Extended Period Simulation\n",
    "\n",
    ":::{admonition} Course Website\n",
    "[http://54.243.252.9/ce-3372-webroot/](http://54.243.252.9/ce-3372-webroot/)\n",
    ":::"
   ]
  },
  {
   "cell_type": "markdown",
   "metadata": {},
   "source": [
    "## Readings \n",
    "\n",
    "1. Cleveland, T.G. (2023). Hydraulic Network Simulation with EPANET and Python. Notes to accompany Metropolia ICT Summer School 2023 Course TX00FJ07 [http://54.243.252.9/ects-epanet/ects-epanet-notes/_build/html/intro.html](http://54.243.252.9/ects-epanet/ects-epanet-notes/_build/html/intro.html).\n",
    "\n",
    "1. Theodore G. Cleveland, Cristal C. Tay, and Caroline Neale, (2015) EPANET by Example – A How-to-Manual for Network Modeling [http://54.243.252.9/ce-3372-webroot/3-Readings/EPANETbyExample/EPANETbyExampleV1.pdf](http://54.243.252.9/ce-3372-webroot/3-Readings/EPANETbyExample/EPANETbyExampleV1.pdf) \n",
    "\n",
    "2. Cleveland, T. G. (2015) Water Systems Design Notes to Accompany CE 3372 at TTU, Department of Civil, Environmental, and Construction Engineering, Whitacre College of Engineering. [http://54.243.252.9/ce-3372-webroot/1-Lessons/Lesson10/PowerPointInLecture/Lecture10.pdf](http://54.243.252.9/ce-3372-webroot/1-Lessons/Lesson10/PowerPointInLecture/Lecture10.pdf)\n",
    "\n",
    "3. Hydraulics of Pipelines and Pipe Networks Wurbs, R.A., and James, W. P. (2002) Water Resources Engineering, Prentice Hall; pp.130-156; and 156-198. [http://54.243.252.9/ce-3372-webroot/3-Readings/Wurbs130-198/](http://54.243.252.9/ce-3372-webroot/3-Readings/Wurbs130-198/)\n",
    "\n",
    "4. Pipe Networks Chin, D. (2006). pp. 27-48 in \"Water Resources Engineering, 2 ed.\" Prentice Hall, Inc. [http://54.243.252.9/ce-3372-webroot/3-Readings/Chin_27-48/](http://54.243.252.9/ce-3372-webroot/3-Readings/Chin_27-48/)\n",
    "\n",
    "5. Water Distribution Systems \"Water Distribution Systems\" in Land Development Handbook, Ed. S.O. Dewberry, Dewberry Inc., McGraw-Hill [http://54.243.252.9/ce-3372-webroot/3-Readings/WaterDistributionSystems/](http://54.243.252.9/ce-3372-webroot/3-Readings/WaterDistributionSystems/)\n",
    "\n"
   ]
  },
  {
   "cell_type": "markdown",
   "metadata": {},
   "source": [
    "## Videos\n",
    "\n",
    "1. [none](https://www.youtube.com/watch?v=9NYs3Y-IjGw)"
   ]
  },
  {
   "cell_type": "markdown",
   "metadata": {},
   "source": [
    "## Lesson Outline\n",
    "1. Concepts\n",
    "2. Interface Components\n",
    "3. Demand Pattern\n",
    "4. Water Quality Modeling\n",
    "5. Example(s)\n",
    "  - Eagle Pass Hydraulics Example"
   ]
  },
  {
   "cell_type": "markdown",
   "metadata": {},
   "source": [
    "## End of Section"
   ]
  }
 ],
 "metadata": {
  "kernelspec": {
   "display_name": "Python 3 (ipykernel)",
   "language": "python",
   "name": "python3"
  },
  "language_info": {
   "codemirror_mode": {
    "name": "ipython",
    "version": 3
   },
   "file_extension": ".py",
   "mimetype": "text/x-python",
   "name": "python",
   "nbconvert_exporter": "python",
   "pygments_lexer": "ipython3",
   "version": "3.10.12"
  }
 },
 "nbformat": 4,
 "nbformat_minor": 4
}
