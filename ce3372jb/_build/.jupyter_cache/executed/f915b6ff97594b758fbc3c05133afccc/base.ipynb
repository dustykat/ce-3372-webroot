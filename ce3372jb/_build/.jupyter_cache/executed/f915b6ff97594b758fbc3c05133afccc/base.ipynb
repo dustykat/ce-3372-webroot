{
 "cells": [
  {
   "cell_type": "code",
   "execution_count": 1,
   "metadata": {},
   "outputs": [
    {
     "name": "stdout",
     "output_type": "stream",
     "text": [
      "164.3\n",
      "212.9\n"
     ]
    }
   ],
   "source": [
    "\n",
    "def hglmin(pressure,elevation):\n",
    "    hglmin = elevation+2.31*pressure\n",
    "    return(hglmin)\n",
    "    \n",
    "def hglmax(pressure,elevation):\n",
    "    hglmax = elevation+2.31*pressure\n",
    "    return(hglmax)\n",
    "    \n",
    "pmin = 30 # pressure in psi (about 2 atm)\n",
    "pmax = 90 # pressure in psi (about 6 atm)\n",
    "emin = 5 # low elevation in feet\n",
    "emax = 95 # high elevation in feet\n",
    "\n",
    "print(hglmin(pmin,emax))\n",
    "print(hglmax(pmax,emin))\n"
   ]
  }
 ],
 "metadata": {
  "kernelspec": {
   "display_name": "Python 3 (ipykernel)",
   "language": "python",
   "name": "python3"
  },
  "language_info": {
   "codemirror_mode": {
    "name": "ipython",
    "version": 3
   },
   "file_extension": ".py",
   "mimetype": "text/x-python",
   "name": "python",
   "nbconvert_exporter": "python",
   "pygments_lexer": "ipython3",
   "version": "3.10.12"
  }
 },
 "nbformat": 4,
 "nbformat_minor": 4
}