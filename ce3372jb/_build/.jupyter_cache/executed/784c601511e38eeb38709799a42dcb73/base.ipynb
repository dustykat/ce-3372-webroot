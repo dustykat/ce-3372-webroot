{
 "cells": [
  {
   "cell_type": "code",
   "execution_count": 1,
   "metadata": {},
   "outputs": [
    {
     "name": "stdout",
     "output_type": "stream",
     "text": [
      "Pipe Diameter :  2.0\n",
      "Pipe Length :  10680.0\n",
      "Pipe Roughness Height :  0.00328\n",
      "Liquid Viscosity :  1.41e-05\n",
      "Gravitational acceleration constant :  32.2\n",
      "Head loss :  20.0\n",
      "Discharge :  10.24529705017876\n"
     ]
    }
   ],
   "source": [
    "# modified from getQfromH.py\n",
    "# ipython module for pipeline hydraulics\n",
    "# computation engine #########################\n",
    "# import built in functions for log, sqrt\n",
    "from math import log,sqrt\n",
    "# Define the prototype function\n",
    "def jainQ(pipe_diameter,pipe_length,roughness,viscosity,grabity,head_loss):\n",
    "    egl_slope = head_loss/pipe_length\n",
    "    t1 = sqrt(grabity*pipe_diameter*egl_slope)\n",
    "    t2 = roughness/(3.7*pipe_diameter)\n",
    "    t3 = 1.78*viscosity\n",
    "    jainQ = (-0.965*pipe_diameter**2)*t1*log(t2 + t3/(pipe_diameter*t1))\n",
    "    return jainQ\n",
    "# values from Example\n",
    "pipe_diameter = 2.0\n",
    "pipe_length = 10680.0\n",
    "roughness = 0.00328\n",
    "viscosity = 1.41e-05\n",
    "grabity = 32.2\n",
    "head_loss = 20.0\n",
    "# disable above and insert interface engine here\n",
    "#\n",
    "# now perform computation and construct output\n",
    "discharge = jainQ(pipe_diameter,pipe_length,roughness,viscosity,grabity,head_loss)\n",
    "# Echo inputs, and outputs\n",
    "print (\"Pipe Diameter : \", pipe_diameter)\n",
    "print (\"Pipe Length : \", pipe_length)\n",
    "print (\"Pipe Roughness Height : \", roughness)\n",
    "print (\"Liquid Viscosity : \", viscosity)\n",
    "print (\"Gravitational acceleration constant : \",grabity) \n",
    "print (\"Head loss : \",head_loss)\n",
    "print (\"Discharge : \",discharge)"
   ]
  },
  {
   "cell_type": "code",
   "execution_count": 2,
   "metadata": {},
   "outputs": [
    {
     "name": "stdout",
     "output_type": "stream",
     "text": [
      "Pipe Diameter :  0.127\n",
      "Pipe Length :  800.0\n",
      "Pipe Roughness Height :  7e-06\n",
      "Liquid Viscosity :  1e-06\n",
      "Gravitational acceleration constant :  9.8\n",
      "Head loss :  14.3\n",
      "Discharge :  21.185  liters/sec\n"
     ]
    }
   ],
   "source": [
    "# modified from getQfromH.py\n",
    "# ipython module for pipeline hydraulics\n",
    "# computation engine #########################\n",
    "# import built in functions for log, sqrt\n",
    "from math import log,sqrt\n",
    "# Define the prototype function\n",
    "def jainQ(pipe_diameter,pipe_length,roughness,viscosity,grabity,head_loss):\n",
    "    egl_slope = head_loss/pipe_length\n",
    "    t1 = sqrt(grabity*pipe_diameter*egl_slope)\n",
    "    t2 = roughness/(3.7*pipe_diameter)\n",
    "    t3 = 1.78*viscosity\n",
    "    jainQ = (-0.965*pipe_diameter**2)*t1*log(t2 + t3/(pipe_diameter*t1))\n",
    "    return jainQ\n",
    "# values from Example\n",
    "pipe_diameter = 0.127\n",
    "pipe_length = 800.0\n",
    "roughness = 0.000007\n",
    "viscosity = 1.0e-06\n",
    "grabity = 9.8\n",
    "head_loss = 14.3\n",
    "# disable above and insert interface engine here\n",
    "#\n",
    "# now perform computation and construct output\n",
    "discharge = jainQ(pipe_diameter,pipe_length,roughness,viscosity,grabity,head_loss)\n",
    "# Echo inputs, and outputs\n",
    "print (\"Pipe Diameter : \", pipe_diameter)\n",
    "print (\"Pipe Length : \", pipe_length)\n",
    "print (\"Pipe Roughness Height : \", roughness)\n",
    "print (\"Liquid Viscosity : \", viscosity)\n",
    "print (\"Gravitational acceleration constant : \",grabity) \n",
    "print (\"Head loss : \",head_loss)\n",
    "print (\"Discharge : \",round(discharge*1000,3),\" liters/sec\")"
   ]
  }
 ],
 "metadata": {
  "kernelspec": {
   "display_name": "Python 3 (ipykernel)",
   "language": "python",
   "name": "python3"
  },
  "language_info": {
   "codemirror_mode": {
    "name": "ipython",
    "version": 3
   },
   "file_extension": ".py",
   "mimetype": "text/x-python",
   "name": "python",
   "nbconvert_exporter": "python",
   "pygments_lexer": "ipython3",
   "version": "3.10.12"
  }
 },
 "nbformat": 4,
 "nbformat_minor": 4
}