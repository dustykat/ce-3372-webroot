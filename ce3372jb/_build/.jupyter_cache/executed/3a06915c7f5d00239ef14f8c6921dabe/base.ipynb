{
 "cells": [
  {
   "cell_type": "code",
   "execution_count": 1,
   "metadata": {},
   "outputs": [
    {
     "name": "stdout",
     "output_type": "stream",
     "text": [
      "Total Peak Flow (gpm): 3500\n"
     ]
    }
   ],
   "source": [
    "#```python\n",
    "# Example calculation of total flow\n",
    "peak_dry_flow = 2000  # gallons per minute\n",
    "I_and_I = 1500  # gallons per minute\n",
    "total_peak_flow = peak_dry_flow + I_and_I\n",
    "print(\"Total Peak Flow (gpm):\", total_peak_flow)\n",
    "#```"
   ]
  }
 ],
 "metadata": {
  "kernelspec": {
   "display_name": "Python 3 (ipykernel)",
   "language": "python",
   "name": "python3"
  },
  "language_info": {
   "codemirror_mode": {
    "name": "ipython",
    "version": 3
   },
   "file_extension": ".py",
   "mimetype": "text/x-python",
   "name": "python",
   "nbconvert_exporter": "python",
   "pygments_lexer": "ipython3",
   "version": "3.10.12"
  }
 },
 "nbformat": 4,
 "nbformat_minor": 4
}