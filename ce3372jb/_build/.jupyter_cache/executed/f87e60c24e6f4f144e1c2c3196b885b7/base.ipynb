{
 "cells": [
  {
   "cell_type": "code",
   "execution_count": 1,
   "metadata": {},
   "outputs": [],
   "source": [
    "def HofT(time,Cd,Ho,D,d,g): #create our depth vs time function\n",
    "    import math\n",
    "    A = 0.25*math.pi*D**2\n",
    "    a = 0.25*math.pi*d**2\n",
    "    K = math.sqrt(2*g)*(a/A)\n",
    "    HofT = (math.sqrt(Ho)-time*Cd*K/2)**2 # if inner part is <0, then will throw an error\n",
    "    return(HofT)"
   ]
  },
  {
   "cell_type": "code",
   "execution_count": 2,
   "metadata": {},
   "outputs": [
    {
     "name": "stdout",
     "output_type": "stream",
     "text": [
      "Depth Remain at  139  seconds is  0.0  feet\n"
     ]
    }
   ],
   "source": [
    "# now a quick test\n",
    "Ho = 1.0 # one foot depth\n",
    "D  = 1.0 # one foot diameter\n",
    "d  = 0.042 # 1/2 inch diameter (in feet)\n",
    "g  = 32.2 # grabity in US unitz\n",
    "Cd = 1\n",
    "time = 139\n",
    "print(\"Depth Remain at \",time,\" seconds is \",round(HofT(time,Cd,Ho,D,d,g),3),\" feet\")"
   ]
  },
  {
   "cell_type": "code",
   "execution_count": 3,
   "metadata": {},
   "outputs": [
    {
     "name": "stdout",
     "output_type": "stream",
     "text": [
      "For Cd =  1.125\n",
      "Depth Remain at  127.85  seconds is  0.0  feet\n",
      "Depth Remain at  106.41  seconds is  0.0  feet\n",
      "Depth Remain at  84.71  seconds is  0.003  feet\n",
      "Depth Remain at  57.94  seconds is  0.006  feet\n",
      "Depth Remain at  0.0  seconds is  0.0  feet\n"
     ]
    }
   ],
   "source": [
    "D  = 1.0 # one foot diameter\n",
    "d  = 0.042 # 1/2 inch diameter (in feet)\n",
    "g  = 32.2 # grabity in US unitz\n",
    "Cd = 1.125    # Use 2, 1.5, 1.25, 1.125 will see values go up then down towards zero\n",
    "Ho = [1.00,0.75,0.53,0.29,0.00] # table of observed depths\n",
    "time = [127.85,106.41,84.71,57.94,0.00] # table of observed times\n",
    "how_many = len(Ho)\n",
    "print(\"For Cd = \", Cd)\n",
    "for i in range(how_many):\n",
    "    print(\"Depth Remain at \",time[i],\" seconds is \",round(HofT(time[i],Cd,Ho[i],D,d,g),3),\" feet\")"
   ]
  }
 ],
 "metadata": {
  "kernelspec": {
   "display_name": "Python 3 (ipykernel)",
   "language": "python",
   "name": "python3"
  },
  "language_info": {
   "codemirror_mode": {
    "name": "ipython",
    "version": 3
   },
   "file_extension": ".py",
   "mimetype": "text/x-python",
   "name": "python",
   "nbconvert_exporter": "python",
   "pygments_lexer": "ipython3",
   "version": "3.10.12"
  }
 },
 "nbformat": 4,
 "nbformat_minor": 4
}