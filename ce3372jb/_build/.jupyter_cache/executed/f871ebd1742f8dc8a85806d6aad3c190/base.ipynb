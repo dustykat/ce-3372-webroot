{
 "cells": [
  {
   "cell_type": "code",
   "execution_count": 1,
   "metadata": {},
   "outputs": [],
   "source": [
    "# Placeholder for hydraulic calculations\n",
    "import numpy as np\n",
    "# Define pipe parameters, flow rates, and more here"
   ]
  },
  {
   "cell_type": "code",
   "execution_count": 2,
   "metadata": {},
   "outputs": [
    {
     "name": "stdout",
     "output_type": "stream",
     "text": [
      "Estimated flow (gpd): 280\n"
     ]
    }
   ],
   "source": [
    "#```python\n",
    "# Placeholder for flow estimation\n",
    "population = 500\n",
    "per_capita_waste = 70 # gallons per day\n",
    "number_of_bedrooms = 3\n",
    "flow = per_capita_waste * (1 + number_of_bedrooms)\n",
    "print(\"Estimated flow (gpd):\", flow)\n",
    "#```"
   ]
  },
  {
   "cell_type": "code",
   "execution_count": null,
   "metadata": {},
   "outputs": [],
   "source": []
  }
 ],
 "metadata": {
  "kernelspec": {
   "display_name": "Python 3 (ipykernel)",
   "language": "python",
   "name": "python3"
  },
  "language_info": {
   "codemirror_mode": {
    "name": "ipython",
    "version": 3
   },
   "file_extension": ".py",
   "mimetype": "text/x-python",
   "name": "python",
   "nbconvert_exporter": "python",
   "pygments_lexer": "ipython3",
   "version": "3.10.12"
  }
 },
 "nbformat": 4,
 "nbformat_minor": 4
}