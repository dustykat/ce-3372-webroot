{
 "cells": [
  {
   "cell_type": "code",
   "execution_count": 1,
   "metadata": {},
   "outputs": [
    {
     "name": "stdout",
     "output_type": "stream",
     "text": [
      "Usage multiplier U for 7 days: 1.48 gallons per capita per day\n"
     ]
    }
   ],
   "source": [
    "#### Python Template for Estimation\n",
    "import math\n",
    "\n",
    "def usage_multiplier(duration_days):\n",
    "    \"\"\"Calculate usage multiplier U based on duration.\"\"\"\n",
    "    if duration_days <= 0:\n",
    "        raise ValueError(\"Duration must be greater than 0.\")\n",
    "    U = 1.80 / (duration_days ** 0.1)\n",
    "    return U\n",
    "\n",
    "# Example usage\n",
    "duration = 7  # duration in days\n",
    "U = usage_multiplier(duration)\n",
    "print(f\"Usage multiplier U for {duration} days: {U:.2f} gallons per capita per day\")"
   ]
  },
  {
   "cell_type": "code",
   "execution_count": 2,
   "metadata": {},
   "outputs": [
    {
     "name": "stdout",
     "output_type": "stream",
     "text": [
      "Fire flow demand for a population of 25k: 19125.00 GPM\n"
     ]
    }
   ],
   "source": [
    "import math\n",
    "\n",
    "def fire_demand(population_thousands):\n",
    "    \"\"\"Calculate fire flow demand based on population.\"\"\"\n",
    "    if population_thousands <= 0:\n",
    "        raise ValueError(\"Population must be greater than 0.\")\n",
    "    Q_fire = 1020 * population_thousands * (1 - 0.01 * population_thousands)\n",
    "    return Q_fire\n",
    "\n",
    "# Example usage\n",
    "population = 25  # Population in thousands\n",
    "Q_fire = fire_demand(population)\n",
    "print(f\"Fire flow demand for a population of {population}k: {Q_fire:.2f} GPM\")"
   ]
  },
  {
   "cell_type": "code",
   "execution_count": 3,
   "metadata": {},
   "outputs": [
    {
     "name": "stdout",
     "output_type": "stream",
     "text": [
      "Receiving Stream Flow before Discharge 40.00 MGD\n",
      "Treated Sewage Assimilative Capacity 60%: 2.33 MGD\n",
      "Total Stream Flow after Discharge 42.33 MGD\n"
     ]
    }
   ],
   "source": [
    "import math\n",
    "\n",
    "def wasteflow(Q_stream,treatment):\n",
    "    \"\"\"Calculate waste flow demand based on source flow and treatment fraction.\"\"\"\n",
    "    if treatment <= 0:\n",
    "        raise ValueError(\"treatment percent be greater than 0.\")\n",
    "    Q_waste = Q_stream / (40 - 0.38 * treatment)\n",
    "    return Q_waste\n",
    "\n",
    "# Example usage\n",
    "Q_stream = 40  # stream flow in MGD\n",
    "treatment = 60 # treatment percentage\n",
    "Q_waste = wasteflow(Q_stream,treatment)\n",
    "print(f\"Receiving Stream Flow before Discharge {Q_stream:.2f} MGD\")\n",
    "print(f\"Treated Sewage Assimilative Capacity {treatment}%: {Q_waste:.2f} MGD\")\n",
    "print(f\"Total Stream Flow after Discharge {Q_waste+Q_stream:.2f} MGD\")"
   ]
  }
 ],
 "metadata": {
  "kernelspec": {
   "display_name": "Python 3 (ipykernel)",
   "language": "python",
   "name": "python3"
  },
  "language_info": {
   "codemirror_mode": {
    "name": "ipython",
    "version": 3
   },
   "file_extension": ".py",
   "mimetype": "text/x-python",
   "name": "python",
   "nbconvert_exporter": "python",
   "pygments_lexer": "ipython3",
   "version": "3.10.12"
  }
 },
 "nbformat": 4,
 "nbformat_minor": 4
}