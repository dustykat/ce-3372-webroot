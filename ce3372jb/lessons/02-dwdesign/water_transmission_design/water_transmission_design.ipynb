{
 "cells": [
  {
   "cell_type": "markdown",
   "metadata": {},
   "source": [
    "# 2.1 Raw Water Transmission Design\n",
    "\n",
    ":::{admonition} Course Website\n",
    "[http://54.243.252.9/ce-3372-webroot/](http://54.243.252.9/ce-3372-webroot/)\n",
    ":::"
   ]
  },
  {
   "cell_type": "markdown",
   "metadata": {},
   "source": [
    "---\n",
    "\n",
    "## Readings\n",
    "1. [TCEQ (2012) Rules and Regulations for Public Water Systems, Publication RG-195](http://54.243.252.9/ce-3372-webroot/3-Readings/Texas-RG-195/rg-195.pdf)\n",
    "\n",
    "2. [Designing a Transmission Main; Technical Note No. RWS. 4D3 (date: unknown) Penn State Rural Water ...](https://www.engr.psu.edu/ce/hydro/hill/teaching/rural_water/rws4d3.pdf)\n",
    "\n",
    "3. [Determining Pumping Requirements; Technical Note No. RWS. 4D2 (date: unknown) Penn State Rural Water ...](https://www.engr.psu.edu/ce/hydro/hill/teaching/rural_water/rws4d2.pdf)\n",
    "\n",
    "4. [Desigining a System of Gravity Flow; Technical Note No. RWS. 4D1 (date: unknown) Penn State Rural Water ...](https://www.engr.psu.edu/ce/hydro/hill/teaching/rural_water/rws4d1.pdf)\n",
    "\n",
    "5. [Desigining Community Distribution Systems; Technical Note No. RWS. 4D4 (date: unknown) Penn State Rural Water ...](https://www.engr.psu.edu/ce/hydro/hill/teaching/rural_water/rws4d4.pdf)\n",
    "\n",
    "6. [Flow Control Valves](https://en.wikipedia.org/wiki/Flow_control_valve)\n"
   ]
  },
  {
   "cell_type": "markdown",
   "metadata": {},
   "source": [
    "## Videos\n",
    "\n",
    "1. [none](https://www.youtube.com/watch?v=9NYs3Y-IjGw)"
   ]
  },
  {
   "cell_type": "markdown",
   "metadata": {},
   "source": [
    "## Lesson Outline\n",
    "1. "
   ]
  },
  {
   "cell_type": "markdown",
   "metadata": {},
   "source": [
    "\n",
    "\n"
   ]
  },
  {
   "cell_type": "markdown",
   "metadata": {},
   "source": [
    "## Transmission Systems\n",
    "\n",
    "The transmission system’s function is to transport water from a source to a terminal reservoir if any, and to the distribution input point. Water conduits for such transmission may be canals, aqueducts or tunnels, free-flow pipelines, or pressure pipelines. The transmission of water will either be by gravity or pumping. Pressure pipeline is generally the type of water conduit used for water supply transmission systems.\n",
    "\n",
    "The figure below generalizes the transmission system.  Water from a source is transmitted to the distribution system.  \n",
    "\n",
    "![](generic_supply.png)\n",
    "\n",
    "There may or may not be intermediate storage.  It is usually un-economical to transport treated (potable) water over long distances, so the drawing assumes treatment near the distribution system.  There would likely be terminal storage at the treatment works (terminal to the transmission pipeline).\n",
    "\n",
    "## Determination of Transmission Pipe Size\n",
    "\n",
    "The sizing of the transmission main is dependent on the total storage capacity and the way the supply is transmitted to the distribution system. The main should have at least the carrying capacity to supply water at a rate equivalent to the maximum day demand of the system for a given design year.\n",
    "\n",
    "As a rule of thumb, for transmission by pumping, it is advisable to assume a **preliminary** head loss ($h_L$) of about $5.0 ~\\frac{m}{km}$ of pipeline. (As much as possible, head loss should be limited to $10.0 ~\\frac{m}{km}$ of pipeline for transmission by pumping). For a gravity system with a considerable elevated source (e.g. highland springs), the transmission line could afford to have higher head losses as long as the remaining pressure head at the downstream end is sufficient for the distribution system’s needs. For a gravity system with source elevation that is not much higher than the distribution system, the head losses are lowered to attain just sufficient pressure head in the distribution system. \n",
    "\n",
    "### Maximum Pressure\n",
    "\n",
    "The pipe material should be selected to withstand the highest possible pressure that can occur in the pipeline. For a gravity system, the worst-case scenario is for pressure to be at its maximum during shut-off at the downstream end when the static pressure is too high. For the transmission line design, a maximum computed HGL based on a minimum supply rate equivalent to 0.3 times the average day demand should be examined. However, practical experience from the ground suggests that there is no need to limit the maximum allowable pressure to 60m head. Instead, considerations should be given on the basis of the economic grounds. However, in any circumstances where the maximum allowable pressure be exceeded, break pressure tanks should be installed along the main. The break pressure tank will limit the static pressure by providing an open water surface at certain points of the transmission line. Design of transmission line is usually undertaken with the use of hydraulic computer software, which is discussed elsewhere. \n",
    "\n",
    "\n",
    "### Design Considerations\n",
    "The pipeline should be designed to withstand the following;\n",
    "\n",
    "- Internal test pressure of water,\n",
    "- Water hammer (positive surge),\n",
    "- Vacuum and negative surge,\n",
    "- External pressures when laid below ground (overburden and surcharge),\n",
    "- Conveyance water temperature (thermoplastic pipes),\n",
    "- Maximum working temperature (ferrous pipe coatings),\n",
    "- Temperature stresses when laid above ground,\n",
    "- Flexural stresses when laid over supports, constructed at intervals or on bridges,\n",
    "- Longitudinal stresses due to flow at tees, tapers and bends,\n",
    "- Foundation reaction depending upon the nature of support,\n",
    "- Handling stresses,\n",
    "\n",
    "For flexible pipes (thermoplastic and steel) the following criteria should be met;\n",
    "\n",
    "- The pipe deflection (out-or-roundness) must not exceed the allowable limit;\n",
    "- The combined stress or stain in the pipe wall must not exceed the allowable limit, and\n",
    "- The factor of safety against buckling must be adequate;\n",
    "\n",
    "For semi-rigid pipes (ductile iron) the following criteria should be met:\n",
    "\n",
    "- The pipe deflection (out-or-roundness) should not exceed the allowable limit;\n",
    "- The pipe wall bending stress should not exceed the allowable limit."
   ]
  },
  {
   "cell_type": "markdown",
   "metadata": {},
   "source": [
    "### Appurtenances For Transmission Mains\n",
    "\n",
    "Pipe fittings are those specially manufactured fittings used to facilitate changes in direction, changes in diameter, the making of branches etc. to the pipeline. Further, fittings are needed to install valves, meters and other mechanical devices and to allow for the change from one pipe material to another or diameter changes.\n",
    "\n",
    "#### Valves\n",
    "\n",
    "One of the most important types of appurtenances is the valve. A valve is a device that can be opened and closed to different extents (called throttling) to vary its resistance to flow, thereby controlling the movement of water through a pipeline. Valves can be classified into five general categories as follows:\n",
    "\n",
    "#### Isolation Valves\n",
    "\n",
    "Perhaps the most common valve in the water distribution system is the isolation valve, which can be manually closed to block the flow of water. Isolation valves include gate valves (the most popular type), butterfly valves, globe valves, and plug valves.\n",
    "\n",
    "#### Check Valves\n",
    "\n",
    "Check valves, also called directional valves, are used to ensure that water can flow only in one direction through a pipeline.\n",
    "\n",
    "#### Float Valves\n",
    "\n",
    "Many water utilities employ devices called float valves at the point where a pipeline enters a tank. When tank level rises to a specified upper limit, the valve closes to prevent any further flow from entering, thus eliminating overflow.\n",
    "\n",
    "#### Air Release Valves\n",
    "\n",
    "These valves are provided in system high points, where trapped air settles, and at changes in grade, where pressures are most likely to drop below ambient or atmospheric conditions.\n",
    "\n",
    "#### Pressure Reducing Valves\n",
    "\n",
    "Pressure reducing valves (PRVs) throttle automatically to prevent the downstream hydraulic grade from exceeding a set value and are used in situations where high downstream pressures could cause damage.\n",
    "\n",
    "A related structure is a break-pressure tank (BPT) that enable control of head and pressure in the system when you have high elevation differences while going down the pipeline. \n",
    "\n",
    ":::{note}\n",
    "The tank in the sketch is a header tank, not a break pressure tank.\n",
    ":::\n",
    "\n",
    "#### Washout valves\n",
    "\n",
    "To be provided at the lowest points for the purpose of flushing the pipeline.  \n",
    "\n",
    "#### Pressure relief valves \n",
    "\n",
    "At same locations as washout valves to release excess pressure to protect the pipeline.  Also called \"blow-out\" valves.\n",
    "\n",
    "#### Flow Control Valves\n",
    "\n",
    "A flow control valve regulates the flow or pressure of a fluid. Control valves normally respond to signals generated by independent devices such as flow meters or temperature gauges\n",
    "\n",
    "#### Other Fittings\n",
    "\n",
    "Fittings are installed in the pipelines for the following purposes;\n",
    "\n",
    "1. To connect the same type and size of pipe \n",
    "- Union: Unions are provided in the pipeline for ease of repair. Unions are usually installed at 60-meters intervals on straight pipelines. \n",
    "- Coupling: Used in joining 2 pipes of the same diameter. It is cheaper than unions.\n",
    "2. To connect two pipes of different sizes\n",
    "- Reducers are used when there is a reduction of pipe size and include bushes and elbows for galvanized iron pipes. Also available are reducing elbows, tees and crosses.\n",
    "3. To change the direction of flow \n",
    "- Elbow; \n",
    "4. To divide the flow:\n",
    "- into two - Tee\n",
    "- to divide the flow into three - Cross.\n",
    "5. To stop the flow \n",
    "- caps, plugs and blind flanges."
   ]
  },
  {
   "cell_type": "markdown",
   "metadata": {},
   "source": [
    "## End of Section"
   ]
  }
 ],
 "metadata": {
  "kernelspec": {
   "display_name": "Python 3 (ipykernel)",
   "language": "python",
   "name": "python3"
  },
  "language_info": {
   "codemirror_mode": {
    "name": "ipython",
    "version": 3
   },
   "file_extension": ".py",
   "mimetype": "text/x-python",
   "name": "python",
   "nbconvert_exporter": "python",
   "pygments_lexer": "ipython3",
   "version": "3.10.12"
  }
 },
 "nbformat": 4,
 "nbformat_minor": 4
}
