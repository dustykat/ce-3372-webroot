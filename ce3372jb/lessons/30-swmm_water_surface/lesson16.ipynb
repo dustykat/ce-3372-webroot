{
 "cells": [
  {
   "cell_type": "markdown",
   "metadata": {},
   "source": [
    "# Lesson 16. Unsteady Channel Hydraulics \n",
    "\n",
    "## Concepts\n",
    "- Continunity \n",
    "- Momentum \n",
    "- SWMM Example\n",
    "\n",
    "## Workshop\n",
    "\n",
    "### Flow in Conduits \n",
    "\n",
    "- Unsteady (Dynamic) model \n",
    "\n",
    "\n",
    "\n",
    "\n",
    "\n",
    "\n",
    "\n"
   ]
  },
  {
   "cell_type": "markdown",
   "metadata": {},
   "source": [
    "## End of Section"
   ]
  }
 ],
 "metadata": {
  "kernelspec": {
   "display_name": "Python 3 (ipykernel)",
   "language": "python",
   "name": "python3"
  },
  "language_info": {
   "codemirror_mode": {
    "name": "ipython",
    "version": 3
   },
   "file_extension": ".py",
   "mimetype": "text/x-python",
   "name": "python",
   "nbconvert_exporter": "python",
   "pygments_lexer": "ipython3",
   "version": "3.10.12"
  }
 },
 "nbformat": 4,
 "nbformat_minor": 4
}
