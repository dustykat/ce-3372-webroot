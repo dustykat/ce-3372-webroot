{
 "cells": [
  {
   "cell_type": "markdown",
   "metadata": {},
   "source": [
    "# 7. Storage Systems\n",
    "\n",
    "Storage is used in water supply, storm water management, and wastewater systems for several reasons. "
   ]
  },
  {
   "cell_type": "markdown",
   "metadata": {},
   "source": [
    ":::{admonition} Course Website\n",
    "[http://54.243.252.9/ce-3372-webroot/](http://54.243.252.9/ce-3372-webroot/)\n",
    ":::"
   ]
  },
  {
   "cell_type": "markdown",
   "metadata": {},
   "source": [
    "## Readings \n",
    ":::{admonition} Textbook \n",
    "[1. Gupta, R. S. 2017. Hydrology and Hydraulic Systems. Waveland Press, Inc. pp. 545-553](https://www.waveland.com/browse.php?t=384)\n",
    ":::\n",
    "\n",
    ":::{admonition} Additional Readings\n",
    "\n",
    "2. [Roberson, J.A., Cassidy, J.J., and Chaudry, M.H. (1988) Closed Conduits in \"Hydraulic Engineering.\"](http://54.243.252.9/ce-3372-webroot/3-Readings/Chapter5/)\n",
    "\n",
    "\n",
    "3. [Chin, D. (2006). pp. 10-26 in \"Water Resources Engineering, 2 ed.\" Prentice Hall, Inc.](http://54.243.252.9/ce-3372-webroot/3-Readings/Chin_10-26/)\n",
    "\n",
    "\n",
    "4. [Notes on Hydraulics  Work in progress -- largely replicates content in \"Closed Conduit Flow\" with some extensions](http://54.243.252.9/ce-3372-webroot/3-Readings/HydraulicsNotes/)\n",
    "\n",
    "5. [Water Distribution Systems\" in Land Development Handbook, Ed. S.O. Dewberry, Dewberry Inc., McGraw-Hill](http://54.243.252.9/ce-3372-webroot/3-Readings/WaterDistributionSystems/)\n",
    ":::"
   ]
  },
  {
   "cell_type": "markdown",
   "metadata": {},
   "source": [
    "## Videos\n",
    "\n",
    "1. [none](https://www.youtube.com/watch?v=9NYs3Y-IjGw)"
   ]
  },
  {
   "cell_type": "markdown",
   "metadata": {},
   "source": [
    "## Outline\n",
    "1. System Scales (size)\n",
    "2. Photo Essay of Storage Devices\n",
    "3. Design (Sizing) Storage Devices"
   ]
  },
  {
   "cell_type": "markdown",
   "metadata": {},
   "source": [
    "Storage plays a critical role in drinking water supply and treatment systems, serving as a buffer between water production and consumption. Water storage facilities, such as reservoirs, tanks, and towers, are designed to hold treated water before distribution, ensuring a reliable and consistent supply to meet varying demand throughout a day. Storage capacity allows for managing peak demand periods, fire protection, system maintenance, and emergency situations like power outages or supply disruptions. It also helps maintain adequate water pressure across the distribution network.\n",
    "\n",
    "In the context of water treatment, storage can be part of both raw water (before treatment) and treated water (after treatment) systems. Raw water storage allows for managing fluctuations in water sources, such as rivers or groundwater, ensuring a stable supply for treatment plants. On the treated water side, storage ensures that water has time for disinfectants, such as chlorine, to inactivate harmful pathogens effectively, providing an additional safeguard for public health. The strategic placement and design of storage systems are critical in maintaining water quality and ensuring a continuous, safe supply to the community."
   ]
  },
  {
   "cell_type": "markdown",
   "metadata": {},
   "source": [
    "## Scale\n",
    "\n",
    "There are several scales of storage: \n",
    "- large (water supply reservoirs, like Lake Allen Henry)\n",
    "\n",
    "![](LakeAlanHenry.png)\n",
    "\n",
    "- moderate (Southwest Lubbock Water Treatment)\n",
    "![](LBB-SDWPlant.png)\n",
    "\n",
    "- localized (storage tanks)\n",
    "![](WaterTower.png)\n",
    "\n",
    "The large scale systems are sized using water resources management principles, which are discussed to some extent in Gupta pp. 545-548.  The usual tool is called a ripple-chart or double mass curve (same thing, different names).  In local scale an identical tool is used, but at a much different (hourly) time-scale.\n",
    "    "
   ]
  },
  {
   "cell_type": "markdown",
   "metadata": {},
   "source": [
    "---\n",
    "\n",
    "## Local Scale\n",
    "\n",
    "The remainder of this chapter will focus on the local scale systems.  At the local scale (Gupta pp. 548-553) we are concerned with three categories of storage:\n",
    "    \n",
    "**SERVICE STORAGE**  \n",
    "1. Flow equalization — generally things are designed for a particular steady flow rate and storage can be used to accommodate variable flow rates in a system. \n",
    "2. Pressure zone maintenance \n",
    "\n",
    "**EMERGENCY STORAGE**  \n",
    "1. used to provide supply during repairs and other system interrupts (except fire suppression)\n",
    "\n",
    "**FIRE STORAGE**  \n",
    "1. used to provide supply during fire fighting activities – considered seperately from emergency storage"
   ]
  },
  {
   "cell_type": "markdown",
   "metadata": {},
   "source": [
    "## Storage Systems (Types)\n",
    "\n",
    "- Surface Reservoirs\n",
    "\n",
    "![](surf-res.png)\n",
    "\n",
    "- Standpipes\n",
    "\n",
    "![](standpipe.png)\n",
    "\n",
    "- Elevated Tanks\n",
    "\n",
    "![](elev-tank.png)\n",
    "\n",
    "- Hydropillar (1/2)\n",
    "\n",
    "![](hydro-pillar.png)\n",
    "\n",
    "- Hydropillar (2/2)\n",
    "\n",
    "![](hydropillar-2.png)\n",
    "\n",
    "- Spheroid Tanks\n",
    "\n",
    "![](spheroid.png)\n",
    "\n",
    "- Standpipes (Ground Level)\n",
    "\n",
    "![](standpipe-ground.png)\n",
    "\n",
    "- Standpipes/Reservoirs\n",
    "\n",
    "![](standpipes-and-reservoirs.png)\n",
    "\n",
    "- Freshmix\n",
    "\n",
    "![](freshmix.png)\n",
    "\n",
    "- Composite Elevated\n",
    "\n",
    "![](composite-elevated.png)"
   ]
  },
  {
   "cell_type": "markdown",
   "metadata": {},
   "source": [
    "## Typical RFP and Installation\n",
    "\n",
    "![](typical-install.png)\n"
   ]
  },
  {
   "cell_type": "markdown",
   "metadata": {},
   "source": [
    "### Underground Installations\n",
    "\n",
    "![](underground.png)\n",
    "\n"
   ]
  },
  {
   "cell_type": "markdown",
   "metadata": {},
   "source": [
    "## Purposes\n",
    "\n",
    "### Equalizing or Operating Storage\n",
    "- Equalize pumping rate into reservoirs\n",
    "- Provide storage for peak demand times\n",
    "- Provide system pressure without booster pumping\n",
    "\n",
    "### Fire and Emergency\n",
    "- Pressure maintenance\n",
    "- Supply during shutdowns for repairs"
   ]
  },
  {
   "cell_type": "markdown",
   "metadata": {},
   "source": [
    "\n",
    "![](stor-compartments.png)\n",
    "\n",
    "### Flow-Equalization\n",
    "Flow-equalization storage is sufficient storage to account for peak\n",
    "demands in the system without having to exceed supply capacity. A desirable volume is 1-2 days of average daily demand. (cite)\n",
    "\n",
    "### Emergency \n",
    "\n",
    "Emergency storage to allow the system to operate without external supply\n",
    "sources for a period of time to allow for repairs or other unusual\n",
    "circumstances. Without emergency storage, every upset will lead to a ”boil-water” order or\n",
    "substantial interruption of service — these kinds of interruptions should be rare if the\n",
    "system is well engineered. A desirable volume is 1-2 days of average daily demand. (cite)\n",
    "\n",
    "### Fire Storage\n",
    "Fire storage is sufficient storage to allow the system to meet routine\n",
    "uses plus substantial fire flow. The desirable volume is based on expected fire flow rates multiplied by the required fire flow duration.  In most cases it is implicitly stipulated in design guidance documents (e.g. San Marcos manual) by vurtue of required hydrant flow rates.\n",
    "\n",
    "### How Much?\n",
    "Engineering would tend to choose for the larger volumes; Economics will argue for the smaller volumes. The engineer will have to balance these competing choices in a\n",
    "design.   Additionally, residence times in any storage reservoir for **TREATED** water should not exceed a reasonable amount disinfection residual contact time.\n",
    "\n",
    "- For chlorine/chloramine disinfection time is on the order of 6-10 days\n",
    "- Hydraulic retention time of any such reservoir should be no longer than 8 days (as a reasonable rule of thumb).\n",
    "\n",
    "**Hydraulic retention time (HRT)** is the ratio of storage volume to\n",
    "average discharge through the reservoir;\n",
    "\n",
    "$$ HRT = \\frac{V_{tank}}{Q_{avg. daily}} $$"
   ]
  },
  {
   "cell_type": "markdown",
   "metadata": {},
   "source": [
    "## Operating Storage\n",
    "\n",
    "- Determine hourly demand for design day\n",
    "- Calculate cumulative draft\n",
    "- Plot cumulative draft vs. time (24 hr)\n",
    "- Draw diagonal line representing constant pumping\n",
    "- Read required storage as sum of two maximum ordinates"
   ]
  },
  {
   "cell_type": "markdown",
   "metadata": {},
   "source": [
    "![](mass-flow-diagram-one.png)"
   ]
  },
  {
   "cell_type": "markdown",
   "metadata": {},
   "source": [
    "![](mass-flow-12hour.png)"
   ]
  },
  {
   "cell_type": "markdown",
   "metadata": {},
   "source": [
    "\n",
    "![](MF-spreadsheet-1.png)\n",
    "\n",
    "![](MF-spreadsheet-2.png)\n",
    "\n",
    "![](MF-spreadsheet-3.png)"
   ]
  },
  {
   "cell_type": "markdown",
   "metadata": {},
   "source": [
    "## End of Section"
   ]
  }
 ],
 "metadata": {
  "kernelspec": {
   "display_name": "Python 3 (ipykernel)",
   "language": "python",
   "name": "python3"
  },
  "language_info": {
   "codemirror_mode": {
    "name": "ipython",
    "version": 3
   },
   "file_extension": ".py",
   "mimetype": "text/x-python",
   "name": "python",
   "nbconvert_exporter": "python",
   "pygments_lexer": "ipython3",
   "version": "3.10.12"
  }
 },
 "nbformat": 4,
 "nbformat_minor": 4
}
