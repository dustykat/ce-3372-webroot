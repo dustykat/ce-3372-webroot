{
 "cells": [
  {
   "cell_type": "markdown",
   "metadata": {},
   "source": [
    "# 21. Storm Water Hydrology \n",
    "\n",
    ":::{admonition} Course Website \n",
    "http://54.243.252.9/ce-3372-webroot/ \n",
    ":::"
   ]
  },
  {
   "cell_type": "markdown",
   "metadata": {},
   "source": [
    "## Readings\n",
    ":::{admonition} Textbook \n",
    "1. [Gupta, R.S., 2017. Hydrology and Hydraulic Systems, pp 711-728](https://www.waveland.com/browse.php?t=384)\n",
    ":::\n",
    "\n",
    ":::{admonition} Additional Readings\n",
    "1. [City of Lubbock](https://ci.lubbock.tx.us/storage/images/qvgsINHvn2Kj1mq4wtaBc008EaBh6x51v8dGiP6w.pdf)\n",
    "2. [City of Lubbock Ordinaces](https://ecode360.com/LU6396)\n",
    "3. [City of Houston, Infrastructure Design Manual](http://54.243.252.9/ce-3372-webroot/3-Readings/HoustonDesignManual/Houston.idm.pdf)\n",
    "4. [HCFCD Policy, Criteria, and Procedure Manual (2004)](http://54.243.252.9/ce-3372-webroot/3-Readings/HCFCD-PCP-2004/HCFCD_PCP_Manual_2004.pdf)\n",
    "5. [HCFCD Standards Specification Book (2005)](http://54.243.252.9/ce-3372-webroot/3-Readings/HCFCD-Specifications/HCFCD_2005_Specifications.pdf)\n",
    "6. [Texas Department of Transportation Hydraulic Design Manual (2014)](http://54.243.252.9/ce-3372-webroot/3-Readings/TXDOT-HYDM-2014/txdot-hdm-2014.pdf)\n",
    "7. [Texas Department of Transportation Stormwater Field Inspector's Guide (2004)](http://54.243.252.9/ce-3372-webroot/3-Readings/TxDOT-StormwaterFieldInspectorsGuide/StormwaterInspectorsGuide.pdf)\n",
    "8. [Texas Department of Transportation Stormwater Management Guidelines for Construction Activities (2005)](http://54.243.252.9/ce-3372-webroot/3-Readings/TxDOT-StormwaterManagementHandbook/StormwaterManagementHandbook.pdf)\n",
    "\n",
    ":::"
   ]
  },
  {
   "cell_type": "markdown",
   "metadata": {},
   "source": [
    "## Videos\n",
    "\n",
    "1. [none](https://www.youtube.com/watch?v=9NYs3Y-IjGw)"
   ]
  },
  {
   "cell_type": "markdown",
   "metadata": {},
   "source": [
    "## Hydrology Review \n",
    "\n",
    "Stormwater management is critical in both urban and rural environments, though the challenges and strategies differ significantly between the two. In urban areas, increased impervious surfaces such as roads, buildings, and parking lots prevent natural infiltration, leading to higher runoff volumes, flash flooding, and water quality degradation. Without proper management, urban stormwater can overwhelm drainage infrastructure, erode waterways, and carry pollutants such as oil, heavy metals, and sediment into local rivers and lakes. Cities address these issues through detention ponds, green infrastructure (e.g., bioswales and permeable pavements), and municipal stormwater regulations, ensuring that development does not exacerbate flood risks or degrade water quality.\n",
    "\n",
    "In rural settings, stormwater management is equally important but presents different challenges. While there is typically more natural infiltration due to open land, agricultural and ranching activities can contribute to nonpoint source pollution, such as sediment, fertilizers, and pesticides washing into streams. Additionally, poor drainage infrastructure in rural areas can lead to road washouts, soil erosion, and damage to farmland. Effective rural stormwater management relies on strategies such as vegetative buffers, retention basins, contour farming, and proper drainage design to reduce runoff impacts. Whether in cities or the countryside, proactive stormwater management protects property, infrastructure, and water resources, ensuring long-term environmental sustainability and resilience against extreme weather events."
   ]
  },
  {
   "cell_type": "markdown",
   "metadata": {},
   "source": [
    "## Objectives of Stormwater Infrastructure Design\n",
    "\n",
    "The primary objective of stormwater infrastructure design is to control, convey, and treat stormwater runoff in a way that minimizes flooding, erosion, and water quality degradation while supporting sustainable land development. A well-designed system must efficiently manage peak flows during heavy rainfall, ensuring that urban and rural areas remain resilient to storm events. Key design considerations include detaining or infiltrating runoff to prevent downstream flooding, safely conveying excess water through storm drains, culverts, and channels, and integrating Best Management Practices (BMPs) to reduce pollutant loads before stormwater reaches natural water bodies.\n",
    "\n",
    "Beyond immediate flood control, modern stormwater infrastructure aims to mimic natural hydrologic processes, promoting groundwater recharge, ecological balance, and climate resilience. Green infrastructure solutions, such as bioretention systems, permeable pavements, and constructed wetlands, enhance traditional stormwater networks by providing additional storage and filtration capacity. Additionally, stormwater designs must account for long-term maintenance and adaptability, ensuring that infrastructure remains functional under changing land-use conditions and increasing rainfall variability due to climate change. By balancing hydraulic efficiency, environmental protection, and urban development needs, stormwater infrastructure plays a critical role in safeguarding communities and water resources for the future.\n"
   ]
  },
  {
   "cell_type": "markdown",
   "metadata": {
    "jupyter": {
     "source_hidden": true
    }
   },
   "source": [
    "## Stormwater Collection\n",
    "\n",
    "Stormwater collection systems are designed to efficiently capture, convey, and manage runoff from various surfaces, directing it to a controlled outlet or discharge point to prevent flooding, erosion, and water quality issues. These systems play a crucial role in urban and rural environments by mitigating the impact of excess surface water and ensuring that runoff is safely transported or treated before re-entering the natural hydrologic cycle.\n",
    "\n",
    "Sources of stormwater runoff include:\n",
    "\n",
    "- Impervious surfaces such as parking lots, roads, and rooftops, where rainfall cannot infiltrate, leading to rapid accumulation and potential flooding.\n",
    "- Residential areas, including driveways, sidewalks, and yards, which generate runoff that must be directed to storm drains or detention facilities.\n",
    "- Industrial and commercial properties, where large paved surfaces and warehouses contribute significant stormwater volumes.\n",
    "- Agricultural land and open spaces, which, depending on soil conditions and land use, can contribute both sheet flow and concentrated runoff into drainage channels or retention basins.\n",
    "- Natural landscapes that experience increased runoff due to land development, deforestation, or soil compaction.\n",
    "- Stormwater systems ensure that collected water is routed appropriately, either through underground storm sewers, open ditches, detention ponds, or infiltration systems.\n",
    "\n",
    "Depending on site conditions, runoff may be temporarily stored, treated for pollutants, or directly released into streams, rivers, or recharge areas. Effective stormwater infrastructure design balances conveyance, storage, and treatment to protect both the built and natural environments."
   ]
  },
  {
   "cell_type": "markdown",
   "metadata": {
    "jupyter": {
     "source_hidden": true
    }
   },
   "source": [
    "## Regulatory Guidance Documents\n",
    "\n",
    "Regulatory guidance documents are a principal tool in system design, along with the designers creativity, and the owners access to right-of-way. Jurisdictions that issue guidance include:\n",
    "\n",
    "- FEMA (Federal Emergency Management Agency) writes federal regulations for construction, maintenance, treatment and operation of storm water facilities;\n",
    "- USEPA, USACOE, USBR all have roles;\n",
    "- State Environmental Departments, Transportation Departments , Cities, are charged with regulating aspects of the standards and associated permitting.\n",
    "\n",
    ":::{admonition} Regulatory Frameworks in Texas\n",
    "\n",
    "In Texas, local governance operates under a unique framework that historically limits county authority while granting broad regulatory powers to cities. Unlike many other states, Texas counties have traditionally lacked ordinance-making power, meaning they cannot regulate land use, construction, or other municipal-style governance issues in the same way that cities can. Additionally, special legislative districts serve as a regulatory tool, filling gaps where city and county jurisdiction may be insufficient or politically constrained.\n",
    "\n",
    "## City Ordinances vs. County Guidelines\n",
    "\n",
    "**City Ordinances: Local Law with Legal Authority**\n",
    "\n",
    "Cities in Texas, particularly home-rule cities (those with populations over 5,000 and a voter-approved charter), have broad authority to pass ordinances governing a wide range of local matters. These ordinances carry the force of law and can regulate:\n",
    "\n",
    "- Zoning and land use (e.g., residential, commercial, and industrial districts).\n",
    "- Building codes and construction standards.\n",
    "- Public safety, noise control, and nuisance abatement.\n",
    "- Health and sanitation regulations.\n",
    "- Traffic control and parking enforcement.\n",
    "- The ability to enact ordinances allows cities to customize regulations to address local concerns, making them the primary regulators of urban development and public services.\n",
    "\n",
    "**County Guidelines: Historically Weak but Evolving**\n",
    "\n",
    "Unlike cities, Texas counties have historically been restricted in their regulatory authority. The Texas Constitution does not grant counties ordinance-making power, meaning they cannot enforce zoning, building codes, or development restrictions outside of city limits. Instead, counties traditionally rely on:\n",
    "\n",
    "- Guidelines and recommendations rather than enforceable laws.\n",
    "- Health and safety regulations (e.g., septic system rules).\n",
    "- Road and infrastructure maintenance.\n",
    "- Emergency management (in coordination with state agencies).\n",
    "- Subdivision regulations (which are limited and often weaker than city zoning codes).\n",
    "- However, there has been some evolution in county power. In certain cases, the Texas Legislature has granted counties specific regulatory authority, such as floodplain management or environmental regulations in unincorporated areas. But the general rule remains: counties lack the ability to enforce zoning or comprehensive land-use plans like cities do.\n",
    "\n",
    "**Special Legislative Districts: A Flexible Regulatory Tool**\n",
    "\n",
    "To bridge the regulatory gap between cities and counties, special legislative districts have become a key governance mechanism in Texas. These districts are created by acts of the Texas Legislature to address specific issues that cities and counties may not effectively regulate. Some examples include:\n",
    "\n",
    "- Municipal Utility Districts (MUDs) – Created to finance and manage water, wastewater, drainage, and sometimes road infrastructure in unincorporated areas.\n",
    "- Flood Control Districts – Manage stormwater runoff, drainage infrastructure, and flood mitigation efforts.\n",
    "- Hospital Districts – Provide healthcare services where counties and cities lack the resources to do so.\n",
    "- Economic Development Districts – Established to spur investment and infrastructure in designated areas.\n",
    "- Special Zoning Districts – Used to implement land-use controls in areas not covered by city zoning laws.\n",
    "\n",
    "These districts fill regulatory voids by allowing targeted governance without expanding city or county control. They are often funded by special taxes, bonds, or fees and can enforce regulations within their specific jurisdiction.\n",
    "\n",
    "<!--The governance structure in Texas reflects a historical preference for limited county authority and strong municipal self-rule. City ordinances provide enforceable local laws, while county guidelines remain advisory or limited in scope. Special legislative districts serve as an adaptable regulatory tool, addressing issues that neither cities nor counties are fully equipped to manage. Understanding these distinctions is crucial for navigating land use, infrastructure, and public policy within Texas' unique legal landscape.-->\n",
    "\n",
    "Texas' unique regulatory framework significantly influences the development and enforcement of **stormwater management policies**, particularly due to the division of authority between cities, counties, and special legislative districts. Because counties lack ordinance-making power, stormwater regulations are largely driven by municipal governments, which can enact drainage requirements, impervious cover limits, and detention pond standards through city ordinances. This means that stormwater regulations are often highly localized, varying from city to city based on priorities, resources, and political will. In contrast, counties rely on state and federal guidelines, such as those issued under the **Texas Commission on Environmental Quality (TCEQ) Municipal Separate Storm Sewer System (MS4)** program, but often lack enforcement mechanisms beyond subdivision regulations in unincorporated areas.\n",
    "\n",
    "To address gaps in county authority, special legislative districts, such as flood control districts and drainage districts, play a crucial role in regional stormwater management. The **Harris County Flood Control District (HCFCD)**, for example, is a state-created entity that oversees large-scale flood mitigation projects beyond the jurisdiction of individual cities. Similarly, Municipal Utility Districts (MUDs) often implement stormwater controls in developing areas, particularly where cities have not yet annexed land. This fragmented regulatory landscape leads to uneven stormwater standards across jurisdictions, requiring collaboration between cities, counties, and districts to develop regional solutions. While the decentralized nature of Texas governance encourages local flexibility, it can also create regulatory inconsistencies that complicate watershed-scale stormwater planning and infrastructure development.\n",
    "\n",
    ":::"
   ]
  },
  {
   "cell_type": "markdown",
   "metadata": {},
   "source": [
    "## Representative Community Manuals\n",
    "- [City of Lubbock](https://ci.lubbock.tx.us/storage/images/qvgsINHvn2Kj1mq4wtaBc008EaBh6x51v8dGiP6w.pdf)\n",
    "- [City of Lubbock Ordinaces](https://ecode360.com/LU6396)\n",
    "- [City of Houston, Infrastructure Design Manual](http://54.243.252.9/ce-3372-webroot/3-Readings/HoustonDesignManual/Houston.idm.pdf)\n",
    "- [HCFCD Policy, Criteria, and Procedure Manual (2004)](http://54.243.252.9/ce-3372-webroot/3-Readings/HCFCD-PCP-2004/HCFCD_PCP_Manual_2004.pdf)\n",
    "-  [HCFCD Standards Specification Book (2005)](http://54.243.252.9/ce-3372-webroot/3-Readings/HCFCD-Specifications/HCFCD_2005_Specifications.pdf)\n",
    "- [Texas Department of Transportation Hydraulic Design Manual (2014)](http://54.243.252.9/ce-3372-webroot/3-Readings/TXDOT-HYDM-2014/txdot-hdm-2014.pdf)\n",
    "- [Texas Department of Transportation Stormwater Field Inspector's Guide (2004)](http://54.243.252.9/ce-3372-webroot/3-Readings/TxDOT-StormwaterFieldInspectorsGuide/StormwaterInspectorsGuide.pdf)\n",
    "-  [Texas Department of Transportation Stormwater Management Guidelines for Construction Activities (2005)](http://54.243.252.9/ce-3372-webroot/3-Readings/TxDOT-StormwaterManagementHandbook/StormwaterManagementHandbook.pdf)"
   ]
  },
  {
   "cell_type": "markdown",
   "metadata": {},
   "source": [
    "## Hydrologic Cycle and Stormwater Generation\n",
    "\n",
    "Hydrology is the study of water movement in the environment, particularly how precipitation is transformed into runoff, infiltration, evaporation, and storage. This understanding is crucial in engineering design, especially for stormwater management, flood control, and sustainable water resource development.\n",
    "\n",
    "The hydrologic cycle describes the continuous movement of water on, above, and below the surface of the Earth. Key processes include:\n",
    "\n",
    "- Precipitation: Water that falls to the Earth's surface as rain, snow, sleet, or hail.\n",
    "- Infiltration: The process by which water enters the soil.\n",
    "- Runoff: Water that does not infiltrate and instead flows overland, eventually reaching streams and rivers.\n",
    "- Evapotranspiration: The combined effect of evaporation from land and water surfaces and transpiration from plants.\n",
    "Storage: Water is stored in natural reservoirs such as lakes, glaciers, and groundwater aquifers.\n",
    "In the context of engineering design, the main concern is stormwater generation, which results from precipitation that exceeds infiltration capacity and leads to runoff. Understanding the hydrologic cycle allows engineers to predict stormwater volumes, design effective drainage systems, and mitigate flood risks."
   ]
  },
  {
   "cell_type": "markdown",
   "metadata": {},
   "source": [
    "## Runoff Estimation Methods\n",
    "\n",
    "Estimating runoff is a fundamental task in civil and environmental engineering. Engineers use several methods to determine how much stormwater must be managed in a given area. The choice of method depends on the complexity of the system, available data, and required accuracy.\n",
    "\n",
    "### Rational Method (Q = CiA)\n",
    "The Rational Method is a widely used formula for estimating peak runoff flow rates from small urban catchments:\n",
    "\n",
    "$Q = CiA$\n",
    "\n",
    "where:\n",
    "\n",
    "\n",
    "$Q$ = Peak runoff rate (cubic feet per second or cubic meters per second),<br>\n",
    "$C$ = Runoff coefficient (dimensionless, representing land cover characteristics),<br>\n",
    "$i$ = Rainfall intensity (inches per hour or mm/hr) for a selected storm duration and return period,<br>\n",
    "$A$ = Drainage area (acres or hectares).\n",
    "\n",
    "The Rational Method is suitable for **small** watersheds (typically <200 acres) where uniform rainfall distribution and short time of concentration are reasonable assumptions. An implied assumption is that the runoff concentrates at a location of interest so that a time of concentration makes sense. It is commonly used in the design of storm sewer systems and small drainage structures (Chow et al., 1988).\n",
    "\n",
    ":::{note}\n",
    "The rational method (Kuichling 1889) is expressed as,\n",
    "\n",
    "$Q_p = m_0 C_{std} iA $ \n",
    "\n",
    "where \n",
    "- $Q_p$ is peak discharge **at some point where flow is concentrated** (an inlet to a storm sewer, a culvert, an outlet from a small watershed, ... )\n",
    "- $m_0$ is a dimensional conversion factor ($\\frac{1}{360} = 0.00278$ in SI units; $1.008$ in English units).\n",
    "- $C_{std}$ is a rational runoff coefficient (dimensionless) determined by the land-use characteristics in the watershed, \n",
    "- $A$ is drainage area (hectares or acres), and\n",
    "- i is average intensity of rainfall ($mm/h$ or $in/h$) of a specified frequency (probability) for a duration equal to a characteristic time, $T_c$, of the drainage area. \n",
    "\n",
    "In the U.S., the customary units for the rational method are cubic feet per second (cfs) for $Q$, inches per hour (in/hr) for $i$, and acres for $A$. To be dimensionally consistent, a conversion factor of 1.0083 should be included to *convert* acre-inches per hour into cubic feet per second; however, this factor is generally neglected.\n",
    "\n",
    "In this document, $C_{std}$ is the standard rational runoff coefficient that relates the ratio of input volume rate $iA$ to the output volume rate $Q_p$.\n",
    "\n",
    "For development of the rational method, it is assumed that:\n",
    "\n",
    "1. <font color=\"red\">The discharge concentrates/collects at the point of interest </font>\n",
    "1. The rainfall is uniform over the drainage area,\n",
    "2. The peak rate of runoff can be reflected by the rainfall intensity averaged over a time period equal to the characteristic time3 of the drainage area,\n",
    "3. The relative frequency (probability) of runoff is the same as the relative frequency (probability) of the rainfall used in the equation4,\n",
    "4. The above formula implies that the peak discharge occurs when the entire area is contributing flow to the drainage outlet, that is, the peak flow will occur at the characteristic time Tc after the start of uniform rainfall. A uniform rainfall of a longer duration than Tc will not produce a greater peak flow but will only lengthen the discharge period, and\n",
    "5. All runoff generation processes are incorporated into the runoff coefficient.\n",
    ":::\n",
    "\n",
    "### SCS Curve Number (CN) Method\n",
    "For larger and more complex watersheds, engineers often use the Soil Conservation Service (SCS) Curve Number Method, developed by the USDA Natural Resources Conservation Service (NRCS):\n",
    "\n",
    "$$ \n",
    "Q = \\frac{(P-0.2S)^2}{P+0.8S}\n",
    "$$\n",
    " \n",
    "where:\n",
    "\n",
    "- $Q$ = is the cumulative runoff (integral of the hydrograph).  It is usually expressed as a runoff depth (in watershed inches or watershed mm ),\n",
    "- $P$ = Precipitation depth (in inches or mm),\n",
    "- $I_a$  = Initial abstraction (typically 20% of $S$),\n",
    "- $S$ = Potential maximum retention (related to land use and soil type).\n",
    "\n",
    "The curve number, $CN$, is simply a transformation of $S$\n",
    "\n",
    "$$CN = \\frac{1000}{S+10}$$\n",
    "\n",
    "The curve number ($CN$) is an empirical parameter based on land cover, soil type, and antecedent moisture conditions. The SCS method allows engineers to estimate not just peak flows but also total runoff volumes, making it useful for stormwater detention design, flood modeling, and watershed studies (NRCS, 2004).\n",
    "\n",
    ":::{admonition} Alternative Version\n",
    "An alternate way to estimate watershed accumulated runoff using the NRCS equation is \n",
    "\n",
    "$$ \n",
    "Q = \\frac{(P-I_a)^2}{(P-I_a)+S}\n",
    "$$\n",
    "\n",
    "where all the variable meanings are the same as those above.\n",
    "\n",
    ":::\n",
    "\n",
    "The $CN$ values are tabulated in many locations including:\n",
    "\n",
    "- [Web Soil Survey](https://websoilsurvey.sc.egov.usda.gov/App/HomePage.htm)  After an AOI is delineated, the soils property tab will return CN values associated with each soil texture.\n",
    "- [NEH Chapter 9](https://directives.sc.egov.usda.gov/OpenNonWebContent.aspx?content=17758.wba) Tables of CN for different soil textures\n",
    "- [Texas HDM](http://onlinemanuals.txdot.gov/txdotmanuals/hyd/hydrograph_method.htm#JSGEGKGG) Similar to above, with some probability and geographic corrections.\n",
    "\n",
    "### Time of Concentration ($T_c$) and Its Importance\n",
    "\n",
    "The time of concentration ($T_c$) represents the time it takes for runoff from the most remote point in a watershed to reach the outlet. It is a crucial parameter in hydrologic modeling and is estimated using various empirical equations such as the Manning’s kinematic equation or Kirpich’s formula:\n",
    "\n",
    "Travel time and $T_C$ are functions of length and velocity for a particular watercourse.\n",
    "\n",
    "- A long but steep flow path with a high velocity may actually have a shorter travel time than a short but relatively flat flow path.\n",
    "- There may be multiple paths to consider in determining the longest travel time.\n",
    "- The designer must identify the flow path along which the longest travel time is likely to occur.\n",
    "\n",
    "Various Methods to Estimate $T_C$ include:\n",
    "\n",
    "- [CMM pp. 500-501](http://54.243.252.9/ce-3354-webroot/3-Readings/CMM1988/) has several formulas.\n",
    "- [HDS-2 pp. 2-21 to 2-31](http://54.243.252.9/ce-3354-webroot/3-Readings/FHWAHighwayHydrology/FHWA-NHI-02-001.pdf) has formulas and examples.\n",
    "- [LS pp. 196-198](http://54.243.252.9/ce-3354-webroot/3-Readings/LS1973/linear-systems-hydrology-dooge.pdf) has several formulas.\n",
    "\n",
    "Engineers apply the  $T_c$ in both the Rational and SCS methods to estimate peak discharges and design appropriate stormwater management systems (McCuen, 2005)."
   ]
  },
  {
   "cell_type": "markdown",
   "metadata": {},
   "source": [
    "### Return Periods and IDF Curves\n",
    "\n",
    "When designing stormwater infrastructure, engineers must account for extreme rainfall events. This accounting involves the concept of design storms, characterized by their return periods and intensity-duration-frequency (IDF) curves.\n",
    "\n",
    "1. **Return Periods**\n",
    "A return period (also known as recurrence interval) refers to the average time between rainfall events of a given magnitude. Common return periods for engineering applications include:\n",
    "\n",
    "  - 2-year storm: Represents frequent rainfall events, used for minor drainage systems.\n",
    "  - 10-year storm: Often used for stormwater pipes and small detention basins.\n",
    "  - 25-year storm: Used for major drainage channels and some bridge designs.\n",
    "  - 100-year storm: Used for floodplain mapping, major infrastructure, and critical facilities.<br><br>A 100-year storm does not mean it will only occur once in a century—it means there is a 1% probability of such an event occurring in any given year.\n",
    "\n",
    "2. **Intensity-Duration-Frequency (IDF) Curves**\n",
    "IDF curves provide relationships between rainfall intensity, duration, and frequency for a given location. They are developed from historical rainfall data and are essential for stormwater design. Engineers use IDF curves to determine the rainfall intensity required for the Rational Method and other hydrologic models.<br><br>IDF relationships are derived from statistical analysis of long-term precipitation records and vary by region. Agencies like the National Weather Service (NOAA) and the Federal Highway Administration (FHWA) provide updated IDF curves for different locations in the U.S. (NOAA Atlas 14, 2019).\n",
    "\n",
    "3. **Engineering Design Applications**\n",
    "IDF curves help engineers design stormwater drainage systems, retention basins, culverts, and flood control structures to ensure infrastructure can handle extreme rainfall events. The selection of an appropriate design storm depends on project importance, regulatory requirements, and acceptable risk levels.<br><br>For example, an urban stormwater drainage system might be designed for a 10-year storm, while a critical highway bridge may require a 100-year storm design to ensure resilience against extreme flooding."
   ]
  },
  {
   "cell_type": "code",
   "execution_count": null,
   "metadata": {},
   "outputs": [],
   "source": []
  },
  {
   "cell_type": "markdown",
   "metadata": {},
   "source": [
    ":::{warning}\n",
    "\n",
    "Stormwater system design is inherently a three-dimensional challenge, requiring careful attention to both horizontal alignments and vertical elevations. Neglecting elevation changes can result in hydraulically incoherent designs, leading to ineffective flow conveyance, unintended ponding, or system failures. Proper grading, slope considerations, and elevation coordination are essential to ensure stormwater is efficiently collected, conveyed, and discharged without adverse hydraulic consequences.\n",
    "\n",
    "Plan and profile drawings are always required, even in fairly simple contexts.\n",
    "\n",
    ":::"
   ]
  },
  {
   "cell_type": "markdown",
   "metadata": {},
   "source": [
    "## End of Section"
   ]
  }
 ],
 "metadata": {
  "kernelspec": {
   "display_name": "Python 3 (ipykernel)",
   "language": "python",
   "name": "python3"
  },
  "language_info": {
   "codemirror_mode": {
    "name": "ipython",
    "version": 3
   },
   "file_extension": ".py",
   "mimetype": "text/x-python",
   "name": "python",
   "nbconvert_exporter": "python",
   "pygments_lexer": "ipython3",
   "version": "3.10.12"
  }
 },
 "nbformat": 4,
 "nbformat_minor": 4
}
