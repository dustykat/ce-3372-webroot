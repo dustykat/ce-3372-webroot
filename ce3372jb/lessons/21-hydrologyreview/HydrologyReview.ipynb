{
 "cells": [
  {
   "cell_type": "markdown",
   "metadata": {},
   "source": [
    "# 21. Storm Water Hydrology \n",
    "\n",
    ":::{admonition} Course Website \n",
    "http://54.243.252.9/ce-3372-webroot/ \n",
    ":::"
   ]
  },
  {
   "cell_type": "markdown",
   "metadata": {},
   "source": [
    "## Readings\n",
    ":::{admonition} Textbook \n",
    "1. [Gupta, R.S., 2017. Hydrology and Hydraulic Systems, pp 711-728](https://www.waveland.com/browse.php?t=384)\n",
    ":::\n",
    "\n",
    ":::{admonition} Additional Readings\n",
    "\n",
    "2. [McCuen, R. H. (2005). Hydrologic Analysis and Design. Pearson. (Link to Internet Archive, can view entire book)](https://archive.org/details/hydrologicanalys0000mccu)\n",
    "\n",
    "3. [NRCS (2004). National Engineering Handbook: Part 630 Hydrology.](https://nrcspad.sc.egov.usda.gov/distributioncenter/product.aspx?ProductID=551)\n",
    "\n",
    "4. [USDA Natural Resources Conservation Service. NOAA (2019). NOAA Atlas 14: Precipitation Frequency Estimates. U.S. National Weather Service.](https://hdsc.nws.noaa.gov/pfds/)\n",
    "\n",
    "5. [Chow, V.T., Maidment, D.R., Mays, L.W., 1988, Applied Hydrology:  New York, McGraw-Hill. pp. 496-507](http://54.243.252.9/ce-3354-webroot/3-Readings/CMM1988/Applied%20Hydrology%20VT%20Chow%201988.pdf) \n",
    "\n",
    "3. [Kuichling, E. (1889). “The relation between the rainfall and the discharge of sewers in populous areas.” Trans. ASCE, 20(1), 1–56. ](http://54.243.252.9/ce-3354-webroot/ce-3354-webbook-2024/3-Readings/kuichling89-c.pdf)\n",
    "\n",
    "4. [Smith, A. A. and K.-B. Lee. 1984. \"The Rational Method Revisited.\" Canadian Journal of Civil Engineering 11, 854–862.](http://54.243.252.9/ce-3354-webroot/ce-3354-webbook-2024/3-Readings/smith_and_lee_1984.pdf)\n",
    "\n",
    "5. [Cleveland, T.G., Thompson, D.B., and Fang,X. 2011. \"Use of the Rational and Modified Rational Method for Hydraulic Design.\" Texas Department of Transportation, Research Report 0-6070-1](http://54.243.252.9/ce-3354-webroot/ce-3354-webroot-2024/3-Readings/techmrt_0-6070-1.pdf)\n",
    "\n",
    "6. [A Osman Akan. 2002. Modified rational method for sizing infiltration structures. Canadian Journal of Civil Engineering. 29(4): 539-542.](http://54.243.252.9/ce-3354-webroot/ce-3354-webbook-2024/3-Readings/Akan_2002.pdf)\n",
    "\n",
    "7. [Dhakal, N., Fang, X., Cleveland, T.G., Thompson, D.B. 2014 \"Modified Rational Unit Hydrograph Method and Applications\" Institute of Civil Engineers, Journal of Water Management, WATER-D-13-00032R2](http://54.243.252.9/ce-3354-webroot/ce-3354-webbook-2024/3-Readings/MRM_WAMA1300032h.pdf)\n",
    "\n",
    "8. [Dhakal, N., Fang, X., Asquith, W.H., Cleveland, T.G., Thompson, D.B. 2013, \"Rate-Based Estimation of the Runoff Coefficients for Selected Watersheds in Texas\" American Society of Civil Engineers, Journal of Hydrologic Engineering, Vol. 18, No. 12, December 1, 2013. © ASCE, ISSN 1084-0699/2013/12-1571-1580](http://54.243.252.9/ce-3354-webroot/3-Readings/RateBasedC/Rate-Based-C-Texas.pdf)\n",
    "\n",
    "8. [Fang, X., Thompson, D.B., Cleveland, T.G., Pradhan, D.E., Malla, R. 2008. \"Time of Concentration Estimated Using Watershed Parameters Determined by Automated and Manual Methods\" American Society of Civil Engineers, Journal of Irrigation and Drainage Engineering, Vol. 134, No 2, pp 202-211.](http://54.243.252.9/ce-3354-webroot/ce-3354-webbook-2024/3-Readings/fang_2008_1.pdf)\n",
    "\n",
    "9. [Dhakal, N., Fang, X., Asquith, W.H., Cleveland, T.G., Thompson, D.B. 2012 \"Rate-based Estimation of the Runoff Coefficients for Selected Watersheds in Texas.\" American Society of Civil Engineers, Journal of Hydrologic Engineering doi:10.1061/(ASCE)HE. 1943-5584.0000753 (November 29, 2012) ASCE_Hydrology_1297](http://54.243.252.9/about-me-webroot/about-me/MyWebPapers/journal_papers/ASCE-JHE-1297/Rate-Based-C-Texas.pdf)\n",
    "\n",
    "10. [Dhakal, N., Fang, X., Cleveland, T.G., Thompson, D.B.; Asquith, W.H., Marzen, L.J. 2012 \"Estimation of Volumetric Runoff Coefficients for Texas Watersheds Using Land-Use and Rainfall-Runoff Data\" American Society of Civil Engineers, Journal of Irrigation and Drainage Engineering, Vol. 138, No 1, pp 43-54.](http://54.243.252.9/ce-3354-webroot/ce-3354-webbook-2024/3-Readings/Volumetric_C_Nirajan2012.pdf)\n",
    "\n",
    "1. [Cleveland, T. G. (2017) *Engineering Hydrology Notes to Accompany CE 3354 (Rational Equation, HEC-HMS)*, Department of Civil, Environmental, and Construction Engineering, Whitacre College of Engineering.](http://54.243.252.9/ce-3354-webroot/1-Lectures-2017/Lecture09.pdf)\n",
    "\n",
    ":::"
   ]
  },
  {
   "cell_type": "markdown",
   "metadata": {
    "jp-MarkdownHeadingCollapsed": true
   },
   "source": [
    "## Videos\n",
    "\n",
    "1. [Basics of the Rational Method (YouTube)](https://www.youtube.com/watch?v=itaESIKKDcs)\n",
    "2. [The Rational Method (YouTube)](https://www.youtube.com/watch?v=ttTceCBinj4)\n",
    "3. [Time of Concentration (YouTube)](https://www.youtube.com/watch?v=i7lZWDVJGvI&list=PLQv9IPdrtoKgxLQih9UXNbFqXLeJvKEaz&index=5)\n",
    "4. [Time of Concentration (YouTube)](https://www.youtube.com/watch?v=ypvXXe5AO-0)\n",
    "5. [Time of Concentration (YouTube)](https://www.youtube.com/watch?v=Pw5BWkyl9dI)\n",
    "6. [Time of Concentration (YouTube)](https://www.youtube.com/watch?v=MbTNTqG4d6M)\n",
    "3. [Modified Rational Method (YouTube)](https://www.youtube.com/watch?v=7SWqkf404o8)\n",
    "4. [Stormwater Hydrology - Runoff (YouTube) at about 12:00 discusses Modified Rational Method but best to watch whole video](https://www.youtube.com/watch?v=qL6mNN5iELY)"
   ]
  },
  {
   "cell_type": "markdown",
   "metadata": {
    "jp-MarkdownHeadingCollapsed": true
   },
   "source": [
    "## Hydrologic Cycle and Stormwater Generation\n",
    "\n",
    "Hydrology is the study of water movement in the environment, particularly how precipitation is transformed into runoff, infiltration, evaporation, and storage. This understanding is crucial in engineering design, especially for stormwater management, flood control, and sustainable water resource development.\n",
    "\n",
    "The hydrologic cycle describes the continuous movement of water on, above, and below the surface of the Earth. Key processes include:\n",
    "\n",
    "- Precipitation: Water that falls to the Earth's surface as rain, snow, sleet, or hail.\n",
    "- Infiltration: The process by which water enters the soil.\n",
    "- Runoff: Water that does not infiltrate and instead flows overland, eventually reaching streams and rivers.\n",
    "- Evapotranspiration: The combined effect of evaporation from land and water surfaces and transpiration from plants.\n",
    "- Storage: Water is stored in natural reservoirs such as lakes, glaciers, and groundwater aquifers.\n",
    "\n",
    "In the context of engineering design, the main concern is stormwater generation, which results from precipitation that exceeds infiltration capacity and leads to runoff. Understanding the hydrologic cycle allows engineers to predict stormwater volumes, design effective drainage systems, and mitigate flood risks."
   ]
  },
  {
   "cell_type": "markdown",
   "metadata": {},
   "source": [
    "## Runoff Estimation Methods\n",
    "\n",
    "Estimating runoff is a fundamental task in civil and environmental engineering. Engineers use several methods to determine how much stormwater must be managed in a given area. The choice of method depends on the complexity of the system, available data, and required accuracy."
   ]
  },
  {
   "cell_type": "markdown",
   "metadata": {},
   "source": [
    "### Rational Method (Q = CiA)\n",
    "The Rational Method is a widely used formula for estimating peak runoff flow rates from small urban catchments:\n",
    "\n",
    "$Q = CiA$\n",
    "\n",
    "where:\n",
    "\n",
    "\n",
    "$Q$ = Peak runoff rate (cubic feet per second or cubic meters per second),<br>\n",
    "$C$ = Runoff coefficient (dimensionless, representing land cover characteristics),<br>\n",
    "$i$ = Rainfall intensity (inches per hour or mm/hr) for a selected storm duration and return period,<br>\n",
    "$A$ = Drainage area (acres or hectares).\n",
    "\n",
    "The Rational Method is suitable for **small** watersheds (typically <200 acres) where uniform rainfall distribution and short time of concentration are reasonable assumptions. An implied assumption is that the runoff concentrates at a location of interest so that a time of concentration makes sense. It is commonly used in the design of storm sewer systems and small drainage structures (Chow et al., 1988).\n",
    "\n",
    ":::{note}\n",
    "The rational method (Kuichling 1889) is expressed as,\n",
    "\n",
    "$Q_p = m_0 C_{std} iA $ \n",
    "\n",
    "where \n",
    "- $Q_p$ is peak discharge **at some point where flow is concentrated** (an inlet to a storm sewer, a culvert, an outlet from a small watershed, ... )\n",
    "- $m_0$ is a dimensional conversion factor ($\\frac{1}{360} = 0.00278$ in SI units; $1.008$ in English units).\n",
    "- $C_{std}$ is a rational runoff coefficient (dimensionless) determined by the land-use characteristics in the watershed, \n",
    "- $A$ is drainage area (hectares or acres), and\n",
    "- i is average intensity of rainfall ($mm/h$ or $in/h$) of a specified frequency (probability) for a duration equal to a characteristic time, $T_c$, of the drainage area. \n",
    "\n",
    "In the U.S., the customary units for the rational method are cubic feet per second (cfs) for $Q$, inches per hour (in/hr) for $i$, and acres for $A$. To be dimensionally consistent, a conversion factor of 1.0083 should be included to *convert* acre-inches per hour into cubic feet per second; however, this factor is generally neglected.\n",
    "\n",
    "In this document, $C_{std}$ is the standard rational runoff coefficient that relates the ratio of input volume rate $iA$ to the output volume rate $Q_p$.\n",
    "\n",
    "For development of the rational method, it is assumed that:\n",
    "\n",
    "1. <font color=\"red\">The discharge concentrates/collects at the point of interest </font>\n",
    "1. The rainfall is uniform over the drainage area,\n",
    "2. The peak rate of runoff can be reflected by the rainfall intensity averaged over a time period equal to the characteristic time3 of the drainage area,\n",
    "3. The relative frequency (probability) of runoff is the same as the relative frequency (probability) of the rainfall used in the equation4,\n",
    "4. The above formula implies that the peak discharge occurs when the entire area is contributing flow to the drainage outlet, that is, the peak flow will occur at the characteristic time Tc after the start of uniform rainfall. A uniform rainfall of a longer duration than Tc will not produce a greater peak flow but will only lengthen the discharge period, and\n",
    "5. All runoff generation processes are incorporated into the runoff coefficient.\n",
    ":::"
   ]
  },
  {
   "cell_type": "markdown",
   "metadata": {},
   "source": [
    "### SCS Curve Number (CN) Method\n",
    "For larger and more complex watersheds, engineers often use the Soil Conservation Service (SCS) Curve Number Method, developed by the USDA Natural Resources Conservation Service (NRCS):\n",
    "\n",
    "$$ \n",
    "Q = \\frac{(P-0.2S)^2}{P+0.8S}\n",
    "$$\n",
    " \n",
    "where:\n",
    "\n",
    "- $Q$ = is the cumulative runoff (integral of the hydrograph).  It is usually expressed as a runoff depth (in watershed inches or watershed mm ),\n",
    "- $P$ = Precipitation depth (in inches or mm),\n",
    "- $I_a$  = Initial abstraction (typically 20% of $S$),\n",
    "- $S$ = Potential maximum retention (related to land use and soil type).\n",
    "\n",
    "The curve number, $CN$, is simply a transformation of $S$\n",
    "\n",
    "$$CN = \\frac{1000}{S+10}$$\n",
    "\n",
    "The curve number ($CN$) is an empirical parameter based on land cover, soil type, and antecedent moisture conditions. The SCS method allows engineers to estimate not just peak flows but also total runoff volumes, making it useful for stormwater detention design, flood modeling, and watershed studies (NRCS, 2004).\n",
    "\n",
    ":::{admonition} Alternative Version\n",
    "An alternate way to estimate watershed accumulated runoff using the NRCS equation is \n",
    "\n",
    "$$ \n",
    "Q = \\frac{(P-I_a)^2}{(P-I_a)+S}\n",
    "$$\n",
    "\n",
    "where all the variable meanings are the same as those above.\n",
    "\n",
    ":::\n",
    "\n",
    "The $CN$ values are tabulated in many locations including:\n",
    "\n",
    "- [Web Soil Survey](https://websoilsurvey.sc.egov.usda.gov/App/HomePage.htm)  After an AOI is delineated, the soils property tab will return CN values associated with each soil texture.\n",
    "- [NEH Chapter 9](https://directives.sc.egov.usda.gov/OpenNonWebContent.aspx?content=17758.wba) Tables of CN for different soil textures\n",
    "- [Texas HDM](http://onlinemanuals.txdot.gov/txdotmanuals/hyd/hydrograph_method.htm#JSGEGKGG) Similar to above, with some probability and geographic corrections."
   ]
  },
  {
   "cell_type": "markdown",
   "metadata": {},
   "source": [
    "### Time of Concentration ($T_c$) and Its Importance\n",
    "\n",
    "The time of concentration ($T_c$) represents the time it takes for runoff from the most remote point in a watershed to reach the outlet. It is a crucial parameter in hydrologic modeling and is estimated using various empirical equations such as the Manning’s kinematic equation or Kirpich’s formula:\n",
    "\n",
    "Travel time and $T_C$ are functions of length and velocity for a particular watercourse.\n",
    "\n",
    "- A long but steep flow path with a high velocity may actually have a shorter travel time than a short but relatively flat flow path.\n",
    "- There may be multiple paths to consider in determining the longest travel time.\n",
    "- The designer must identify the flow path along which the longest travel time is likely to occur.\n",
    "\n",
    "Various Methods to Estimate $T_C$ include:\n",
    "\n",
    "- [CMM pp. 500-501](http://54.243.252.9/ce-3354-webroot/3-Readings/CMM1988/) has several formulas.\n",
    "- [HDS-2 pp. 2-21 to 2-31](http://54.243.252.9/ce-3354-webroot/3-Readings/FHWAHighwayHydrology/FHWA-NHI-02-001.pdf) has formulas and examples.\n",
    "- [LS pp. 196-198](http://54.243.252.9/ce-3354-webroot/3-Readings/LS1973/linear-systems-hydrology-dooge.pdf) has several formulas.\n",
    "\n",
    "Engineers apply the  $T_c$ in both the Rational and SCS methods to estimate peak discharges and design appropriate stormwater management systems (McCuen, 2005)."
   ]
  },
  {
   "cell_type": "markdown",
   "metadata": {},
   "source": [
    "## Return Periods and IDF Curves\n",
    "\n",
    "When designing stormwater infrastructure, engineers must account for extreme rainfall events. This accounting involves the concept of design storms, characterized by their return periods and intensity-duration-frequency (IDF) curves.\n",
    "\n",
    "1. **Return Periods**\n",
    "A return period (also known as recurrence interval) refers to the average time between rainfall events of a given magnitude. Common return periods for engineering applications include:\n",
    "\n",
    "  - 2-year storm: Represents frequent rainfall events, used for minor drainage systems.\n",
    "  - 10-year storm: Often used for stormwater pipes and small detention basins.\n",
    "  - 25-year storm: Used for major drainage channels and some bridge designs.\n",
    "  - 100-year storm: Used for floodplain mapping, major infrastructure, and critical facilities.<br><br>A 100-year storm does not mean it will only occur once in a century—it means there is a 1% probability of such an event occurring in any given year.\n",
    "\n",
    "2. **Intensity-Duration-Frequency (IDF) Curves**\n",
    "IDF curves provide relationships between rainfall intensity, duration, and frequency for a given location. They are developed from historical rainfall data and are essential for stormwater design. Engineers use IDF curves to determine the rainfall intensity required for the Rational Method and other hydrologic models.<br><br>IDF relationships are derived from statistical analysis of long-term precipitation records and vary by region. Agencies like the National Weather Service (NOAA) and the Federal Highway Administration (FHWA) provide updated IDF curves for different locations in the U.S. (NOAA Atlas 14, 2019).\n",
    "\n",
    "3. **Engineering Design Applications**\n",
    "IDF curves help engineers design stormwater drainage systems, retention basins, culverts, and flood control structures to ensure infrastructure can handle extreme rainfall events. The selection of an appropriate design storm depends on project importance, regulatory requirements, and acceptable risk levels.<br><br>For example, an urban stormwater drainage system might be designed for a 10-year storm, while a critical highway bridge may require a 100-year storm design to ensure resilience against extreme flooding."
   ]
  },
  {
   "cell_type": "markdown",
   "metadata": {},
   "source": []
  },
  {
   "cell_type": "markdown",
   "metadata": {},
   "source": [
    "## End of Section"
   ]
  }
 ],
 "metadata": {
  "kernelspec": {
   "display_name": "Python 3 (ipykernel)",
   "language": "python",
   "name": "python3"
  },
  "language_info": {
   "codemirror_mode": {
    "name": "ipython",
    "version": 3
   },
   "file_extension": ".py",
   "mimetype": "text/x-python",
   "name": "python",
   "nbconvert_exporter": "python",
   "pygments_lexer": "ipython3",
   "version": "3.10.12"
  }
 },
 "nbformat": 4,
 "nbformat_minor": 4
}
