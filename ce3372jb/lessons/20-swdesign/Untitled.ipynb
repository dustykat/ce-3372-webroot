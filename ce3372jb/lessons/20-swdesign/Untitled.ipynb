{
 "cells": [
  {
   "cell_type": "markdown",
   "id": "0dbc485d-4dcb-47ff-90fb-aa031feb227a",
   "metadata": {},
   "source": [
    ":::{note}\n",
    "\n",
    "1. Introduction to Stormwater Management\n",
    "\n",
    "  - Importance of managing stormwater in urban and rural settings\n",
    "  - Objectives of stormwater design (flood control, water quality improvement) \n",
    "  - Regulatory frameworks and standards (EPA regulations, local guidelines)\n",
    "\n",
    "2. Hydrologic Considerations\n",
    "\n",
    "  - Hydrologic Cycle and stormwater generation\n",
    "  - Runoff Estimation Methods:\n",
    "        Rational Method (Q = CiA)\n",
    "        SCS Curve Number Method\n",
    "        Time of Concentration\n",
    "  - Design Storms: return periods and intensity-duration-frequency (IDF) curves\n",
    "\n",
    "3. Hydraulic Design of Stormwater Systems\n",
    "\n",
    "  - Stormwater Collection Systems:\n",
    "        Gutters, inlets, and storm drains\n",
    "        Conduit sizing (pipe flow, Manning’s Equation)\n",
    "        Energy and hydraulic grade lines\n",
    "  - Detention and Retention Basins:\n",
    "        Purpose (peak flow reduction, groundwater recharge)\n",
    "        Volume calculation and outlet structure design\n",
    "\n",
    "4. Green Infrastructure & Low Impact Development (LID)\n",
    "\n",
    "  - Permeable pavements, bioswales, rain gardens, and green roofs\n",
    "  - Benefits: reducing runoff, enhancing water quality, sustainability\n",
    "  - Integration of LID with traditional infrastructure\n",
    "\n",
    "5. Stormwater Quality Considerations\n",
    "\n",
    "  - Pollutant transport in stormwater (sediments, nutrients, oils)\n",
    "  - Best Management Practices (BMPs) for water quality improvement\n",
    "  - Wet ponds, vegetative filters, and constructed wetlands\n",
    "\n",
    "6. Software and Tools in Stormwater Design\n",
    "\n",
    "  - Overview of modeling tools (EPA-SWMM, HEC-HMS)\n",
    "  - Introduction to geographic information systems (GIS) for stormwater management\n",
    "\n",
    "7. Case Studies and Practical Applications\n",
    "\n",
    "  - Real-world examples of stormwater design projects\n",
    "  - Challenges and innovations in stormwater management\n",
    "\n",
    "8. Emerging technologies (smart stormwater systems, climate-resilient infrastructure)\n",
    "\n",
    ":::\n"
   ]
  },
  {
   "cell_type": "code",
   "execution_count": null,
   "id": "aa552708-8818-49a3-bbee-bd4695a08188",
   "metadata": {},
   "outputs": [],
   "source": []
  }
 ],
 "metadata": {
  "kernelspec": {
   "display_name": "Python Common Environment",
   "language": "python",
   "name": "python-my-env"
  },
  "language_info": {
   "codemirror_mode": {
    "name": "ipython",
    "version": 3
   },
   "file_extension": ".py",
   "mimetype": "text/x-python",
   "name": "python",
   "nbconvert_exporter": "python",
   "pygments_lexer": "ipython3",
   "version": "3.10.12"
  }
 },
 "nbformat": 4,
 "nbformat_minor": 5
}
