{
 "cells": [
  {
   "cell_type": "markdown",
   "metadata": {},
   "source": [
    "# 19. Storm Water Design \n",
    "\n",
    ":::{admonition} Course Website \n",
    "http://54.243.252.9/ce-3372-webroot/ \n",
    ":::"
   ]
  },
  {
   "cell_type": "code",
   "execution_count": null,
   "metadata": {},
   "outputs": [],
   "source": []
  },
  {
   "cell_type": "markdown",
   "metadata": {},
   "source": [
    "## Readings\n",
    ":::{admonition} Textbook \n",
    "1. [Gupta, R.S., 2017. Hydrology and Hydraulic Systems, pp 699-701](https://www.waveland.com/browse.php?t=384)\n",
    ":::\n",
    "\n",
    ":::{admonition} Additional Readings\n",
    "1. [City of Lubbock](https://ci.lubbock.tx.us/storage/images/qvgsINHvn2Kj1mq4wtaBc008EaBh6x51v8dGiP6w.pdf)\n",
    "2. [City of Lubbock Ordinaces](https://ecode360.com/LU6396)\n",
    "3. [City of Houston, Infrastructure Design Manual](http://54.243.252.9/ce-3372-webroot/3-Readings/HoustonDesignManual/Houston.idm.pdf)\n",
    "4. [HCFCD Policy, Criteria, and Procedure Manual (2004)](http://54.243.252.9/ce-3372-webroot/3-Readings/HCFCD-PCP-2004/HCFCD_PCP_Manual_2004.pdf)\n",
    "5. [HCFCD Standards Specification Book (2005)](http://54.243.252.9/ce-3372-webroot/3-Readings/HCFCD-Specifications/HCFCD_2005_Specifications.pdf)\n",
    "6. [Texas Department of Transportation Hydraulic Design Manual (2014)](http://54.243.252.9/ce-3372-webroot/3-Readings/TXDOT-HYDM-2014/txdot-hdm-2014.pdf)\n",
    "7. [Texas Department of Transportation Stormwater Field Inspector's Guide (2004)](http://54.243.252.9/ce-3372-webroot/3-Readings/TxDOT-StormwaterFieldInspectorsGuide/StormwaterInspectorsGuide.pdf)\n",
    "8. [Texas Department of Transportation Stormwater Management Guidelines for Construction Activities (2005)](http://54.243.252.9/ce-3372-webroot/3-Readings/TxDOT-StormwaterManagementHandbook/StormwaterManagementHandbook.pdf)\n",
    "\n",
    ":::"
   ]
  },
  {
   "cell_type": "markdown",
   "metadata": {},
   "source": [
    "## Videos\n",
    "\n",
    "1. [none](https://www.youtube.com/watch?v=9NYs3Y-IjGw)"
   ]
  },
  {
   "cell_type": "markdown",
   "metadata": {},
   "source": [
    "## General Concepts\n",
    "\n",
    "1. Introduction to Stormwater Management\n",
    "\n",
    "  - Importance of managing stormwater in urban and rural settings\n",
    "  - Objectives of stormwater design (flood control, water quality improvement) \n",
    "  - Regulatory frameworks and standards (EPA regulations, local guidelines)\n",
    "\n",
    "2. Hydrologic Considerations\n",
    "\n",
    "  - Hydrologic Cycle and stormwater generation\n",
    "  - Runoff Estimation Methods:\n",
    "        Rational Method (Q = CiA)\n",
    "        SCS Curve Number Method\n",
    "        Time of Concentration\n",
    "  - Design Storms: return periods and intensity-duration-frequency (IDF) curves\n",
    "\n",
    "3. Hydraulic Design of Stormwater Systems\n",
    "\n",
    "  - Stormwater Collection Systems:\n",
    "        Gutters, inlets, and storm drains\n",
    "        Conduit sizing (pipe flow, Manning’s Equation)\n",
    "        Energy and hydraulic grade lines\n",
    "  - Detention and Retention Basins:\n",
    "        Purpose (peak flow reduction, groundwater recharge)\n",
    "        Volume calculation and outlet structure design\n",
    "\n",
    "4. Green Infrastructure & Low Impact Development (LID)\n",
    "\n",
    "  - Permeable pavements, bioswales, rain gardens, and green roofs\n",
    "  - Benefits: reducing runoff, enhancing water quality, sustainability\n",
    "  - Integration of LID with traditional infrastructure\n",
    "\n",
    "- Stormwater Quality Considerations\n",
    "\n",
    "  - Pollutant transport in stormwater (sediments, nutrients, oils)\n",
    "  - Best Management Practices (BMPs) for water quality improvement\n",
    "  - Wet ponds, vegetative filters, and constructed wetlands\n",
    "\n",
    "- Software and Tools in Stormwater Design\n",
    "\n",
    "  - Overview of modeling tools (EPA-SWMM, HEC-HMS)\n",
    "  - Introduction to geographic information systems (GIS) for stormwater management\n",
    "\n",
    "- Case Studies and Practical Applications\n",
    "\n",
    "  - Real-world examples of stormwater design projects\n",
    "  - Challenges and innovations in stormwater management\n",
    "\n",
    "- Emerging technologies (smart stormwater systems, climate-resilient infrastructure)\n",
    "\n",
    "\n"
   ]
  },
  {
   "cell_type": "markdown",
   "metadata": {},
   "source": [
    "## Source Documents\n",
    "\n",
    "## Stormwater Collection\n",
    "\n",
    "Stormwater collection systems convey water away from a\n",
    "source to an outlet or release at a desired location.\n",
    "Sources include:\n",
    "- Parking lots, roofs, residences, etc. Anything that produces\n",
    "runoff that can pond"
   ]
  },
  {
   "cell_type": "markdown",
   "metadata": {},
   "source": [
    "## REGULATORY GUIDANCE DOCUMENTS\n",
    "\n",
    "Regulatory guidance documents are a principal tool in system design, along with the designers creativity, and the owners access to right-of-way.  Jurisdictions that issue guidance include:\n",
    "\n",
    "- FEMA (Federal Emergency Management Agency) writes federal regulations for\n",
    "construction, maintenance, treatment and operation of storm water facilities;\n",
    "- USEPA, USACOE, USBR all have roles;\n",
    "- State Environmental Departments, Transportation Departments , Cities, are charged with regulating aspects of the standards and associated permitting."
   ]
  },
  {
   "cell_type": "markdown",
   "metadata": {},
   "source": [
    "## Representative Community Manuals\n",
    "- [City of Lubbock](https://ci.lubbock.tx.us/storage/images/qvgsINHvn2Kj1mq4wtaBc008EaBh6x51v8dGiP6w.pdf)\n",
    "- [City of Lubbock Ordinaces](https://ecode360.com/LU6396)\n",
    "- [City of Houston, Infrastructure Design Manual](http://54.243.252.9/ce-3372-webroot/3-Readings/HoustonDesignManual/Houston.idm.pdf)\n",
    "- [HCFCD Policy, Criteria, and Procedure Manual (2004)](http://54.243.252.9/ce-3372-webroot/3-Readings/HCFCD-PCP-2004/HCFCD_PCP_Manual_2004.pdf)\n",
    "-  [HCFCD Standards Specification Book (2005)](http://54.243.252.9/ce-3372-webroot/3-Readings/HCFCD-Specifications/HCFCD_2005_Specifications.pdf)\n",
    "- [Texas Department of Transportation Hydraulic Design Manual (2014)](http://54.243.252.9/ce-3372-webroot/3-Readings/TXDOT-HYDM-2014/txdot-hdm-2014.pdf)\n",
    "- [Texas Department of Transportation Stormwater Field Inspector's Guide (2004)](http://54.243.252.9/ce-3372-webroot/3-Readings/TxDOT-StormwaterFieldInspectorsGuide/StormwaterInspectorsGuide.pdf)\n",
    "-  [Texas Department of Transportation Stormwater Management Guidelines for Construction Activities (2005)](http://54.243.252.9/ce-3372-webroot/3-Readings/TxDOT-StormwaterManagementHandbook/StormwaterManagementHandbook.pdf)"
   ]
  },
  {
   "cell_type": "markdown",
   "metadata": {},
   "source": [
    "## End of Section"
   ]
  }
 ],
 "metadata": {
  "kernelspec": {
   "display_name": "Python 3 (ipykernel)",
   "language": "python",
   "name": "python3"
  },
  "language_info": {
   "codemirror_mode": {
    "name": "ipython",
    "version": 3
   },
   "file_extension": ".py",
   "mimetype": "text/x-python",
   "name": "python",
   "nbconvert_exporter": "python",
   "pygments_lexer": "ipython3",
   "version": "3.10.12"
  }
 },
 "nbformat": 4,
 "nbformat_minor": 4
}
