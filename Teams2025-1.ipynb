{
 "cells": [
  {
   "cell_type": "markdown",
   "id": "3232fecc-df64-4ae0-a1a5-1d431ccbc77f",
   "metadata": {},
   "source": [
    "# Teams for RP-1 and RP-2"
   ]
  },
  {
   "cell_type": "markdown",
   "id": "6cffac9a-356a-45d1-9f2e-f2fe37ff0da9",
   "metadata": {},
   "source": [
    "## Team #1\n",
    "\n",
    "|Count|First|Last|e-mail|\n",
    "|-----|-----|----|------|\n",
    "|1    |  Nic    |  McDowell  |      |\n",
    "|2    |  William (Michael)    |  Dunnican  |      |\n",
    "|3    |  Patrick    |  McKenna  |      |\n",
    "|4    |   Tyler   |  Cullen  |      |\n",
    "|5    |   Lane   |   Pawelek |      |\n"
   ]
  },
  {
   "cell_type": "code",
   "execution_count": null,
   "id": "47c88c88-693f-4267-82e1-b83dcee2ba7e",
   "metadata": {},
   "outputs": [],
   "source": []
  }
 ],
 "metadata": {
  "kernelspec": {
   "display_name": "Python Common Environment",
   "language": "python",
   "name": "python-my-env"
  },
  "language_info": {
   "codemirror_mode": {
    "name": "ipython",
    "version": 3
   },
   "file_extension": ".py",
   "mimetype": "text/x-python",
   "name": "python",
   "nbconvert_exporter": "python",
   "pygments_lexer": "ipython3",
   "version": "3.10.12"
  }
 },
 "nbformat": 4,
 "nbformat_minor": 5
}
