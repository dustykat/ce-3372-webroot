{
 "cells": [
  {
   "cell_type": "markdown",
   "metadata": {},
   "source": [
    "\n",
    "# 4. Demand Estimation\n",
    "\n",
    "Demand estimates are required to size water systems to meet some purpose, or establish that the particular system is infeasible.\n",
    "\n",
    ":::{Note}\n",
    "This entire section is not yet complete - until so done, refer to [Demand Estimation.pdf](http://54.243.252.9/ce-3372-webroot/1-Lessons/Lesson03/PowerPointInLecture/OldContent/CE3372-Lesson-3.pdf).  The content is identical.  As the content is moved here obsolete parts will be identified, and newer ideas inserted.\n",
    ":::"
   ]
  },
  {
   "cell_type": "markdown",
   "metadata": {},
   "source": [
    "Estimates of demand are used to size water systems to meet some purpose, or establish that the particular system is infeasible.\n",
    "\n",
    "The purposes can include:\n",
    "\n",
    "- Municipal uses (drinking water, fire suppression, commercial use, ...)\n",
    "- Industrial use (separate from municipal)\n",
    "- Agriculture use\n",
    "- Waste Assimilation use\n",
    "- Navigation uses (outside scope this course)\n"
   ]
  },
  {
   "cell_type": "markdown",
   "metadata": {},
   "source": [
    "## Water Needs for a City\n",
    "\n",
    "Consider some generic urban area (cite textbook)\n",
    "\n",
    "![](demand-diagram.png)\n",
    "\n",
    "- Municipal Requirements \n",
    "- Large Industrial Requirements \n",
    "- Waste Assimilation Requirements\n",
    "\n"
   ]
  },
  {
   "cell_type": "markdown",
   "metadata": {},
   "source": [
    "### Municipal Requirements\n",
    "\n",
    "A simple relationship establishes municipal requirements:\n",
    "\n",
    "$$ V_{required} = P_{t} \\times U_{per person}$$\n",
    "\n",
    "where $V$ is the volume required, $P_{t}$ is the population at some moment, $U$ is the per person usage.\n",
    "\n",
    "Thus the two components required to estimate demand is **how many people** have to be supplied, and **how much each** person uses.\n",
    "\n"
   ]
  },
  {
   "cell_type": "markdown",
   "metadata": {},
   "source": [
    "## Population Models\n",
    "\n",
    "![](popn-forecast.png)\n",
    "\n",
    "<!-- <img src=\"http://54.243.252.9/ce-3372-webroot/ce3372-jb/ce3372jb/lessons/lesson03/popn-forecast.png\" width=\"400\"> -->\n"
   ]
  },
  {
   "cell_type": "markdown",
   "metadata": {},
   "source": [
    "**GEOMETRIC GROWTH (MATHEMATICAL)**\n",
    "\n",
    "When the growth curve is in the exponential phase \n",
    "\n",
    "$P_2 = P_1*e^{K_p(t_2-t_1)}$\n",
    "\n",
    "where $K_p$ is the exponential growth constant \n",
    "\n"
   ]
  },
  {
   "cell_type": "markdown",
   "metadata": {},
   "source": [
    "**ARITHMETIC GROWTH (MATHEMATICAL)**\n",
    "\n",
    "When the growth curve is roughly a straight line, then  \n",
    "\n",
    "$P_2 = P_1 + K_A(t_2-t_1)$\n",
    "\n",
    "where $K_A$ is the slope of the growth curve \n",
    "\n"
   ]
  },
  {
   "cell_type": "markdown",
   "metadata": {},
   "source": [
    "**DECLINING GROWTH (MATHEMATICAL)** \n",
    "\n",
    "When the growth curve approaching the carrying capacity of the region \n",
    "\n",
    "$P_2 = P_1 + (P_{sat} - P_1)\\cdot(1-e^{K_D(t_2-t_1)})$\n",
    "\n",
    "where $K_D$ is the declining rate constant \n",
    "\n"
   ]
  },
  {
   "cell_type": "markdown",
   "metadata": {},
   "source": [
    "## Temporal Variation\n",
    "\n",
    "The demand is not constant, methods to consider the demand variation within some planning interval are available.\n",
    "\n",
    "[Water Demand Variation Tool](http://54.243.252.9/toolbox/pipehydraulics/WaterDemandVariation/WaterDemandVariation.html)"
   ]
  },
  {
   "cell_type": "code",
   "execution_count": null,
   "metadata": {},
   "outputs": [],
   "source": []
  },
  {
   "cell_type": "markdown",
   "metadata": {},
   "source": [
    "## Readings\n",
    "\n",
    "1. Gupta, R. S. 2017. Hydrology and Hydraulic Systems. Waveland Press, Inc. pp 1-19 [http://54.243.252.9/ce-3372-webroot/3-Readings/WaterDemand-Gupta.pdf](http://54.243.252.9/ce-3372-webroot/3-Readings/WaterDemand-Gupta.pdf)\n",
    "\n",
    "2. Nickerson G. 2008. \"Water Distribution Systems\" in Land Development Handbook, Ed. S.O. Dewberry, Dewberry Inc., McGraw-Hill [http://54.243.252.9/ce-3372-webroot/3-Readings/water-distribution.pdf](http://54.243.252.9/ce-3372-webroot/3-Readings/water-distribution.pdf)\n"
   ]
  },
  {
   "cell_type": "code",
   "execution_count": null,
   "metadata": {},
   "outputs": [],
   "source": []
  }
 ],
 "metadata": {
  "kernelspec": {
   "display_name": "Python 3",
   "language": "python",
   "name": "python3"
  },
  "language_info": {
   "codemirror_mode": {
    "name": "ipython",
    "version": 3
   },
   "file_extension": ".py",
   "mimetype": "text/x-python",
   "name": "python",
   "nbconvert_exporter": "python",
   "pygments_lexer": "ipython3",
   "version": "3.8.10"
  }
 },
 "nbformat": 4,
 "nbformat_minor": 4
}
