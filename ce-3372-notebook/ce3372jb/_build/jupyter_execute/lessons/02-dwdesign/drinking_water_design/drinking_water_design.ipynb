{
 "cells": [
  {
   "cell_type": "markdown",
   "metadata": {},
   "source": [
    "# 2. Drinking Water Design\n",
    "\n",
    ":::{admonition} Course Website\n",
    "[http://54.243.252.9/ce-3372-webroot/](http://54.243.252.9/ce-3372-webroot/)\n",
    ":::"
   ]
  },
  {
   "cell_type": "markdown",
   "metadata": {},
   "source": [
    "## Readings\n",
    "\n",
    ":::{admonition} Textbook \n",
    "[Gupta, R.S., 2017. Hydrology and Hydraulic Systems, pp XX-XX](https://www.waveland.com/browse.php?t=384)\n",
    ":::\n",
    "\n",
    ":::{admonition} Additional Readings\n",
    "1. TCEQ (2012) Rules and Regulations for Public Water Systems, Publication RG-195 [http://54.243.252.9/ce-3372-webroot/3-Readings/Texas-RG-195/rg-195.pdf](http://54.243.252.9/ce-3372-webroot/3-Readings/Texas-RG-195/rg-195.pdf)\n",
    "\n",
    "2. Krueger D. W., and Smitha C. W. (2012) Infrastructure Design Manual, City of Houston, Department of Public Works and Engineering [http://54.243.252.9/ce-3372-webroot/3-Readings/HoustonDesignManual/Houston.idm.pdf](http://54.243.252.9/ce-3372-webroot/3-Readings/HoustonDesignManual/Houston.idm.pdf)\n",
    "\n",
    "3. City of Lubbock (2018) Minimum Design Standards and Specifications, City of Lubbock Engineering. [http://54.243.252.9/ce-3372-webroot/3-Readings/LubbockTexasDesignManual/LubbockTexasDesignManual.pdf](http://54.243.252.9/ce-3372-webroot/3-Readings/LubbockTexasDesignManual/LubbockTexasDesignManual.pdf)\n",
    "\n",
    "4. City of San Marcos, Texas (2019) WATER DISTRIBUTION SYSTEM DESIGN CRITERIA TECHNICAL MANUAL[http://54.243.252.9/ce-3372-webroot/3-Readings/SanMarcosTexasDesignManual/SanMarcosTexasDesignManual.pdf](http://54.243.252.9/ce-3372-webroot/3-Readings/SanMarcosTexasDesignManual/SanMarcosTexasDesignManual.pdf)\n",
    "\n",
    "5. [Ministry of Water (date) Title (where)](https://design.maji.go.tz/index.php/Chapter_Five:_Pipelines_Design#Looped_System)\n",
    "\n",
    "<!-- Introduction to Water Resources Engineering Pages 1-33 from Wurbs,R.A., and James, W.P. (2002) Water Resources Engineering, Prentice Hall. [http://54.243.252.9/ce-3372-webroot/3-Readings/Wurbs1-33/](http://54.243.252.9/ce-3372-webroot/3-Readings/Wurbs1-33/Wurbs1-33.pdf)\n",
    "\n",
    "Introduction to Water Resources Engineeirng Pages 1-11 from Mays, L.W. (2011) Water Resources Engineering, J. Wiley and Sons.[http://54.243.252.9/ce-3372-webroot/3-Readings/Mays1-11/](http://54.243.252.9/ce-3372-webroot/3-Readings/Mays1-11/Mays1-11.pdf)\n",
    "\n",
    "Introduction to Water Resources Engineering Pages 1-8 from Chin, D. A. (2006) Water-Resources Engineering, Pearson-Prentice Hall. [http://54.243.252.9/ce-3372-webroot/3-Readings/Chin1-8/](http://54.243.252.9/ce-3372-webroot/3-Readings/Chin1-8/Chin1-8.pdf) -->\n",
    ":::"
   ]
  },
  {
   "cell_type": "markdown",
   "metadata": {},
   "source": [
    "## Videos\n",
    "\n",
    "1. [none](https://www.youtube.com/watch?v=9NYs3Y-IjGw)"
   ]
  },
  {
   "cell_type": "markdown",
   "metadata": {},
   "source": [
    "## Lesson Outline\n",
    "1. Design Concepts\n",
    "2. Four Questions to Inform Design\n",
    "3. Guidance Documents\n"
   ]
  },
  {
   "cell_type": "markdown",
   "metadata": {},
   "source": [
    "---\n",
    "Designing drinking water supply and treatment systems is a complex process that requires careful attention to a wide range of factors, including demand estimation, water source protection, treatment processes, storage, and distribution. Engineers must ensure that systems are designed to meet current and future demand while maintaining water quality and public health standards. To guide this process, various design manuals and standards, such as the American Water Works Association (AWWA) Manuals and the Ten States Standards, provide comprehensive guidelines on the planning, design, and construction of water supply and treatment facilities. These guides cover everything from pipe sizing and pump station design to water treatment plant processes and distribution network hydraulics, helping engineers adhere to best practices and regulatory requirements.\n",
    "\n",
    "A key aspect of drinking water system design is hydraulics, which governs how water flows through pipes, pumps, and treatment processes. Hydraulics is essential for determining the correct pipe sizes, pump capacities, and tank elevations required to maintain adequate pressure and flow throughout the system. For instance, the design of a distribution network must consider head losses due to friction in pipes, and ensure that water reaches all consumers at a sufficient pressure, typically between 40 and 80 psi. Tools such as Bernoulli’s equation and the Manning formula are commonly used to calculate these parameters, allowing engineers to optimize system efficiency while ensuring that water quality is maintained through proper residence time in storage tanks and pipes.\n",
    "\n",
    "In treatment plant design, hydraulic considerations also play a crucial role in the functioning of various processes, such as filtration, sedimentation, and chemical dosing. Each treatment stage must be designed to accommodate the flow rate of incoming raw water and ensure that the water is adequately treated before entering the distribution system. Hydraulic grade lines (HGL) and energy considerations are used to design systems that allow for gravity flow where possible, minimizing the need for excessive pumping and reducing operational costs. The layout of treatment facilities, including the placement of pumps, tanks, and pipelines, is dictated by hydraulic design to ensure the smooth movement of water through the system.\n",
    "\n",
    "Furthermore, surge protection and transient analysis are vital in large-scale water distribution systems to prevent water hammer effects, which can cause damage to pipes and valves when sudden changes in flow or pressure occur. Detailed hydraulic modeling, often using software such as EPANET or WaterGEMS, allows engineers to simulate real-world conditions, optimize system design, and ensure long-term reliability.\n",
    "\n",
    "---\n",
    "\n",
    "## Design Concepts\n",
    ":::{Note}\n",
    "Design generalities are paraphrased from [] and [].\n",
    ":::\n",
    "\n",
    "- Design is the management of constraints.  \n",
    "> - **Non-negotiable** constraints are dictated by laws of physics, chemistry (and to some extent \n",
    "mankind); examples of these are: water flows downhill unless power (lift station) and \n",
    "money (capital cost to build, operation cost to pay for electricity to run pumps) are \n",
    "applied; Chemical disinfection residual will decay over time unless replenished; this \n",
    "constraint encourages using treated water relatively quickly. \n",
    "> - **Negotiable constraints** are the design variables that can be adjusted to satisfy the non-\n",
    "negotiable constraints and the desired system performance; the main components of this \n",
    "category are money to pay for things, time to build (and operate), aesthetics (pipe \n",
    "alignment/channel geometry); system performance under various anticipated conditions. "
   ]
  },
  {
   "cell_type": "markdown",
   "metadata": {},
   "source": [
    "---\n",
    "\n",
    "The water system designer's goal is to satisfy a need (some level of \n",
    "performance) by manipulating the negotiable constraints. \n",
    "> - Analytical tools (models) are used to test the design before committing to an actual build (presumably so that full-scale experiment fails are avoided). \n",
    "\n",
    "Design guidelines are encapsulated in \n",
    "> - regulatory documents,\n",
    "> - design manuals, \n",
    "> - professional literature, \n",
    "> - and manufacturer's literature \n",
    "\n",
    "These guidelines collectively represent centuries of observation and experimentation (and a lot of failures); the value is that they generally work, and reduce commercial risk for routine water \n",
    "system components."
   ]
  },
  {
   "cell_type": "markdown",
   "metadata": {},
   "source": [
    "---\n",
    "\n",
    "## Four Questions to Inform Design\n",
    "\n",
    "Four basic questions in water distribution design are: \n",
    "> 1. How much water will be used? \n",
    "> 2. Where are the water supply locations? \n",
    "> 3. Where are the water consumption locations? \n",
    "> 4. What is the water use as a function of time? "
   ]
  },
  {
   "cell_type": "markdown",
   "metadata": {},
   "source": [
    "---\n",
    "### How Much Water?\n",
    "This question is related to the demand for water.\n",
    "\n",
    "> When designing new systems, calculating demands is not a straightforward process. \n",
    "The designer needs to know the expected demands, possible fire demands, and future expansions.  \n",
    "\n",
    "There are some publications that provide average demands for residential,commercial facilities, and production/industrial facilities. \n",
    "\n",
    ":::{note}\n",
    "Finding/building a modern database of such information would be a good data science \n",
    "project (ENGR 1330) \n",
    ":::\n",
    "\n",
    "Different demands that need to be accounted for: \n",
    "1. Customer demand: Average use needed to meet non-emergency needs. \n",
    "2. Fire flow demand:  The computed system capacity required for ensuring minimum fire protection while maintaining a minimum working pressure in the system. This demand is often stipulated in municipal design guidelines either explicitly or by virtue of fire hydrant location and spacing and flowrate/hydrant\n",
    "3. Ultimate expansion of the system (forecast the future)"
   ]
  },
  {
   "cell_type": "markdown",
   "metadata": {},
   "source": [
    "---\n",
    "\n",
    "Water distribution systems convey water from a **source** to a customer. \n",
    "\n",
    "\n",
    "> Ground water: Series of municipal wells usually requiring chemical treatment, at least to the extent of chlorinating (disinfecting). <br>\n",
    "Surface water: Drawn from lakes or rivers just below the surface. Ocean-desalination plants on or near coastal regions. <br>\n",
    "Precipitation: Large municipal reservoirs collecting rain runoff and snowmelt (rainwater harvesting). "
   ]
  },
  {
   "cell_type": "markdown",
   "metadata": {},
   "source": [
    "---\n",
    "\n",
    "### Transmission and Distribution Mains \n",
    "\n",
    "**Transmission lines** are conduits that carry large volumes of water, great distances, such as between a raw water source and a treatment plant and/or local storage facilities.  \n",
    "**Distribution lines** are smaller pipes, valves, hydrants, fittings, and appurtenances, that deliver treated potable water to the customers. \n",
    "\n",
    "### Distribution System Types\n",
    "A water distribution system's design is crucial to providing customers with good water quality at an acceptable pressure level. A good distribution system configuration also helps meet the required water demands and limit the number of customers who run out of water during outages. The three most common distribution design configurations are:\n",
    "\n",
    "- Arterial loop systems. This design surrounds the distribution system with a large-diameter water main that provides adequate flow to the interconnecting distribution system from different locations. This layout design creates greater flexibility by supplying water to the distribution system from multiple locations.\n",
    "- Grid systems. This configuration allows water to circulate through the entire system, which is typically fed by an arterial main or a single transmission line. The layout structure distributes water to multiple areas with better quality, pressure and flow rate.\n",
    "- Tree systems. This configuration is fed by one large water main that branches off into smaller distribution mains, which may result in reduced water pressure and flow. \n",
    "\n",
    ":::{note}\n",
    "Arterial loop and Grid systems are practically the same thing; if your client is skeptical about loops, then sell grids (and visa versa)\n",
    ":::\n",
    "\n",
    "![](system-type.png)"
   ]
  },
  {
   "cell_type": "markdown",
   "metadata": {},
   "source": [
    "---\n",
    "#### Branched System\n",
    "Also referred to as a Dead-end System, the size of the main line in this distribution system decreases as its distance from the source increases, in consideration that the further pipes have to carry less water. The design of a branched system is generally straightforward, where the direction of water flow in all pipes and the flow rate can be readily determined. \n",
    "\n",
    "Advantages: \n",
    "\n",
    "- Lower costs: Avoiding construction of pipes and appurtenances just to create a looped system reduces the cost. \n",
    "- In smaller rural communities, branched systems may be the only type that is feasible, logistically and monetarily. \n",
    "\n",
    "Disadvantages: \n",
    "\n",
    "- Main breaks take all downstream customers out of service. \n",
    "- Branched systems cause poor chlorine residuals in low demand areas and may require periodic flushing of hydrants in order to pull chlorinated water into the system. \n",
    "- Velocities are faster, head losses greater and capacity reduced especially during high demand. \n",
    "- Fire protection is at risk due to inability to isolate a break."
   ]
  },
  {
   "cell_type": "markdown",
   "metadata": {},
   "source": [
    "---\n",
    "#### Looped System\n",
    "A distribution network is looped when there are only a few or no pipe dead-ends, such that water can move through the system freely.\n",
    "\n",
    "Advantages: \n",
    "\n",
    "- Fluid velocities are lower, reducing head losses, resulting in greater capacity. \n",
    "- Main breaks can be isolated to minimize loss of service to customers. \n",
    "- Fire protection is greater due to greater capacity and ability to isolate breaks.   \n",
    "- Looped systems usually provide better residual chlorine content due to inline mixing and fewer dead ends. \n",
    "\n",
    "Disadvantages: \n",
    "- Looped systems generally cost more because there are pipes that become inadvertently redundant in order to create the loops. \n",
    "\n",
    "A major design consideration is to ensure that if any section of the distribution main fails or needs repair, that section can be isolated without disrupting service to all or a great number of users in the network. "
   ]
  },
  {
   "cell_type": "markdown",
   "metadata": {},
   "source": [
    "#### Appurtenances\n",
    "Appurtenances are common accessories of a functional water distribution system that aid the operators and improve the water quality. Examples of such appurtenances include:\n",
    "\n",
    "- Pipes.\n",
    "- Valves.\n",
    "- Elbow and bend fittings.\n",
    "- Service saddles.\n",
    "- Pressure release valves; Blow-offs.\n",
    "- Fire hydrants.\n",
    "- Air release and vacuum valves."
   ]
  },
  {
   "cell_type": "markdown",
   "metadata": {},
   "source": []
  },
  {
   "cell_type": "markdown",
   "metadata": {},
   "source": [
    "## Guidance Documents\n",
    "Regulatory guidance documents are a principal tool in system design, along \n",
    "with the designers creativity, and the owners access to right-of-way. \n",
    "> - The U.S. EPA (Environmental Protection Agency) writes federal regulations for \n",
    "construction, maintenance, treatment and operation of potable water facilities.  \n",
    "> - State’s EPAs(or equivalents) are charged with regulating the standards and \n",
    "permitting. States may write more stringent regulations if they do not violate \n",
    "the intent of the federal code. The various documents are precise, but teduous. "
   ]
  },
  {
   "cell_type": "markdown",
   "metadata": {},
   "source": [
    "### RG-195 Texas Drinking Water Systems Guidelines\n",
    "\n",
    "![](rg195-cover.png)\n",
    "\n",
    "A collection of relevant guidelines for use in Texas are contained in the document [http://54.243.252.9/ce-3372-webroot/3-Readings/Texas-RG-195/rg-195.pdf](http://54.243.252.9/ce-3372-webroot/3-Readings/Texas-RG-195/rg-195.pdf)\n",
    "\n"
   ]
  },
  {
   "cell_type": "markdown",
   "metadata": {},
   "source": [
    "---\n",
    "\n",
    "### Representative Regulations\n",
    "\n",
    "> *Visit each jurisdiction's website for current design guidance!*  The contents change from time to time - some the copies referenced here are over a decade old; they are fine for use in this class but not for actual engineering design.  As examples consider: <br>\n",
    ">> [Washington State Water System Manual 2009](http://54.243.252.9/ce-3372-webroot/3-Readings/WashingtonWaterSystemDesignManual2009/WashingtonWaterSystemDesignManual2009.pdf)<br>\n",
    "> [Washington State Water System Manual 2018](http://54.243.252.9/ce-3372-webroot/3-Readings/WashingtonWaterSystemDesignManual2018/WashingtonWaterSystemDesignManual2018.pdf)\n",
    "\n",
    "Here are a few Texas cities as examples \n",
    "\n",
    "[City of Houston](http://54.243.252.9/ce-3372-webroot/3-Readings/HoustonDesignManual/Houston.idm.pdf) manual \n",
    "\n",
    "[City of Lubbock](http://54.243.252.9/ce-3372-webroot/3-Readings/LubbockTexasDesignManual/LubbockTexasDesignManual.pdf) manual\n",
    "\n",
    "[City of San Marcos](http://54.243.252.9/ce-3372-webroot/3-Readings/SanMarcosTexasDesignManual/SanMarcosTexasDesignManual.pdf) manual.  *I specify this one for your homework assignments, because it is not too long, so things are easy for you to find*  \n",
    "\n",
    "Use the manual for the locality of your project!"
   ]
  },
  {
   "cell_type": "markdown",
   "metadata": {},
   "source": [
    "---\n",
    "\n",
    "### Professional Literature\n",
    "\n",
    "![](professional-literature.png)\n",
    "\n",
    "For unusual situations the designer will likely have to visit the professional literature for guidance  \n",
    "> Order of preference for a designer will be:\n",
    "> - a manual of practice, \n",
    "> - vendor literature, \n",
    "> - and finally the academic literature.  \n",
    "\n",
    "A manual of practice or even vendor literature is preferred over the academic literature simply because of a perception that the technologies are proven in these documents (proven in the litigation sense). "
   ]
  },
  {
   "cell_type": "raw",
   "metadata": {},
   "source": [
    "---\n",
    "\n",
    "### Project Layout \n",
    "Notice that most of the manuals spend considerable space explaining how \n",
    "drawings are to be submitted for approval.  The actual layout is flexible (within right-of-way) and up to the hydraulic \n",
    "engineer to some extent. \n",
    "\n",
    "A designer would typically use some version of the following protocol to design a new \n",
    "water distribution system: \n",
    "\n",
    "1. Set up the distribution system grid on the area plan. Aerial photo plots to scale are excellent tools \n",
    "2. Allocate average daily demands at nodes; \n",
    "3. Determine the peak factors; \n",
    "4. Estimate fire demands; \n",
    "5. Project demands for future expansion of the service areas. \n",
    "\n",
    "A node is considered a junction point in a system where a \n",
    "demand can be attributed/assigned.  \n",
    "> Models use the nodes to calculate the system demands, \n",
    "pressures, water quality, and velocity.  These items are usually prescribed in guidance documents \n",
    "with minimum/maximum acceptable values.\n",
    "\n",
    "Models are used to test the design before commiting to a real-world build.\n",
    "\n",
    ">The practical design of a water system without the use of water distribution modeling software is possible, but requires a logical, economical approach of laying out the \n",
    "system (and some roll your own calculations). \n",
    "\n",
    "Professional quality software is inexpensive (free) so there is really no good reason to design a system without using a hydraulic model - hence the guidance documents almost expect a model.\n",
    "\n",
    "Commercial value-added software is usually far easier for a designer to use and integrated into other design tools, but is computationally about the same as free software \n",
    "> A designer should use commercial software when it is available to them, the time savings can more than justify the license costs. "
   ]
  },
  {
   "cell_type": "markdown",
   "metadata": {},
   "source": [
    "### Existing Data\n",
    "\n",
    "The designer will need reliable sources to determine **demands**.  \n",
    "- Obviously a discussion with the owners is critical but the actual quantities will have to be calculated for a design situation.  \n",
    "- A land use plan or zoning map will help to determine the future demands. \n",
    "\n",
    "The demands need to be compiled and situated on an area map. \n",
    "- Once complete this map can help determine node locations and pipe diameter for the system schematic \n",
    "\n",
    "**PIPE DIAMETER**\n",
    "- The selected pipe diameters affect system hydraulics. \n",
    "- The trench is the biggest cost, and the hydraulics should be used to set adequate pipe sizes.  \n",
    "- Designers need to determine the proper pipe size in order to meet peak demands and fire protection while maintaining an adequate dynamic pressure in the system. \n",
    "\n",
    "**PRESSURE ZONES** \n",
    "- Pressure zones are set up to regulate pressure in locations where large grade changes will create too much pressure at the lower end of the system and not enough pressure in the higher ends. \n",
    "- More than an 80 feet differential will require a pressure zone. \n",
    "- In areas of even larger grade differentials, such as hill country or mountain communities, several consecutive pressure zones may be needed. \n",
    "\n",
    "The following equations can assist in determining the HGLs \n",
    "for the pressure zones. \n",
    "\n",
    "$HGL_{min}$ = Highest Elevation + (2.31x Minimum Working Pressure)  \n",
    "$HGL_{max}$ = Lowest Elevation + (2.31x Maximum Working Pressure) \n"
   ]
  },
  {
   "cell_type": "code",
   "execution_count": 1,
   "metadata": {},
   "outputs": [
    {
     "name": "stdout",
     "output_type": "stream",
     "text": [
      "164.3\n",
      "212.9\n"
     ]
    }
   ],
   "source": [
    "\n",
    "def hglmin(pressure,elevation):\n",
    "    hglmin = elevation+2.31*pressure\n",
    "    return(hglmin)\n",
    "    \n",
    "def hglmax(pressure,elevation):\n",
    "    hglmax = elevation+2.31*pressure\n",
    "    return(hglmax)\n",
    "    \n",
    "pmin = 30 # pressure in psi (about 2 atm)\n",
    "pmax = 90 # pressure in psi (about 6 atm)\n",
    "emin = 5 # low elevation in feet\n",
    "emax = 95 # high elevation in feet\n",
    "\n",
    "print(hglmin(pmin,emax))\n",
    "print(hglmax(pmax,emin))\n"
   ]
  },
  {
   "cell_type": "markdown",
   "metadata": {},
   "source": [
    "**JUNCTION LOCATION AND ELEVATION**\n",
    "\n",
    "- Location of junctions will depend more upon the planned layout of the project site than the affect they will have upon the hydraulic model.  \n",
    "- In general grid distribution node locations have little affect upon the overall model since there are customer demands along the real system between nodes. Node locations and their elevations are more relative in large transmission mains.  \n",
    "- Nodes generally should be placed at the lowest elevation of a looped system where the grades uctuate signicantly. \n",
    "\n",
    "**MATERIALS**\n",
    "\n",
    "- The pipe materials will effect system performance.  \n",
    "- Water distribution systems are built from ductile iron pipe, ABS, PVC, and HDPE.  \n",
    "- All are good materials for specific applications and various fittings to join different materials are available. \n",
    "- Different jurisdictions may specify specific materials; the designer needs to read the guidance document for the specific locale. \n"
   ]
  },
  {
   "cell_type": "markdown",
   "metadata": {},
   "source": [
    "\n",
    "\n"
   ]
  },
  {
   "cell_type": "markdown",
   "metadata": {},
   "source": [
    "## Important considerations for water distribution system design\n",
    "\n",
    "Around 2.2 million miles of underground pipes support the drinking water infrastructure system in the United States. The aging water system, however, requires upgrades in thousands of communities across the nation to prevent water main breaks and a daily loss of billions of gallons of treated water. If you are a municipal leader, it can be challenging to decide whether to implement upgrades or design a replacement distribution system for your community.\n",
    "\n",
    "Below, are some important factors that can influence conceptual or design decisions for water system upgrades or replacements, and aspects to consider while developing system layout plans. \n",
    "\n",
    "### Planning a water distribution system design: factors to consider\n",
    "Whether a community needs an upgrade, an expansion or a replacement system, planning is critical for designing an effective water distribution system. Beyond primary concerns, like availability, reliability and quality of water in an area, the community size, type and average usage can also guide water distribution system designs. After initial project review comes layout and permitting, followed by design plans and production. Construction only commences after these planning stages are complete. \n",
    "\n",
    "Design elements can be significantly influenced by certain factors. The table below lists important details to consider, and explains why and how they might shape the initial designs of a water system during the planning stage. \n",
    "\n",
    "|FACTOR |WHY |HOW|\n",
    "|:::|:::|:::|\n",
    "|Age|- Built in the 1970s and 1980s, the average water network pipe is about 45 years old. <br> - Some U.S. systems have pipes older that one century.|Replacing worn components in older systems must be a priority.|\n",
    "|Geography/climate|-Extreme temperatures, topography, elevation, soil composition and local geology influence decisions about installation and materials.|- Varying elevations need greater pumping capacity than flat terrain.<br>- Freezing temperatures influence choice of pipe materials and installation depth.|\n",
    "|Water usage |- Partial service line replacements may increase lead levels in drinking water if they disturb lead-bearing pipe scale <br>- Scale, the build-up of minerals coating pipe interiors affects hydraulics.<br><br>| -Critical factors affecting distribution pipe size and storage and pumping facility size include:<br>- Average Day Demand.<br>- Peak Hour Demand.<br>- Fire Flow Demand.<br>More demand = greater capacity.|\n",
    "|Environmental requirements|- Local, state and federal regulations dictate minimum drinking water quality.<br>- System design standards may include permits for installation, excavation and offset distances from other facilities.|- Designs must meet state and local standards for water quality and distribution systems, which may differ from federal regulations.\n",
    "|Project budget|- Building or expanding water distribution systems is an expensive project that requires significant funding.|- The project budget in terms of funding and costs determines the scope of the project. <br> Funding could be shared by the customers or funded through grants or government revolving loan programs. <br> - More money = broader scope.|\n",
    "Demand forecasts|- Projections for population growth and fire protection requirements should influence designs for water distribution systems.|Design plans must include elements of expansibility to accommodate increasing populations. <br> - More money = broader scope.|\n",
    "\n",
    "These initial design considerations, in turn, determine the layout of a water distribution system. Below, are some common system layout types, configurations and the roles of various appurtenances.\n",
    "\n",
    "### Key aspects of water distribution layout design\n",
    "\n",
    "The layout of a water distribution system involves input from several teams, including the utility engineering department, engineering consultants, distribution operators or field operators, and others. Most design input focuses on the logistics and implementation of a water distribution system.\n",
    "\n",
    "**Layout**\n",
    "\n",
    "The distribution layout of a water system includes disinfection treatment facilities, pipelines (mains and services), and appurtenances like valves and fire hydrants. Engineers typically calculate a water system distribution layout using parameters like:\n",
    "\n",
    "- Flow rate.\n",
    "- Water demands.\n",
    "- Pressure.\n",
    "- Other Utilities.\n",
    "- Material selection.\n",
    "- Municipal ordinances.\n",
    "- Flow velocity.\n",
    "- Fire flow requirements.\n",
    "- Topography.\n",
    "- Construction budget/funding.\n",
    "- Right-of-way limitations.\n",
    "- Environmental regulations/requirements.\n",
    "\n",
    "It is worth noting that several of these parameters are usually considered during the initial planning phase, but input from field operators can help refine layout design calculations. \n",
    "\n",
    "Notice that most of the manuals (above) spend considerable space explaining how \n",
    "drawings are to be submitted for approval.  The actual layout is flexible (within right-of-way) and up to the hydraulic \n",
    "engineer to some extent. \n",
    "\n",
    "A designer would typically use some version of the following workflow to design a water distribution system: \n",
    "\n",
    "1. Set up the distribution system grid on the area plan. Aerial photo plots to scale are excellent tools \n",
    "2. Allocate average daily demands at nodes; \n",
    "3. Determine the peak factors; \n",
    "4. Estimate fire demands; \n",
    "5. Project demands for future expansion of the service areas;\n",
    "6. Test design(s) using a hydraulic model;\n",
    "7. Choose a design that is feasible economically and hydraulically that satisfies end user needs.\n",
    "\n",
    "\n",
    "A node is considered a junction point in a system where a demand can be attributed/assigned.  \n",
    "> Models use the nodes to calculate the system demands, pressures, water quality, and velocity.  These items are usually prescribed in guidance documents with minimum/maximum acceptable values.\n",
    "\n",
    "Models are used to test the design before commiting to a real-world build.\n",
    "\n",
    ">The practical design of a water system without the use of water distribution modeling software is possible, but requires a logical, economical approach of laying out the system (and some roll-your-own calculations). \n",
    "\n",
    "Professional quality software is inexpensive (free) so there is really no good reason to design a system without using a hydraulic model - hence the guidance documents almost expect a model.\n",
    "\n",
    "Commercial value-added software is usually far easier for a designer to use and integrated into other design tools, but is computationally about the same as free software \n",
    "> A designer should use commercial software when it is available to them, the time savings can more than justify the license costs. \n",
    "\n",
    "## Software Aided Design \n",
    "There are several pipe network analysis software (also called network simulation software, or hydraulic network modeling software) that mathematically solve hydraulic equations for all interconnections, branches and loops of the pipe network. With the advent of such powerful software, the conventional methods of water distribution design have been mostly discarded. The computer software requires the designer to create a water supply system model by inputting in the computer program information that includes pipe lengths, junctions or node elevations, connectivity of the pipes and nodes, demand in each node, information on pumps, elevations of reservoirs, elevations, and yield of sources.\n",
    "\n",
    "Among the current software available on the web and from proprietary sources, the EPANET is often used. EPANET is public domain software developed by Water Supply and Water Resources Division (formerly the Drinking Water Research Division) of the U.S. Environmental Protection Agency that can be downloaded for free on the internet. The software tracks the flow of water in each pipe, the pressure at each node, and the height of water in each tank.\n",
    "\n",
    "The important features of EPANET for distribution network design is its ability to:\n",
    "\n",
    "- Handle systems of any size;\n",
    "- Compute friction head loss using the Hazen-Williams, the Darcy Weisback, or the Chezy-Manning head loss formula;\n",
    "- Includes minor head losses for bends, fittings, etc.;\n",
    "- Models constant or variable speed pumps;\n",
    "- Allows storage tanks to have any shape;\n",
    "- Allows control rules to change valve settings in response to system hydraulics.\n",
    "\n",
    "The design process using EPANET usually involves the (a) layout of the system configuration including locations of sources and storage facilities, (b) determination of the distribution of demands to the nodes, input of network data, running hydraulic simulation, viewing results in any of the variety of formats, modifying the model by editing the network data, and modifying the model until the design criteria are met or results are acceptable. "
   ]
  },
  {
   "cell_type": "markdown",
   "metadata": {},
   "source": [
    "## Workflow for Distribution System Design Using Computer Software\n",
    "\n",
    "1. Base Mapping <br>Detailed maps of the project area should be gathered as a basis for pipeline alignment, distance and elevations. These should be obtained from field topographical surveys or certified suppliers of map products. For preliminary analyses, the Google Earth (http://earth.google.com) internet site which makes it possible to view and print aerial images of the area being designed may be used. <br><br> The information in the maps should be correlated to produce a base map, on which the proposed system layout will be drawn. The designer should conduct an visual inspection of the whole project area to verify, validate and update the information on the source maps. The resulting base map must include positions and information on roads, streets, rivers, creeks, elevations, topographic contours and locations of built-up areas. It should also provide relevant information like potential large consumers, e.g., swine and poultry farms. Ideally, the base map should be scaled to some useful coordinate reference system (WGS; UTM; ...).\n",
    "\n",
    "2. Water Demand Projection <br> The average day demand for the design year will be the basis of the hydraulic network analysis. The demand condition will be varied by adjusting the demand factor; that is 1 for the average day demand condition, 1.3 for the maximum day demand and 2.5 – 3 for the peak-hour demand. \n",
    "\n",
    "3. Tentative Layout <br> Using the base map, the designer should next develop a tentative layout of the pipe network, which should also show the positions of the source facilities and reservoir(s). Pipelines are to be laid on road right of way, and the network should cover the target consumers. Nodes are placed at locations for pipe junctions, street or road junctions and intersections, locations for water points, demand centres, and not more than 100 metres from the nearest node. In systems where it is expected that pressure will be generally low or fluctuating, nodes are placed at the highest points of the service area.\n",
    "\n",
    "4. Distribution of Demands <br> It is important to plot the town or community boundaries and the service area delineation on the base map. Once the tentative layout (with nodes) is plotted on the base map, the service area should be sub-divided into node areas. This will give the designer a working idea of the respective number of houses within the area covered by each node.<br><br>The projected average day demand for the design year is distributed to all the nodes within its delineated service area. The distribution of demands should take into consideration the relative number of houses for the different node areas.\n",
    "\n",
    "5. Encoding of Input Data <br> Most of the hydraulic analysis software have common input data requirements. These data are grouped into pipe data and node data. Pipe data are the assigned pipe number, pipe diameter (mm), C-value, the pipe nodes, and length (m). Node data are node number, elevation (m), and water demand (lps). Usually, the values of the design criteria are required by computer software.\n",
    "\n",
    "6. Hydraulic Network Simulation <br> With all the data having been input by the designer, the software can proceed with its hydraulic run. The software computes the head losses (m) in each pipe, the rate of head loss (m/km) in each pipe, the flow velocities (m/s), and the pressure in each node (m).<br><br>The model is run for: (a) its peak-hour demand condition, to check for the minimum value of the pressure in the system; and (b) its minimum demand condition, to check for the value of the  maximum pressure in the network. <br><br> Operational simulations are then conducted to simulate a typical varying demand (hourly variation; ...) to identify min/max pressures, check operation rules, size pumps and storage elements, determine water age in the network.\n",
    "\n",
    "7. Examination of Hydraulic Run Results <br>Usually, all possible hydraulic parameters can be shown from the computer run results. Of these parameters, the designer must examine two important results very closely: (a) The low system pressure points that are below the prescribed minimum pressure and the affected nodes, and (b) the pipes that have high head loss per km in excess of pipeline criteria. <br><br>The designer must also examine the balancing flows of the reservoir and analyze if the reservoir discharge or inflow is reasonable for its storage size.\n",
    "\n",
    "8. Adjusting Assumed Parameters of the Elements<br> Based on the results of the computer simulation, the designer will improve the network model by adjusting the pipe and node data for specific elements, particularly for those that did not meet the design criteria. For example, for pipes that have high resulting head losses, the designer will have to increase the pipe size to the next larger diameter. If there is a system pressure that is below the prescribed minimum, the designer could replace some of the pipes leading to the affected node with a larger diameter. The height of the reservoir could be adjusted if needed to achieve a good system pressure. <br><br>The adjusted model is run again in the software. After the run, the results are examined and the model readjusted. The above cycle is repeated until an acceptable hydraulic model is achieved.\n",
    "\n",
    "9. Finalizing the Network Configuration<br> The model is subjected to repeated simulation and data adjustments until an acceptable network configuration is reached. \n",
    "\n",
    "10. Reporting Results <br> A modeling report is usually necessary to exlain the modeling findings, and final design and will usually accompany various permit and funding applications (i.e. construction, environmental, ...)"
   ]
  },
  {
   "cell_type": "markdown",
   "metadata": {},
   "source": []
  },
  {
   "cell_type": "markdown",
   "metadata": {},
   "source": [
    "\n",
    ":::{admonition} Summary\n",
    "The design of drinking water supply and treatment systems must balance multiple hydraulic and operational considerations to ensure efficient, safe, and sustainable water delivery. Design guides and manuals provide critical frameworks that ensure compliance with regulatory standards and best practices, while hydraulic analysis ensures that systems are capable of delivering water efficiently to all users. Through careful planning and adherence to established design principles, engineers can create robust drinking water systems that serve communities for decades to come.\n",
    ":::"
   ]
  }
 ],
 "metadata": {
  "kernelspec": {
   "display_name": "Python 3",
   "language": "python",
   "name": "python3"
  },
  "language_info": {
   "codemirror_mode": {
    "name": "ipython",
    "version": 3
   },
   "file_extension": ".py",
   "mimetype": "text/x-python",
   "name": "python",
   "nbconvert_exporter": "python",
   "pygments_lexer": "ipython3",
   "version": "3.8.10"
  }
 },
 "nbformat": 4,
 "nbformat_minor": 4
}