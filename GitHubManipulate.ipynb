{
 "cells": [
  {
   "cell_type": "code",
   "execution_count": 1,
   "metadata": {},
   "outputs": [
    {
     "name": "stdout",
     "output_type": "stream",
     "text": [
      "/home/webroot/ce-3372-webroot\n"
     ]
    }
   ],
   "source": [
    "! pwd"
   ]
  },
  {
   "cell_type": "code",
   "execution_count": 7,
   "metadata": {},
   "outputs": [
    {
     "name": "stdout",
     "output_type": "stream",
     "text": [
      "total 60\n",
      "drwxrwxr-x  7 polaris polaris 4096 Oct 16 23:39 .\n",
      "drwxr-xr-x 15 polaris polaris 4096 Oct 16 22:26 ..\n",
      "-rw-rw-r--  1 polaris polaris 6148 Oct 16 22:26 .DS_Store\n",
      "drwxrwxr-x  8 polaris polaris 4096 Oct 16 23:37 .git\n",
      "drwxrwxr-x  2 polaris polaris 4096 Oct 16 23:31 .ipynb_checkpoints\n",
      "drwxrwxr-x  5 polaris polaris 4096 Oct 16 23:37 1-Lessons\n",
      "drwxrwxr-x  2 polaris polaris 4096 Oct 16 22:30 10-Tests-BB-Format\n",
      "drwxrwxr-x 19 polaris polaris 4096 Oct 16 22:26 EPANET-Files\n",
      "-rw-rw-r--  1 polaris polaris 7914 Oct 16 23:39 GitHubManipulate.ipynb\n",
      "-rw-rw-r--  1 polaris polaris  704 Oct 16 16:53 README.md\n",
      "-rw-rw-r--  1 polaris polaris 5923 Oct 16 16:53 index.html\n",
      "-rw-rw-r--  1 polaris polaris 3574 Oct 16 16:53 styles.css\n"
     ]
    }
   ],
   "source": [
    "! ls -la"
   ]
  },
  {
   "cell_type": "code",
   "execution_count": 2,
   "metadata": {},
   "outputs": [],
   "source": [
    "! git add ."
   ]
  },
  {
   "cell_type": "code",
   "execution_count": 3,
   "metadata": {},
   "outputs": [
    {
     "name": "stdout",
     "output_type": "stream",
     "text": [
      "[main a3064a4] modify index.html in lessons\n",
      " 16 files changed, 1135 insertions(+), 129 deletions(-)\n",
      " create mode 100644 .ipynb_checkpoints/index-checkpoint.html\n",
      " create mode 100644 EPANET-Files/EXAM2/exam2.net\n"
     ]
    }
   ],
   "source": [
    "! git commit -m \"modify index.html in lessons\""
   ]
  },
  {
   "cell_type": "code",
   "execution_count": null,
   "metadata": {},
   "outputs": [],
   "source": []
  },
  {
   "cell_type": "code",
   "execution_count": 4,
   "metadata": {},
   "outputs": [
    {
     "name": "stdout",
     "output_type": "stream",
     "text": [
      "Username for 'https://github.com': ^C\n"
     ]
    }
   ],
   "source": [
    "! git push"
   ]
  },
  {
   "cell_type": "code",
   "execution_count": null,
   "metadata": {},
   "outputs": [
    {
     "name": "stdout",
     "output_type": "stream",
     "text": [
      "[core]7h\u001b[?1h\u001b=\n",
      "        repositoryformatversion = 0\n",
      "        filemode = true\n",
      "        bare = false\n",
      "        logallrefupdates = true\n",
      "[remote \"origin\"]\n",
      "#       url = https://github.com/dustykat/ce-3372-webroot.git\n",
      "        url = git@github.com:dustykat/ce-3372-webroot.git\n",
      "        fetch = +refs/heads/*:refs/remotes/origin/*\n",
      "[branch \"main\"]\n",
      "        remote = origin\n",
      "        merge = refs/heads/main\n",
      "\u001b[7m.git/config (END)\u001b[m\u001b[K"
     ]
    }
   ],
   "source": [
    "! less .git/config"
   ]
  },
  {
   "cell_type": "code",
   "execution_count": null,
   "metadata": {},
   "outputs": [],
   "source": []
  }
 ],
 "metadata": {
  "kernelspec": {
   "display_name": "Python 3 (ipykernel)",
   "language": "python",
   "name": "python3"
  },
  "language_info": {
   "codemirror_mode": {
    "name": "ipython",
    "version": 3
   },
   "file_extension": ".py",
   "mimetype": "text/x-python",
   "name": "python",
   "nbconvert_exporter": "python",
   "pygments_lexer": "ipython3",
   "version": "3.10.12"
  }
 },
 "nbformat": 4,
 "nbformat_minor": 4
}
