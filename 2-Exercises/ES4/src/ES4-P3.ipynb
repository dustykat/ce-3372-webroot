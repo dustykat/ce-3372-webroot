{
 "cells": [
  {
   "cell_type": "code",
   "execution_count": 9,
   "id": "5ebe5842-03fa-47a3-bccd-4f5306dd14be",
   "metadata": {},
   "outputs": [
    {
     "name": "stdout",
     "output_type": "stream",
     "text": [
      "16.153846153846153\n"
     ]
    }
   ],
   "source": [
    "# ES4 Problem 3\n",
    "# Apply Bernoulli's\n",
    "head_a = 30 + 0 # elevation + pressure (arbitrary) \n",
    "head_b = 20*144/62.4  # pressure_a + added pressure (given)\n",
    "#print(head_a)\n",
    "#print(head_b)\n",
    "head_loss = head_b - head_a # implies flow uphill\n",
    "print(head_loss)"
   ]
  },
  {
   "cell_type": "code",
   "execution_count": 16,
   "id": "bbd91624-4948-4427-8c07-fdb6b8da22c7",
   "metadata": {},
   "outputs": [
    {
     "name": "stdout",
     "output_type": "stream",
     "text": [
      "Discharge =  9.764  CFS \n"
     ]
    }
   ],
   "source": [
    "# Swamee-Jain Diameter Discharge\n",
    "\n",
    "def qJain(diameter,headloss,gravity,length,roughness,viscosity):\n",
    "    import math\n",
    "    sqs=math.sqrt(gravity*headloss/length)\n",
    "    temp1 = roughness/(3.7*diameter)\n",
    "    temp2 = 1.78*viscosity/(sqs*diameter**(3/2))\n",
    "    temp3 = math.log10(temp1+temp2)\n",
    "    qJain = -2.22*(diameter**(5/2))*sqs*temp3\n",
    "    return qJain\n",
    "\n",
    "viscosity = 1.41e-05 # table lookup (http://54.243.252.9/cgi-bin/fluidmechanics/WaterPropertiesUS/WaterPropertiesUS.py)\n",
    "roughness = 0.0000167 # table lookup (http://54.243.252.9/cgi-bin/Databases/RoughnessHeight/RoughnessHeight.py)\n",
    "headloss = 16.154 # ft \n",
    "length = 3*5280 # miles\n",
    "diameter = 2 # feets\n",
    "gravity = 32.2\n",
    "discharge = qJain(diameter,headloss,gravity,length,roughness,viscosity)\n",
    "print(\"Discharge = \",round(discharge,3),\" CFS \")"
   ]
  },
  {
   "cell_type": "code",
   "execution_count": null,
   "id": "0dbbd371-7338-470b-bad5-c2b459c0302d",
   "metadata": {},
   "outputs": [],
   "source": []
  }
 ],
 "metadata": {
  "kernelspec": {
   "display_name": "Python Common Environment",
   "language": "python",
   "name": "python-my-env"
  },
  "language_info": {
   "codemirror_mode": {
    "name": "ipython",
    "version": 3
   },
   "file_extension": ".py",
   "mimetype": "text/x-python",
   "name": "python",
   "nbconvert_exporter": "python",
   "pygments_lexer": "ipython3",
   "version": "3.10.12"
  }
 },
 "nbformat": 4,
 "nbformat_minor": 5
}
