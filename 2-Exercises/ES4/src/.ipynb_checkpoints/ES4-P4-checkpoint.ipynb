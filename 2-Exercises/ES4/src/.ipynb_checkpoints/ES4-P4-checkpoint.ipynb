{
 "cells": [
  {
   "cell_type": "code",
   "execution_count": 4,
   "id": "b04ba9af-f6f0-4ea4-82d7-041c22fb4899",
   "metadata": {},
   "outputs": [
    {
     "name": "stdout",
     "output_type": "stream",
     "text": [
      "Diameter =  1.787  feet \n"
     ]
    }
   ],
   "source": [
    "# ES4 P4\n",
    "\n",
    "# Swamee Jain Diameter\n",
    "\n",
    "def dJain(roughness,length,gravity,flow,headloss,viscosity):\n",
    "\n",
    "    term1 = roughness**(1.25)\n",
    "    term2 = ((length*flow**2)/(gravity*headloss))**(4.75)\n",
    "    term3 = viscosity*(flow**(9.4))\n",
    "    term4 = (length/(gravity*headloss))**(5.2)\n",
    "    dJain=0.66*((term1*term2+term3*term4)**(0.04))\n",
    "    return dJain\n",
    "\n",
    "viscosity = 1.22e-05\n",
    "roughness = 16.7e-06\n",
    "gravity = 32.2\n",
    "discharge = 10.0\n",
    "length = 2*5280\n",
    "headloss = 20\n",
    "\n",
    "print(\"Diameter = \",round(dJain(roughness,length,gravity,discharge,headloss,viscosity),3),\" feet \")"
   ]
  },
  {
   "cell_type": "code",
   "execution_count": null,
   "id": "e404b39b-ba0f-46f6-9462-5a42305e2168",
   "metadata": {},
   "outputs": [],
   "source": []
  }
 ],
 "metadata": {
  "kernelspec": {
   "display_name": "Python Common Environment",
   "language": "python",
   "name": "python-my-env"
  },
  "language_info": {
   "codemirror_mode": {
    "name": "ipython",
    "version": 3
   },
   "file_extension": ".py",
   "mimetype": "text/x-python",
   "name": "python",
   "nbconvert_exporter": "python",
   "pygments_lexer": "ipython3",
   "version": "3.10.12"
  }
 },
 "nbformat": 4,
 "nbformat_minor": 5
}
