{
 "cells": [
  {
   "cell_type": "code",
   "execution_count": 1,
   "id": "ab1b0909-a3fc-46ac-90ac-ede720b5f30f",
   "metadata": {},
   "outputs": [
    {
     "name": "stdout",
     "output_type": "stream",
     "text": [
      "Left Discharge =  1774.862  CFS \n",
      "Right Discharge =  2408.413  CFS \n"
     ]
    }
   ],
   "source": [
    "# ES4 P5\n",
    "\n",
    "# Swamee-Jain Diameter Discharge\n",
    "\n",
    "def qJain(diameter,headloss,gravity,length,roughness,viscosity):\n",
    "    import math\n",
    "    sqs=math.sqrt(gravity*headloss/length)\n",
    "    temp1 = roughness/(3.7*diameter)\n",
    "    temp2 = 1.78*viscosity/(sqs*diameter**(3/2))\n",
    "    temp3 = math.log10(temp1+temp2)\n",
    "    qJain = -2.22*(diameter**(5/2))*sqs*temp3\n",
    "    return qJain\n",
    "\n",
    "## Left Pipe\n",
    "viscosity = 1.45e-05 # given\n",
    "roughness = 1.64e-04 # given\n",
    "headloss = 120 # ft \n",
    "length = 1*5280 # miles\n",
    "diameter = 96/12 # feets\n",
    "gravity = 32.2\n",
    "qleft = qJain(diameter,headloss,gravity,length,roughness,viscosity)\n",
    "diameter = 108/12 # feets\n",
    "qright = qJain(diameter,headloss,gravity,length,roughness,viscosity)\n",
    "print(\"Left Discharge = \",round(qleft,3),\" CFS \")\n",
    "print(\"Right Discharge = \",round(qright,3),\" CFS \")"
   ]
  },
  {
   "cell_type": "code",
   "execution_count": null,
   "id": "432d78ef-7219-44d9-8560-50479a84d0c0",
   "metadata": {},
   "outputs": [],
   "source": []
  }
 ],
 "metadata": {
  "kernelspec": {
   "display_name": "Python Common Environment",
   "language": "python",
   "name": "python-my-env"
  },
  "language_info": {
   "codemirror_mode": {
    "name": "ipython",
    "version": 3
   },
   "file_extension": ".py",
   "mimetype": "text/x-python",
   "name": "python",
   "nbconvert_exporter": "python",
   "pygments_lexer": "ipython3",
   "version": "3.10.12"
  }
 },
 "nbformat": 4,
 "nbformat_minor": 5
}
