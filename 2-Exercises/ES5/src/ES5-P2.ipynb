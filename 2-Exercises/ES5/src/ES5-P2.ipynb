{
 "cells": [
  {
   "cell_type": "markdown",
   "id": "5aa3c438-f303-40a5-8c2c-565857924dda",
   "metadata": {},
   "source": [
    "## ES5-Problem 2\n",
    "\n",
    "The figures below show the analysis for the problem\n",
    "\n",
    "![](ES5-P2-1.png)\n",
    "\n",
    "![](ES5-P2-2.png)\n",
    "\n",
    "The solution to the problem is to use the static lift of 26 meters. (The A:: answer)"
   ]
  },
  {
   "cell_type": "markdown",
   "id": "20ca8cdb-7adc-462f-84dd-9d4246819608",
   "metadata": {},
   "source": [
    " Pump IV @ 4050 RPM is best choice , NPSHr is 2 meters based on pump curve.\n",
    "\n",
    " ![](pump4-annotate.png)"
   ]
  },
  {
   "cell_type": "code",
   "execution_count": null,
   "id": "48bb0dc7-0e67-4ec2-9332-7f69f9174a29",
   "metadata": {},
   "outputs": [],
   "source": []
  }
 ],
 "metadata": {
  "kernelspec": {
   "display_name": "Python Common Environment",
   "language": "python",
   "name": "python-my-env"
  },
  "language_info": {
   "codemirror_mode": {
    "name": "ipython",
    "version": 3
   },
   "file_extension": ".py",
   "mimetype": "text/x-python",
   "name": "python",
   "nbconvert_exporter": "python",
   "pygments_lexer": "ipython3",
   "version": "3.10.12"
  }
 },
 "nbformat": 4,
 "nbformat_minor": 5
}
