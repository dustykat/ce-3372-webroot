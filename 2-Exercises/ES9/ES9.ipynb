{
 "cells": [
  {
   "cell_type": "markdown",
   "metadata": {},
   "source": [
    "**Download** this file as a Jupyter Notebook@ [http://54.243.252.9/ce-3372-webroot/2-Exercises/ES9/ES9.ipynb](http://54.243.252.9/ce-3372-webroot/2-Exercises/ES9/ES9.ipynb)\n",
    "\n",
    "\n",
    "\n",
    "---\n",
    "# ES-9\n",
    "\n",
    "Copyright © 2022 Theodore G. Cleveland \n",
    "\n",
    "---\n",
    "\n",
    "## Purpose:\n",
    "Construct a design storm hyetograph\n"
   ]
  },
  {
   "cell_type": "markdown",
   "metadata": {},
   "source": [
    "## Problem Statement\n",
    "\n",
    "Assume that Somewhere USA is to be located in Harris County.\n",
    "\n",
    "### Part 1 (Check Syllabus/BB for Due Date)\n",
    "1. Using the NOAA-PFDS estimate the rainfall depth for a 10-year, 6-hour storm in Harris county.\n",
    "2. Using the SCS Tabulation or Texas Empirical Hyetographs, construct from the 10-year, 6-hour storm a design hyetograph at 15 minute intervals.\n",
    "\n",
    "### Part 2 (Check Syllabus/BB for Due Date)\n",
    "3. Apply the hyetograph to a 1 sq.mi. watershed in SWMM using program defaults for the drainage area description (except set the length to 5280 ft.), use the CN runoff generation model in SWMM with CN=98.  Simulate 24 hours of runoff with reporting every 15 minutes."
   ]
  },
  {
   "cell_type": "markdown",
   "metadata": {},
   "source": [
    "\n",
    "---\n",
    "## Deliverables:\n",
    "A brief report with your solution, showing the rainfall depth(s), hyetograph (on 15-minute intervals) for Part 1 and the SWMM generated hydrograph for Part 2.\n",
    "\n",
    "A screen capture of the SWMM output is sufficient for Part 2 **Do not submit a SWMM output file** \n",
    "\n",
    "---\n",
    "\n",
    "## References\n",
    "1. NOAA Precipitation-Frequency Data Server [https://hdsc.nws.noaa.gov/hdsc/pfds/](https://hdsc.nws.noaa.gov/hdsc/pfds/)\n",
    "2. Intensity Interpolater (for use with PFDS results) for non-tabulated durations. [http://54.243.252.9/toolbox/ordinarytools/IntensityInterpolate/IntensityInterpolate.html](http://54.243.252.9/toolbox/ordinarytools/IntensityInterpolate/IntensityInterpolate.html)\n",
    "2.Williams-Sether, T., Asquith, W.H., Thompson, D.B., Cleveland, T.G., and X. Fang. 2004. Empirical, Dimensionless, Cumulative-Rainfall Hyetographs for Texas. U.S.Geological Survey Scientific Investigations Report 2004-5075, 138p. [https://75.3.84.227/documents/about-me/MyWebPapers/project_reports/SIR_2004_5075/sir2004-5075.pdf](https://75.3.84.227/documents/about-me/MyWebPapers/project_reports/SIR_2004_5075/sir2004-5075.pdf)\n",
    "3. Neale, C.M., Tay, C.C., Herrmann, G.R., and Cleveland, T.G. 2015. \"TXHYETO.XLS a tool to facilitate use of Texas-Specific Hyetographs for design storm modeling.\" Proceedings of ASCE World Environmental and Water Resources Congress, ASCE-EWRI, Austin, TX. May 17-21, 2015. pp. 241-254.[https://75.3.84.227/documents/about-me/MyWebPapers/conference_papers/2015_ASCE_CAROLINE/](https://75.3.84.227/documents/about-me/MyWebPapers/conference_papers/2015_ASCE_CAROLINE/)\n",
    "4. TXHYETO (spreadsheet and training video for using Texas empirical hyetographs)[http://54.243.252.9/toolbox/hydrology/EBDLKUP-2015-DISTRIBUTE/](http://54.243.252.9/toolbox/hydrology/EBDLKUP-2015-DISTRIBUTE/)\n",
    "3. Rossman, L.A., 2010 STORM WATER MANAGEMENT MODEL USER’S MANUAL Version 5.0, Technical Report EPA/600/R-05/040,U.S. Environmental Protection Agency, National Risk Management Research Laboratory Cincinnati, OH 45268. [http://54.243.252.9/ce-3372-webroot/3-Readings/epaswmm5_user_manual/P100ERK4.pdf](http://54.243.252.9/ce-3372-webroot/3-Readings/epaswmm5_user_manual/P100ERK4.pdf)\n",
    "4. Rossman, L.A., 2006 STORM WATER MANAGEMENT MODEL QUALITY ASSURANCE REPORT: Dynamic Wave Flow Routing, Technical Report EPA/600/R-06/297,U.S. Environmental Protection Agency, National Risk Management Research Laboratory Cincinnati, OH 45268. [http://54.243.252.9/ce-3372-webroot/3-Readings/epaswmm5_qa/SWMM5_QA.pdf](http://54.243.252.9/ce-3372-webroot/3-Readings/epaswmm5_qa/SWMM5_QA.pdf)\n",
    "5. Gironás, J., Roesner, L.A., Davis, J. 2009 STORM WATER MANAGEMENT MODEL APPLICATIONS MANUAL  , Technical Report EPA/600/R-09/000,U.S. Environmental Protection Agency, National Risk Management Research Laboratory Cincinnati, OH 45268. [http://54.243.252.9/ce-3372-webroot/3-Readings/epaswmm5_user_manual/P100ERK4.pdf](http://54.243.252.9/ce-3372-webroot/3-Readings/epaswmm5_user_manual/P100ERK4.pdf)\n",
    "\n",
    "---"
   ]
  },
  {
   "cell_type": "markdown",
   "metadata": {},
   "source": [
    "<p> <a href=\"#\"> <img src=\"http://54.243.252.9/ce-3372-webroot/2-Exercises/ES6/easy-button.png\" alt=\"EZ Button Link to ES-5 sample solution\" style=\"width:42px;height:42px;\"> </a>  </p>"
   ]
  },
  {
   "cell_type": "code",
   "execution_count": null,
   "metadata": {},
   "outputs": [],
   "source": []
  }
 ],
 "metadata": {
  "kernelspec": {
   "display_name": "Python 3",
   "language": "python",
   "name": "python3"
  },
  "language_info": {
   "codemirror_mode": {
    "name": "ipython",
    "version": 3
   },
   "file_extension": ".py",
   "mimetype": "text/x-python",
   "name": "python",
   "nbconvert_exporter": "python",
   "pygments_lexer": "ipython3",
   "version": "3.8.10"
  }
 },
 "nbformat": 4,
 "nbformat_minor": 4
}
