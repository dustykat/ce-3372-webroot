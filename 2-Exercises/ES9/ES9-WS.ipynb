{
 "cells": [
  {
   "cell_type": "markdown",
   "metadata": {},
   "source": [
    "**Download** this file as a Jupyter Notebook@ [http://54.243.252.9/ce-3372-webroot/2-Exercises/ES9/ES9.ipynb](http://54.243.252.9/ce-3372-webroot/2-Exercises/ES9/ES9.ipynb)\n",
    "\n",
    "\n",
    "\n",
    "---\n",
    "# ES-9 Solution Sketch\n",
    "\n",
    "Copyright © 2022 Theodore G. Cleveland \n",
    "\n",
    "---\n",
    "\n",
    "## Purpose:\n",
    "Construct a design storm hyetograph\n"
   ]
  },
  {
   "cell_type": "markdown",
   "metadata": {},
   "source": [
    "## Problem Statement\n",
    "\n",
    "Assume that Somewhere USA is to be located in Harris County.\n",
    "\n",
    "### Part 1 (Check Syllabus/BB for Due Date)\n",
    "1. Using the NOAA-PFDS estimate the rainfall depth for a 10-year, 6-hour storm in Harris county.\n",
    "2. Using the SCS Tabulation or Texas Empirical Hyetographs, construct from the 10-year, 6-hour storm a design hyetograph at 15 minute intervals."
   ]
  },
  {
   "cell_type": "markdown",
   "metadata": {},
   "source": [
    "<!--![](http://54.243.252.9/ce-3372-webroot/2-Exercises/ES9/PFDS-Harris.png)-->\n",
    "![](PFDS-Harris.png)\n",
    "\n",
    "|Figure 1.  Screen capture PFDS for Harris Co. Interrogation|\n",
    "|---|\n",
    "\n",
    "From the figure, a 10-yr, 6-hr storm is 6.10 inches of depth.  Next using the Texas Empirical Hyetograph we produce the following hyetograph (using the median hyetograph)\n",
    "\n",
    "![](TxHYETO.png)\n",
    "\n",
    "|Figure 2.  Screen capture Texas Hyetograph Tool|\n",
    "|---|\n",
    "\n",
    "The actual numbers are captured below:"
   ]
  },
  {
   "cell_type": "code",
   "execution_count": 8,
   "metadata": {},
   "outputs": [
    {
     "data": {
      "text/html": [
       "<div>\n",
       "<style scoped>\n",
       "    .dataframe tbody tr th:only-of-type {\n",
       "        vertical-align: middle;\n",
       "    }\n",
       "\n",
       "    .dataframe tbody tr th {\n",
       "        vertical-align: top;\n",
       "    }\n",
       "\n",
       "    .dataframe thead th {\n",
       "        text-align: right;\n",
       "    }\n",
       "</style>\n",
       "<table border=\"1\" class=\"dataframe\">\n",
       "  <thead>\n",
       "    <tr style=\"text-align: right;\">\n",
       "      <th></th>\n",
       "      <th>minutes</th>\n",
       "      <th>hours</th>\n",
       "      <th>acc_depth_inches</th>\n",
       "    </tr>\n",
       "  </thead>\n",
       "  <tbody>\n",
       "    <tr>\n",
       "      <th>0</th>\n",
       "      <td>0</td>\n",
       "      <td>0.00</td>\n",
       "      <td>0.000</td>\n",
       "    </tr>\n",
       "    <tr>\n",
       "      <th>1</th>\n",
       "      <td>15</td>\n",
       "      <td>0.25</td>\n",
       "      <td>0.686</td>\n",
       "    </tr>\n",
       "    <tr>\n",
       "      <th>2</th>\n",
       "      <td>30</td>\n",
       "      <td>0.50</td>\n",
       "      <td>1.416</td>\n",
       "    </tr>\n",
       "    <tr>\n",
       "      <th>3</th>\n",
       "      <td>45</td>\n",
       "      <td>0.75</td>\n",
       "      <td>1.955</td>\n",
       "    </tr>\n",
       "    <tr>\n",
       "      <th>4</th>\n",
       "      <td>60</td>\n",
       "      <td>1.00</td>\n",
       "      <td>2.361</td>\n",
       "    </tr>\n",
       "  </tbody>\n",
       "</table>\n",
       "</div>"
      ],
      "text/plain": [
       "   minutes  hours  acc_depth_inches\n",
       "0        0   0.00             0.000\n",
       "1       15   0.25             0.686\n",
       "2       30   0.50             1.416\n",
       "3       45   0.75             1.955\n",
       "4       60   1.00             2.361"
      ]
     },
     "execution_count": 8,
     "metadata": {},
     "output_type": "execute_result"
    }
   ],
   "source": [
    "import pandas\n",
    "hyetograph = pandas.DataFrame([[0,0,0.000],\n",
    "[15,0.25,0.686],\n",
    "[30,0.50,1.416],\n",
    "[45,0.75,1.955],\n",
    "[60,1.00,2.361],\n",
    "[75,1.25,2.668],\n",
    "[90,1.50,2.901],\n",
    "[105,1.75,3.080],\n",
    "[120,2.00,3.226],\n",
    "[135,2.25,3.354],\n",
    "[150,2.50,3.477],\n",
    "[165,2.75,3.606],\n",
    "[180,3.00,3.749],\n",
    "[195,3.25,3.910],\n",
    "[210,3.50,4.088],\n",
    "[225,3.75,4.283],\n",
    "[240,4.00,4.489],\n",
    "[255,4.25,4.700],\n",
    "[270,4.50,4.910],\n",
    "[285,4.75,5.113],\n",
    "[300,5.00,5.303],\n",
    "[315,5.25,5.476],\n",
    "[330,5.50,5.629],\n",
    "[345,5.75,5.762],\n",
    "[360,6.00,6.010]])\n",
    "hyetograph.columns =[\"minutes\",\"hours\",\"acc_depth_inches\"]\n",
    "hyetograph.head()"
   ]
  },
  {
   "cell_type": "code",
   "execution_count": 9,
   "metadata": {},
   "outputs": [
    {
     "data": {
      "image/png": "[encoded data removed]",
      "text/plain": [
       "<Figure size 576x432 with 1 Axes>"
      ]
     },
     "metadata": {
      "needs_background": "light"
     },
     "output_type": "display_data"
    }
   ],
   "source": [
    "# plot the hyetograph as per ENGR 1330\n",
    "from matplotlib import pyplot as plt\n",
    "mydata = plt.figure(figsize = (8,6)) # build a drawing canvass from figure class; aspect ratio 4x3\n",
    "plt.plot(hyetograph[\"hours\"],hyetograph[\"acc_depth_inches\"], c='red', marker='o',linewidth=1) # basic line plot\n",
    "plt.xlabel('Elapsed Time (hours)') # label the x-axis\n",
    "plt.ylabel('Accumulated Rainfall Depth (inches)') # label the y-axis, notice the LaTex markup\n",
    "#plt.legend(['series1','series2...']) # legend for each series\n",
    "plt.title('Somewhere USA Design Storm') # make a plot title\n",
    "plt.grid() # display a grid\n",
    "plt.show() # display the plot"
   ]
  },
  {
   "cell_type": "code",
   "execution_count": 14,
   "metadata": {},
   "outputs": [
    {
     "name": "stdout",
     "output_type": "stream",
     "text": [
      " hours  acc_depth_inches\n",
      "  0.00             0.000\n",
      "  0.25             0.686\n",
      "  0.50             1.416\n",
      "  0.75             1.955\n",
      "  1.00             2.361\n",
      "  1.25             2.668\n",
      "  1.50             2.901\n",
      "  1.75             3.080\n",
      "  2.00             3.226\n",
      "  2.25             3.354\n",
      "  2.50             3.477\n",
      "  2.75             3.606\n",
      "  3.00             3.749\n",
      "  3.25             3.910\n",
      "  3.50             4.088\n",
      "  3.75             4.283\n",
      "  4.00             4.489\n",
      "  4.25             4.700\n",
      "  4.50             4.910\n",
      "  4.75             5.113\n",
      "  5.00             5.303\n",
      "  5.25             5.476\n",
      "  5.50             5.629\n",
      "  5.75             5.762\n",
      "  6.00             6.010\n"
     ]
    }
   ],
   "source": [
    "# prep the data for cut-and-paste into SWMM\n",
    "print(hyetograph[[\"hours\",\"acc_depth_inches\"]].to_string(index=False))"
   ]
  },
  {
   "cell_type": "markdown",
   "metadata": {},
   "source": [
    "### Part 2 (Check Syllabus/BB for Due Date)\n",
    "3. Apply the hyetograph to a 1 sq.mi. watershed in SWMM using program defaults for the drainage area description (except set the length to 5280 ft.), use the CN runoff generation model in SWMM with CN=98.  Simulate 24 hours of runoff with reporting every 15 minutes.\n",
    "\n",
    "![](SWMM_Demo9-1.png)\n",
    "\n",
    "|Figure 3.  Screen capture SWMM set-up raingage (named PuffyTheCloud)|\n",
    "|---|\n",
    "\n",
    "![](SWMM_Demo9-2.png)\n",
    "\n",
    "|Figure 4.  Screen capture SWMM run using CN=98, and supplied hyetograph|\n",
    "|---|"
   ]
  },
  {
   "cell_type": "markdown",
   "metadata": {},
   "source": []
  },
  {
   "cell_type": "markdown",
   "metadata": {},
   "source": [
    "\n",
    "---\n",
    "## Deliverables:\n",
    "A brief report with your solution, showing the rainfall depth(s), hyetograph (on 15-minute intervals) for Part 1 and the SWMM generated hydrograph for Part 2.\n",
    "\n",
    "A screen capture of the SWMM output is sufficient for Part 2 **Do not submit a SWMM output file** \n",
    "\n",
    "---\n",
    "\n",
    "## References\n",
    "1. NOAA Precipitation-Frequency Data Server [https://hdsc.nws.noaa.gov/hdsc/pfds/](https://hdsc.nws.noaa.gov/hdsc/pfds/)\n",
    "2. Intensity Interpolater (for use with PFDS results) for non-tabulated durations. [http://54.243.252.9/toolbox/ordinarytools/IntensityInterpolate/IntensityInterpolate.html](http://54.243.252.9/toolbox/ordinarytools/IntensityInterpolate/IntensityInterpolate.html)\n",
    "2.Williams-Sether, T., Asquith, W.H., Thompson, D.B., Cleveland, T.G., and X. Fang. 2004. Empirical, Dimensionless, Cumulative-Rainfall Hyetographs for Texas. U.S.Geological Survey Scientific Investigations Report 2004-5075, 138p. [https://75.3.84.227/documents/about-me/MyWebPapers/project_reports/SIR_2004_5075/sir2004-5075.pdf](https://75.3.84.227/documents/about-me/MyWebPapers/project_reports/SIR_2004_5075/sir2004-5075.pdf)\n",
    "3. Neale, C.M., Tay, C.C., Herrmann, G.R., and Cleveland, T.G. 2015. \"TXHYETO.XLS a tool to facilitate use of Texas-Specific Hyetographs for design storm modeling.\" Proceedings of ASCE World Environmental and Water Resources Congress, ASCE-EWRI, Austin, TX. May 17-21, 2015. pp. 241-254.[https://75.3.84.227/documents/about-me/MyWebPapers/conference_papers/2015_ASCE_CAROLINE/](https://75.3.84.227/documents/about-me/MyWebPapers/conference_papers/2015_ASCE_CAROLINE/)\n",
    "4. TXHYETO (spreadsheet and training video for using Texas empirical hyetographs)[http://54.243.252.9/toolbox/hydrology/EBDLKUP-2015-DISTRIBUTE/](http://54.243.252.9/toolbox/hydrology/EBDLKUP-2015-DISTRIBUTE/)\n",
    "3. Rossman, L.A., 2010 STORM WATER MANAGEMENT MODEL USER’S MANUAL Version 5.0, Technical Report EPA/600/R-05/040,U.S. Environmental Protection Agency, National Risk Management Research Laboratory Cincinnati, OH 45268. [http://54.243.252.9/ce-3372-webroot/3-Readings/epaswmm5_user_manual/P100ERK4.pdf](http://54.243.252.9/ce-3372-webroot/3-Readings/epaswmm5_user_manual/P100ERK4.pdf)\n",
    "4. Rossman, L.A., 2006 STORM WATER MANAGEMENT MODEL QUALITY ASSURANCE REPORT: Dynamic Wave Flow Routing, Technical Report EPA/600/R-06/297,U.S. Environmental Protection Agency, National Risk Management Research Laboratory Cincinnati, OH 45268. [http://54.243.252.9/ce-3372-webroot/3-Readings/epaswmm5_qa/SWMM5_QA.pdf](http://54.243.252.9/ce-3372-webroot/3-Readings/epaswmm5_qa/SWMM5_QA.pdf)\n",
    "5. Gironás, J., Roesner, L.A., Davis, J. 2009 STORM WATER MANAGEMENT MODEL APPLICATIONS MANUAL  , Technical Report EPA/600/R-09/000,U.S. Environmental Protection Agency, National Risk Management Research Laboratory Cincinnati, OH 45268. [http://54.243.252.9/ce-3372-webroot/3-Readings/epaswmm5_user_manual/P100ERK4.pdf](http://54.243.252.9/ce-3372-webroot/3-Readings/epaswmm5_user_manual/P100ERK4.pdf)\n",
    "\n",
    "---"
   ]
  },
  {
   "cell_type": "markdown",
   "metadata": {},
   "source": [
    "<p> <a href=\"http://54.243.252.9/ce-3372-webroot/2-Exercises/ES9/ES9-WS.html\"> <img src=\"http://54.243.252.9/ce-3372-webroot/2-Exercises/ES9/easy-button.png\" alt=\"EZ Button Link to ES-9 solution sketch\" style=\"width:42px;height:42px;\"> </a>  </p>"
   ]
  },
  {
   "cell_type": "code",
   "execution_count": null,
   "metadata": {},
   "outputs": [],
   "source": []
  }
 ],
 "metadata": {
  "kernelspec": {
   "display_name": "Python 3",
   "language": "python",
   "name": "python3"
  },
  "language_info": {
   "codemirror_mode": {
    "name": "ipython",
    "version": 3
   },
   "file_extension": ".py",
   "mimetype": "text/x-python",
   "name": "python",
   "nbconvert_exporter": "python",
   "pygments_lexer": "ipython3",
   "version": "3.8.10"
  }
 },
 "nbformat": 4,
 "nbformat_minor": 4
}
