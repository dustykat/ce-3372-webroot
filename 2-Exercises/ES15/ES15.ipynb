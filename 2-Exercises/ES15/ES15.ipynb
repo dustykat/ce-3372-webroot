{
 "cells": [
  {
   "cell_type": "markdown",
   "metadata": {},
   "source": [
    "**Download** this file as a Jupyter Notebook@ [ES15.ipynb](http://54.243.252.9/ce-3372-webroot/2-Exercises/ES15/ES15.ipynb)\n",
    "\n",
    "\n",
    "\n",
    "---\n",
    "# ES-15\n",
    "\n",
    "Copyright © 2022 Theodore G. Cleveland \n",
    "\n",
    "---\n",
    "\n",
    "## Purpose:\n",
    "Demonstrate application of SWMM for analysis of a storm drainage system.\n",
    "\n",
    "---\n",
    "\n",
    "## Objectives:\n",
    "\n",
    "- Apply results of prior exercise for input hydraulic model testing in SWMM\n",
    "- Interpret SWMM output and verify original design or make changes based on results and demonstrate design accomodates anticipated design conditions"
   ]
  },
  {
   "cell_type": "markdown",
   "metadata": {},
   "source": [
    "---\n",
    "\n",
    "## Problem Statement (Repeated from prior exercise)\n",
    "\n",
    "Figure 1 is an older (circa 1993) aerial image of a portion of Houston, Texas. The red polygon is the drainage boundary for a storm sewer system that drains North from the part of the area near Westheimer Road to a tributary of Buffalo Bayou and East from the area. The\n",
    "drainage ditch is shown as the “blue” fuzzy line on the figure.   \n",
    "\n",
    "<figure>\n",
    "    <img src=\"http://54.243.252.9/ce-3372-webroot/2-Exercises/ES13/Image118.png\" alt=\"Trulli\" style=\"width:70%\">\n",
    "    <figcaption align = \"center\">\n",
    "         <b>Figure 1. Tanglewilde Drive Study Area</b>\n",
    "    </figcaption>\n",
    "</figure>\n",
    "\n",
    "Drainage in the ditch is from\n",
    "West to East. The two main streets in the study area are highlighted in magenta."
   ]
  },
  {
   "cell_type": "markdown",
   "metadata": {},
   "source": [
    "Figure 2 is a map showing storm drainage alignments and inlets location.\n",
    "\n",
    "<figure>\n",
    "    <img src=\"http://54.243.252.9/ce-3372-webroot/2-Exercises/ES13/Image119B.png\" alt=\"Trulli\" style=\"width:70%\">\n",
    "    <figcaption align = \"center\">\n",
    "         <b>Figure 2. Tanglewilde Drive Storm Drain Inlet and Pipe Alignments.</b>\n",
    "    </figcaption>\n",
    "</figure>\n"
   ]
  },
  {
   "cell_type": "markdown",
   "metadata": {},
   "source": [
    "Using the results from the prior exercise (ES-13) build a SWMM model of the drainage system and demonstrate the system will accomodate a 5-year, 3-hour storm in Harris County, Texas.\n",
    "\n",
    "Modify the design as needed to prevent surcharge in the drainage system.  Treat the outfall as a fixed stage outfall."
   ]
  },
  {
   "cell_type": "markdown",
   "metadata": {},
   "source": [
    "---\n",
    "\n",
    "## Deliverables\n",
    "\n",
    "A brief report with your solution, showing the requested simulations, tables discharge and depth calculations.  "
   ]
  },
  {
   "cell_type": "markdown",
   "metadata": {},
   "source": [
    "---\n",
    "\n",
    "## References\n",
    "\n",
    "1. Rossman, L. (2009). Storm Water Management Model user’s manual version 5.0. Technical Report<br> EPA/600/R-05/040, U.S. Environmental Protection Agency, National Risk Management Research Laboratory Cincinnati, OH 45268\n",
    "\n",
    "---"
   ]
  },
  {
   "cell_type": "markdown",
   "metadata": {},
   "source": [
    "<p> <a href=\"http://54.243.252.9/ce-3372-webroot/2-Exercises/ES15/ES15-TechnicalDocuments-NoMEMO.pdf\"> <img src=\"http://54.243.252.9/ce-3372-webroot/2-Exercises/ES15/easy-button.png\" alt=\"EZ Button Link to ES-15 solution sketch\" style=\"width:42px;height:42px;\"> </a>  </p>"
   ]
  },
  {
   "cell_type": "code",
   "execution_count": null,
   "metadata": {},
   "outputs": [],
   "source": []
  }
 ],
 "metadata": {
  "kernelspec": {
   "display_name": "Python 3",
   "language": "python",
   "name": "python3"
  },
  "language_info": {
   "codemirror_mode": {
    "name": "ipython",
    "version": 3
   },
   "file_extension": ".py",
   "mimetype": "text/x-python",
   "name": "python",
   "nbconvert_exporter": "python",
   "pygments_lexer": "ipython3",
   "version": "3.8.10"
  }
 },
 "nbformat": 4,
 "nbformat_minor": 4
}
