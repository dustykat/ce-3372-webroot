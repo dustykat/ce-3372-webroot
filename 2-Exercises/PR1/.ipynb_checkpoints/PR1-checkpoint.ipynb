{
 "cells": [
  {
   "cell_type": "markdown",
   "metadata": {},
   "source": [
    "**Download** this file as a Jupyter Notebook@ [http://54.243.252.9/ce-3372-webroot/2-Exercises/ES8/PR1.ipynb](http://54.243.252.9/ce-3372-webroot/2-Exercises/PR1/PR1.ipynb)\n",
    "\n",
    "\n",
    "\n",
    "---\n",
    "# PR-1\n",
    "\n",
    "Copyright © 2021 Theodore G. Cleveland \n",
    "\n",
    "---\n",
    "\n",
    "## Purpose:\n",
    "Assess hydraulic viability of a distribution network design; suggest modifications to the design to satisfy statuatory requirements; initial cost estimation to build network.  Report results in an engineering design report, with references, exhibits, and recomendations.\n",
    "\n",
    "---\n"
   ]
  },
  {
   "cell_type": "markdown",
   "metadata": {},
   "source": [
    "## Problem Statement\n",
    "A small residential subdivision (SomewhereUSA) is depicted in the figure below; plotted on the figure is a layout of a water distribution system for the  subdivision. The blue line segments are pipes (ductile iron) and are labeled (P1, P2, . . . ). The blue circles are nodes and are labeled (N1, N2, . . . ). The yellow polygons represent the demand lots assigned to each node. For example, node N2 supplies the six (6) individual lots located near the node.\n",
    "\n",
    "![](http://54.243.252.9/ce-3372-webroot/2-Exercises/PR1/SomewhereClipNodes.png)\n",
    "\n",
    "The distribution system is connected to the supply main at node N1. This large water\n",
    "main reliably supplies water at 135 psi. pressure. The pipe connecting node N1 to N2 is an\n",
    "8-inch diameter, ductile iron pipe. The remaining pipes are 2-inch diameter, ductile\n",
    "iron pipe.\n",
    "\n",
    "The water main delivers treated drinking water with a chloramine disinfectant residual of 8 ppm.\n",
    "The water supply line (as shown) is nearly horizontal with a bottom (of the pipe) elevation of 52-feet.\n",
    "\n",
    "Using the United States Environmental Protection Agency, EPANET hydraulic and water quality simulator, model the system and evaluate its suitability for the subdivision. Use RG-195 and the San Marcos\n",
    "Texas manual for statutory requirements as necessary\n"
   ]
  },
  {
   "cell_type": "markdown",
   "metadata": {},
   "source": [
    "---\n",
    "## Deliverables \n",
    "\n",
    "- An engineering preliminary design report for the proposed water distribution network.\n",
    "\n",
    "The project report for the drinking water system should be written as an intended component for an overall design report for the subdivision (water supply, storm water, sanitary collection)\n",
    "\n",
    "The drinking water supply report should address:\n",
    "\n",
    "1.  The required burial depths required for the water distribution pipes.\n",
    "1.  The minimum pipe diameters required on the water utility side of the meter.\n",
    "1.  A node-pipe layout map/drawing, overlain on the subdivision map.   \n",
    "    - The pipe layout can be a skeleton system (you do not need to show every meter -- demands should be grouped from 6-8 houses/node).\n",
    "1.  Produce a node elevation table (and land surface elevation table)\n",
    "1.  A node contour map.\n",
    "1.  Demand estimates (describe the values and methods).\n",
    "1.  Fire hydrant locations.\n",
    "1.  A hydraulic model that simulates the flow and pressure in the network.  \n",
    "1.  A hydraulic simulation under normal flow (no fire) conditions.  \n",
    "    - The model must be interpreted and the minimum and maximum pressures identified (along with their locations).  If special items are required (pressure-reducing-valves; booster pumps; $\\dots$) these must be described and their need explained.\n",
    "1.  A hydraulic simulation under (reasonable) fire-flow conditions.  \n",
    "    - The model must be interpreted and the minimum and maximum pressures identified (along with their locations).\n",
    "1. An evaluation of water age in the network under normal conditions.\n",
    "1. Identification of disinfection residual minimum location in the network under normal conditions.\n",
    "1.  A cost estimate for the pipes, valves, fire hydrants, water meters, and any special components that are required based on the hydraulic simulation.   \n",
    "1.  An estimate of the trenching requirements to install the network\n",
    "\n",
    "---\n",
    "\n",
    "## References\n",
    "1. Rossman,  L.  (2000).   EPANET  2  users  manual.   Technical  Report  EPA/600/R-00/057,U.S. Environmental Protection Agency, National Risk Management Research LaboratoryCincinnati, OH 45268.\n",
    "\n",
    "2. CE 3372 – Water Systems Design Design Project (pre-2021) problem statement [http://54.243.252.9/ce-3372-webroot/2-Exercises/PR1/ce_3372_2020-3-project.pdf](http://54.243.252.9/ce-3372-webroot/2-Exercises/PR1/ce_3372_2020-3-project.pdf)\n",
    "\n",
    "3. CE 3372 - WATER DISTRIBUTION SYSTEM ANALYSIS AND DESIGN FOR CROSBY, TEXAS (circa 2015) Example Project Report [http://54.243.252.9/ce-3372-webroot/2-Exercises/PR1/Project1_GoBy1.pdf](http://54.243.252.9/ce-3372-webroot/2-Exercises/Project/Project1_GoBy1.pdf)\n",
    "\n",
    "---"
   ]
  },
  {
   "cell_type": "code",
   "execution_count": null,
   "metadata": {},
   "outputs": [],
   "source": []
  }
 ],
 "metadata": {
  "kernelspec": {
   "display_name": "Python 3",
   "language": "python",
   "name": "python3"
  },
  "language_info": {
   "codemirror_mode": {
    "name": "ipython",
    "version": 3
   },
   "file_extension": ".py",
   "mimetype": "text/x-python",
   "name": "python",
   "nbconvert_exporter": "python",
   "pygments_lexer": "ipython3",
   "version": "3.8.10"
  }
 },
 "nbformat": 4,
 "nbformat_minor": 4
}
