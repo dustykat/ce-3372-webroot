{
 "cells": [
  {
   "cell_type": "markdown",
   "metadata": {},
   "source": [
    "**Download** this file as a Jupyter Notebook@ [http://54.243.252.9/ce-3372-webroot/2-Exercises/ES12/ES12.ipynb](http://54.243.252.9/ce-3372-webroot/2-Exercises/ES12/ES12.ipynb)\n",
    "\n",
    "\n",
    "---\n",
    "# ES-12\n",
    "\n",
    "Copyright © 2022 Theodore G. Cleveland \n",
    "\n",
    "---\n",
    "\n",
    "## Purpose:\n",
    "\n",
    "Apply rational equation model process to size conduits for a storm drain system.\n",
    "\n"
   ]
  },
  {
   "cell_type": "markdown",
   "metadata": {},
   "source": [
    "## Problem Data\n",
    "Three drainage areas that drain to the inlets connected to\n",
    "the pipes as shown in Figure 1. A stormwater drainage system is being designed\n",
    "to carry the flow from the three areas. \n",
    " \n",
    "<!--![](DrainageSystemLayout.png)-->\n",
    "\n",
    "![](http://54.243.252.9/ce-3372-webroot/2-Exercises/ES12/DrainageSystemLayout.png) \n",
    "\n",
    "<figure>\n",
    "<figcaption >Figure 1. Drainage System Layout </figcaption>\n",
    "</figure>\n",
    "\n",
    "Table 1 lists drainage area information.\n",
    "\n",
    "<br><br>\n",
    "\n",
    "<figure>\n",
    "<figcaption >Table 1. Contributing Area Hydrologic Properties  </figcaption>\n",
    "</figure>\n",
    "\n",
    "<!--![](ContributingArea.png)-->\n",
    "\n",
    "![](http://54.243.252.9/ce-3372-webroot/2-Exercises/ES12/ContributingArea.png) \n",
    "\n",
    "Table 2 is a list of pipe connectivity, flow lengths, design slopes, and pipe roughness data.\n",
    "\n",
    "<br><br>\n",
    "\n",
    "<figure>\n",
    "<figcaption >Table 2. Pipe Connectivity, Lengths, and Roughness   </figcaption>\n",
    "</figure>\n",
    "\n",
    "<!--![](PipeData.png)-->\n",
    "\n",
    "![](http://54.243.252.9/ce-3372-webroot/2-Exercises/ES12/PipeData.png) \n",
    "\n",
    "Equation 1 is the 10-year ARI intensity equation for the area, where $I$ is intensity in inches-per-hour, and $T_c$ is the averaging time, in minutes. Depending on the location in the system it may be just the local inlet time, or a time of concentration that includes upstream contributions and pipe travel time.\n",
    "\n",
    "<!--![](Eqn1.png)-->\n",
    "\n",
    "![](http://54.243.252.9/ce-3372-webroot/2-Exercises/ES12/Eqn1.png) \n",
    "\n",
    "<figure>\n",
    "<figcaption >  </figcaption>\n",
    "</figure>\n",
    "\n",
    "The allowable velocity at design flow is between 2 and 10 feet-per-second. \n",
    "The pipes are to be sized so they flow $\\frac{1}{2}$ full at the design discharge."
   ]
  },
  {
   "cell_type": "markdown",
   "metadata": {},
   "source": [
    "---\n",
    "Using the supplied problem data, and assuming the 10-year ARI is the design standard for the system:\n",
    "\n",
    "1. Determine the design flow rates in cfs for each pipe\n",
    "2. Determine the associated pipe diameters in inches for both pipes.\n",
    "\n",
    "---\n",
    "## Deliverables:\n",
    "A brief report with your solution, showing the requested values, any intermediate calculations, any additional data required, and its source.\n",
    "\n",
    "---\n",
    "\n",
    "## References\n",
    "\n",
    "1. Gupta, R. S. (2017). Hydrology and Hydraulic Systems. Waveland Press, Inc. pp. 711-733\n",
    "2. Mays, L. W. (2011). Water-Resources Engineering. Wiley. pp. 613-635 [http://54.243.252.9/ce-3372-webroot/3-Readings/Mays613-635/RationalMethodStormSewerDesign.PDF](http://54.243.252.9/ce-3372-webroot/3-Readings/Mays613-635/RationalMethodStormSewerDesign.PDF)"
   ]
  },
  {
   "cell_type": "code",
   "execution_count": null,
   "metadata": {},
   "outputs": [],
   "source": []
  }
 ],
 "metadata": {
  "kernelspec": {
   "display_name": "Python 3",
   "language": "python",
   "name": "python3"
  },
  "language_info": {
   "codemirror_mode": {
    "name": "ipython",
    "version": 3
   },
   "file_extension": ".py",
   "mimetype": "text/x-python",
   "name": "python",
   "nbconvert_exporter": "python",
   "pygments_lexer": "ipython3",
   "version": "3.8.10"
  }
 },
 "nbformat": 4,
 "nbformat_minor": 4
}
