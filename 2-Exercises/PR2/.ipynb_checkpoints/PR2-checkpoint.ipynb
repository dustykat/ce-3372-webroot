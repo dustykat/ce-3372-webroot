{
 "cells": [
  {
   "cell_type": "markdown",
   "metadata": {},
   "source": [
    "**Download** this file as a Jupyter Notebook@ [http://54.243.252.9/ce-3372-webroot/2-Exercises/PR2/PR2.ipynb](http://54.243.252.9/ce-3372-webroot/2-Exercises/PR2/PR2.ipynb)\n",
    "\n",
    "\n",
    "---\n",
    "# PR-2\n",
    "\n",
    "Copyright © 2021 Theodore G. Cleveland \n",
    "\n",
    "---\n",
    "\n",
    "## Purpose:\n",
    "Assess hydraulic viability of street-only drainage; suggest modifications to the drainage (design a storm sewer) to satisfy statuatory requirements; initial cost estimation to build a storm sewer.  Report results in an engineering design report, with references, exhibits, and recomendations.\n",
    "\n",
    "---\n"
   ]
  },
  {
   "cell_type": "markdown",
   "metadata": {},
   "source": [
    "## Problem Statement\n",
    "A small residential subdivision (SomewhereUSA) is depicted in the figure below; plotted on the figure is a layout of a water distribution system for the  subdivision. \n",
    "\n",
    "![](http://54.243.252.9/ce-3372-webroot/2-Exercises/PR2/SomewhereClipNodes.png)\n",
    "\n",
    "A drainage system will discharge stormwater in the North-East corner of the study area (green arrow) into the stream indicated by the blue line segment. The initial design is to convey stormwater in the streets depicted on the figure; however it is likely there will be substantial ponding, so a storm sewer system will be installed.\n",
    "\n",
    "Using the United States Environmental Protection Agency, SWMM hydraulic and water quality simulator, model the existing drainage system and use the results to inform a storm sewer design that will drain the subdivision and keep ponding to less than 6-inches in the streets.\n"
   ]
  },
  {
   "cell_type": "markdown",
   "metadata": {},
   "source": [
    "---\n",
    "## Deliverables \n",
    "\n",
    "- An engineering preliminary design report for the proposed water distribution network.\n",
    "\n",
    "The project report for the the drainage system should be written as an intended component for an overall design report for the subdivision (water supply, storm water, sanitary collection)\n",
    "\n",
    "The project report component should contain:\n",
    "\n",
    "1. An estimate of the anticipated 5-year, 3-hour design storm for Harris County; with supporting references.\n",
    "2. A node-pipe layout for the storm sewer system, overlain on the subdivision map. The pipe nodes will be treated as inlets.\n",
    "  - This layout is not depicted on the figure; you will have to design the storm drain system!  You can use elevations from PR1 as the land-surface elevation for your drainage design. \n",
    "3. Inlet calculations to determine the drainage area that a single 10-foot curb-on-grade inlet would be expected to capture. Use this value to determine inlet spacing (and location) along the streets.\n",
    "4. The burial depths required for the storm drain mains and laterals.\n",
    "5. The drainage pipe diameters and materials.\n",
    "6. Produce a node invert elevation table and land surface elevation table for the node locations.\n",
    "7. A hydraulic model that simulates the flow and water surface elevation in the drainage system. The model will use sub-catchments (and CN method) for hydrology, these will attach to the nodes, which in turn connect pipes.\n",
    "8. A hydraulic simulation, using “kinematic wave” option in SWMM, for the design storm.\n",
    "9. A hydraulic simulation, using “dynamic wave” option, with “inertial terms == IGNORE”, in SWMM for the design storm. The outfall in this simulation is “NORMAL”.\n",
    "10. A hydraulic simulation, using “dynamic wave” option, with “inertial terms == IGNORE”, in SWMM for the design storm. The outfall in this simulation is “FIXED” with the stage (elevation) set to 50 feet.\n",
    "11. A cost estimate for the inlets, pipes, junctions and any special components that are required based on the hydraulic simulation.\n",
    "12. An estimate of the trenching requirements to install the storm sewer.\n",
    "13. A summary, interpretation, and recommendations based on the hydraulic modeling – esp. the impact of backwater (the 3rd simulation conditions).\n",
    "\n",
    "---\n",
    "\n",
    "## References\n",
    "1. Rossman,  L.  (2000).   EPANET  2  users  manual.   Technical  Report  EPA/600/R-00/057,U.S. Environmental Protection Agency, National Risk Management Research LaboratoryCincinnati, OH 45268.\n",
    "\n",
    "2. CE 3372 – Water Systems Design Design Project (pre-2021) problem statement [http://54.243.252.9/ce-3372-webroot/2-Exercises/PR1/ce_3372_2020-3-project.pdf](http://54.243.252.9/ce-3372-webroot/2-Exercises/PR1/ce_3372_2020-3-project.pdf)\n",
    "\n",
    "3. CE 3372 - STORM WATER DRAINAGE SYSTEM ANALYSIS AND DESIGN FOR CROSBY, TEXAS  (circa 2015) Example Project Report [http://54.243.252.9/ce-3372-webroot/2-Exercises/PR2/Project2_Goby2.pdf](http://54.243.252.9/ce-3372-webroot/2-Exercises/PR2/Project2_Goby2.pdf)\n",
    "\n",
    "## Useful Images\n",
    "\n",
    "1. Base map without water distribution system overlay [http://54.243.252.9/ce-3372-webroot/2-Exercises/PR2/SomewhereUSABaseMap.png](http://54.243.252.9/ce-3372-webroot/2-Exercises/PR2/SomewhereUSABaseMap.png)\n",
    "\n",
    "2. Base map with a topographic map overlay [http://54.243.252.9/ce-3372-webroot/2-Exercises/PR2/ES-2_sample-map.png](http://54.243.252.9/ce-3372-webroot/2-Exercises/PR2/ES-2_sample-map.png)\n",
    "---"
   ]
  },
  {
   "cell_type": "code",
   "execution_count": null,
   "metadata": {},
   "outputs": [],
   "source": []
  }
 ],
 "metadata": {
  "kernelspec": {
   "display_name": "Python 3",
   "language": "python",
   "name": "python3"
  },
  "language_info": {
   "codemirror_mode": {
    "name": "ipython",
    "version": 3
   },
   "file_extension": ".py",
   "mimetype": "text/x-python",
   "name": "python",
   "nbconvert_exporter": "python",
   "pygments_lexer": "ipython3",
   "version": "3.8.10"
  }
 },
 "nbformat": 4,
 "nbformat_minor": 4
}
