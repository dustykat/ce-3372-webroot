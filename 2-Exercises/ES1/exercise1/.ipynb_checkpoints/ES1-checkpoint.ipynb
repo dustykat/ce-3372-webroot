{
 "cells": [
  {
   "cell_type": "markdown",
   "metadata": {},
   "source": [
    "# ES-1\n",
    "\n",
    "## Purpose:\n",
    "Demonstrate ability to read and summarize relevant engineering literature, and communicate that summary in writing."
   ]
  },
  {
   "cell_type": "markdown",
   "metadata": {},
   "source": [
    "## Exercise:\n",
    "\n",
    "Read the linked article from a 2013 issue of “Civil Engineering.” [https://3.137.111.182/ce-3372-webbook/exercise1/LosAngelesAquaductHistory.pdf](https://3.137.111.182/ce-3372-webbook/exercise1/LosAngelesAquaductHistory.pdf)\n",
    "\n",
    "## Deliverables\n",
    "\n",
    "A brief (2 pages maximum, exclusive of references) summary of the article. In the summary:\n",
    "\n",
    "- Describe the Los Angeles Aqueduct. \n",
    "- List the different types of conveyances and hydraulic machines that are employed (closed conduit, open conduit, lift stations, etc.) in its operation. \n",
    "- Explain what design and/or construction features were employed that were novel for their time. \n",
    "- Conclude with a comparison of the Los Angeles Aqueduct to a large-diameter gas pipeline. What are the similarities and differences?\n",
    "- Cite any external references you employed for the exercise (these citations are not included in the page count).\n",
    "\n",
    "## References\n",
    "\n",
    "1. <a href=\"https://3.137.111.182/ce-3372-webbook/exercise1/ce3372-example-solution.pdf\"> <img src=\"https://3.137.111.182/ce-3372-webbook/exercise1/easy-button.png\" alt=\"EZ Button Link to ES-1 sample solution\" style=\"width:42px;height:42px;\"> </a> "
   ]
  },
  {
   "cell_type": "code",
   "execution_count": null,
   "metadata": {},
   "outputs": [],
   "source": []
  }
 ],
 "metadata": {
  "kernelspec": {
   "display_name": "Python 3",
   "language": "python",
   "name": "python3"
  },
  "language_info": {
   "codemirror_mode": {
    "name": "ipython",
    "version": 3
   },
   "file_extension": ".py",
   "mimetype": "text/x-python",
   "name": "python",
   "nbconvert_exporter": "python",
   "pygments_lexer": "ipython3",
   "version": "3.8.5"
  }
 },
 "nbformat": 4,
 "nbformat_minor": 4
}
