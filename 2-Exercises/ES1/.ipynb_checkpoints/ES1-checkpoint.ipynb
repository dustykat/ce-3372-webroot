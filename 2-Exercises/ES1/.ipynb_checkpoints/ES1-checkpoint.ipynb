{
 "cells": [
  {
   "cell_type": "markdown",
   "metadata": {},
   "source": [
    "**Download** this file as a Jupyter Notebook@ [http://54.243.252.9/ce-3372-webroot/2-Exercises/ES1/ES1.ipynb](http://54.243.252.9/ce-3372-webroot/2-Exercises/ES1/ES1.ipynb)\n",
    "\n",
    "___\n",
    "\n",
    "# ES-1\n",
    "\n",
    "Copyright © 2021 Theodore G. Cleveland \n",
    "\n",
    "---\n",
    "\n",
    "## Purpose:\n",
    "Demonstrate ability to read and summarize relevant engineering literature, and communicate that summary in writing."
   ]
  },
  {
   "cell_type": "markdown",
   "metadata": {},
   "source": [
    "---\n",
    "\n",
    "## Exercise:\n",
    "\n",
    "Read and summarize the linked article from a 2013 issue of “Civil Engineering.” [http://54.243.252.9/ce-3372-webroot/2-Exercises/ES1/LosAngelesAquaductHistory.pdf](http://54.243.252.9/ce-3372-webroot/2-Exercises/ES1/LosAngelesAquaductHistory.pdf)\n",
    "\n",
    "---\n",
    "\n",
    "## Deliverables:\n",
    "\n",
    "A brief (2 pages maximum, exclusive of references) summary of the article. In the summary:\n",
    "\n",
    "- Describe the Los Angeles Aqueduct. \n",
    "- List the different types of conveyances and hydraulic machines that are employed (closed conduit, open conduit, lift stations, etc.) in its operation. \n",
    "- Explain what design and/or construction features were employed that were novel for their time. \n",
    "- Conclude with a comparison of the Los Angeles Aqueduct to a large-diameter gas pipeline. What are the similarities and differences?\n",
    "- Cite any external references you employed for the exercise (these citations are not included in the page count).\n",
    "\n",
    "---\n",
    "\n",
    "## References:\n",
    "\n",
    "1. Brown, J. L., 2013. *Water from a Distance: The First Owens River-Los Angeles Aqueduct* Civil Engineering Magazine, April 2013, Volume 83, Issue 4 ISSN (online): 2381-0688 https://doi.org/10.1061/ciegag.0000572\n",
    "\n",
    "\n",
    "<a href=\"http://54.243.252.9/ce-3372-webroot/2-Exercises/ES1/ce3372-example-solution.pdf\"> <img src=\"http://54.243.252.9/ce-3372-webroot/2-Exercises/ES1/easy-button.png\" alt=\"EZ Button Link to ES-1 sample solution\" style=\"width:42px;height:42px;align:left\"> </a> "
   ]
  }
 ],
 "metadata": {
  "kernelspec": {
   "display_name": "Python 3",
   "language": "python",
   "name": "python3"
  },
  "language_info": {
   "codemirror_mode": {
    "name": "ipython",
    "version": 3
   },
   "file_extension": ".py",
   "mimetype": "text/x-python",
   "name": "python",
   "nbconvert_exporter": "python",
   "pygments_lexer": "ipython3",
   "version": "3.8.10"
  }
 },
 "nbformat": 4,
 "nbformat_minor": 4
}
