{
 "cells": [
  {
   "cell_type": "markdown",
   "metadata": {},
   "source": [
    "**Download** this file as a Jupyter Notebook@ [http://54.243.252.9/ce-3372-webroot/2-Exercises/ES14/ES14.ipynb](http://54.243.252.9/ce-3372-webroot/2-Exercises/ES7/ES7.ipynb)\n",
    "\n",
    "\n",
    "\n",
    "---\n",
    "# ES-14\n",
    "\n",
    "Copyright © 2021 Theodore G. Cleveland \n",
    "\n",
    "---\n",
    "\n",
    "## Purpose:\n",
    "Demonstrate application of SWMM for analysis of a detention pond as a stormwater control strategy.\n",
    "\n",
    "---\n",
    "\n",
    "## Objectives:\n",
    "\n",
    "- Compute depth and discharge in a detention pond using SWMM\n",
    "- Introduction to use of professional software (SWMM)\n",
    "- Develop expertise in interpreting output to answer specific hydraulic questions"
   ]
  },
  {
   "cell_type": "markdown",
   "metadata": {},
   "source": [
    "---\n",
    "\n",
    "## Problem Statement\n",
    "\n",
    "Figure 1 is a plan view of a rectangular detention pond.   \n",
    "\n",
    "<figure>\n",
    "    <img src=\"detention.jpg\" alt=\"Trulli\" style=\"width:70%\">\n",
    "    <figcaption align = \"center\">\n",
    "         <b><br>Figure 1. Harris County, 8-262-4, Storm Water Quality Pond.</b>\n",
    "    </figcaption>\n",
    "</figure>\n",
    "\n",
    "\n",
    "\n",
    "The bottom of the pond is at elevation 139 feet. \n",
    "Several rectangular contour lines are shown.\n",
    "\n",
    "If the pond has one foot of water in storage, the blue line represents the pool elevation, and the volume would be the product of the area enclosed by the blue contour and the depth (1 foot).\n",
    "At depths greater than one foot, the pond sides are sloped and not vertical.\n",
    "\n",
    "The inlet is a 1-foot diameter culvert that drains a 9-acre light-industrial complex.\n",
    "The invert elevation of this culvert at the pond is 139 feet.\n",
    "The outlet works is a riser pipe which activates when the stage in the pond is 141 feet.\n",
    "The diameter of the outlet pipe is 8-inches.\n",
    "A secondary outlet pipe, also 8-inches activates at elevation 145 feet.\n",
    "A small 4-inch drain pipe is at the pond bottom so that the pond drains completely after a storm.\n",
    "If the pond stage exceeds 146 feet, the emergency overflow is a rectangular swale 25 feet wide and 2 feet deep which drains directly into a nearby bayou.\n"
   ]
  },
  {
   "cell_type": "markdown",
   "metadata": {},
   "source": [
    "Figure 2 is a profile (elevation view of the pond) sketch of the pond showing the relative elevations of the various inlets and outlets.\n",
    "\n",
    "<figure>\n",
    "    <img src=\"side-view.jpg\" alt=\"Trulli\" style=\"width:70%\">\n",
    "    <figcaption align = \"center\">\n",
    "         <b>Figure 2. Schematic elevation-view sketch of pond.</b>\n",
    "    </figcaption>\n",
    "</figure>\n",
    "\n",
    "Create your own sketch and label the inlet pipe, outlet pipe(s), and overflow swale; indicate the elevations of the pond bottom, inlet pipe invert (bottom) and soffit (top), the outlet pipe(s) invert(s) and soffit(s), and the invert elevation of the emergency overflow structure."
   ]
  },
  {
   "cell_type": "markdown",
   "metadata": {},
   "source": [
    "1.  Determine from Figure 1 the depth-area relationships for pond stages of 0,1,2,3,4,5,6,7 and 8 feet.   \n",
    "    - For the 8 foot stage, you can assume vertical walls extending upward from the z=146 feet contour line.   \n",
    "    - Prepare a table that lists water pool elevation, and water surface area.  \n",
    "1.  Build a SWMM model of the detention pond (Storage Node; Tabular Depth-Area).   \n",
    "    - The catchment that drains to the pond is treated as a 9-acre square region, with an overland slope of 0.05\\%.\n",
    "    - Use an appropriate value for runoff coefficient.   \n",
    "    - The inlet pipe is a 1-foot diameter, 200-foot long RCP, laid on a slope of 0.05%.\n",
    "    - The outlet pipes and overflow swale are also at slope 0.05%; they are also 200 feet long.\n",
    "    - The multiple outlets will need to connect to a common junction node 200 feet from the pond, which will then connect to an outfall.  \n",
    "    - The connection to the outfall should be a large diameter conduit, 200 feet long.   Set the outfall as a **FREE** outfall boundary condition.\n",
    "1.  Run the SWMM model using a constant intensity of 3-inches per hour for 6 hours.  Prepare output plots of pond depth versus time, pond inflow versus time, and pond outflow versus time.\n",
    "    1.  Does the pond overflow with this particular rainfall input?\n",
    "    1.  Determine the maximum constant-intensity, 6-hour storm that the pond can accommodate without activating the overflow spillway.\n",
    "    1.  Estimate the pond's effective annual recurrence interval (ARI) given that the time of concentration for the contributing area is 15 minutes.  "
   ]
  },
  {
   "cell_type": "markdown",
   "metadata": {},
   "source": [
    "---\n",
    "\n",
    "## Deliverables\n",
    "\n",
    "A brief report with your solution, showing the requested simulations, tables discharge and depth calculations.  The report should contain complete citations to external sources used for statuatory requirements, loss coefficients, and recurrance probabilities."
   ]
  },
  {
   "cell_type": "markdown",
   "metadata": {},
   "source": [
    "---\n",
    "\n",
    "## References\n",
    "\n",
    "1. Rossman, L. (2009). Storm Water Management Model user’s manual version 5.0. Technical Report<br> EPA/600/R-05/040, U.S. Environmental Protection Agency, National Risk Management Research Laboratory Cincinnati, OH 45268\n",
    "\n",
    "2. Plan View Image (larger format) [http://54.243.252.9/ce-3372-webroot/2-Exercises/ES14/ES15-ImageAnalysisBase.pdf](http://54.243.252.9/ce-3372-webroot/2-Exercises/ES14/ES15-ImageAnalysisBase.pdf)\n",
    "\n",
    "---"
   ]
  },
  {
   "cell_type": "markdown",
   "metadata": {},
   "source": [
    "<p> <a href=\"http://54.243.252.9/ce-3372-webroot/2-Exercises/ES14/ES15WorkFlowNotes.pdf\"> <img src=\"http://54.243.252.9/ce-3372-webroot/2-Exercises/ES14/easy-button.png\" alt=\"EZ Button Link to ES-5 sample solution\" style=\"width:42px;height:42px;\"> </a>  </p>"
   ]
  },
  {
   "cell_type": "code",
   "execution_count": null,
   "metadata": {},
   "outputs": [],
   "source": []
  },
  {
   "cell_type": "code",
   "execution_count": null,
   "metadata": {},
   "outputs": [],
   "source": []
  }
 ],
 "metadata": {
  "kernelspec": {
   "display_name": "Python 3",
   "language": "python",
   "name": "python3"
  },
  "language_info": {
   "codemirror_mode": {
    "name": "ipython",
    "version": 3
   },
   "file_extension": ".py",
   "mimetype": "text/x-python",
   "name": "python",
   "nbconvert_exporter": "python",
   "pygments_lexer": "ipython3",
   "version": "3.8.10"
  }
 },
 "nbformat": 4,
 "nbformat_minor": 4
}
