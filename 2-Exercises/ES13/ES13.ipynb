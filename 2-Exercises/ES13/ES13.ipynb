{
 "cells": [
  {
   "cell_type": "markdown",
   "metadata": {},
   "source": [
    "**Download** this file as a Jupyter Notebook@ [http://54.243.252.9/ce-3372-webroot/2-Exercises/ES14/ES14.ipynb](http://54.243.252.9/ce-3372-webroot/2-Exercises/ES13/ES13.ipynb)\n",
    "\n",
    "\n",
    "\n",
    "---\n",
    "# ES-13\n",
    "\n",
    "Copyright © 2021 Theodore G. Cleveland \n",
    "\n",
    "---\n",
    "\n",
    "## Purpose:\n",
    "Demonstrate application of SWMM for analysis of a detention pond as a stormwater control strategy.\n",
    "\n",
    "---\n",
    "\n",
    "## Objectives:\n",
    "\n",
    "- Compute depth and discharge in a detention pond using SWMM\n",
    "- Introduction to use of professional software (SWMM)\n",
    "- Develop expertise in interpreting output to answer specific hydraulic questions"
   ]
  },
  {
   "cell_type": "markdown",
   "metadata": {},
   "source": [
    "---\n",
    "\n",
    "## Problem Statement\n",
    "\n",
    "Figure 1 is an older (circa 1993) aerial image of a portion of Houston, Texas. The red polygon is the drainage boundary for a storm sewer system that drains North from the part of the area near Westheimer Road to a tributary of Buffalo Bayou and East from the area. The\n",
    "drainage ditch is shown as the “blue” fuzzy line on the figure. Drainage in the ditch is from\n",
    "West to East. The two main streets in the study area are highlighted in magenta.  \n",
    "\n",
    "<figure>\n",
    "    <img src=\"http://54.243.252.9/ce-3372-webroot/2-Exercises/ES13/image118.png\" alt=\"Trulli\" style=\"width:70%\">\n",
    "    <figcaption align = \"center\">\n",
    "         <b><br>Tanglewilde Drive Study Area</b>\n",
    "    </figcaption>\n",
    "</figure>\n",
    "\n",
    "\n",
    "\n",
    "The bottom of the pond is at elevation 139 feet. \n",
    "Several rectangular contour lines are shown.\n",
    "\n",
    "If the pond has one foot of water in storage, the blue line represents the pool elevation, and the volume would be the product of the area enclosed by the blue contour and the depth (1 foot).\n",
    "At depths greater than one foot, the pond sides are sloped and not vertical.\n",
    "\n",
    "The inlet is a 1-foot diameter culvert that drains a 9-acre light-industrial complex.\n",
    "The invert elevation of this culvert at the pond is 139 feet.\n",
    "The outlet works is a riser pipe which activates when the stage in the pond is 141 feet.\n",
    "The diameter of the outlet pipe is 8-inches.\n",
    "A secondary outlet pipe, also 8-inches activates at elevation 145 feet.\n",
    "A small 4-inch drain pipe is at the pond bottom so that the pond drains completely after a storm.\n",
    "If the pond stage exceeds 146 feet, the emergency overflow is a rectangular swale 25 feet wide and 2 feet deep which drains directly into a nearby bayou.\n"
   ]
  },
  {
   "cell_type": "markdown",
   "metadata": {},
   "source": [
    "\n",
    "<figure>\n",
    "    <img src=\"http://54.243.252.9/ce-3372-webroot/2-Exercises/ES13/Image119B.png\" alt=\"Trulli\" style=\"width:70%\">\n",
    "    <figcaption align = \"center\">\n",
    "         <b>Figure 2. Tanglewilde Drive Storm Drain Inlet and Pipe Alignments.</b>\n",
    "    </figcaption>\n",
    "</figure>\n"
   ]
  },
  {
   "cell_type": "markdown",
   "metadata": {},
   "source": [
    "Figure 2 is a map showing storm drainage alignments and inlets location.\n",
    "\n",
    "The figure shows land surface elevations in feet at the indicated locations. A linear scale is shown in the legend. Use the map(s) and:\n",
    "\n",
    "1. Construct a land surface elevation contour map using the provided elevation and locations. Get the file from [Here](http:/54.243.252.9/ce-3372-webroot/2-Exercises/ES13/TanglewildeElevations.txt)\n",
    "2. Using your contour map determine the drainage areas to each inlet node. Indicate which nodes you do not assign drainage (junction nodes for connecting pipes).\n",
    "3. Use the rational design method to size the conduits for a 5-year storm, for Harris County, Texas.\n",
    "4. Specify the invert (flow line) elevations of the nodes (inlets and junction boxes).\n",
    "5. Specify the soffit (crown) elevations for the pipes at each node. Submit a memorandum with screen captures of the relevant components above. "
   ]
  },
  {
   "cell_type": "markdown",
   "metadata": {},
   "source": [
    "---\n",
    "\n",
    "## Deliverables\n",
    "\n",
    "A brief report with your solution, showing the requested simulations, tables discharge and depth calculations.  "
   ]
  },
  {
   "cell_type": "markdown",
   "metadata": {},
   "source": [
    "---\n",
    "\n",
    "## References\n",
    "\n",
    "1. Rossman, L. (2009). Storm Water Management Model user’s manual version 5.0. Technical Report<br> EPA/600/R-05/040, U.S. Environmental Protection Agency, National Risk Management Research Laboratory Cincinnati, OH 45268\n",
    "\n",
    "2. Plan View Image (larger format) [http://54.243.252.9/ce-3372-webroot/2-Exercises/ES14/ES15-ImageAnalysisBase.pdf](http://54.243.252.9/ce-3372-webroot/2-Exercises/ES14/ES15-ImageAnalysisBase.pdf)\n",
    "\n",
    "---"
   ]
  },
  {
   "cell_type": "markdown",
   "metadata": {},
   "source": [
    "<p> <a href=\"http://54.243.252.9/ce-3372-webroot/2-Exercises/ES13/ES15-TechnicalDocuments-NoMEMO.pdf\"> <img src=\"http://54.243.252.9/ce-3372-webroot/2-Exercises/ES13/easy-button.png\" alt=\"EZ Button Link to ES-5 sample solution\" style=\"width:42px;height:42px;\"> </a>  </p>"
   ]
  }
 ],
 "metadata": {
  "kernelspec": {
   "display_name": "Python 3",
   "language": "python",
   "name": "python3"
  },
  "language_info": {
   "codemirror_mode": {
    "name": "ipython",
    "version": 3
   },
   "file_extension": ".py",
   "mimetype": "text/x-python",
   "name": "python",
   "nbconvert_exporter": "python",
   "pygments_lexer": "ipython3",
   "version": "3.8.10"
  }
 },
 "nbformat": 4,
 "nbformat_minor": 4
}
