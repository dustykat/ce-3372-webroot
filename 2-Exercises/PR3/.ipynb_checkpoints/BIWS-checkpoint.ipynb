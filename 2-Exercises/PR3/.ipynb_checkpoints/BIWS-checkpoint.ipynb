{
 "cells": [
  {
   "cell_type": "markdown",
   "metadata": {},
   "source": [
    "Download this file as a Jupyter Notebook@ http://54.243.252.9/ce-3372-webroot/2-Exercises/PR3/BWIS.ipynb\n",
    "\n",
    "---\n",
    "\n",
    "# PR-3\n",
    "\n",
    "---\n",
    "\n",
    "## Purpose:\n",
    "\n",
    "Retrofit a distribution network operations strategy and design; suggest modifications to the design to satisfy statuatory requirements;  estimate costs to retrofit network. Report results in an engineering design report, with references, exhibits, and recomendations.\n",
    "\n",
    "---"
   ]
  },
  {
   "cell_type": "markdown",
   "metadata": {},
   "source": [
    "\n",
    "\n",
    "## Background\n",
    "\n",
    "The Water Distribution Systems Aanalysis (WDSA) conference focuses on the latest challenges, innovations, and methodologies regarding water distribution systems. It was first organized as a conference track at the Annual Conference of the Water Resources Planning and Management Division of ASCE. Since 2006, it has been held every year as part of the EWRI World Water Congress or a stand-alone conference.\n",
    "\n",
    "One component of WDSA conferences is a contest called the *Battle of Water Networks*; where competitors employ modeling to solve a challenge problem. Usually the computation engine is an unaltered EPANET model. For 2022 the challenge is described at [https://wdsa-ccwi2022.upv.es/battle-of-water-networks/](https://wdsa-ccwi2022.upv.es/battle-of-water-networks/).\n",
    "\n",
    "### Special Note\n",
    "The WDSA website is mirrored at [http://54.243.252.9/ce-3372-webroot/2-Exercises/PR3/url](http://54.243.252.9/ce-3372-webroot/2-Exercises/PR3/url).  The mirror is a copy of the original website so that content is available after the original server is deprecated.  \n",
    "\n",
    "## Data Available \n",
    "The downloads section is copied below (so the files can be used after the competition is over), the files are explicitly referenced in the Instructions\n",
    "\n",
    "- **Instructions** [http://54.243.252.9/ce-3372-webroot/2-Exercises/PR3/BIWS_Instructions.pdf](http://54.243.252.9/ce-3372-webroot/2-Exercises/PR3/BIWS_Instructions.pdf)\n",
    "- **EPANET Input File** [http://54.243.252.9/ce-3372-webroot/2-Exercises/PR3/BIWS.inp](http://54.243.252.9/ce-3372-webroot/2-Exercises/PR3/BIWS.inp)\n",
    "- **Leakages File** [http://54.243.252.9/ce-3372-webroot/2-Exercises/PR3/Leakages.xlsx](http://54.243.252.9/ce-3372-webroot/2-Exercises/PR3/Leakages.xlsx)\n",
    "- **Template File** [http://54.243.252.9/ce-3372-webroot/2-Exercises/PR3/Template.xlsx](http://54.243.252.9/ce-3372-webroot/2-Exercises/PR3/Template.xlsx)"
   ]
  },
  {
   "cell_type": "markdown",
   "metadata": {},
   "source": [
    "---\n",
    "\n",
    "## Problem Statement (CE 3372)\n",
    "Assemble into teams of 5 people.  Using the Instructions above attempt to design a retrofit program to satisfy the challenge.  Use current exchange rate to convert the budget in Euros into US Dollars, and use current vendor information to price your solutions.  Prepare a report and presentation of your t"
   ]
  },
  {
   "cell_type": "code",
   "execution_count": null,
   "metadata": {},
   "outputs": [],
   "source": []
  }
 ],
 "metadata": {
  "kernelspec": {
   "display_name": "Python 3",
   "language": "python",
   "name": "python3"
  },
  "language_info": {
   "codemirror_mode": {
    "name": "ipython",
    "version": 3
   },
   "file_extension": ".py",
   "mimetype": "text/x-python",
   "name": "python",
   "nbconvert_exporter": "python",
   "pygments_lexer": "ipython3",
   "version": "3.8.10"
  }
 },
 "nbformat": 4,
 "nbformat_minor": 4
}
