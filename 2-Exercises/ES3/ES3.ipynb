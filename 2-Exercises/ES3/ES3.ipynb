{
 "cells": [
  {
   "cell_type": "markdown",
   "metadata": {},
   "source": [
    "**Download** this file as a Jupyter Notebook@ [http://54.243.252.9/ce-3372-webroot/2-Exercises/ES3/ES3.ipynb](http://54.243.252.9/ce-3372-webroot/2-Exercises/ES3/ES3.ipynb)\n",
    "\n",
    "---\n",
    "\n",
    "# ES-3\n",
    "\n",
    "Copyright © 2021 Theodore G. Cleveland \n",
    "\n",
    "___\n",
    "\n",
    "## Purpose:\n",
    "Demonstrate ability to estimate demand for a subdivision-scale water distribution skeleton model.\n",
    "\n",
    "---\n",
    "## Background\n",
    "Figure 1 is a layout of a hydraulic network model for the Somewhere USA subdivision. The blue line segments are pipes and are labeled (P1, P2,...).  The blue circles are nodes and are labeled (N1, N2,...).  The yellow polygons represent the lots assigned to each node; for example, node N2 supplies the six (6) lots located near the node.\n",
    "\n",
    "![](http://54.243.252.9/ce-3372-webroot/2-Exercises/ES3/SomewhereUSANetworkMap.png)\n",
    "\n",
    "|Figure 1.  Water Distribution System Hydraulic Model for Somewhere USA|\n",
    "|---|\n",
    "\n",
    "The semester design project is the conceptual design and analysis of a water distribution, stormwater collection, and wastewater collection system for this subdivision. The water distribution system uses the skeleton layout above. The .png file is [http://54.243.252.9/ce-3372-webroot/2-Exercises/ES3/SomewhereUSANetworkMap.png](http://54.243.252.9/ce-3372-webroot/2-Exercises/ES3/SomewhereUSANetworkMap.png) so you can render a larger graphic if needed."
   ]
  },
  {
   "cell_type": "markdown",
   "metadata": {},
   "source": [
    "---\n",
    "\n",
    "## Exercise\n",
    "Estimate demand at nodes for the skeleton model by:\n",
    "\n",
    "1. Determine the number of lots to be served by each node, these will constitute the by-node service unit equivalent (SUE).\n",
    "2. Estimate the average daily demand (ADD), by-node, for distribution system using San Marcos, Texas water system design guidelines.\n",
    "3. Estimate the maximum daily demand (MDD), by-node, for the distribution system using San Marcos, Texas water system design guidelines.\n",
    "4. Estimate the maximum daily demand (MDD) + fire flow, by-node for the distribution system using San Marcos, Texas water system design guidelines.\n",
    "5. Estimate  the  peak  hourly  demand  (PHD),  by-node,  for  the  distribution  system using San Marcos, Texas water system design guidelines.\n",
    "\n",
    "---\n",
    "\n",
    "## Deliverables:\n",
    "\n",
    "Use your estimates to produce a 1-page report on the arithmetic employed to estimate demand, and a complete version of Table 1 below.  Save the table (in a file) – you will need it later in the design project RP-1, and include the table in your report. An example table (possibly with wrong values) is displayed with the EZ-Button at end of this document.\n",
    "\n",
    "||Table 1:  Node Demands for Somewhere USA Distribution System||\n",
    "|:---|---|---:|\n",
    "\n",
    "|Node ID|SUE    |ADD     |MDD     |MDD+Fire |PHD    |\n",
    "|:------|------:|------:|------:|------:|------:|\n",
    "|N1  |   0|   0|   0|   0|   0|\n",
    "|N2  |   6|$\\dots$|$\\dots$|$\\dots$|$\\dots$|\n",
    "|N3  |  12|$\\dots$|$\\dots$|$\\dots$|$\\dots$|\n",
    "|$\\dots$|$\\dots$|$\\dots$|$\\dots$|$\\dots$|$\\dots$|\n",
    "|N54 |$\\dots$|$\\dots$|$\\dots$|$\\dots$|$\\dots$|\n",
    "|N55 |$\\dots$|$\\dots$|$\\dots$|$\\dots$|$\\dots$|\n",
    "|N56 |$\\dots$|$\\dots$|$\\dots$|$\\dots$|$\\dots$|"
   ]
  },
  {
   "cell_type": "markdown",
   "metadata": {},
   "source": [
    "---\n",
    "\n",
    "## References\n",
    "\n",
    "1. CITY OF SAN MARCOS, TEXAS (2019). *WATER DISTRIBUTIONSYSTEM DESIGN CRITERIA TECHNICAL MANUAL* [http://54.243.252.9/ce-3372-webroot/3-Readings/SanMarcosTexasDesignManual/SanMarcosTexasDesignManual.pdf](http://54.243.252.9/ce-3372-webroot/3-Readings/SanMarcosTexasDesignManual/SanMarcosTexasDesignManual.pdf)\n",
    "\n",
    "<p> <a href=\"http://54.243.252.9/ce-3372-webroot/2-Exercises/ES3/ES-3-demand.xlsx.pdf\"> <img src=\"http://54.243.252.9/ce-3372-webroot/2-Exercises/ES3/easy-button.png\" alt=\"EZ Button Link to ES-2 sample demand table\" style=\"width:42px;height:42px;\" > </a>  </p>"
   ]
  },
  {
   "cell_type": "code",
   "execution_count": null,
   "metadata": {},
   "outputs": [],
   "source": []
  }
 ],
 "metadata": {
  "kernelspec": {
   "display_name": "Python 3 (ipykernel)",
   "language": "python",
   "name": "python3"
  },
  "language_info": {
   "codemirror_mode": {
    "name": "ipython",
    "version": 3
   },
   "file_extension": ".py",
   "mimetype": "text/x-python",
   "name": "python",
   "nbconvert_exporter": "python",
   "pygments_lexer": "ipython3",
   "version": "3.10.12"
  }
 },
 "nbformat": 4,
 "nbformat_minor": 4
}
