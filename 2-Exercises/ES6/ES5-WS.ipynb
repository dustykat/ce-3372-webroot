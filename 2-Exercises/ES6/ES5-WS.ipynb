{
 "cells": [
  {
   "cell_type": "markdown",
   "metadata": {},
   "source": [
    "# ES-5 EZ Button Solution Sketch\n",
    "\n",
    "You still need to write the report!"
   ]
  },
  {
   "cell_type": "markdown",
   "metadata": {},
   "source": [
    "## Background\n",
    "\n",
    "Figure  1  is  a  five-pipe  network  with  a  water  supply  source  (a  reservoir,  not  shown) connected at Node 1, and demands at Nodes 1-5.  \n",
    "Table 1 is a list of the relevant pipe and node data.\n",
    "\n",
    "![](SimpleNetwork.png)\n"
   ]
  },
  {
   "cell_type": "markdown",
   "metadata": {},
   "source": []
  },
  {
   "cell_type": "markdown",
   "metadata": {},
   "source": [
    "---\n",
    "## Exercise 1\n",
    "\n",
    "Build an EPANET model, using the Hazen-Williams head loss model of the network. From your preparation, or the completed model:\n",
    "\n",
    "a)  Write the node equations of continuity for Nodes 1-4.\n",
    "\n",
    "$[N1]~~Q_0 - Q_1 - Q_2  =  2$  The value of $Q_0$ is known at 10 cfs.\n",
    "\n",
    "$[N2]~~Q_1 - Q_3 - Q_5  =  4$\n",
    "\n",
    "$[N3]~~Q_2 - Q_4 - Q_5  =  3$\n",
    "\n",
    "$[N4]~~Q_3 + Q_4        =  1$\n",
    "\n",
    "b)  Write the head loss equations for each of the pipes in the system.\n",
    "\n",
    "$[P0]~~H_0 - H_1 = 0 $  This is the reservoir in the system, called a fixed grade node.  we know value of $H_0$\n",
    "\n",
    "$[P1]~~H_1 - 3.02*L_1*D^{-1.667}_1*\\frac{4*Q_1}({\\pi*D^2_1*C_{h-1}})^{1.85} - H_2  = 0 $\n",
    "\n",
    "$[P2]~~H_1 - 3.02*L_2*D^{-1.667}_2*\\frac{4*Q_2}({\\pi*D^2_2*C_{h-2}})^{1.85} - H_3  = 0 $\n",
    "\n",
    "$[P3]~~H_2 - 3.02*L_3*D^{-1.667}_3*\\frac{4*Q_3}({\\pi*D^2_3*C_{h-3}})^{1.85} - H_4  = 0 $\n",
    "\n",
    "$[P4]~~H_3 - 3.02*L_4*D^{-1.667}_4*\\frac{4*Q_4}({\\pi*D^2_4*C_{h-4}})^{1.85} - H_4  = 0 $\n",
    "\n",
    "$[P4]~~H_3 - 3.02*L_5*D^{-1.667}_5*\\frac{4*Q_5}({\\pi*D^2_5*C_{h-5}})^{1.85} - H_2  = 0 $\n",
    "\n",
    "\n",
    "c)  Make a screen capture of the EPANET program showing your network map, with the Node ID and Node Pressures displayed on the map, and with the Pipe ID and Pipe Flow Rates on the map.\n",
    "\n",
    "![](epanet-screen-shot.png)"
   ]
  },
  {
   "cell_type": "markdown",
   "metadata": {},
   "source": [
    "Link to .inp file used in above figure. 1. <a href=\"http://54.243.252.9/ce-3372-webroot/2-Exercises/ES5/ES5.net\"> <img src=\"http://54.243.252.9/ce-3372-webroot/2-Exercises/ES5/easy-button.png\" alt=\"EZ Button Link to ES-1 sample solution\" style=\"width:42px;height:42px;\"> </a> "
   ]
  },
  {
   "cell_type": "markdown",
   "metadata": {},
   "source": [
    "---\n",
    "## Exercise 2\n",
    "\n",
    "a)  Make a table that lists each node name, node elevation, and the resultant pressurein U.S. Customary units.\n",
    "\n",
    "b)  Make a table that lists each pipe name,  length,  diameter,  Hazen-Williams coefficient, and the resultant flow rate in U.S. Customary units.\n",
    "\n",
    "c)  Determine the flow rate in each pipe of the network, for the case where the total head at Node 1 is 100 feet.\n",
    "\n",
    "d)  Determine the Darcy-Weisbach friction factor in each pipe of the network.\n",
    "\n",
    "Above all appear in the above screen capture.  Now from the EPANET report:\n",
    "\n",
    "![](epanet-report.png)\n",
    "\n",
    "e)  Using the results of your flow distribution, determine the head loss from Node 1 to Node 4.\n",
    "\n",
    "$ H_1 = 50, H_4 = 20.93, Loss =29.07$. Loss won't change if $H_1$ increased to 100 ft.\n",
    "\n",
    "f)  Determine the head at Node 4\n",
    "\n",
    "$ H_4 = 70.93 $\n",
    "\n",
    "g)  Identify the node with the lowest **pressure** in your solution.\n",
    "\n",
    "$N_4$ has lowest pressure @ 30.73 when run with correct head at node 1."
   ]
  },
  {
   "cell_type": "code",
   "execution_count": null,
   "metadata": {},
   "outputs": [],
   "source": []
  }
 ],
 "metadata": {
  "kernelspec": {
   "display_name": "Python 3",
   "language": "python",
   "name": "python3"
  },
  "language_info": {
   "codemirror_mode": {
    "name": "ipython",
    "version": 3
   },
   "file_extension": ".py",
   "mimetype": "text/x-python",
   "name": "python",
   "nbconvert_exporter": "python",
   "pygments_lexer": "ipython3",
   "version": "3.8.10"
  }
 },
 "nbformat": 4,
 "nbformat_minor": 4
}
