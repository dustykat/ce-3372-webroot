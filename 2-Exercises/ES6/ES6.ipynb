{
 "cells": [
  {
   "cell_type": "code",
   "execution_count": null,
   "metadata": {},
   "outputs": [],
   "source": []
  },
  {
   "cell_type": "markdown",
   "metadata": {},
   "source": [
    "**Download** this file as a Jupyter Notebook@ [http://54.243.252.9/ce-3372-webroot/2-Exercises/ES6/ES6.ipynb](http://54.243.252.9/ce-3372-webroot/2-Exercises/ES6/ES6.ipynb)\n",
    "\n",
    "\n",
    "\n",
    "---\n",
    "# ES-6\n",
    "\n",
    "Copyright © 2021 Theodore G. Cleveland \n",
    "\n",
    "---\n",
    "\n",
    "## Purpose:\n",
    "\n",
    "Demonstrate flow-equalization volume required for a storage tank to leverage some constant flow rate.\n",
    "\n",
    "- Analyze daily water cumulative demand (from time varying outflows)\n",
    "- Find equivalent constant draw rate\n",
    "- Use double mass curve concept to find maximum deviations to size an equalization tank."
   ]
  },
  {
   "cell_type": "markdown",
   "metadata": {},
   "source": [
    "## Problem Data\n",
    "\n",
    "Figure 1 is a plot of variable cumulative inflow volume versus time for a proposed flow-equalization tank location and the equivalent constant rate inflow for the same location. \n",
    "\n",
    "![](http://54.243.252.9/ce-3372-webroot/2-Exercises/ES6/DraftCurve.png) \n",
    "<figure>\n",
    "<figcaption >Figure 1. Time-varying water demand (cumulative) and constant-rate equivalent demand </figcaption>\n",
    "</figure>\n",
    "\n",
    "Table 1 is a list of time and cumulative volume inflow (same as the graph). A flow-equalization storage tank volume is to be determined.\n",
    "\n",
    "<br><br>\n",
    "\n",
    "<figure>\n",
    "<figcaption >Table 1. Variable Draft Table for Flow Equalization  </figcaption>\n",
    "</figure>\n",
    "\n",
    "![](http://54.243.252.9/ce-3372-webroot/2-Exercises/ES6/DraftTable.png) \n"
   ]
  },
  {
   "cell_type": "markdown",
   "metadata": {},
   "source": [
    "---\n",
    "Using the supplied problem data (either graph or table or both):\n",
    "\n",
    "1. Determine the cumulative volume of inflow (or draft) every 24 hours plotted on Figure 1 and tabulated in Table 1.\n",
    "2. Determine the constant flow rate (cubic feet per hour) from the constant drawdown curve plotted on Figure 1 and tabulated in Table 1.\n",
    "3. Determine the largest maximum absolute deviation between the constant drawdown line and the variable inflow curve indicated by Figure 1 and/or Table 1\n",
    "4. Determine the second largest maximum absolute deviation between the constant drawdown line and the variable inflow curve indicated by Figure 4 and/or Table 1 \n",
    "5. Determine a recommended flow equalization storage volume indicated by Figure 4 and/or Table 1 \n",
    "\n",
    "---\n",
    "## Deliverables:\n",
    "A brief report with your solution, showing the requested values, intermediate calculations, and the recomended equalization storage requirement.\n",
    "\n",
    "---\n",
    "\n",
    "## References\n",
    "\n",
    "1. Gupta, R. S. 2017. Hydrology and Hydraulic Systems. Waveland Press, Inc. pp. 548-552\n",
    "---\n",
    "\n",
    "## Hints\n",
    "\n"
   ]
  },
  {
   "cell_type": "code",
   "execution_count": null,
   "metadata": {},
   "outputs": [],
   "source": []
  }
 ],
 "metadata": {
  "kernelspec": {
   "display_name": "Python 3",
   "language": "python",
   "name": "python3"
  },
  "language_info": {
   "codemirror_mode": {
    "name": "ipython",
    "version": 3
   },
   "file_extension": ".py",
   "mimetype": "text/x-python",
   "name": "python",
   "nbconvert_exporter": "python",
   "pygments_lexer": "ipython3",
   "version": "3.8.10"
  }
 },
 "nbformat": 4,
 "nbformat_minor": 4
}
