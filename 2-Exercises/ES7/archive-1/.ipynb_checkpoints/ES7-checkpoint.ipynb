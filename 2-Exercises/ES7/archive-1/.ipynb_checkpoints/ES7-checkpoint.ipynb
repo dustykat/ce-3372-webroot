{
 "cells": [
  {
   "cell_type": "markdown",
   "metadata": {},
   "source": [
    "# ES-7\n",
    "\n",
    "## Purpose:\n",
    "\n",
    "- Compute flow distribution in pipeline networks. \n",
    "- Introduction to use of professional software (EPANET)\n",
    "- Develop expertise in interpreting output to answer specific hydraulic questions"
   ]
  },
  {
   "cell_type": "markdown",
   "metadata": {},
   "source": [
    "## Background\n",
    "\n",
    "Figure  1  is  a  five-pipe  network  with  a  water  supply  source  (a  reservoir,  not  shown) connected at Node 1, and demands at Nodes 1-5.  \n",
    "Table 1 is a list of the relevant pipe and node data.\n",
    "\n",
    "![](SimpleNetwork.png)\n",
    "\n"
   ]
  },
  {
   "cell_type": "markdown",
   "metadata": {},
   "source": [
    "---\n",
    "## Exercise 1\n",
    "\n",
    "Build an EPANET model, using the Hazen-Williams head loss model of the network. From your preparation, or the completed model:\n",
    "\n",
    "a)  Write the node equations of continuity for Nodes 1-4.\n",
    "\n",
    "b)  Write the head loss equations for each of the pipes in the system.\n",
    "\n",
    "c)  Make a screen capture of the EPANET program showing your network map, with the Node ID and Node Pressures displayed on the map, and with the Pipe ID and Pipe Flow Rates on the map.\n",
    "\n",
    "---\n",
    "## Exercise 2\n",
    "\n",
    "a)  Make a table that lists each node name, node elevation, and the resultant pressurein U.S. Customary units.\n",
    "\n",
    "b)  Make a table that lists each pipe name,  length,  diameter,  Hazen-Williams coefficient, and the resultant flow rate in U.S. Customary units.\n",
    "\n",
    "c)  Determine the flow rate in each pipe of the network, for the case where the total head at Node 1 is 100 feet.\n",
    "\n",
    "d)  Determine the Darcy-Weisbach friction factor in each pipe of the network.\n",
    "\n",
    "e)  Using the results of your flow distribution, determine the head loss from Node 1 to Node 4.\n",
    "\n",
    "f)  Determine the head at Node 4\n",
    "\n",
    "g)  Identify the node with the lowest **pressure** in your solution.\n",
    "\n",
    "\n",
    "## Deliverables:\n",
    "A memorandum-type report with your solution, showing the requested equations, screen captures, tables and head loss calculations.\n",
    "\n",
    "## References\n",
    "1. Rossman,  L.  (2000).   EPANET  2  users  manual.   Technical  Report  EPA/600/R-00/057,U.S. Environmental Protection Agency, National Risk Management Research LaboratoryCincinnati, OH 45268.\n",
    "\n",
    "2. <p> <a href=\"https://3.137.111.182/ce-3372-webbook/exercise7/ES7.net\"> <img src=\"https://3.137.111.182/ce-3372-webbook/exercise7/easy-button.png\" alt=\"EZ Button Link to ES-7 sample .net input file\" style=\"width:42px;height:42px;\"> </a> EZ Button Sample .net file </p>\n",
    "\n",
    "3. <p> <a href=\"https://3.137.111.182/ce-3372-webbook/exercise7/ES7-WS/\"> <img src=\"https://3.137.111.182/ce-3372-webbook/exercise7/easy-button.png\" alt=\"EZ Button Link to ES-7 sample solution\" style=\"width:42px;height:42px;\"> </a> EZ Button Solution Sketch </p>"
   ]
  }
 ],
 "metadata": {
  "kernelspec": {
   "display_name": "Python 3",
   "language": "python",
   "name": "python3"
  },
  "language_info": {
   "codemirror_mode": {
    "name": "ipython",
    "version": 3
   },
   "file_extension": ".py",
   "mimetype": "text/x-python",
   "name": "python",
   "nbconvert_exporter": "python",
   "pygments_lexer": "ipython3",
   "version": "3.8.5"
  }
 },
 "nbformat": 4,
 "nbformat_minor": 4
}
