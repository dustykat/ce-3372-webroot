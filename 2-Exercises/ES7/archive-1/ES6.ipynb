{
 "cells": [
  {
   "cell_type": "markdown",
   "metadata": {},
   "source": [
    "**Download** this file as a Jupyter Notebook@ [http://54.243.252.9/ce-3372-webroot/2-Exercises/ES6/ES6.ipynb](http://54.243.252.9/ce-3372-webroot/2-Exercises/ES6/ES6.ipynb)\n",
    "\n",
    "\n",
    "\n",
    "---\n",
    "# ES-6\n",
    "\n",
    "Copyright © 2021 Theodore G. Cleveland \n",
    "\n",
    "---\n",
    "\n",
    "## Purpose:\n",
    "Application of EPANET for analysis of pressure and flow in the SomewhereUSA water distribution systems.\n",
    "\n",
    "\n",
    "## Purpose:\n",
    "\n",
    "- Compute flow distribution in pipeline networks. \n",
    "- Use professional software (EPANET)\n",
    "- Develop expertise in interpreting output to answer specific hydraulic questions"
   ]
  },
  {
   "cell_type": "markdown",
   "metadata": {},
   "source": [
    "## Background\n",
    "\n",
    "The figure is a layout of a water distribution system for the SomewhereUSA subdivision.\n",
    "The blue line segments are pipes (ductile iron) and are labeled (P1, P2, . . . ). The\n",
    "blue circles are nodes and are labeled (N1, N2, . . . ). The yellow polygons represent\n",
    "the demand lots assigned to each node. For example, node N2 supplies the six (6)\n",
    "individual lots located near the node.\n",
    "\n",
    "![](http://54.243.252.9/ce-3372-webroot/2-Exercises/ES6/SomewhereClipNodes.png)\n",
    "\n",
    "The distribution system is connected to the supply main at node N1. This large water\n",
    "main supplies water at 135 psi. pressure. The pipe connecting node N1 to N2 is an\n",
    "8-inch diameter, ductile iron pipe. The remaining pipes are 2-inch diameter, ductile\n",
    "iron pipe.\n",
    "\n",
    "The system is to be modeled using the United States Environmental Protection Agency,\n",
    "EPANET hydraulic and water quality simulator. Use RG-195 and the San Marcos\n",
    "Texas manual for statutory requirements as necessary:\n"
   ]
  },
  {
   "cell_type": "markdown",
   "metadata": {},
   "source": [
    "---\n",
    "## Exercise Part 1\n",
    "\n",
    "1. Using the naming convention in the drawings, determine the individual pipe lengths and produce a table of pipe length, and diameter by pipe ID. Include this table in your solution report;\n",
    "2. Produce a land surface elevation map; include the map in your solution report (you did this in an earlier exercise, you can reuse your map and need not create a new one;\n",
    "3. Using the naming convention in the drawings, determine the individual node elevations (offset as necessary to ensure the pipe network is buried a sufficient depth throughout the subdivision) and produce a table of node elevation by node ID;\n",
    "\n",
    "---\n",
    "## Exercise Part 2\n",
    "\n",
    "Build an EPANET model, using the Hazen-Williams head loss model of the network. Using the model:\n",
    "\n",
    "4. Make a screen capture of the EPANET program showing your network map, with the Node ID and Node Pressures displayed on the map, and with the Pipe ID and Pipe Flow Rates on the map.\n",
    "4. Determine magnitude and location of minimum pressure in the system at average demand (reuse your earlier exercise solutions);\n",
    "5. Determine magnitude and location of minimum pressure in the system at peak demand;\n",
    "6. Determine magnitude and location of maximum pressure in the system at average demand;\n",
    "7. Determine magnitude and location of maximum pressure in the system at peak demand;\n",
    "8. Determine if there are low-pressure portions of the system that need to be mitigated by changing pipe diameters, if so, adjust the diameters and present the adjusted design as a second, independent simulation;\n",
    "9. Apply a demand pattern multiplier and simulate time-varying behavior in the distribution system;\n",
    "\n",
    "\n",
    "\n",
    "---\n",
    "## Deliverables:\n",
    "A breif report with your solution, showing the requested screen captures, tables and head loss calculations.  The report should contain complete citations to external sources used to for statuatory requirements, loss coefficients, hydrant locations, etc. \n",
    "\n",
    "---\n",
    "\n",
    "## References\n",
    "1. Rossman,  L.  (2000).   EPANET  2  users  manual.   Technical  Report  EPA/600/R-00/057,U.S. Environmental Protection Agency, National Risk Management Research LaboratoryCincinnati, OH 45268.\n",
    "\n",
    "---"
   ]
  },
  {
   "cell_type": "markdown",
   "metadata": {},
   "source": [
    "<p> <a href=\"http://54.243.252.9/ce-3372-webroot/2-Exercises/Project/Project1_GoBy1.pdf\"> <img src=\"http://54.243.252.9/ce-3372-webroot/2-Exercises/ES6/easy-button.png\" alt=\"EZ Button Link to ES-5 sample solution\" style=\"width:42px;height:42px;\"> </a>  </p>"
   ]
  },
  {
   "cell_type": "code",
   "execution_count": null,
   "metadata": {},
   "outputs": [],
   "source": []
  }
 ],
 "metadata": {
  "kernelspec": {
   "display_name": "Python 3",
   "language": "python",
   "name": "python3"
  },
  "language_info": {
   "codemirror_mode": {
    "name": "ipython",
    "version": 3
   },
   "file_extension": ".py",
   "mimetype": "text/x-python",
   "name": "python",
   "nbconvert_exporter": "python",
   "pygments_lexer": "ipython3",
   "version": "3.8.10"
  }
 },
 "nbformat": 4,
 "nbformat_minor": 4
}
