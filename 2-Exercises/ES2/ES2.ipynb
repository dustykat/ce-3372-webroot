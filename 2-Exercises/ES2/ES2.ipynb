{
 "cells": [
  {
   "cell_type": "markdown",
   "metadata": {},
   "source": [
    "**Download** this file as a Jupyter Notebook@ [http://54.243.252.9/ce-3372-webroot/2-Exercises/ES2/ES2.ipynb](http://54.243.252.9/ce-3372-webroot/2-Exercises/ES2/ES2.ipynb)"
   ]
  },
  {
   "cell_type": "markdown",
   "metadata": {},
   "source": [
    "# ES-7\n",
    "\n",
    "## Purpose:\n",
    "Demonstrate ability to interpret and render from an image a topographic map, and overlay the topographic map onto the basemap.\n",
    "\n",
    "## Background\n",
    "Figure 1 is a subdivision conceptual map for Somewhere, USA. The numbers on the map are land surface elevations located at the decimal points in the drawing. Along the bottom edge of the map is a black line segment (with arrowheads at each end) that indicates a distance of 1,100 feet on the map. The black circle in the lower left hand corner is to be used as an origin for X-Y measurements for making XYZ data files.\n",
    "\n",
    "![](SomewhereUSABaseMap.png)\n",
    "\n",
    "|Figure 1.  Somewhere USA Study Area|\n",
    "|---|\n",
    "\n",
    "The semester design project is the conceptual design and analysis of a water distribution, stormwater collection, and wastewater collection system for this subdivision. All such systems will be influenced by the local topography, so a first step is to build a topographic map to guide design decisions, especially for the stormwater part of the design. The .png file is [located here](https://3.137.111.182/ce-3372-webbook/exercise2/SomewhereUSABaseMap.png) so you can render a larger graphic if needed."
   ]
  },
  {
   "cell_type": "markdown",
   "metadata": {},
   "source": [
    "## Exercise\n",
    "Construct a topographic contour map of the area.\n",
    "\n",
    "1. Use the indicated origin and find X,Y, and Z coordinates for each displayed elevation. Include example measurements for one or two points (as if someone else would have to check your work)\n",
    "2. Arrange those coordinates into an ASCII (text) file where each row of the file is a coordinate triple. \n",
    "3. Use the ASCII file to make a topographic map (software choice is yours; you can use [https://atomickitty.ddns.net/documents/toolbox/ordinarytools/SimpleContourMap/](https://atomickitty.ddns.net/documents/toolbox/ordinarytools/SimpleContourMap/) if you wish.  The credentials are username==`TTUStudent` password==`id10t` ) \n",
    "4. Use graphics tools to overlay the topographic map onto the base map (this step is tricky, you will have to read how to make a layer have transparent portions to do the overlay, scaling and alignment take some effort) \n",
    "\n",
    "## Deliverables:\n",
    "\n",
    "A short report (1 page) where you describe your map making activity, including how you built the ASCII input file, and your rendered topographic map.  Put both of these into a single PDF file to upload to the Blackboard Server."
   ]
  },
  {
   "cell_type": "markdown",
   "metadata": {},
   "source": [
    "## References\n",
    "\n",
    "1. U.S. Air Force (1985). *AFR 64-4 Survival, Evasion, Escape, and Rescue Manual Ch. 20 LAND NAVIGATION*  (... How to interpret topographic maps) [http://54.243.252.9/ce-3372-webroot/3-Readings/UsingTopographicMaps/Pages_from_USAF-Survival-Manual-644.pdf](http://54.243.252.9/ce-3372-webroot/3-Readings/UsingTopographicMaps/Pages_from_USAF-Survival-Manual-644.pdf/)\n",
    "\n",
    "2. Ammann, A., and Stone, A. L. 1991. Method for the Comparative Evaluation of Nontidal Wetlands in New Hampshire, Appendix E *Interpreting Topographic Maps* [http://54.243.252.9/ce-3372-webroot/2-Exercises/ES2/Topowatershed.pdf](http://54.243.252.9/ce-3372-webroot/2-Exercises/ES2/Topowatershed.pdf)\n",
    "\n",
    "3. <p> <a href=\"http://54.243.252.9/ce-3372-webroot/2-Exercises/ES2/ES-2_sample-map.pdf\"> <img src=\"http://54.243.252.9/ce-3372-webroot/2-Exercises/ES2/easy-button.png\" alt=\"EZ Button Link to ES-2 sample overlay map\" style=\"width:42px;height:42px;\"> </a> EZ Button Link to example of a contour map overlay onto the basemap </p>\n"
   ]
  },
  {
   "cell_type": "code",
   "execution_count": null,
   "metadata": {},
   "outputs": [],
   "source": []
  }
 ],
 "metadata": {
  "kernelspec": {
   "display_name": "Python 3",
   "language": "python",
   "name": "python3"
  },
  "language_info": {
   "codemirror_mode": {
    "name": "ipython",
    "version": 3
   },
   "file_extension": ".py",
   "mimetype": "text/x-python",
   "name": "python",
   "nbconvert_exporter": "python",
   "pygments_lexer": "ipython3",
   "version": "3.8.10"
  }
 },
 "nbformat": 4,
 "nbformat_minor": 4
}
