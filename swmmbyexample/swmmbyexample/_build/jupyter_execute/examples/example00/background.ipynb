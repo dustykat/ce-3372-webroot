{
 "cells": [
  {
   "cell_type": "markdown",
   "metadata": {},
   "source": [
    "# Background\n",
    "\n",
    "Connecting to a remote desktop is usually simple, in this example there is one step where you get a security warning that you have to ignore (actually you are setting a session exception).  The warning is a consequence of the server certificate which is self-signed, hence not linked to any accepted certificate authority.\n",
    "\n",
    "Once the connection is made, a simple SWMM model is constructed and run.  \n",
    "\n",
    ":::{note}\n",
    "The goal is to show how to access the shared environment, and not so much how to use SWMM; that task is for subsequent examples.\n",
    ":::\n"
   ]
  }
 ],
 "metadata": {
  "kernelspec": {
   "display_name": "Python 3",
   "language": "python",
   "name": "python3"
  },
  "language_info": {
   "codemirror_mode": {
    "name": "ipython",
    "version": 3
   },
   "file_extension": ".py",
   "mimetype": "text/x-python",
   "name": "python",
   "nbconvert_exporter": "python",
   "pygments_lexer": "ipython3",
   "version": "3.8.10"
  }
 },
 "nbformat": 4,
 "nbformat_minor": 4
}